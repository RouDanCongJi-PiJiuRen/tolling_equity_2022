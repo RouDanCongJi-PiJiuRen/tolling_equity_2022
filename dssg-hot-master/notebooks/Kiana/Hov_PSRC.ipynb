{
 "cells": [
  {
   "cell_type": "code",
   "execution_count": 1,
   "metadata": {},
   "outputs": [],
   "source": [
    "from __future__ import division\n",
    "import pandas as pd\n",
    "from IPython.display import display\n",
    "import matplotlib.pyplot as plt"
   ]
  },
  {
   "cell_type": "code",
   "execution_count": null,
   "metadata": {},
   "outputs": [],
   "source": [
    "# Converting excel file to csv file\n",
    "df = pd.read_excel('../kianadata/2017-pr2-datafiles/2017-pr2-5-trip.xlsx',sheet_name= '5-Trip')\n",
    "df.to_csv('2017-pr2-5-trip.csv', encoding='utf-8')\n"
   ]
  },
  {
   "cell_type": "code",
   "execution_count": 6,
   "metadata": {},
   "outputs": [],
   "source": [
    "df1 = pd.read_excel('../kianadata/2017-pr2-datafiles/2017-pr2-1-household.xlsx',sheet_name= '1-Household')\n",
    "df1.to_csv('2017-pr2-5-hh.csv', encoding='utf-8')"
   ]
  },
  {
   "cell_type": "code",
   "execution_count": 2,
   "metadata": {},
   "outputs": [
    {
     "name": "stderr",
     "output_type": "stream",
     "text": [
      "/Users/Kiana/miniconda3/envs/python27/lib/python2.7/site-packages/IPython/core/interactiveshell.py:2714: DtypeWarning: Columns (18,19,51,52,53,54,55,56,57,58,59,60,61,62,63,64,65,69,70,81,92,93,94) have mixed types. Specify dtype option on import or set low_memory=False.\n",
      "  interactivity=interactivity, compiler=compiler, result=result)\n"
     ]
    }
   ],
   "source": [
    "df = pd.read_csv('2017-pr2-5-trip.csv',skiprows = 1)\n",
    "df1 = pd.read_csv('2017-pr2-5-hh.csv',skiprows = 1)\n"
   ]
  },
  {
   "cell_type": "code",
   "execution_count": 4,
   "metadata": {},
   "outputs": [],
   "source": [
    "# dest_bg = df['d_bg'].unique()\n",
    "# origin_bg = df['o_bg'].unique()\n",
    "# dest_rg = df['d_rgcname'].unique()\n",
    "# origin_rg = df['o_rgcname'].unique()"
   ]
  },
  {
   "cell_type": "markdown",
   "metadata": {},
   "source": [
    "Shaping carpool policies under rapid motorization: the case of Chinese citiesRui Wang\n",
    "Different from what was commonly foundin Western cities, the rate of carpooling in Beijing was shown toincrease with income (up to the fourth income quintile) andeducation levels. This isn’t a surprise considering Beijing’s heavilysubsidized transit service and the lower or even middle-incomegroups’ lack of access to cars\n",
    "Compared with Western cities, carpooling means more privateout-of-pocket cost savings in China. This is because of the highervehicle use cost relative to income and the lower cost to assemblecarpools (e.g. waiting and schedule delay, fuel for driving extradistance to pick up/drop off). By sharing fuel expense, Chinesecarpoolers enjoy roughly nine times as much cost savings ascarpoolers in the US. Fuel cost per 100 vehicle-km in China is aboutf47 for an average car,3which is about three times of theaverage hourly wage of full-time workers in the 36 largestChinese cities(4). In the US, however, driving an average automobilefor 100 km will consume about $7.50’s worth of gasoline,(5) which is less than a third of the average hourly wage of full-timeworkers. In addition, the population densities of Chinese citiesare three to ten times as high as those of typical Westernindustrialized cities (see, e.g.,Kenworthy and Hu, 2002;Bertaudand Malpezzi, 2003). This means shorter distances are driven topick up/drop off carpool riders and fewer schedule delays toassemble carpools. Overall, it does seem that carpool is indeedmore attractive to Chinese urban residents than their Westerncounterparts, even though fuel prices in EU countries are oftenmuch higher than the US."
   ]
  },
  {
   "cell_type": "code",
   "execution_count": 3,
   "metadata": {},
   "outputs": [
    {
     "name": "stdout",
     "output_type": "stream",
     "text": [
      "29010\n",
      "23079\n",
      "8664\n",
      "29010\n",
      "23079\n",
      "8664\n"
     ]
    }
   ],
   "source": [
    "dfnew = df[['hhid','travelers_total']]\n",
    "dfnew1 = df1[['hhid','hhincome_detailed']]\n",
    "dfcarpool1 = dfnew[dfnew['travelers_total'] ==1]\n",
    "print(dfcarpool1.shape[0])\n",
    "dfcarpool2 = dfnew[dfnew['travelers_total'] >=2]\n",
    "print(dfcarpool2.shape[0])\n",
    "dfcarpool3 = dfnew[dfnew['travelers_total'] >=3]\n",
    "print(dfcarpool3.shape[0])\n",
    "dfmergepool1 = dfcarpool1.merge(dfnew1,on = 'hhid')\n",
    "print(dfmergepool1.shape[0])\n",
    "dfmergepool2 = dfcarpool2.merge(dfnew1,on = 'hhid') \n",
    "print(dfmergepool2.shape[0])\n",
    "dfmergepool3 = dfcarpool3.merge(dfnew1,on = 'hhid') \n",
    "print(dfmergepool3.shape[0])"
   ]
  },
  {
   "cell_type": "code",
   "execution_count": 4,
   "metadata": {},
   "outputs": [
    {
     "name": "stdout",
     "output_type": "stream",
     "text": [
      "1     0.021444\n",
      "2     0.052040\n",
      "3     0.080413\n",
      "4     0.133891\n",
      "5     0.263991\n",
      "6     0.427040\n",
      "7     0.678478\n",
      "8     0.848196\n",
      "9     0.937238\n",
      "10    1.000000\n",
      "Name: hhincome_detailed, dtype: float64\n",
      "1     0.020383\n",
      "2     0.055537\n",
      "3     0.091506\n",
      "4     0.155388\n",
      "5     0.308235\n",
      "6     0.470769\n",
      "7     0.721500\n",
      "8     0.868400\n",
      "9     0.945902\n",
      "10    1.000000\n",
      "Name: hhincome_detailed, dtype: float64\n",
      "1     0.022799\n",
      "2     0.091236\n",
      "3     0.142884\n",
      "4     0.228675\n",
      "5     0.401921\n",
      "6     0.560042\n",
      "7     0.787243\n",
      "8     0.900144\n",
      "9     0.954666\n",
      "10    1.000000\n",
      "Name: hhincome_detailed, dtype: float64\n"
     ]
    },
    {
     "data": {
      "image/png": "[encoded data removed]",
      "text/plain": [
       "<Figure size 432x288 with 1 Axes>"
      ]
     },
     "metadata": {
      "needs_background": "light"
     },
     "output_type": "display_data"
    }
   ],
   "source": [
    "bins = [0,10000,25000,35000,50000,75000,100000,150000,200000,250000]\n",
    "dfmergepool3 = dfmergepool3[dfmergepool3['hhincome_detailed']<11]\n",
    "count3 = dfmergepool3['hhincome_detailed'].value_counts()/dfmergepool3['hhincome_detailed'].shape[0]\n",
    "print(count3.sort_index().cumsum())\n",
    "count3.sort_index().plot('bar')\n",
    "text = \"capool3+\"\n",
    "plt.xlabel('income')\n",
    "plt.savefig(text, dpi=100)\n",
    "dfmergepool2 = dfmergepool2[dfmergepool2['hhincome_detailed']<11]\n",
    "count2 = dfmergepool2['hhincome_detailed'].value_counts()/dfmergepool2['hhincome_detailed'].shape[0]\n",
    "print(count2.sort_index().cumsum())\n",
    "count2.sort_index().plot('bar')\n",
    "text = \"capool2+\"\n",
    "plt.xlabel('income')\n",
    "plt.savefig(text, dpi=100)\n",
    "\n",
    "dfmergepool1 = dfmergepool1[dfmergepool1['hhincome_detailed']<11]\n",
    "count1 = dfmergepool1['hhincome_detailed'].value_counts()/dfmergepool1['hhincome_detailed'].shape[0]\n",
    "print(count1.sort_index().cumsum())\n",
    "count1.sort_index().plot('bar')\n",
    "text = \"Single occupancy\"\n",
    "plt.xlabel('income')\n",
    "plt.savefig(text, dpi=100)"
   ]
  },
  {
   "cell_type": "code",
   "execution_count": 5,
   "metadata": {},
   "outputs": [
    {
     "name": "stdout",
     "output_type": "stream",
     "text": [
      "[ 1  2  3  4  5  6  7  8  9 10]\n",
      "1     0.022799\n",
      "2     0.068436\n",
      "3     0.051649\n",
      "4     0.085791\n",
      "5     0.173246\n",
      "6     0.158122\n",
      "7     0.227201\n",
      "8     0.112901\n",
      "9     0.054522\n",
      "10    0.045334\n",
      "Name: hhincome_detailed, dtype: float64\n"
     ]
    }
   ],
   "source": [
    "import numpy as np\n",
    "x = [0,10000,25000,35000,50000,75000,100000,150000,200000,250000]\n",
    "x = np.arange(1,11)\n",
    "print(x)\n",
    "print(count1.sort_index())"
   ]
  },
  {
   "cell_type": "code",
   "execution_count": 6,
   "metadata": {},
   "outputs": [
    {
     "data": {
      "text/plain": [
       "Text(0.5,0,'Income Group')"
      ]
     },
     "execution_count": 6,
     "metadata": {},
     "output_type": "execute_result"
    },
    {
     "data": {
      "image/png": "[encoded data removed]",
      "text/plain": [
       "<Figure size 432x288 with 1 Axes>"
      ]
     },
     "metadata": {
      "needs_background": "light"
     },
     "output_type": "display_data"
    }
   ],
   "source": [
    "ax = plt.subplot(111)\n",
    "bar1 = ax.bar(x-0.2,count1.sort_index(),width=0.2, color='b', align='center')\n",
    "bar2 = ax.bar(x,count2.sort_index(),width=0.2, color='g', align='center')\n",
    "bar3 = ax.bar(x+0.2,count3.sort_index(),width=0.2, color='r', align='center')\n",
    "ax.legend((bar1,bar2,bar3),('Single Occupancy','carpool2+','carpool3+'))\n",
    "plt.xlabel('Income Group')\n"
   ]
  },
  {
   "cell_type": "code",
   "execution_count": 175,
   "metadata": {},
   "outputs": [],
   "source": [
    "\n",
    "import array\n",
    "import math\n",
    "import cmath\n",
    "import numpy as np\n",
    "\n",
    "widths = [10000,15000,10000,15000,25000,25000,50000,50000,50000,0]\n",
    "def mean_est(sample):\n",
    "    sample = sample.to_frame()\n",
    "    sample = sample.transpose()\n",
    "    # assign households widths and relative frequency\n",
    "    freq_table = sample.transpose()\n",
    "    freq_table.columns= ['households'] # renames column\n",
    "    freq_table[\"households\"] = freq_table.households.astype(int) #county estimates convert households to object - this converts it back to an int\n",
    "    freq_table = freq_table.assign(width = widths)\n",
    "    freq_table = freq_table.assign(rel_freq = lambda x: x.households / x.width)\n",
    "    print(freq_table)\n",
    "    # initializes arrays with predetermined bin widths and zeros\n",
    "    slopes = np.zeros([len(widths)-1, 1])\n",
    "    mean = np.zeros([len(widths), 1])\n",
    "    mean_num = np.zeros([len(widths), 1])\n",
    "    mean_den = np.zeros([len(widths), 1])\n",
    "    y_left = np.empty([len(widths), 1])\n",
    "    y_right = np.empty([len(widths), 1])\n",
    "    b = np.empty([len(widths)-1, 1])\n",
    "    x_left = np.array([0, 10000, 25000, 35000, 50000, 75000, 100000, 150000, 200000, 250000])\n",
    "    x_mid = np.array([5000, 17500, 30000, 42500, 62500, 87500, 125000, 175000, 225000])\n",
    "    x_right = np.array([10000, 25000, 35000, 50000, 75000, 100000, 150000, 200000, 250000, 0])\n",
    "    x_bin = np.array([0,10000, 25000, 35000, 50000, 75000, 100000, 150000, 200000, 250000, 1e7])\n",
    "    widths_test = [0,10000,15000,10000,15000,25000,25000,50000,50000,50000,0]\n",
    "    \n",
    "\n",
    "    # calculates density function of each bin\n",
    "    closed_brackets = 9\n",
    "    for i in (range(0,len(freq_table) - 1)):\n",
    "        print(i)\n",
    "        print(\"i\",freq_table.iloc[i][\"rel_freq\"])\n",
    "        print(\"i-1\",freq_table.iloc[i-1][\"rel_freq\"])\n",
    "        print(\"i+1\",freq_table.iloc[i+1][\"rel_freq\"])\n",
    "        #for closed brackets, take the average of the slope of the bin before to the current bin and the current bin to the next bin\n",
    "        if (i == 0):\n",
    "            slope = 0\n",
    "        elif (i < closed_brackets - 1) and ((freq_table.iloc[i][\"rel_freq\"]<freq_table.iloc[i - 1][\"rel_freq\"]) and (freq_table.iloc[i][\"rel_freq\"]<freq_table.iloc[i+ 1][\"rel_freq\"])) | ((freq_table.iloc[i][\"rel_freq\"]>freq_table.iloc[i - 1][\"rel_freq\"]) and (freq_table.iloc[i][\"rel_freq\"]>freq_table.iloc[i+ 1][\"rel_freq\"])):\n",
    "            slope = 0\n",
    "        elif i < closed_brackets - 1:\n",
    "            slope1 = (freq_table.iloc[i][\"rel_freq\"] - freq_table.iloc[i - 1][\"rel_freq\"]) / (x_mid[i] - x_mid[i - 1])\n",
    "            slope2 = (freq_table.iloc[i + 1][\"rel_freq\"] - freq_table.iloc[i][\"rel_freq\"]) / (x_mid[i + 1] - x_mid[i])\n",
    "            slope = (slope1 + slope2) / 2\n",
    "            \n",
    "        #for last closed bracket, take the slope of the bin before to the current bin since there is not next bin\n",
    "        elif i == closed_brackets - 1:\n",
    "            slope = (freq_table.iloc[i][\"rel_freq\"] - freq_table.iloc[i - 1][\"rel_freq\"]) / (x_mid[i] - x_mid[i - 1]) \n",
    "        slopes[i] = slope\n",
    "        b[i] = freq_table.iloc[i][\"rel_freq\"] - slope*x_mid[i]\n",
    "    print(\"slope\",slopes)\n",
    "    print(\"b\",b)\n",
    "    print(freq_table.iloc[len(freq_table)-1][\"households\"])\n",
    "    alpha = np.log((freq_table[\"households\"].sum() -freq_table.iloc[len(freq_table)-1][\"households\"])/freq_table[\"households\"].sum() )/np.log(250000/1e7)\n",
    "    \n",
    "    print(\"soorat\",np.log(freq_table[\"households\"].sum() -freq_table.iloc[len(freq_table)-1][\"households\"])/freq_table[\"households\"].sum() )\n",
    "    print(\"makhraj\",np.log(250000/1e7))\n",
    "    print(freq_table[\"households\"].sum())\n",
    "    \n",
    "    print(\"checking\", (1-np.power(250000/1e7,alpha)))\n",
    " \n",
    "    for i in (range(0,len(freq_table) - 1)):\n",
    "        x = np.linspace(x_bin[i],x_bin[i+1], 10 , endpoint=True)\n",
    "        print(\"parameters\",slopes[i],b[i])\n",
    "        y = slopes[i]*x+b[i]\n",
    "        ax.plot(x,y,color='b')\n",
    "    print(x_bin[len(freq_table)-1])\n",
    "    print(x_bin[len(freq_table)])\n",
    "    \n",
    "    x = np.linspace(x_bin[len(freq_table)-1],x_bin[len(freq_table)], 10 , endpoint=True)\n",
    "    print(\"x\",x)\n",
    "    y = (alpha*(np.power(x_bin[len(freq_table)-1], alpha))/(np.power(x, alpha+1)))\n",
    "    print(x)\n",
    "    print(y)\n",
    "    ax.plot(x,y,color='b')\n",
    "    plt.show()\n",
    "    \n",
    "    ax1 = plt.subplot(111)\n",
    "    ylast = 0\n",
    "    print(\"plotting_pdf\")\n",
    "    for i in (range(0,len(freq_table) - 1)):\n",
    "        x = np.linspace(x_bin[i],x_bin[i+1], 10 , endpoint=True)\n",
    "        print(x_bin[i],x_bin[i+1])\n",
    "        print(\"x\",x)\n",
    "        print(\"parameters\",slopes[i],b[i])\n",
    "        print(\"checkiiiing\", (slopes[i]*x_bin[i]*x_bin[i]+b[i]*x_bin[i]))\n",
    "        print(\"hellooo\",  np.repeat((slopes[i]*x_bin[i]*x_bin[i]+b[i]*x_bin[i]),10))\n",
    "        print(\"heloooo1\", slopes[i]*x*x+b[i]*x )\n",
    "        y =  (slopes[i]*x*x+b[i]*x- np.repeat((slopes[i]*x_bin[i]*x_bin[i]+b[i]*x_bin[i]),10))\n",
    "        ylast = y[-1]\n",
    "        print(ylast)\n",
    "        print(\"Y\",y)\n",
    "        ax1.plot(x,y,color='b')\n",
    "    plt.show()\n",
    "    \n",
    "#     ax2 = plt.subplot(111) \n",
    "#     print(\"plotting_cdf\")\n",
    "#     ylast = 0\n",
    "#     for i in (range(0,len(freq_table) - 1)):\n",
    "#         x = np.linspace(x_bin[i],x_bin[i+1], 10 , endpoint=True)\n",
    "#         print(\"parameters\",slopes[i],b[i])\n",
    "#         y = ylast + slopes[i]*x*x*x/3+b[i]*x*x/2\n",
    "#         ylast =y\n",
    "#         ax2.plot(x,y,color='b')\n",
    "#     print(x_bin[len(freq_table)-1])\n",
    "#     print(x_bin[len(freq_table)])\n",
    "    \n",
    "    \n",
    "    \n",
    "    \n",
    "    \n",
    "#     sumprob = 0\n",
    "#     for i in range(0,closed_brackets):\n",
    "#          sumprob =  sumprob + (slopes[i]* math.pow(x_right[i], 3)/3 + slopes[i]* math.pow(x_right[i], 2)\n",
    "        \n",
    "    \n",
    "    \n",
    "    \n",
    "    \n",
    "    \n",
    "    \n",
    "    \n",
    "#     slopes[closed_brackets] = (np.log(1-(freq_table.iloc[closed_brackets][\"households\"]/freq_table[\"households\"].sum()))/np.log(x_left[closed_brackets]/1e7))\n",
    "#     print(slopes)\n",
    "\n",
    "\n",
    "        \n",
    "        \n",
    "        \n",
    "        \n",
    "#         # calculates y-value of the far left and right of the bin using slope and frequency point\n",
    "#         y_left[i] = freq_table.iloc[i][\"rel_freq\"] + slopes[i] * (x_left[i] - x_mid[i])\n",
    "#         y_right[i] = y_left[i] - slopes[i] * (x_left[i] - x_right[i]) \n",
    "        \n",
    "#         # calculates means from integration\n",
    "#         mean[i] = ( (slopes[i] / 3) * (math.pow(x_right[i], 3) - math.pow(x_left[i], 3)) + \n",
    "#                    ((y_left[i] - (slopes[i] * x_left[i])) / 2) * \n",
    "#                    (x_right[i] * x_right[i] - x_left[i] * x_left[i]) ) / np.trapz(np.concatenate([y_left[i], y_right[i]]), [x_left[i], x_right[i]])\n",
    "#         if math.isnan(mean[i]) | math.isinf(mean[i]):\n",
    "#             mean[i] = 0\n",
    "    \n",
    "#     # appends results to table\n",
    "#     freq_table = freq_table.assign(slope = slopes)\n",
    "#     freq_table = freq_table.assign(est_mean = mean)\n",
    "\n",
    "#     # estimates open bracket top mean\n",
    "#     total_est_mean = 0\n",
    "#     # adds all previous closed bracket means\n",
    "#     for i in range(0, len(freq_table)):\n",
    "#         if (math.isnan(freq_table.iloc[i][\"est_mean\"]) == False | math.isinf(freq_table.iloc[i][\"est_mean\"]) == False):\n",
    "#             total_est_mean = total_est_mean + (freq_table.iloc[i][\"est_mean\"] * freq_table.iloc[i][\"households\"])\n",
    "#     print(freq_table [\"est_mean\"])     \n",
    "#     print( total_est_mean)\n",
    "            \n",
    "#     # takes total income (grand_mean * population) and subracts already caluclated means of closed brackets and divides by households in the top\n",
    "#     # bracket to estimate the top mean\n",
    "#     top_est_mean = ( (grand_mean * population) -\n",
    "#                    total_est_mean ) / top_households\n",
    "    \n",
    "#     # appends results to table\n",
    "#     freq_table.loc[\"inc_200_infk\", \"est_mean\"] = top_est_mean\n",
    "#     print(freq_table [\"est_mean\"])\n",
    "#     #calculates median income\n",
    "#     freq_table = freq_table.assign(cum_sum = np.cumsum(np.array(freq_table[\"households\"])))\n",
    "#     cum_sum = np.cumsum(np.array(freq_table[\"households\"]))\n",
    "        \n",
    "#     median_household = households / 2\n",
    "#     index = np.max(np.where(cum_sum < median_household)) + 1\n",
    "#     diff = cum_sum[index] - median_household\n",
    "\n",
    "#     constant = y_left[index] - slopes[index] * x_left[index]\n",
    "    \n",
    "#     #print(freq_table.iloc[index])\n",
    "#     #print(cum_sum[index])\n",
    "#     #print(median_household)\n",
    "# #     diff = (cum_sum[index] - median_household)\n",
    "# #     if slopes[index] < 0:\n",
    "# #         y = y_left[index] - ( diff / households)\n",
    "# #     else:\n",
    "# #         y = ( diff / households) - y_left[index]\n",
    "# #         print(y)\n",
    "# #     print(y)\n",
    "# #     x = (y - y_left[index]) / slopes[index] + x_left[index]\n",
    "# #     print(x)\n",
    "#     #print(\"diff\",diff)\n",
    "#     #print(\"yright\",y_right[index])\n",
    "#     #print(cum_sum[index])\n",
    "#     #print(median_household)\n",
    "    \n",
    "#     a = slopes[index] / ( 2 * households)\n",
    "#     b = constant / households\n",
    "#     #c = - ( (slopes[index] * x_left[index] * x_left[index])  / ( 2 * households ) + ( ( constant * x_left[index] ) / households) + ( diff /  freq_table.iloc[index][\"households\"] ))\n",
    "#     c = - ( (slopes[index] * (x_left[index] * x_left[index]))  / ( 2 * households ) + ( ( constant * x_left[index] ) / households) + (  )) \n",
    "#     d = (b**2) - 4 * a * c\n",
    "#     sol1 = (-b-math.pow(d, .5))/(2*a)\n",
    "#     sol2 = (-b+math.pow(d, .5))/(2*a)\n",
    "#     print(sol1, sol2)    \n",
    "\n",
    "#     freq_table = freq_table.drop(columns = [\"households\", \"width\", \"rel_freq\", \"slope\", \"cum_sum\"])\n",
    "#     print(freq_table)\n",
    "#     mean_array = freq_table.transpose()\n",
    "#     mean_array = np.array(mean_array)\n",
    "#     mean_array = np.append(mean_array, [[location]], axis = 1) \n",
    "    \n",
    "#     return sample"
   ]
  },
  {
   "cell_type": "code",
   "execution_count": null,
   "metadata": {},
   "outputs": [],
   "source": []
  },
  {
   "cell_type": "code",
   "execution_count": 176,
   "metadata": {},
   "outputs": [
    {
     "name": "stdout",
     "output_type": "stream",
     "text": [
      "1      603\n",
      "2     1810\n",
      "3     1366\n",
      "4     2269\n",
      "5     4582\n",
      "6     4182\n",
      "7     6009\n",
      "8     2986\n",
      "9     1442\n",
      "10    1199\n",
      "Name: hhincome_detailed, dtype: int64\n"
     ]
    }
   ],
   "source": [
    "count1_new = dfmergepool1['hhincome_detailed'].value_counts().sort_index()\n",
    "count1_sort = count1.sort_index()\n",
    "print(count1_new)"
   ]
  },
  {
   "cell_type": "code",
   "execution_count": 177,
   "metadata": {},
   "outputs": [
    {
     "name": "stdout",
     "output_type": "stream",
     "text": [
      "    households  width  rel_freq\n",
      "1          603  10000  0.060300\n",
      "2         1810  15000  0.120667\n",
      "3         1366  10000  0.136600\n",
      "4         2269  15000  0.151267\n",
      "5         4582  25000  0.183280\n",
      "6         4182  25000  0.167280\n",
      "7         6009  50000  0.120180\n",
      "8         2986  50000  0.059720\n",
      "9         1442  50000  0.028840\n",
      "10        1199      0       inf\n",
      "0\n",
      "('i', 0.0603)\n",
      "('i-1', inf)\n",
      "('i+1', 0.12066666666666667)\n",
      "1\n",
      "('i', 0.12066666666666667)\n",
      "('i-1', 0.0603)\n",
      "('i+1', 0.1366)\n",
      "2\n",
      "('i', 0.1366)\n",
      "('i-1', 0.12066666666666667)\n",
      "('i+1', 0.15126666666666666)\n",
      "3\n",
      "('i', 0.15126666666666666)\n",
      "('i-1', 0.1366)\n",
      "('i+1', 0.18328)\n",
      "4\n",
      "('i', 0.18328)\n",
      "('i-1', 0.15126666666666666)\n",
      "('i+1', 0.16728)\n",
      "5\n",
      "('i', 0.16728)\n",
      "('i-1', 0.18328)\n",
      "('i+1', 0.12018)\n",
      "6\n",
      "('i', 0.12018)\n",
      "('i-1', 0.16728)\n",
      "('i+1', 0.05972)\n",
      "7\n",
      "('i', 0.05972)\n",
      "('i-1', 0.12018)\n",
      "('i+1', 0.02884)\n",
      "8\n",
      "('i', 0.02884)\n",
      "('i-1', 0.05972)\n",
      "('i+1', inf)\n",
      "('slope', array([[ 0.0000e+00],\n",
      "       [ 3.0520e-06],\n",
      "       [ 1.2240e-06],\n",
      "       [ 1.3870e-06],\n",
      "       [ 0.0000e+00],\n",
      "       [-9.4800e-07],\n",
      "       [-1.2326e-06],\n",
      "       [-9.1340e-07],\n",
      "       [-6.1760e-07]]))\n",
      "('b', array([[0.0603    ],\n",
      "       [0.06725667],\n",
      "       [0.09988   ],\n",
      "       [0.09231917],\n",
      "       [0.18328   ],\n",
      "       [0.25023   ],\n",
      "       [0.274255  ],\n",
      "       [0.219565  ],\n",
      "       [0.1678    ]]))\n",
      "1199.0\n",
      "('soorat', 0.00038326307584538917)\n",
      "('makhraj', -3.6888794541139363)\n",
      "26448\n",
      "('checking', 0.045334240774349666)\n",
      "('parameters', array([0.]), array([0.0603]))\n",
      "('parameters', array([3.052e-06]), array([0.06725667]))\n",
      "('parameters', array([1.224e-06]), array([0.09988]))\n",
      "('parameters', array([1.387e-06]), array([0.09231917]))\n",
      "('parameters', array([0.]), array([0.18328]))\n",
      "('parameters', array([-9.48e-07]), array([0.25023]))\n",
      "('parameters', array([-1.2326e-06]), array([0.274255]))\n",
      "('parameters', array([-9.134e-07]), array([0.219565]))\n",
      "('parameters', array([-6.176e-07]), array([0.1678]))\n",
      "250000.0\n",
      "10000000.0\n",
      "('x', array([  250000.        ,  1333333.33333333,  2416666.66666667,\n",
      "        3500000.        ,  4583333.33333333,  5666666.66666667,\n",
      "        6750000.        ,  7833333.33333333,  8916666.66666667,\n",
      "       10000000.        ]))\n",
      "[  250000.          1333333.33333333  2416666.66666667  3500000.\n",
      "  4583333.33333333  5666666.66666667  6750000.          7833333.33333333\n",
      "  8916666.66666667 10000000.        ]\n",
      "[5.03068649e-08 9.23602859e-09 5.05776870e-09 3.47603940e-09\n",
      " 2.64544288e-09 2.13399437e-09 1.78756414e-09 1.53746700e-09\n",
      " 1.34847334e-09 1.20065603e-09]\n",
      "plotting_pdf\n",
      "(0.0, 10000.0)\n",
      "('x', array([    0.        ,  1111.11111111,  2222.22222222,  3333.33333333,\n",
      "        4444.44444444,  5555.55555556,  6666.66666667,  7777.77777778,\n",
      "        8888.88888889, 10000.        ]))\n",
      "('parameters', array([0.]), array([0.0603]))\n",
      "('checkiiiing', array([0.]))\n",
      "('hellooo', array([0., 0., 0., 0., 0., 0., 0., 0., 0., 0.]))\n",
      "('heloooo1', array([  0.,  67., 134., 201., 268., 335., 402., 469., 536., 603.]))\n",
      "603.0\n",
      "('Y', array([  0.,  67., 134., 201., 268., 335., 402., 469., 536., 603.]))\n",
      "(10000.0, 25000.0)\n",
      "('x', array([10000.        , 11666.66666667, 13333.33333333, 15000.        ,\n",
      "       16666.66666667, 18333.33333333, 20000.        , 21666.66666667,\n",
      "       23333.33333333, 25000.        ]))\n",
      "('parameters', array([3.052e-06]), array([0.06725667]))\n",
      "('checkiiiing', array([977.76666667]))\n",
      "('hellooo', array([977.76666667, 977.76666667, 977.76666667, 977.76666667,\n",
      "       977.76666667, 977.76666667, 977.76666667, 977.76666667,\n",
      "       977.76666667, 977.76666667]))\n",
      "('heloooo1', array([ 977.76666667, 1200.07222222, 1439.33333333, 1695.55      ,\n",
      "       1968.72222222, 2258.85      , 2565.93333333, 2889.97222222,\n",
      "       3230.96666667, 3588.91666667]))\n",
      "2611.1500000000005\n",
      "('Y', array([   0.        ,  222.30555556,  461.56666667,  717.78333333,\n",
      "        990.95555556, 1281.08333333, 1588.16666667, 1912.20555556,\n",
      "       2253.2       , 2611.15      ]))\n",
      "(25000.0, 35000.0)\n",
      "('x', array([25000.        , 26111.11111111, 27222.22222222, 28333.33333333,\n",
      "       29444.44444444, 30555.55555556, 31666.66666667, 32777.77777778,\n",
      "       33888.88888889, 35000.        ]))\n",
      "('parameters', array([1.224e-06]), array([0.09988]))\n",
      "('checkiiiing', array([3262.]))\n",
      "('hellooo', array([3262., 3262., 3262., 3262., 3262., 3262., 3262., 3262., 3262.,\n",
      "       3262.]))\n",
      "('heloooo1', array([3262.        , 3442.48888889, 3626.        , 3812.53333333,\n",
      "       4002.08888889, 4194.66666667, 4390.26666667, 4588.88888889,\n",
      "       4790.53333333, 4995.2       ]))\n",
      "1733.1999999999998\n",
      "('Y', array([   0.        ,  180.48888889,  364.        ,  550.53333333,\n",
      "        740.08888889,  932.66666667, 1128.26666667, 1326.88888889,\n",
      "       1528.53333333, 1733.2       ]))\n",
      "(35000.0, 50000.0)\n",
      "('x', array([35000.        , 36666.66666667, 38333.33333333, 40000.        ,\n",
      "       41666.66666667, 43333.33333333, 45000.        , 46666.66666667,\n",
      "       48333.33333333, 50000.        ]))\n",
      "('parameters', array([1.387e-06]), array([0.09231917]))\n",
      "('checkiiiing', array([4930.24583333]))\n",
      "('hellooo', array([4930.24583333, 4930.24583333, 4930.24583333, 4930.24583333,\n",
      "       4930.24583333, 4930.24583333, 4930.24583333, 4930.24583333,\n",
      "       4930.24583333, 4930.24583333]))\n",
      "('heloooo1', array([4930.24583333, 5249.78055556, 5577.02083333, 5911.96666667,\n",
      "       6254.61805556, 6604.975     , 6963.0375    , 7328.80555556,\n",
      "       7702.27916667, 8083.45833333]))\n",
      "3153.2124999999996\n",
      "('Y', array([   0.        ,  319.53472222,  646.775     ,  981.72083333,\n",
      "       1324.37222222, 1674.72916667, 2032.79166667, 2398.55972222,\n",
      "       2772.03333333, 3153.2125    ]))\n",
      "(50000.0, 75000.0)\n",
      "('x', array([50000.        , 52777.77777778, 55555.55555556, 58333.33333333,\n",
      "       61111.11111111, 63888.88888889, 66666.66666667, 69444.44444444,\n",
      "       72222.22222222, 75000.        ]))\n",
      "('parameters', array([0.]), array([0.18328]))\n",
      "('checkiiiing', array([9164.]))\n",
      "('hellooo', array([9164., 9164., 9164., 9164., 9164., 9164., 9164., 9164., 9164.,\n",
      "       9164.]))\n",
      "('heloooo1', array([ 9164.        ,  9673.11111111, 10182.22222222, 10691.33333333,\n",
      "       11200.44444444, 11709.55555556, 12218.66666667, 12727.77777778,\n",
      "       13236.88888889, 13746.        ]))\n",
      "4582.0\n",
      "('Y', array([   0.        ,  509.11111111, 1018.22222222, 1527.33333333,\n",
      "       2036.44444444, 2545.55555556, 3054.66666667, 3563.77777778,\n",
      "       4072.88888889, 4582.        ]))\n",
      "(75000.0, 100000.0)\n",
      "('x', array([ 75000.        ,  77777.77777778,  80555.55555556,  83333.33333333,\n",
      "        86111.11111111,  88888.88888889,  91666.66666667,  94444.44444444,\n",
      "        97222.22222222, 100000.        ]))\n",
      "('parameters', array([-9.48e-07]), array([0.25023]))\n",
      "('checkiiiing', array([13434.75]))\n",
      "('hellooo', array([13434.75, 13434.75, 13434.75, 13434.75, 13434.75, 13434.75,\n",
      "       13434.75, 13434.75, 13434.75, 13434.75]))\n",
      "('heloooo1', array([13434.75      , 13727.51851852, 14005.65740741, 14269.16666667,\n",
      "       14518.0462963 , 14752.2962963 , 14971.91666667, 15176.90740741,\n",
      "       15367.26851852, 15543.        ]))\n",
      "2108.249999999998\n",
      "('Y', array([   0.        ,  292.76851852,  570.90740741,  834.41666667,\n",
      "       1083.2962963 , 1317.5462963 , 1537.16666667, 1742.15740741,\n",
      "       1932.51851852, 2108.25      ]))\n",
      "(100000.0, 150000.0)\n",
      "('x', array([100000.        , 105555.55555556, 111111.11111111, 116666.66666667,\n",
      "       122222.22222222, 127777.77777778, 133333.33333333, 138888.88888889,\n",
      "       144444.44444444, 150000.        ]))\n",
      "('parameters', array([-1.2326e-06]), array([0.274255]))\n",
      "('checkiiiing', array([15099.5]))\n",
      "('hellooo', array([15099.5, 15099.5, 15099.5, 15099.5, 15099.5, 15099.5, 15099.5,\n",
      "       15099.5, 15099.5, 15099.5]))\n",
      "('heloooo1', array([15099.5       , 15215.54012346, 15255.49382716, 15219.36111111,\n",
      "       15107.14197531, 14918.83641975, 14654.44444444, 14313.96604938,\n",
      "       13897.40123457, 13404.75      ]))\n",
      "-1694.7500000000018\n",
      "('Y', array([    0.        ,   116.04012346,   155.99382716,   119.86111111,\n",
      "           7.64197531,  -180.66358025,  -445.05555556,  -785.53395062,\n",
      "       -1202.09876543, -1694.75      ]))\n",
      "(150000.0, 200000.0)\n",
      "('x', array([150000.        , 155555.55555556, 161111.11111111, 166666.66666667,\n",
      "       172222.22222222, 177777.77777778, 183333.33333333, 188888.88888889,\n",
      "       194444.44444444, 200000.        ]))\n",
      "('parameters', array([-9.134e-07]), array([0.219565]))\n",
      "('checkiiiing', array([12383.25]))\n",
      "('hellooo', array([12383.25, 12383.25, 12383.25, 12383.25, 12383.25, 12383.25,\n",
      "       12383.25, 12383.25, 12383.25, 12383.25]))\n",
      "('heloooo1', array([12383.25      , 12052.5308642 , 11665.42901235, 11221.94444444,\n",
      "       10722.07716049, 10165.82716049,  9553.19444444,  8884.17901235,\n",
      "        8158.7808642 ,  7377.        ]))\n",
      "-5006.249999999993\n",
      "('Y', array([    0.        ,  -330.7191358 ,  -717.82098765, -1161.30555556,\n",
      "       -1661.17283951, -2217.42283951, -2830.05555556, -3499.07098765,\n",
      "       -4224.4691358 , -5006.25      ]))\n",
      "(200000.0, 250000.0)\n",
      "('x', array([200000.        , 205555.55555556, 211111.11111111, 216666.66666667,\n",
      "       222222.22222222, 227777.77777778, 233333.33333333, 238888.88888889,\n",
      "       244444.44444444, 250000.        ]))\n",
      "('parameters', array([-6.176e-07]), array([0.1678]))\n",
      "('checkiiiing', array([8856.]))\n",
      "('hellooo', array([8856., 8856., 8856., 8856., 8856., 8856., 8856., 8856., 8856.,\n",
      "       8856.]))\n",
      "('heloooo1', array([8856.        , 8396.71604938, 7899.30864198, 7363.77777778,\n",
      "       6790.12345679, 6178.34567901, 5528.44444444, 4840.41975309,\n",
      "       4114.27160494, 3350.        ]))\n",
      "-5506.0\n",
      "('Y', array([    0.        ,  -459.28395062,  -956.69135802, -1492.22222222,\n",
      "       -2065.87654321, -2677.65432099, -3327.55555556, -4015.58024691,\n",
      "       -4741.72839506, -5506.        ]))\n"
     ]
    },
    {
     "data": {
      "image/png": "[encoded data removed]",
      "text/plain": [
       "<Figure size 432x288 with 1 Axes>"
      ]
     },
     "metadata": {
      "needs_background": "light"
     },
     "output_type": "display_data"
    }
   ],
   "source": [
    "count1_new = pd.DataFrame(count1_new).transpose()\n",
    "means_estimate = count1_new.apply(lambda x: mean_est(x),axis=1)"
   ]
  },
  {
   "cell_type": "code",
   "execution_count": null,
   "metadata": {},
   "outputs": [],
   "source": []
  },
  {
   "cell_type": "code",
   "execution_count": null,
   "metadata": {},
   "outputs": [],
   "source": []
  },
  {
   "cell_type": "code",
   "execution_count": null,
   "metadata": {},
   "outputs": [],
   "source": []
  },
  {
   "cell_type": "code",
   "execution_count": null,
   "metadata": {},
   "outputs": [],
   "source": []
  },
  {
   "cell_type": "code",
   "execution_count": null,
   "metadata": {},
   "outputs": [],
   "source": []
  },
  {
   "cell_type": "code",
   "execution_count": 8,
   "metadata": {},
   "outputs": [],
   "source": [
    "# # Dropping NA\n",
    "# dfnew = df.dropna(subset = {'o_rgcname'})\n",
    "# dfnew1 = dfnew.dropna(subset = {'d_rgcname'})\n",
    "# Replacing NA with out\n",
    "dfnew1 = df.fillna(value = {'o_rgcname' : 'out', 'd_rgcname' : 'out'})\n"
   ]
  },
  {
   "cell_type": "code",
   "execution_count": null,
   "metadata": {},
   "outputs": [],
   "source": []
  },
  {
   "cell_type": "code",
   "execution_count": 9,
   "metadata": {},
   "outputs": [],
   "source": [
    "dfnewtemp = dfnew1[['o_rgcname','d_rgcname']]"
   ]
  },
  {
   "cell_type": "code",
   "execution_count": 10,
   "metadata": {},
   "outputs": [],
   "source": [
    "dfnewtemp.to_csv('tripdata.csv')"
   ]
  },
  {
   "cell_type": "code",
   "execution_count": 25,
   "metadata": {},
   "outputs": [
    {
     "name": "stdout",
     "output_type": "stream",
     "text": [
      "[5.30330323e+11 5.30330323e+11 5.30330323e+11 ... 5.30530731e+11\n",
      " 5.30530611e+11 5.30610416e+11]\n",
      "[5.30330323e+11 5.30330323e+11 5.30330323e+11 ... 5.30530731e+11\n",
      " 5.30530611e+11 5.30610416e+11]\n"
     ]
    }
   ],
   "source": [
    "print(dest_bg)\n",
    "print(origin_bg)"
   ]
  },
  {
   "cell_type": "code",
   "execution_count": null,
   "metadata": {},
   "outputs": [],
   "source": [
    "# print(df.set_index('index').count('d_bg'))\n",
    "# print(df.groupby('d_bg').count())\n",
    "print(df['d_bg'].value_counts())\n",
    "d_bg_count = pd.DataFrame(df['d_bg'].value_counts())"
   ]
  },
  {
   "cell_type": "code",
   "execution_count": 16,
   "metadata": {},
   "outputs": [
    {
     "data": {
      "text/plain": [
       "Index(['d_bg'], dtype='object')"
      ]
     },
     "execution_count": 16,
     "metadata": {},
     "output_type": "execute_result"
    }
   ],
   "source": [
    "d_bg_count.columns"
   ]
  },
  {
   "cell_type": "code",
   "execution_count": 22,
   "metadata": {},
   "outputs": [],
   "source": [
    "d_bg_count['norm']= (d_bg_count['d_bg']/d_bg_count['d_bg'].sum())*100"
   ]
  },
  {
   "cell_type": "code",
   "execution_count": 23,
   "metadata": {},
   "outputs": [],
   "source": [
    "d_bg_sort =  d_bg_count['norm'].sort_values(ascending = False)"
   ]
  },
  {
   "cell_type": "code",
   "execution_count": 30,
   "metadata": {},
   "outputs": [
    {
     "name": "stdout",
     "output_type": "stream",
     "text": [
      "49.16166834926857\n"
     ]
    }
   ],
   "source": [
    "print(d_bg_sort.head(100).sum())"
   ]
  },
  {
   "cell_type": "code",
   "execution_count": null,
   "metadata": {},
   "outputs": [],
   "source": []
  }
 ],
 "metadata": {
  "kernelspec": {
   "display_name": "Python 3",
   "language": "python",
   "name": "python3"
  },
  "language_info": {
   "codemirror_mode": {
    "name": "ipython",
    "version": 3
   },
   "file_extension": ".py",
   "mimetype": "text/x-python",
   "name": "python",
   "nbconvert_exporter": "python",
   "pygments_lexer": "ipython3",
   "version": "3.7.3"
  }
 },
 "nbformat": 4,
 "nbformat_minor": 4
}
