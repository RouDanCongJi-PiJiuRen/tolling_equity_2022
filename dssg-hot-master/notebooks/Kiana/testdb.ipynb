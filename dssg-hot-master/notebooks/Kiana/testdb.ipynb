{
 "cells": [
  {
   "cell_type": "code",
   "execution_count": 1,
   "metadata": {},
   "outputs": [],
   "source": [
    "from pysqlcipher3 import dbapi2 as sqlite\n",
    "from os import environ\n",
    "import pandas as pd\n",
    "import numpy as np"
   ]
  },
  {
   "cell_type": "code",
   "execution_count": 2,
   "metadata": {},
   "outputs": [
    {
     "data": {
      "text/plain": [
       "<pysqlcipher3.dbapi2.Cursor at 0x7fc4cceb4730>"
      ]
     },
     "execution_count": 2,
     "metadata": {},
     "output_type": "execute_result"
    }
   ],
   "source": [
    "keynow = environ['HOT_KEY']\n",
    "conn = sqlite.connect('/opt/dssg-hot/data/hot-v3.db')\n",
    "conn.execute('pragma key=\\\"x\\''+keynow+'\\'\\\"')"
   ]
  },
  {
   "cell_type": "code",
   "execution_count": null,
   "metadata": {},
   "outputs": [],
   "source": [
    "print(conn.execute(\"SELECT name FROM sqlite_master WHERE type='table';\").fetchall())\n",
    "dfttime = pd.read_sql_query(\"SELECT * FROM TTime\", conn)\n",
    "print(dfttime.head(2))"
   ]
  },
  {
   "cell_type": "code",
   "execution_count": 8,
   "metadata": {},
   "outputs": [],
   "source": [
    "#print(dfttime.iloc[:,1:-1])\n",
    "dfttime[dfttime.iloc[:,1:-1]<0] = np.nan\n",
    "dfttime.fillna(method='ffill', inplace=True)\n",
    "dfttime.set_index('aux1',inplace = True)\n",
    "dfttime.drop('Time',inplace = True,axis = 1)\n",
    "dictt = dfttime.to_dict('index')"
   ]
  },
  {
   "cell_type": "code",
   "execution_count": 21,
   "metadata": {},
   "outputs": [],
   "source": [
    "dictt = dfttime.to_dict('index')\n"
   ]
  },
  {
   "cell_type": "code",
   "execution_count": 25,
   "metadata": {},
   "outputs": [
    {
     "name": "stdout",
     "output_type": "stream",
     "text": [
      "27.0\n"
     ]
    }
   ],
   "source": [
    "print(dictt['2018-01-010500']['HOV_12_12'])"
   ]
  },
  {
   "cell_type": "code",
   "execution_count": 32,
   "metadata": {},
   "outputs": [
    {
     "name": "stdout",
     "output_type": "stream",
     "text": [
      "Index(['tod', 'entr', 'exit', 'trip_id', 'reliability', 'auxind'], dtype='object')\n"
     ]
    }
   ],
   "source": [
    "dfrtime = pd.read_sql_query(\"SELECT * FROM reliability\", conn)\n",
    "print(dfrtime.columns)\n",
    "dictr = dict(zip(dfrtime['auxind'],dfrtime['reliability']))\n",
    "# print(dictr.keys())"
   ]
  },
  {
   "cell_type": "code",
   "execution_count": 9,
   "metadata": {},
   "outputs": [
    {
     "name": "stdout",
     "output_type": "stream",
     "text": [
      "Index(['trip_id', 'aux1', 'aux2', 'aux3', 'aux4', 'aux5', 'auxind'], dtype='object')\n"
     ]
    }
   ],
   "source": [
    "dftot = pd.read_sql_query(\"SELECT trip_id,aux1,aux2,aux3,aux4,aux5,auxind FROM TOT\", conn)"
   ]
  },
  {
   "cell_type": "code",
   "execution_count": 29,
   "metadata": {},
   "outputs": [],
   "source": [
    "dftot = dftot[dftot['aux3']!= 'GP_18_18' ]"
   ]
  },
  {
   "cell_type": "code",
   "execution_count": 16,
   "metadata": {},
   "outputs": [
    {
     "name": "stdout",
     "output_type": "stream",
     "text": [
      "                GP_12_12  HOV_12_12  GP_11_11  HOV_11_11  GP_11_12  HOV_11_12  \\\n",
      "aux1                                                                            \n",
      "2018-01-010500      27.0       27.0      34.2       34.2      61.2       61.2   \n",
      "2018-01-010505      27.0       27.0      34.2       34.2      61.2       61.2   \n",
      "\n",
      "                GP_14_14  HOV_14_14  GP_14_15  HOV_14_15  ...  GP_16_23  \\\n",
      "aux1                                                      ...             \n",
      "2018-01-010500      76.8       76.8     136.2      136.2  ...     503.4   \n",
      "2018-01-010505      76.8       76.8     136.2      136.2  ...     503.4   \n",
      "\n",
      "                HOV_16_23  GP_23_23  HOV_23_23  GP_21_23  HOV_21_23  GP_20_23  \\\n",
      "aux1                                                                            \n",
      "2018-01-010500      503.4     102.6      102.6     132.0      132.0     286.8   \n",
      "2018-01-010505      503.4     102.6      102.6     132.0      132.0     286.8   \n",
      "\n",
      "                HOV_20_23  GP_19_23  HOV_19_23  \n",
      "aux1                                            \n",
      "2018-01-010500      286.8     393.0      393.0  \n",
      "2018-01-010505      286.8     393.0      393.0  \n",
      "\n",
      "[2 rows x 200 columns]\n"
     ]
    },
    {
     "data": {
      "text/html": [
       "<div>\n",
       "<style scoped>\n",
       "    .dataframe tbody tr th:only-of-type {\n",
       "        vertical-align: middle;\n",
       "    }\n",
       "\n",
       "    .dataframe tbody tr th {\n",
       "        vertical-align: top;\n",
       "    }\n",
       "\n",
       "    .dataframe thead th {\n",
       "        text-align: right;\n",
       "    }\n",
       "</style>\n",
       "<table border=\"1\" class=\"dataframe\">\n",
       "  <thead>\n",
       "    <tr style=\"text-align: right;\">\n",
       "      <th></th>\n",
       "      <th>trip_id</th>\n",
       "      <th>aux1</th>\n",
       "      <th>aux2</th>\n",
       "      <th>aux3</th>\n",
       "      <th>aux4</th>\n",
       "      <th>aux5</th>\n",
       "      <th>auxind</th>\n",
       "    </tr>\n",
       "  </thead>\n",
       "  <tbody>\n",
       "    <tr>\n",
       "      <th>0</th>\n",
       "      <td>104021457</td>\n",
       "      <td>625</td>\n",
       "      <td>05_06</td>\n",
       "      <td>GP_05_06</td>\n",
       "      <td>HOV_05_06</td>\n",
       "      <td>2018-01-020625</td>\n",
       "      <td>62505_06</td>\n",
       "    </tr>\n",
       "    <tr>\n",
       "      <th>1</th>\n",
       "      <td>104021479</td>\n",
       "      <td>720</td>\n",
       "      <td>05_12</td>\n",
       "      <td>GP_05_12</td>\n",
       "      <td>HOV_05_12</td>\n",
       "      <td>2018-01-020720</td>\n",
       "      <td>72005_12</td>\n",
       "    </tr>\n",
       "  </tbody>\n",
       "</table>\n",
       "</div>"
      ],
      "text/plain": [
       "     trip_id  aux1   aux2      aux3       aux4            aux5    auxind\n",
       "0  104021457   625  05_06  GP_05_06  HOV_05_06  2018-01-020625  62505_06\n",
       "1  104021479   720  05_12  GP_05_12  HOV_05_12  2018-01-020720  72005_12"
      ]
     },
     "execution_count": 16,
     "metadata": {},
     "output_type": "execute_result"
    }
   ],
   "source": []
  },
  {
   "cell_type": "code",
   "execution_count": 33,
   "metadata": {},
   "outputs": [],
   "source": [
    "dftot['TT_GP'] = [dictt[x][y]/(60*60) for x,y in zip(dftot['aux5'],dftot['aux3'])]\n",
    "dftot['TT_HOV'] = [dictt[x][y]/(60*60) for x,y in zip(dftot['aux5'],dftot['aux4'])]\n",
    "dftot['TT_saving'] = dftot['TT_GP'] - dftot['TT_HOV'] "
   ]
  },
  {
   "cell_type": "code",
   "execution_count": 34,
   "metadata": {},
   "outputs": [],
   "source": [
    "dftot['reliability']=[dictr[x] for x in dftot['auxind']]"
   ]
  },
  {
   "cell_type": "code",
   "execution_count": 37,
   "metadata": {},
   "outputs": [
    {
     "data": {
      "text/plain": [
       "Index(['trip_id', 'aux1', 'aux2', 'aux3', 'aux4', 'aux5', 'auxind', 'TT_GP',\n",
       "       'TT_HOV', 'TT_saving', 'reliability'],\n",
       "      dtype='object')"
      ]
     },
     "execution_count": 37,
     "metadata": {},
     "output_type": "execute_result"
    }
   ],
   "source": [
    "dftot.columns"
   ]
  },
  {
   "cell_type": "code",
   "execution_count": 38,
   "metadata": {},
   "outputs": [
    {
     "name": "stdout",
     "output_type": "stream",
     "text": [
      "            trip_id     TT_GP    TT_HOV  TT_saving  reliability\n",
      "0         104021457  0.103333  0.103333   0.000000     0.000000\n",
      "1         104021479  0.222500  0.222500   0.000000     0.000000\n",
      "2         104021501  0.162833  0.162833   0.000000     0.000000\n",
      "3         104021513  0.137500  0.137167  -0.000333     0.000931\n",
      "4         104021523  0.021000  0.021000   0.000000     0.000000\n",
      "...             ...       ...       ...        ...          ...\n",
      "16976129  151726679  0.016500  0.016500   0.000000     0.000000\n",
      "16976130  151726680  0.044333  0.044333   0.000000     0.000000\n",
      "16976131  151726681  0.044333  0.044333   0.000000     0.000000\n",
      "16976132  151726682  0.038000  0.038000   0.000000     0.005400\n",
      "16976133  151726683  0.015000  0.015000   0.000000     0.000917\n",
      "\n",
      "[16954595 rows x 5 columns]\n"
     ]
    }
   ],
   "source": [
    "dffinal = dftot[['trip_id','TT_GP','TT_HOV','TT_saving','reliability']]\n",
    "print(dffinal)"
   ]
  },
  {
   "cell_type": "code",
   "execution_count": 39,
   "metadata": {},
   "outputs": [],
   "source": [
    "dffinal.to_sql('tt-table', con=conn, if_exists='fail')"
   ]
  },
  {
   "cell_type": "code",
   "execution_count": 40,
   "metadata": {},
   "outputs": [
    {
     "name": "stdout",
     "output_type": "stream",
     "text": [
      "[('census',), ('hov',), ('trips',), ('bos',), ('trips_linked',), ('acct_stats',), ('acs',), ('frequency',), ('distance',), ('TTime',), ('reliability',), ('TOT',), ('tt-table',)]\n"
     ]
    }
   ],
   "source": [
    "print(conn.execute(\"SELECT name FROM sqlite_master WHERE type='table';\").fetchall())\n",
    "\n"
   ]
  },
  {
   "cell_type": "code",
   "execution_count": null,
   "metadata": {},
   "outputs": [],
   "source": []
  }
 ],
 "metadata": {
  "kernelspec": {
   "display_name": "Python 3",
   "language": "python",
   "name": "python3"
  },
  "language_info": {
   "codemirror_mode": {
    "name": "ipython",
    "version": 3
   },
   "file_extension": ".py",
   "mimetype": "text/x-python",
   "name": "python",
   "nbconvert_exporter": "python",
   "pygments_lexer": "ipython3",
   "version": "3.7.3"
  }
 },
 "nbformat": 4,
 "nbformat_minor": 4
}
