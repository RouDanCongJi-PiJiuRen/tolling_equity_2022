{
 "cells": [
  {
   "cell_type": "markdown",
   "metadata": {},
   "source": [
    "# Load block group aggregated data csv"
   ]
  },
  {
   "cell_type": "code",
   "execution_count": null,
   "metadata": {},
   "outputs": [],
   "source": [
    "pd.read_csv(r'/opt/dssg-hot/data/block_group_aggregates/cbgs_fips_vars_with_geometry.csv')"
   ]
  },
  {
   "cell_type": "code",
   "execution_count": null,
   "metadata": {},
   "outputs": [],
   "source": [
    "pd.read_csv(r'/opt/dssg-hot/data/block_group_aggregates/cbgs_fips_vars.csv')"
   ]
  },
  {
   "cell_type": "markdown",
   "metadata": {},
   "source": [
    "# Plot relationships"
   ]
  },
  {
   "cell_type": "markdown",
   "metadata": {},
   "source": [
    "## Income x avg fare paid x forward/reverse commute"
   ]
  },
  {
   "cell_type": "code",
   "execution_count": null,
   "metadata": {},
   "outputs": [],
   "source": [
    "# - Get all forward/reverse commuting trips within the forward commuting bgs\n",
    "# --> forward commute trip must:\n",
    "# 1.) be during NB evening peak or SB morning peak,\n",
    "# 2.) belong to an id that has >20 trips/id, and\n",
    "# 3.) be performed by a user from a majority forward dir trip bg\n",
    "# --> reverse commute trip must:\n",
    "# 1.) be during NB morning peak or SB evening peak,\n",
    "# 2.) belong to an id that has >20 trips/id, and\n",
    "# 3.) be performed by a user from a majority reverse dir trip bg\n",
    "dfnow = dfnow.merge(num_trips_by_id_fips[['freq_group','id']], on='id')\n",
    "dfnow = dfnow.merge(cbgs_dfnow[['maj_commute_dir','fips']], on='fips')\n",
    "\n",
    "pk_fc_filternow = (dfnow['peak_group']=='NB_e_pk'\n",
    "                 ) | (dfnow['peak_group']=='SB_m_pk')\n",
    "pk_rc_filternow = (dfnow['peak_group']=='NB_m_pk'\n",
    "                 ) | (dfnow['peak_group']=='SB_e_pk')\n",
    "\n",
    "freq_filternow = (dfnow['freq_group']=='21-70'\n",
    "                 ) | (dfnow['freq_group']=='21-70'\n",
    "                     ) | (dfnow['freq_group']=='71-200'\n",
    "                         ) | (dfnow['freq_group']=='201-400'\n",
    "                             ) | (dfnow['freq_group']=='>401')\n",
    "\n",
    "dir_fc_filternow = (dfnow['maj_commute_dir']=='fd')\n",
    "dir_rc_filternow = (dfnow['maj_commute_dir']=='rd')\n",
    "\n",
    "fc_rc_trips = dfnow[(pk_fc_filternow | pk_rc_filternow) & \n",
    "                    freq_filternow & (dir_fc_filternow | dir_rc_filternow)]"
   ]
  },
  {
   "cell_type": "code",
   "execution_count": null,
   "metadata": {},
   "outputs": [],
   "source": [
    "len(fc_rc_trips)"
   ]
  },
  {
   "cell_type": "code",
   "execution_count": null,
   "metadata": {},
   "outputs": [],
   "source": [
    "test=fc_rc_trips.groupby(['inc3_group','maj_commute_dir'])"
   ]
  },
  {
   "cell_type": "code",
   "execution_count": null,
   "metadata": {},
   "outputs": [],
   "source": [
    "fc_rc_trips.boxplot(column='toll',by='')"
   ]
  },
  {
   "cell_type": "code",
   "execution_count": null,
   "metadata": {},
   "outputs": [],
   "source": [
    "#fc_rc_trips.merge(fips_sov_grouped.agg({'toll': 'mean'}), on='fips')"
   ]
  }
 ],
 "metadata": {
  "kernelspec": {
   "display_name": "Python 3",
   "language": "python",
   "name": "python3"
  },
  "language_info": {
   "codemirror_mode": {
    "name": "ipython",
    "version": 3
   },
   "file_extension": ".py",
   "mimetype": "text/x-python",
   "name": "python",
   "nbconvert_exporter": "python",
   "pygments_lexer": "ipython3",
   "version": "3.7.3"
  }
 },
 "nbformat": 4,
 "nbformat_minor": 4
}
