{
 "cells": [
  {
   "cell_type": "code",
   "execution_count": 1,
   "metadata": {},
   "outputs": [],
   "source": [
    "import importlib.util\n",
    "import matplotlib.dates as md\n",
    "import matplotlib.pyplot as plt\n",
    "import numpy as np\n",
    "import pandas as pd\n",
    "\n",
    "%matplotlib inline\n",
    "\n",
    "if importlib.util.find_spec('seaborn') is not None:\n",
    "    import seaborn as sns\n",
    "    sns.set()"
   ]
  },
  {
   "cell_type": "markdown",
   "metadata": {},
   "source": [
    "## Load data"
   ]
  },
  {
   "cell_type": "markdown",
   "metadata": {},
   "source": [
    "##### Travel time"
   ]
  },
  {
   "cell_type": "code",
   "execution_count": 3,
   "metadata": {},
   "outputs": [
    {
     "name": "stdout",
     "output_type": "stream",
     "text": [
      "                     GP_12_12  HOV_12_12  GP_11_11  HOV_11_11  GP_11_12  \\\n",
      "Time                                                                      \n",
      "2018-01-01 05:00:00      27.0       27.0      34.2       34.2      61.2   \n",
      "2018-01-01 05:05:00      27.0       27.0      34.2       34.2      61.2   \n",
      "\n",
      "                     HOV_11_12  GP_14_14  HOV_14_14  GP_14_15  HOV_14_15  ...  \\\n",
      "Time                                                                      ...   \n",
      "2018-01-01 05:00:00       61.2      76.8       76.8     136.2      136.2  ...   \n",
      "2018-01-01 05:05:00       61.2      76.8       76.8     136.2      136.2  ...   \n",
      "\n",
      "                     GP_16_23  HOV_16_23  GP_23_23  HOV_23_23  GP_21_23  \\\n",
      "Time                                                                      \n",
      "2018-01-01 05:00:00     503.4      503.4     102.6      102.6     132.0   \n",
      "2018-01-01 05:05:00     503.4      503.4     102.6      102.6     132.0   \n",
      "\n",
      "                     HOV_21_23  GP_20_23  HOV_20_23  GP_19_23  HOV_19_23  \n",
      "Time                                                                      \n",
      "2018-01-01 05:00:00      132.0     286.8      286.8     393.0      393.0  \n",
      "2018-01-01 05:05:00      132.0     286.8      286.8     393.0      393.0  \n",
      "\n",
      "[2 rows x 200 columns]\n"
     ]
    }
   ],
   "source": [
    "# - Read in travel time data\n",
    "df = pd.read_csv('/opt/dssg-hot/data/travel_times/concatenated_405_travel_times_5am_to_8pm_5min.csv')\n",
    "\n",
    "# - Replace -86400 w/ nan\n",
    "df.replace(-86400, np.nan, inplace=True)\n",
    "\n",
    "# - Set 'Time' column to index\n",
    "df.set_index('Time',inplace=True)\n",
    "\n",
    "# - Compute GP minus HOT travel time differences and add diff as new columns\n",
    "colsnow = df[df.columns[::2]].columns\n",
    "dfgp = df[df.columns[::2]]\n",
    "dfhov = df[df.columns[1::2]]\n",
    "dfhov.columns = colsnow\n",
    "dfgmh = dfgp-dfhov # GP minus HOV = gmh\n",
    "dfgmh.columns = dfgmh.columns.str.replace('GP','GMH')\n",
    "df = pd.concat([df, dfgmh], axis=1)\n",
    "\n",
    "# - Unset 'Time' column to index\n",
    "df.reset_index(inplace=True)\n",
    "\n",
    "# - Examine data\n",
    "df.head(2)"
   ]
  },
  {
   "cell_type": "markdown",
   "metadata": {},
   "source": [
    "## Add and groupby useful computed time columns"
   ]
  },
  {
   "cell_type": "code",
   "execution_count": 4,
   "metadata": {},
   "outputs": [],
   "source": [
    "df['new_dates'] = pd.to_datetime(df['Time'])\n",
    "df['weekday_num'] = df['new_dates'].apply(lambda t: t.weekday())\n",
    "df['month_num'] = df['new_dates'].apply(lambda t: t.month)\n",
    "df['hour_num'] = df['new_dates'].apply(lambda t: t.hour)\n",
    "df['time_of_day'] = df['new_dates'].apply(lambda t: t.time())\n",
    "# NOTE: mon = 0, fri = 4; jan = 1, dec = 12"
   ]
  },
  {
   "cell_type": "code",
   "execution_count": 4,
   "metadata": {},
   "outputs": [],
   "source": [
    "weekday_num_grouped = df.groupby('weekday_num')\n",
    "weekday_num_stds = weekday_num_grouped.aggregate(np.std)\n",
    "weekday_num_meds = weekday_num_grouped.aggregate(np.median)\n",
    "weekdayxtimeofday_grouped = df.groupby(['weekday_num','time_of_day'])\n",
    "weekdayxtimeofday_stds = weekdayxtimeofday_grouped.aggregate(np.std)\n",
    "weekdayxtimeofday_meds = weekdayxtimeofday_grouped.aggregate(np.median)"
   ]
  },
  {
   "cell_type": "markdown",
   "metadata": {},
   "source": [
    "## Define fxns to plot travel times in diff ways"
   ]
  },
  {
   "cell_type": "markdown",
   "metadata": {},
   "source": [
    "#### Plot travel times and travel time savings over the day by month"
   ]
  },
  {
   "cell_type": "code",
   "execution_count": 5,
   "metadata": {},
   "outputs": [],
   "source": [
    "def plot_tt_over_day_by_month(tt_or_tts, entry_plaza, exit_plaza):\n",
    "    entry_plaza_str = str(entry_plaza).zfill(2)\n",
    "    exit_plaza_str = str(exit_plaza).zfill(2)\n",
    "    entry_exit_plaza_str = entry_plaza_str + '_' + exit_plaza_str\n",
    "    \n",
    "    fig, axs = plt.subplots(4, 3, figsize=(16,12), sharex=True, sharey=True)\n",
    "\n",
    "    #ymin = np.nanmin(df[['GP_' + entry_exit_plaza_str, 'HOV_' + entry_exit_plaza_str]])/60\n",
    "    #ymax = np.nanmax(df[['GP_' + entry_exit_plaza_str, 'HOV_' + entry_exit_plaza_str]])/60\n",
    "\n",
    "    #xminorlocator = md.MinuteLocator(byminute=[0,15,30,45], interval = 1)\n",
    "    #xmajorlocator = md.HourLocator() # every hour\n",
    "\n",
    "    #bigax = fig.add_subplot(111)\n",
    "    #bigax.set_xlabel('Time of day (hour)')\n",
    "    #bigax.set_ylabel('Travel time (minutes)')\n",
    "    #fig.suptitle('Each month ' + entry_plaza_str + '_' + exit_plaza_str + ' travel times')\n",
    "\n",
    "    isp_x = 0; isp_y = -1;\n",
    "    for month in range(1,13):\n",
    "        if (month!=5) and (month!=9):\n",
    "            isp_y = isp_y + 1;\n",
    "        elif month==5:\n",
    "            isp_y = 0;\n",
    "            isp_x = 1;\n",
    "        elif month==9:\n",
    "            isp_y = 0;\n",
    "            isp_x = 2;\n",
    "\n",
    "        if tt_or_tts=='tt':\n",
    "            #axs[isp_y][isp_x].set_ylim([ymin,ymax])\n",
    "            axs[isp_y][isp_x].plot(\n",
    "                df[df['month_num']==month]['time_of_day'],\n",
    "                df[df['month_num']==month]['GP_' + entry_exit_plaza_str]/60,\n",
    "                'C1-')\n",
    "            axs[isp_y][isp_x].plot(\n",
    "                df[df['month_num']==month]['time_of_day'],\n",
    "                df[df['month_num']==month]['HOV_' + entry_exit_plaza_str]/60,\n",
    "                'C2-')\n",
    "        elif tt_or_tts=='tts':\n",
    "            axs[isp_y][isp_x].plot(\n",
    "                df[df['month_num']==month]['time_of_day'],\n",
    "                df[df['month_num']==month]['GMH_' + entry_exit_plaza_str]/60)\n",
    "        \n",
    "        axs[isp_y][isp_x].set_title('Month number: %i' %month)\n",
    "        #axs[isp_y][isp_x].xaxis.set_major_locator(xmajorlocator)\n",
    "        #axs[isp_y][isp_x].xaxis.set_minor_locator(xminorlocator)\n",
    "        axs[isp_y][isp_x].yaxis.grid(True)\n",
    "        axs[isp_y][isp_x].xaxis.grid(True)\n",
    "        axs[isp_y][isp_x].tick_params(axis='x', labelrotation=90)"
   ]
  },
  {
   "cell_type": "markdown",
   "metadata": {},
   "source": [
    "#### Plot travel times and travel time savings over the day by day of the week"
   ]
  },
  {
   "cell_type": "code",
   "execution_count": 6,
   "metadata": {},
   "outputs": [],
   "source": [
    "def plot_tt_over_day_by_day_of_week(tt_or_tts, entry_plaza, exit_plaza):\n",
    "    entry_plaza_str = str(entry_plaza).zfill(2)\n",
    "    exit_plaza_str = str(exit_plaza).zfill(2)\n",
    "    entry_exit_plaza_str = entry_plaza_str + '_' + exit_plaza_str\n",
    "    \n",
    "    fig, axs = plt.subplots(2, 3, figsize=(16,6), sharex=True, sharey=True)\n",
    "    isp_x = 0; isp_y = -1;\n",
    "    for day in range(0,6): # plot friday twice\n",
    "        if (day!=2) and (day!=4):\n",
    "            isp_y = isp_y + 1;\n",
    "        elif day==2:\n",
    "            isp_y = 0;\n",
    "            isp_x = 1;\n",
    "        elif day==4:\n",
    "            isp_y = 0;\n",
    "            isp_x = 2;\n",
    "\n",
    "        if day==5: # plot friday twice\n",
    "            day = 4;\n",
    "\n",
    "        if tt_or_tts=='tt':\n",
    "            axs[isp_y][isp_x].plot(\n",
    "                df[df['weekday_num']==day]['time_of_day'],\n",
    "                df[df['weekday_num']==day]['GP_' + entry_exit_plaza_str]/60,\n",
    "                'C1-')\n",
    "            axs[isp_y][isp_x].plot(\n",
    "                df[df['weekday_num']==day]['time_of_day'],\n",
    "                df[df['weekday_num']==day]['HOV_' + entry_exit_plaza_str]/60,\n",
    "                'C2-')\n",
    "        elif tt_or_tts=='tts':\n",
    "            axs[isp_y][isp_x].plot(\n",
    "                df[df['weekday_num']==day]['time_of_day'],\n",
    "                df[df['weekday_num']==day]['GMH_' + entry_exit_plaza_str]/60)\n",
    "        \n",
    "        axs[isp_y][isp_x].set_title('Week day number: %i' %day)\n",
    "        axs[isp_y][isp_x].yaxis.grid(True)\n",
    "        axs[isp_y][isp_x].xaxis.grid(True)\n",
    "        axs[isp_y][isp_x].tick_params(axis='x', labelrotation=90)"
   ]
  },
  {
   "cell_type": "markdown",
   "metadata": {},
   "source": [
    "#### Plot travel times and travel time savings over the day by day of the week w/ medians and stdevs"
   ]
  },
  {
   "cell_type": "code",
   "execution_count": 7,
   "metadata": {},
   "outputs": [],
   "source": [
    "def plot_tt_over_day_by_day_of_week_medstd(tt_or_tts, entry_plaza, exit_plaza):\n",
    "    entry_plaza_str = str(entry_plaza).zfill(2)\n",
    "    exit_plaza_str = str(exit_plaza).zfill(2)\n",
    "    entry_exit_plaza_str = entry_plaza_str + '_' + exit_plaza_str\n",
    "\n",
    "    fig, axs = plt.subplots(2, 3, figsize=(16,6), sharex=True, sharey=True)\n",
    "    isp_x = 0; isp_y = -1;\n",
    "    for day in range(0,6): # plot friday twice\n",
    "        if (day!=2) and (day!=4):\n",
    "            isp_y = isp_y + 1;\n",
    "        elif day==2:\n",
    "            isp_y = 0;\n",
    "            isp_x = 1;\n",
    "        elif day==4:\n",
    "            isp_y = 0;\n",
    "            isp_x = 2;\n",
    "\n",
    "        if day==5: # plot friday twice\n",
    "            day = 4;\n",
    "\n",
    "        if tt_or_tts=='tt':\n",
    "            axs[isp_y][isp_x].plot(\n",
    "                (weekdayxtimeofday_meds['GP_' + entry_exit_plaza_str][day]+weekdayxtimeofday_stds['GP_' + entry_exit_plaza_str][day])/60,'C1--')\n",
    "            axs[isp_y][isp_x].plot(\n",
    "                weekdayxtimeofday_meds['GP_' + entry_exit_plaza_str][day]/60,'C1-')\n",
    "            axs[isp_y][isp_x].plot(\n",
    "                (weekdayxtimeofday_meds['GP_' + entry_exit_plaza_str][day]-weekdayxtimeofday_stds['GP_' + entry_exit_plaza_str][day])/60,'C1--')\n",
    "            axs[isp_y][isp_x].plot(\n",
    "                (weekdayxtimeofday_meds['HOV_' + entry_exit_plaza_str][day]+weekdayxtimeofday_stds['HOV_' + entry_exit_plaza_str][day])/60,'C2--')\n",
    "            axs[isp_y][isp_x].plot(\n",
    "                weekdayxtimeofday_meds['HOV_' + entry_exit_plaza_str][day]/60,'C2-')\n",
    "            axs[isp_y][isp_x].plot(\n",
    "                (weekdayxtimeofday_meds['HOV_' + entry_exit_plaza_str][day]-weekdayxtimeofday_stds['HOV_' + entry_exit_plaza_str][day])/60,'C2--')\n",
    "        elif tt_or_tts=='tts':\n",
    "            axs[isp_y][isp_x].plot(\n",
    "                (weekdayxtimeofday_meds['GMH_' + entry_exit_plaza_str][day]+weekdayxtimeofday_stds['GMH_' + entry_exit_plaza_str][day])/60,'k--')\n",
    "            axs[isp_y][isp_x].plot(\n",
    "                weekdayxtimeofday_meds['GMH_' + entry_exit_plaza_str][day]/60,'k-')\n",
    "            axs[isp_y][isp_x].plot(\n",
    "                (weekdayxtimeofday_meds['GMH_' + entry_exit_plaza_str][day]-weekdayxtimeofday_stds['GMH_' + entry_exit_plaza_str][day])/60,'k--')            \n",
    "            \n",
    "        axs[isp_y][isp_x].set_title('Week day number: %i' %day)\n",
    "        axs[isp_y][isp_x].tick_params(axis='x', labelrotation=90)"
   ]
  }
 ],
 "metadata": {
  "anaconda-cloud": {},
  "kernelspec": {
   "display_name": "Python 3",
   "language": "python",
   "name": "python3"
  },
  "language_info": {
   "codemirror_mode": {
    "name": "ipython",
    "version": 3
   },
   "file_extension": ".py",
   "mimetype": "text/x-python",
   "name": "python",
   "nbconvert_exporter": "python",
   "pygments_lexer": "ipython3",
   "version": "3.7.3"
  }
 },
 "nbformat": 4,
 "nbformat_minor": 4
}
