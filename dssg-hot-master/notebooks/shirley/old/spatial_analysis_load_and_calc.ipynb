{
 "cells": [
  {
   "cell_type": "code",
   "execution_count": 4,
   "metadata": {},
   "outputs": [
    {
     "name": "stdout",
     "output_type": "stream",
     "text": [
      "working dir: /opt/dssg-hot/notebooks/shirley\n"
     ]
    }
   ],
   "source": [
    "import altair as alt\n",
    "from functools import reduce\n",
    "import gc\n",
    "import geopandas as gpd\n",
    "import matplotlib.pyplot as plt\n",
    "import numpy as np\n",
    "import os\n",
    "import pandas as pd\n",
    "from pysqlcipher3 import dbapi2 as sqlcipher\n",
    "#import seaborn as sns\n",
    "import shapely\n",
    "\n",
    "path = os.getcwd()\n",
    "print('working dir: ' + path)\n",
    "#/opt/dssg-hot/notebooks/shirley"
   ]
  },
  {
   "cell_type": "markdown",
   "metadata": {},
   "source": [
    "# Get and compute trip data"
   ]
  },
  {
   "cell_type": "markdown",
   "metadata": {},
   "source": [
    "#### Read in hot_2.1 db"
   ]
  },
  {
   "cell_type": "code",
   "execution_count": 2,
   "metadata": {},
   "outputs": [
    {
     "data": {
      "text/plain": [
       "<pysqlcipher3.dbapi2.Cursor at 0x7f67f8008f10>"
      ]
     },
     "execution_count": 2,
     "metadata": {},
     "output_type": "execute_result"
    }
   ],
   "source": [
    "# - $HOT_KEY exists in environment already\n",
    "keynow = os.environ['HOT_KEY']\n",
    "db = sqlcipher.connect('/opt/dssg-hot/data/shirleydata/sqldbs/hot_2.1.db')\n",
    "db.execute('pragma key=\\\"x\\''+keynow+'\\'\\\"')"
   ]
  },
  {
   "cell_type": "code",
   "execution_count": 3,
   "metadata": {},
   "outputs": [
    {
     "data": {
      "text/plain": [
       "[(-9223314567028386566,\n",
       "  1,\n",
       "  'NEWCASTLE',\n",
       "  'WA',\n",
       "  98059,\n",
       "  1,\n",
       "  530330250051,\n",
       "  33,\n",
       "  25005,\n",
       "  1031)]"
      ]
     },
     "execution_count": 3,
     "metadata": {},
     "output_type": "execute_result"
    }
   ],
   "source": [
    "# - Test if the HOT_KEY password worked\n",
    "db.execute('select * from census limit 1;').fetchall()"
   ]
  },
  {
   "cell_type": "code",
   "execution_count": 5,
   "metadata": {},
   "outputs": [],
   "source": [
    "# - Read in joined trip data\n",
    "df = pd.read_sql_query(\"select trip_id, toll, entry_time, exit_time, entry_plaza, exit_plaza, is_hov, tag_id, acct, plate, id, plate_state, fips from trips_linked;\", db)\n",
    "#df.head()\n",
    "#list(df.columns)\n",
    "#df.shape\n",
    "#df.dtypes\n",
    "#df.isna().sum() # look at how many nans per column"
   ]
  },
  {
   "cell_type": "code",
   "execution_count": null,
   "metadata": {},
   "outputs": [],
   "source": [
    "# - Change trip_id, tag_id, acct, plate, id to strings\n",
    "# df['trip_id']=df['trip_id'].astype(str)\n",
    "# df['tag_id']=df['tag_id'].astype(str)\n",
    "# df['acct']=df['acct'].astype(str)\n",
    "# df['plate']=df['plate'].astype(str)\n",
    "# df['id']=df['id'].astype(str)\n",
    "# df.dtypes"
   ]
  },
  {
   "cell_type": "markdown",
   "metadata": {},
   "source": [
    "#### Join dist traveled, start/end mile posts, travel time, entry speed/volume w/ trips"
   ]
  },
  {
   "cell_type": "code",
   "execution_count": 6,
   "metadata": {},
   "outputs": [],
   "source": [
    "# - Merge distance traveled + start/end mile posts for each trip\n",
    "entry_exit_plu = pd.read_csv('/opt/dssg-hot/data/milepost_lookups/trips_entry_exit_summary.csv')\n",
    "#entry_exit_plu['Count'] = entry_exit_plu['Count'].str.replace(',','').astype(int) # only need this if commas were in #s\n",
    "entry_exit_plu['Percentage'] = entry_exit_plu['Percentage'].str.replace('%','').astype(float)\n",
    "entry_exit_plu['Dist btwn entry & exit loop'] = abs(entry_exit_plu['Dist btwn entry & exit loop'])\n",
    "entry_exit_plu.rename(columns={'Entry Plaza':'entry_plaza', 'Exit Plaza':'exit_plaza'}, inplace=True)\n",
    "\n",
    "df = pd.merge(\n",
    "    df, entry_exit_plu[['entry_plaza','exit_plaza','Actual entry mile post','Actual exit mile post','Dist btwn entry & exit loop']],\n",
    "    how='left', on=['entry_plaza','exit_plaza']\n",
    ")"
   ]
  },
  {
   "cell_type": "code",
   "execution_count": null,
   "metadata": {},
   "outputs": [],
   "source": [
    "# # - Merge travel time + entry speed/volume for each trip \n",
    "# def roundarb(x, base):\n",
    "#     return base * round(x/base)\n",
    "# tt = pd.read_csv('../../data/shirleydata/TRACFLOW_travel_times/concatenated_405_travel_times_5am_to_8pm_5min.csv')\n",
    "# tt.head()\n",
    "# df['entry_time_5min']=roundarb(df['entry_time'], base=300).astype(int)\n",
    "# pd.to_datetime(df['entry_time_5min'], unit='s')\n",
    "# tt\n",
    "# # for a, b in zip(df['entry_time'],roundarb(df['entry_time'])):\n",
    "# #     print(a,b)"
   ]
  },
  {
   "cell_type": "markdown",
   "metadata": {},
   "source": [
    "#### Compute categories (user frequency, user type, time of use, toll intervals)"
   ]
  },
  {
   "cell_type": "markdown",
   "metadata": {},
   "source": [
    "<i>Commerical vs. private via number of tag_ids per id</i>"
   ]
  },
  {
   "cell_type": "code",
   "execution_count": 7,
   "metadata": {},
   "outputs": [
    {
     "name": "stdout",
     "output_type": "stream",
     "text": [
      "Test commercial vs. private classification; following # should be zero: 0\n"
     ]
    }
   ],
   "source": [
    "# --> id's w/ >6 diff tag_id's = commercial\n",
    "\n",
    "# - Note that NA groups in groupby are automatically excluded\n",
    "id_tagid_cts = df.groupby('id')['tag_id'].nunique()\n",
    "comm_ids = id_tagid_cts[id_tagid_cts>6].index.values\n",
    "df['is_commercial_by_num_tags'] = df['id'].isin(comm_ids).astype(int)\n",
    "# - OR: # dfnc = df[~df['id'].isin(comm_ids)] # df, no commercial trips\n",
    "\n",
    "# - Test:\n",
    "# print(id_tagid_cts.sort_values(ascending=False))\n",
    "# print(len(comm_ids))\n",
    "# print(len(id_tagid_cts))\n",
    "# print(id_tagid_cts[id_tagid_cts>6].index.values)\n",
    "comm_ids_test = df[df['is_commercial_by_num_tags']==0].groupby('id')['tag_id'].nunique()\n",
    "# - OR: # comm_ids_test = dfnc.groupby('id')['tag_id'].nunique()\n",
    "print('Test commercial vs. private classification; following # should be zero: ' + str(comm_ids_test[comm_ids_test > 6].count())) # should be zero\n",
    "\n",
    "# - Usage:\n",
    "# Get df w/o commerical by num tags --> dfnew = df[df['is_commercial_by_num_tags']==0]"
   ]
  },
  {
   "cell_type": "markdown",
   "metadata": {},
   "source": [
    "<i>Commerical vs. private via number of trips per id</i>"
   ]
  },
  {
   "cell_type": "code",
   "execution_count": 8,
   "metadata": {},
   "outputs": [
    {
     "name": "stdout",
     "output_type": "stream",
     "text": [
      "Test commerical vs. private classification by num of trips; following # should be zero: 0\n"
     ]
    }
   ],
   "source": [
    "# --> id's w/ >10k trips = commercial\n",
    "\n",
    "uf_id_cts = df['id'].value_counts() # counts how many times each value appears in the column = # of trips per id\n",
    "comm_by_num_trips_ids = uf_id_cts[uf_id_cts>10000].index.values\n",
    "df['is_commercial_by_num_trips'] = df['id'].isin(comm_by_num_trips_ids).astype(int)\n",
    "\n",
    "# - Test:\n",
    "#print(uf_id_cts.sort_values(ascending=False))\n",
    "#print(len(comm_by_num_trips_ids))\n",
    "#print(len(uf_id_cts))\n",
    "#print(uf_id_cts[uf_id_cts>10000].index.values)\n",
    "print('Test commerical vs. private classification by num of trips; following # should be zero: ' \n",
    "      + str(sum(df[df['is_commercial_by_num_trips']==0]['id'].value_counts() > 10000))) # should be zero\n",
    "\n",
    "# - Usage:\n",
    "# Get df w/o commerical by num trips --> dfnew = df[df['is_commercial_by_num_trips']==0]"
   ]
  },
  {
   "cell_type": "markdown",
   "metadata": {},
   "source": [
    "<i>Use frequency</i>"
   ]
  },
  {
   "cell_type": "code",
   "execution_count": 9,
   "metadata": {},
   "outputs": [
    {
     "name": "stdout",
     "output_type": "stream",
     "text": [
      "Test one-time use frequency classification; following # should be zero: 0\n"
     ]
    }
   ],
   "source": [
    "# --> defining 1 time users\n",
    "\n",
    "otu_ids = uf_id_cts[uf_id_cts==1].index.values\n",
    "df['is_otu'] = df['id'].isin(otu_ids).astype(int)\n",
    "\n",
    "# - Test:\n",
    "# print(uf_id_cts.sort_values(ascending=False))\n",
    "# print(len(otu_ids))\n",
    "# print(len(uf_id_cts))\n",
    "# print(len(otu_ids)/len(uf_id_cts))\n",
    "# print(uf_id_cts[uf_id_cts==1].index.values)\n",
    "uf_ids_test = df[df['is_otu']==0]['id'].value_counts()\n",
    "print('Test one-time use frequency classification; following # should be zero: ' + str(uf_ids_test[uf_ids_test==1].count())) # should be zero\n",
    "\n",
    "# - Usage:\n",
    "# Get df w/o one-time users --> dfnew = df[df['is_otu']==0]"
   ]
  },
  {
   "cell_type": "markdown",
   "metadata": {},
   "source": [
    "<b>NUGGET: 399324/828983 = 48.17% accts are one time users</b>"
   ]
  },
  {
   "cell_type": "code",
   "execution_count": 10,
   "metadata": {},
   "outputs": [
    {
     "data": {
      "image/png": "[encoded data removed]",
      "text/plain": [
       "<Figure size 432x288 with 1 Axes>"
      ]
     },
     "metadata": {},
     "output_type": "display_data"
    }
   ],
   "source": [
    "# #sns.set()\n",
    "# plt.hist(np.log(uf_id_cts.values), bins=30);\n",
    "# plt.title('Hist of log(number of uses per acct)');\n",
    "# plt.xlabel('log(# of uses per act)');\n",
    "# plt.ylabel('# of accts');"
   ]
  },
  {
   "cell_type": "markdown",
   "metadata": {},
   "source": [
    "<i>Categorize trips by week day, month, time of day</i>"
   ]
  },
  {
   "cell_type": "code",
   "execution_count": 11,
   "metadata": {},
   "outputs": [],
   "source": [
    "# --> trips occurring btwn 5-10am, 3-7pm are during the peak + are commuters\n",
    "df['entry_time'] = pd.to_datetime(df['entry_time'],unit='s')\n",
    "#df['exit_time'] = pd.to_datetime(df['exit_time'],unit='s')\n",
    "#df['entry_day'] = df['entry_time'].apply(lambda t: t.weekday())\n",
    "#df['entry_mon'] = df['entry_time'].apply(lambda t: t.month)\n",
    "df['entry_hr'] = df['entry_time'].apply(lambda t: t.hour)"
   ]
  },
  {
   "cell_type": "markdown",
   "metadata": {},
   "source": [
    "<i>Categorize northbound and southbound trips</i>"
   ]
  },
  {
   "cell_type": "code",
   "execution_count": null,
   "metadata": {},
   "outputs": [],
   "source": [
    "# Just categorize northbound/southbound with entry_plaza"
   ]
  },
  {
   "cell_type": "markdown",
   "metadata": {},
   "source": [
    "#### Decide on the characteristics you want to filter by for all following analyses"
   ]
  },
  {
   "cell_type": "code",
   "execution_count": 12,
   "metadata": {},
   "outputs": [],
   "source": [
    "dfnow = df[(df['is_commercial_by_num_trips']==0) & (df['is_commercial_by_num_tags']==0)]"
   ]
  },
  {
   "cell_type": "markdown",
   "metadata": {},
   "source": [
    "#### Group trips"
   ]
  },
  {
   "cell_type": "code",
   "execution_count": 13,
   "metadata": {},
   "outputs": [],
   "source": [
    "# - Group all trips by fips, fips+hov/sov, fips+hov\n",
    "fips_grouped = dfnow.groupby('fips')\n",
    "\n",
    "#fips_sov_grouped = dfnow[dfnow['is_hov']==0].groupby('fips')\n",
    "#fips_hov_grouped = dfnow[dfnow['is_hov']==1].groupby('fips')\n",
    "# - OR:\n",
    "#fips_shov_grouped = dfnow.groupby(['fips','is_hov'])"
   ]
  },
  {
   "cell_type": "markdown",
   "metadata": {},
   "source": [
    "#### Compute plot variables"
   ]
  },
  {
   "cell_type": "markdown",
   "metadata": {},
   "source": [
    "<i>Number of trips and users, HOV/SOV</i>"
   ]
  },
  {
   "cell_type": "code",
   "execution_count": 14,
   "metadata": {},
   "outputs": [],
   "source": [
    "# - Count the number of unique trips (though they already are) from each cbg\n",
    "fips_num_trips = fips_grouped['trip_id'].nunique()\n",
    "#fips_num_trips = fips_grouped.count()['trip_id'] # alt method b/c trip_id is unique\n",
    "\n",
    "# - Count the number of unique users from each cbg\n",
    "fips_num_users = fips_grouped['id'].nunique()\n",
    "\n",
    "# - Count the number of HOV trips from each cbg\n",
    "#fips_num_trips_hov = fips_hov_grouped['trip_id'].nunique()\n",
    "# - OR:\n",
    "#fips_shov_now = fips_shov_grouped['trip_id'].nunique().reset_index(level='is_hov')\n",
    "#fips_num_trips_hov = fips_shov_now[fips_shov_now['is_hov']==1]['trip_id']\n",
    "\n",
    "# - Count the number of SOV trips from each cbg\n",
    "#fips_num_trips_sov = fips_sov_grouped['trip_id'].nunique()"
   ]
  },
  {
   "cell_type": "markdown",
   "metadata": {},
   "source": [
    "<i>Toll prices</i>"
   ]
  },
  {
   "cell_type": "code",
   "execution_count": 14,
   "metadata": {},
   "outputs": [],
   "source": [
    "# - Get the avg toll paid by each cbg including HOV\n",
    "fips_avg_toll_whov = fips_grouped.mean()['toll']\n",
    "\n",
    "# - Get the avg toll paid by each cbg without HOV\n",
    "#fips_avg_toll_wohov = fips_sov_grouped.mean()['toll']\n",
    "# - OR:\n",
    "#fips_shov_toll_now = fips_shov_grouped['toll'].mean().reset_index(level='is_hov')\n",
    "#fips_avg_toll_wohov = fips_shov_toll_now[fips_shov_toll_now['is_hov']==0]['toll']"
   ]
  },
  {
   "cell_type": "markdown",
   "metadata": {},
   "source": [
    "<i>Trip lengths</i>"
   ]
  },
  {
   "cell_type": "code",
   "execution_count": 14,
   "metadata": {},
   "outputs": [],
   "source": [
    "# - Calc the avg distance traveled within each cbg\n",
    "fips_avg_dist = fips_grouped.mean()['Dist btwn entry & exit loop']"
   ]
  },
  {
   "cell_type": "markdown",
   "metadata": {},
   "source": [
    "<i>Usage times (time of day, weekday, month)</i>"
   ]
  },
  {
   "cell_type": "code",
   "execution_count": 57,
   "metadata": {},
   "outputs": [],
   "source": [
    "# - Calc number of HOT trips during morning peak hours (5am-10am) in each cbg\n",
    "fips_num_trips_m_peak = (dfnow[(dfnow['entry_hr']>=5) & (dfnow['entry_hr']<=9)]\n",
    "                         .groupby('fips')\n",
    "                        )['trip_id'].nunique()\n",
    "\n",
    "# - Calc number of HOT trips during morning peak hours (5am-10am) heading northbound in each cbg\n",
    "fips_num_trips_m_peak_nb = (dfnow[(dfnow['entry_hr']>=5) & (dfnow['entry_hr']<=9) & (dfnow['entry_plaza']<13)]\n",
    "                         .groupby('fips')\n",
    "                        )['trip_id'].nunique()\n",
    "\n",
    "# - Calc number of HOT trips during morning peak hours (5am-10am) heading southbound in each cbg\n",
    "fips_num_trips_m_peak_sb = (dfnow[(dfnow['entry_hr']>=5) & (dfnow['entry_hr']<=9) & (dfnow['entry_plaza']>=13)]\n",
    "                         .groupby('fips')\n",
    "                        )['trip_id'].nunique()\n",
    "\n",
    "# - Calc number of HOT trips during afternoon/evening peak hours (3pm-7pm) in each cbg\n",
    "fips_num_trips_e_peak = (dfnow[(dfnow['entry_hr']>=15) & (dfnow['entry_hr']<=19)]\n",
    "                         .groupby('fips')\n",
    "                        )['trip_id'].nunique()\n",
    "\n",
    "# - Calc number of HOT trips during afternoon/evening peak hours (3pm-7pm) heading northbound in each cbg\n",
    "fips_num_trips_e_peak_nb = (dfnow[(dfnow['entry_hr']>=15) & (dfnow['entry_hr']<=19) & (dfnow['entry_plaza']<13)]\n",
    "                         .groupby('fips')\n",
    "                        )['trip_id'].nunique()\n",
    "\n",
    "# - Calc number of HOT trips during afternoon/evening peak hours (3pm-7pm) heading southbound in each cbg\n",
    "fips_num_trips_e_peak_sb = (dfnow[(dfnow['entry_hr']>=15) & (dfnow['entry_hr']<=19) & (dfnow['entry_plaza']>=13)]\n",
    "                         .groupby('fips')\n",
    "                        )['trip_id'].nunique()"
   ]
  },
  {
   "cell_type": "markdown",
   "metadata": {},
   "source": [
    "<i>Usage frequencies</i>"
   ]
  },
  {
   "cell_type": "code",
   "execution_count": 18,
   "metadata": {},
   "outputs": [],
   "source": [
    "# - Calc number of one time HOT lane users within each cbg\n",
    "fips_num_trips_otu = (dfnow[dfnow['is_otu']==1].groupby('fips'))['trip_id'].nunique()"
   ]
  },
  {
   "cell_type": "code",
   "execution_count": null,
   "metadata": {},
   "outputs": [],
   "source": [
    "# - Calc % of one time HOT users within each cbg\n",
    "\n",
    "# - Calc % of all users that use the HOT lanes once in each cbg"
   ]
  },
  {
   "cell_type": "code",
   "execution_count": null,
   "metadata": {},
   "outputs": [],
   "source": [
    "# - Calc % of trips within each cbg paying <$1 toll\n",
    "#fips_num_trips = fips_grouped['trip_id'].nunique()"
   ]
  },
  {
   "cell_type": "code",
   "execution_count": null,
   "metadata": {},
   "outputs": [],
   "source": [
    "# - Calc % of users within each cbg paying <$1 toll"
   ]
  },
  {
   "cell_type": "code",
   "execution_count": null,
   "metadata": {},
   "outputs": [],
   "source": [
    "# - Calc % of all users paying <$1 toll in each cbg"
   ]
  },
  {
   "cell_type": "code",
   "execution_count": null,
   "metadata": {},
   "outputs": [],
   "source": [
    "# - Calc % of all users that use the HOT lanes once in each cbg"
   ]
  },
  {
   "cell_type": "code",
   "execution_count": null,
   "metadata": {},
   "outputs": [],
   "source": [
    "# - Calc % of trips within each cbg that are carpool"
   ]
  },
  {
   "cell_type": "code",
   "execution_count": null,
   "metadata": {},
   "outputs": [],
   "source": [
    "# - Calc % of all trips that are carpool in each cbg"
   ]
  },
  {
   "cell_type": "markdown",
   "metadata": {},
   "source": [
    "# Join calculated values and ACS info to cbg shapefile by fips"
   ]
  },
  {
   "cell_type": "markdown",
   "metadata": {},
   "source": [
    "#### Load Census bg shapefile and ACS 2016 info"
   ]
  },
  {
   "cell_type": "code",
   "execution_count": 62,
   "metadata": {},
   "outputs": [],
   "source": [
    "# - Load census block groups\n",
    "cbgs = gpd.read_file('/opt/dssg-hot/data/shapefiles/block_groups/block_groups.shp')\n",
    "cbgs.rename(columns={'fips_code':'fips'}, inplace=True)\n",
    "cbgs['fips'] = pd.to_numeric(cbgs['fips'])\n",
    "#cbgs.dtypes\n",
    "#cbgs.head()"
   ]
  },
  {
   "cell_type": "code",
   "execution_count": 63,
   "metadata": {},
   "outputs": [
    {
     "data": {
      "text/plain": [
       "fips                    int64\n",
       "med_inc               float64\n",
       "population              int64\n",
       "race_nonhisp_white    float64\n",
       "race_nonhisp_asian    float64\n",
       "trans_carpool         float64\n",
       "trans_drivealone      float64\n",
       "trans_transit         float64\n",
       "dtype: object"
      ]
     },
     "execution_count": 63,
     "metadata": {},
     "output_type": "execute_result"
    }
   ],
   "source": [
    "# - Load ACS 2016 info\n",
    "acs = pd.read_sql_query(\"select fips_code as fips, med_inc, population, race_nonhisp_white, race_nonhisp_asian, trans_carpool, trans_drivealone, trans_transit from acs;\", db)\n",
    "cols = acs.columns.drop(['fips','population'])\n",
    "acs[cols] = acs[cols].apply(pd.to_numeric, errors='coerce')\n",
    "acs.dtypes"
   ]
  },
  {
   "cell_type": "markdown",
   "metadata": {},
   "source": [
    "#### Join bg shapefile, ACS 2016 info, and computed plot variables"
   ]
  },
  {
   "cell_type": "markdown",
   "metadata": {},
   "source": [
    "<i>ACS info</i>"
   ]
  },
  {
   "cell_type": "code",
   "execution_count": 77,
   "metadata": {},
   "outputs": [],
   "source": [
    "cbgs_join = cbgs.merge(acs, on='fips')"
   ]
  },
  {
   "cell_type": "markdown",
   "metadata": {},
   "source": [
    "<i>Number of trips and users, HOV/SOV</i>"
   ]
  },
  {
   "cell_type": "code",
   "execution_count": 65,
   "metadata": {},
   "outputs": [],
   "source": [
    "# https://stackoverflow.com/questions/23668427/pandas-three-way-joining-multiple-dataframes-on-columns\n",
    "\n",
    "# cbgs_join = cbgs_join.merge(fips_num_trips, on='fips').merge(fips_num_users, on='fips')\n",
    "# cbgs_join.rename(columns={'trip_id':'num_trips', 'id':'num_users'}, inplace=True)\n",
    "\n",
    "# cbgs_join['num_trips_pc'] = cbgs_join['num_trips']/cbgs_join['population']\n",
    "\n",
    "# cbgs_join = cbgs_join.merge(fips_num_trips_hov, on='fips')\n",
    "# cbgs_join.rename(columns={'trip_id':'num_trips_hov'}, inplace=True)\n",
    "\n",
    "# cbgs_join = cbgs_join.merge(fips_num_trips_sov, on='fips')\n",
    "# cbgs_join.rename(columns={'trip_id':'num_trips_sov'}, inplace=True)\n",
    "\n",
    "# cbgs_join['frac_trips_hov'] = cbgs_join['num_trips_hov']/cbgs_join['num_trips']\n",
    "\n",
    "# cbgs_join['frac_trips_sov'] = cbgs_join['num_trips_sov']/cbgs_join['num_trips']"
   ]
  },
  {
   "cell_type": "markdown",
   "metadata": {},
   "source": [
    "<i>Toll prices</i>"
   ]
  },
  {
   "cell_type": "code",
   "execution_count": 65,
   "metadata": {},
   "outputs": [],
   "source": [
    "# # cbgs_join.drop(columns=['toll_y'],inplace=True)\n",
    "\n",
    "# cbgs_join = cbgs_join.merge(fips_avg_toll_whov, on='fips')\n",
    "# cbgs_join.rename(columns={'toll':'avg_toll_whov'}, inplace=True)\n",
    "\n",
    "# cbgs_join = cbgs_join.merge(fips_avg_toll_wohov, on='fips')\n",
    "# cbgs_join.rename(columns={'toll':'avg_toll_wohov'}, inplace=True)"
   ]
  },
  {
   "cell_type": "markdown",
   "metadata": {},
   "source": [
    "<i>Trip lengths</i>"
   ]
  },
  {
   "cell_type": "code",
   "execution_count": 65,
   "metadata": {},
   "outputs": [],
   "source": [
    "# cbgs_join = cbgs_join.merge(fips_avg_dist, on='fips')\n",
    "# cbgs_join.rename(columns={'Dist btwn entry & exit loop':'avg_dist'}, inplace=True)"
   ]
  },
  {
   "cell_type": "markdown",
   "metadata": {},
   "source": [
    "<i>Usage times (time of day, weekday, month)</i>"
   ]
  },
  {
   "cell_type": "code",
   "execution_count": 65,
   "metadata": {},
   "outputs": [],
   "source": [
    "# cbgs_join = cbgs_join.merge(fips_num_trips_m_peak, on='fips')\n",
    "# cbgs_join.rename(columns={'trip_id':'num_trips_m_peak'}, inplace=True)\n",
    "\n",
    "# cbgs_join = cbgs_join.merge(fips_num_trips_m_peak_nb, on='fips')\n",
    "# cbgs_join.rename(columns={'trip_id':'num_trips_m_peak_nb'}, inplace=True)\n",
    "\n",
    "# cbgs_join = cbgs_join.merge(fips_num_trips_m_peak_sb, on='fips')\n",
    "# cbgs_join.rename(columns={'trip_id':'num_trips_m_peak_sb'}, inplace=True)\n",
    "\n",
    "# cbgs_join = cbgs_join.merge(fips_num_trips_e_peak, on='fips')\n",
    "# cbgs_join.rename(columns={'trip_id':'num_trips_e_peak'}, inplace=True)\n",
    "\n",
    "# cbgs_join = cbgs_join.merge(fips_num_trips_e_peak_nb, on='fips')\n",
    "# cbgs_join.rename(columns={'trip_id':'num_trips_e_peak_nb'}, inplace=True)\n",
    "\n",
    "# cbgs_join = cbgs_join.merge(fips_num_trips_e_peak_sb, on='fips')\n",
    "# cbgs_join.rename(columns={'trip_id':'num_trips_e_peak_sb'}, inplace=True)"
   ]
  },
  {
   "cell_type": "markdown",
   "metadata": {},
   "source": [
    "<i>Usage frequencies</i>"
   ]
  },
  {
   "cell_type": "code",
   "execution_count": 65,
   "metadata": {},
   "outputs": [],
   "source": [
    "# cbgs_join = cbgs_join.merge(fips_num_trips_otu, on='fips')\n",
    "# cbgs_join.rename(columns={'trip_id':'num_trips_otu'}, inplace=True)"
   ]
  },
  {
   "cell_type": "markdown",
   "metadata": {},
   "source": [
    "<i>Convert from gpd df to pd df</i>"
   ]
  },
  {
   "cell_type": "code",
   "execution_count": 65,
   "metadata": {},
   "outputs": [],
   "source": [
    "# - For some applications below, need cbgs_join as a pandas dataframe, rather than a gpd dataframe;\n",
    "# will also need centroids of block groups\n",
    "\n",
    "# cbgs_join_df = pd.DataFrame(cbgs_join.drop(columns='geometry'))\n",
    "# cbgs_join_df['lon'] = cbgs_join['geometry'].centroid.x\n",
    "# cbgs_join_df['lat'] = cbgs_join['geometry'].centroid.y\n",
    "# #print(type(cbgs_join_df))\n",
    "# #print(cbgs_join_df.dtypes)"
   ]
  },
  {
   "cell_type": "markdown",
   "metadata": {},
   "source": [
    "# Load in shapefiles for drawing maps"
   ]
  },
  {
   "cell_type": "markdown",
   "metadata": {},
   "source": [
    "#### Load in toll points shapefile"
   ]
  },
  {
   "cell_type": "code",
   "execution_count": 36,
   "metadata": {},
   "outputs": [],
   "source": [
    "tollptsnb = gpd.read_file('/opt/dssg-hot/data/shapefiles/toll_pts_405/northbound_405_toll_pts.shp')\n",
    "#print(tollptsnb.crs)\n",
    "#print(tollptsnb.head())\n",
    "\n",
    "majtpsnb = tollptsnb[(tollptsnb['Name']=='NB Entry 1 (entry plaza = NB1 aka 3)')\n",
    "                |(tollptsnb['Name']=='NB Exit 7 (exit plaza = NB10 aka 12)')]\n",
    "#majtpsnb.plot()"
   ]
  },
  {
   "cell_type": "code",
   "execution_count": 37,
   "metadata": {},
   "outputs": [],
   "source": [
    "tollptssb = gpd.read_file('/opt/dssg-hot/data/shapefiles/toll_pts_405/southbound_405_toll_pts.shp')\n",
    "#print(tollptssb.crs)\n",
    "#print(tollptssb.head())\n",
    "\n",
    "majtpssb = tollptssb[(tollptssb['Name']=='SB Entry 1 (entry plaza = SB1 aka 13)')\n",
    "                |(tollptssb['Name']=='SB Exit 7 (exit plaza = SB10 aka 23)')]\n",
    "#majtpssb.plot()"
   ]
  },
  {
   "cell_type": "markdown",
   "metadata": {},
   "source": [
    "#### Load in city points shapefile"
   ]
  },
  {
   "cell_type": "code",
   "execution_count": 39,
   "metadata": {},
   "outputs": [],
   "source": [
    "citypts = gpd.read_file('/opt/dssg-hot/data/shapefiles/city_points/city_points.shp')\n",
    "#print(citypts.crs)\n",
    "citypts['geometry'] = citypts['geometry'].to_crs(epsg=4326)\n",
    "#print(citypts.head())\n",
    "\n",
    "#majcps = citypts[(citypts['MajorCity']=='yes')]\n",
    "majcps = citypts[(citypts['NAME']=='Seattle')|(citypts['NAME']=='Bellevue')\n",
    "                 |(citypts['NAME']=='Lynnwood')|(citypts['NAME']=='Woodinville')\n",
    "                 |(citypts['NAME']=='Bothell')|(citypts['NAME']=='Shoreline')\n",
    "                 |(citypts['NAME']=='Edmonds')|(citypts['NAME']=='Redmond')\n",
    "                 |(citypts['NAME']=='Kirkland')|(citypts['NAME']=='Renton')\n",
    "                 |(citypts['NAME']=='Kent')|(citypts['NAME']=='Issquah')\n",
    "                 |(citypts['NAME']=='Everett')|(citypts['NAME']=='SeaTac')]\n",
    "# ax = majcps.plot()\n",
    "# for x, y, label in zip(majcps.geometry.x, majcps.geometry.y, majcps.NAME):\n",
    "#     ax.annotate(label, xy=(x, y), xytext=(3, 3), textcoords=\"offset points\")"
   ]
  },
  {
   "cell_type": "markdown",
   "metadata": {},
   "source": [
    "#### Load in roads shapefile"
   ]
  },
  {
   "cell_type": "code",
   "execution_count": 40,
   "metadata": {},
   "outputs": [],
   "source": [
    "rds500k = gpd.read_file('/opt/dssg-hot/data/shapefiles/roads500k/sr500k_20181231.shp')\n",
    "#print(rds500k.crs)\n",
    "rds500k['geometry'] = rds500k['geometry'].to_crs(epsg=4326)\n",
    "#print(rds500k.head())\n",
    "\n",
    "majrds = rds500k[(rds500k['StateRoute']=='405')|(rds500k['StateRoute']=='005')\n",
    "                |(rds500k['StateRoute']=='522')|(rds500k['StateRoute']=='520')\n",
    "                |(rds500k['StateRoute']=='527')|(rds500k['StateRoute']=='90')]\n",
    "#majrds.plot()"
   ]
  },
  {
   "cell_type": "markdown",
   "metadata": {},
   "source": [
    "# Extras"
   ]
  },
  {
   "cell_type": "code",
   "execution_count": null,
   "metadata": {},
   "outputs": [],
   "source": [
    "# # - Calc number of HOT trips during morning peak hours (5am-10am) in each cbg\n",
    "# fips_hrs_now = fips_hr_grouped['trip_id'].count().reset_index(level='entry_hr')\n",
    "# fips_num_trips_morning_peak = fips_hrs_now[(fips_hrs_now['entry_hr']>=5) & (fips_hrs_now['entry_hr']<=9)]['trip_id']\n",
    "\n",
    "# test = fips_hr_grouped['trip_id'].count().to_frame().query('entry_hr >= 5 and entry_hr <= 9')\n",
    "# #.reset_index('entry_hr')"
   ]
  }
 ],
 "metadata": {
  "kernelspec": {
   "display_name": "Python 3",
   "language": "python",
   "name": "python3"
  },
  "language_info": {
   "codemirror_mode": {
    "name": "ipython",
    "version": 3
   },
   "file_extension": ".py",
   "mimetype": "text/x-python",
   "name": "python",
   "nbconvert_exporter": "python",
   "pygments_lexer": "ipython3",
   "version": "3.7.3"
  }
 },
 "nbformat": 4,
 "nbformat_minor": 4
}
