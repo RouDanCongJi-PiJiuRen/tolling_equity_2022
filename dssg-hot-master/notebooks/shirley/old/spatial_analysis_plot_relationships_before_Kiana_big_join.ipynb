{
 "cells": [
  {
   "cell_type": "markdown",
   "metadata": {},
   "source": [
    "# Load trip data and shapefiles"
   ]
  },
  {
   "cell_type": "code",
   "execution_count": null,
   "metadata": {},
   "outputs": [],
   "source": [
    "%run spatial_analysis_load.ipynb"
   ]
  },
  {
   "cell_type": "markdown",
   "metadata": {},
   "source": [
    "# Group trips"
   ]
  },
  {
   "cell_type": "markdown",
   "metadata": {},
   "source": [
    "#### Create groupby objects"
   ]
  },
  {
   "cell_type": "code",
   "execution_count": null,
   "metadata": {},
   "outputs": [],
   "source": [
    "fips_grouped = dfnow.groupby('fips')"
   ]
  },
  {
   "cell_type": "code",
   "execution_count": null,
   "metadata": {},
   "outputs": [],
   "source": [
    "fips_sov_grouped = dfnow[dfnow['is_hov']==0].groupby('fips')\n",
    "fips_hov_grouped = dfnow[dfnow['is_hov']==1].groupby('fips')"
   ]
  },
  {
   "cell_type": "markdown",
   "metadata": {},
   "source": [
    "#### Compute groups (toll intervals, time of use, user frequency, length of HOT trip)"
   ]
  },
  {
   "cell_type": "markdown",
   "metadata": {},
   "source": [
    "<i>For grouping trips by toll</i>"
   ]
  },
  {
   "cell_type": "code",
   "execution_count": null,
   "metadata": {},
   "outputs": [],
   "source": [
    "def toll_group_fxn(row):\n",
    "    if row['toll']<=1:\n",
    "        val = \"0-1\"\n",
    "    elif (row['toll']>1) & (row['toll']<=2):\n",
    "        val = \">1-2\"\n",
    "    elif (row['toll']>2) & (row['toll']<=4):\n",
    "        val = \">2-4\"      \n",
    "    elif (row['toll']>4) & (row['toll']<=6):\n",
    "        val = \">4-6\"\n",
    "    elif (row['toll']>6) & (row['toll']<=8):\n",
    "        val = \">6-8\"\n",
    "    elif (row['toll']>8) & (row['toll']<=10):\n",
    "        val = \">8-10\"\n",
    "    else:\n",
    "        val = \">10?\"\n",
    "    return val\n",
    "\n",
    "dfnow['toll_group'] = dfnow.apply(toll_group_fxn, axis=1)"
   ]
  },
  {
   "cell_type": "markdown",
   "metadata": {},
   "source": [
    "<i>For grouping trips by week day, month, time of day</i>"
   ]
  },
  {
   "cell_type": "code",
   "execution_count": null,
   "metadata": {},
   "outputs": [],
   "source": [
    "dfnow['entry_time'] = pd.to_datetime(dfnow['entry_time'],unit='s')\n",
    "#dfnow['entry_day'] = dfnow['entry_time'].apply(lambda t: t.weekday())\n",
    "#dfnow['entry_mon'] = dfnow['entry_time'].apply(lambda t: t.month)\n",
    "dfnow['entry_hr'] = dfnow['entry_time'].apply(lambda t: t.hour)"
   ]
  },
  {
   "cell_type": "code",
   "execution_count": null,
   "metadata": {},
   "outputs": [],
   "source": [
    "# morning peak = 5-10am, evening peak = 3-8pm\n",
    "def peak_group_fxn(row):\n",
    "    if (row['entry_hr']>=5) & (row['entry_hr']<=9) & (row['entry_plaza']<13):\n",
    "        val = \"NB_m_pk\"\n",
    "    elif (row['entry_hr']>=5) & (row['entry_hr']<=9) & (row['entry_plaza']>=13):\n",
    "        val = \"SB_m_pk\"\n",
    "    elif (row['entry_hr']>=15) & (row['entry_hr']<=19) & (row['entry_plaza']<13):\n",
    "        val = \"NB_e_pk\"\n",
    "    elif (row['entry_hr']>=15) & (row['entry_hr']<=19) & (row['entry_plaza']>=13):\n",
    "        val = \"SB_e_pk\"\n",
    "    else:\n",
    "        val = \"offpk\"\n",
    "    return val\n",
    "\n",
    "dfnow['peak_group'] = dfnow.apply(peak_group_fxn, axis=1)"
   ]
  },
  {
   "cell_type": "markdown",
   "metadata": {},
   "source": [
    "<i>For grouping trips by user frequency</i>"
   ]
  },
  {
   "cell_type": "code",
   "execution_count": null,
   "metadata": {},
   "outputs": [],
   "source": [
    "fips_id_lookup = dfnow.drop_duplicates('id', keep='first')[['id','fips']]\n",
    "#fips_id_lookup = pd.read_sql_query(\"select fips, id from census;\", db)\n",
    "#print(len(fips_id_lookup))\n",
    "#fips_id_lookup.head()"
   ]
  },
  {
   "cell_type": "code",
   "execution_count": null,
   "metadata": {},
   "outputs": [],
   "source": [
    "num_trips_by_id = dfnow.agg({'id':'value_counts'}) # counts how many times each value appears in the column = # of trips per id\n",
    "num_trips_by_id.rename(columns={'id': 'num_trips_by_id'}, inplace=True)\n",
    "num_trips_by_id['id'] = num_trips_by_id.index"
   ]
  },
  {
   "cell_type": "code",
   "execution_count": null,
   "metadata": {},
   "outputs": [],
   "source": [
    "num_trips_by_id_fips = pd.merge(num_trips_by_id, fips_id_lookup, how='left', on='id')"
   ]
  },
  {
   "cell_type": "code",
   "execution_count": null,
   "metadata": {},
   "outputs": [],
   "source": [
    "def freq_group_fxn(row):\n",
    "    if row['num_trips_by_id']==1:\n",
    "        val = \"1\"\n",
    "    elif (row['num_trips_by_id']>=2) & (row['num_trips_by_id']<=20):\n",
    "        val = \"2-20\"\n",
    "    elif (row['num_trips_by_id']>20) & (row['num_trips_by_id']<=70):\n",
    "        val = \"21-70\"      \n",
    "    elif (row['num_trips_by_id']>70) & (row['num_trips_by_id']<=200):\n",
    "        val = \"71-200\"\n",
    "    elif (row['num_trips_by_id']>200) & (row['num_trips_by_id']<=400):\n",
    "        val = \"201-400\"\n",
    "    elif (row['num_trips_by_id']>400):\n",
    "        val = \">401\"\n",
    "    else:\n",
    "        val = \"0?\"\n",
    "    return val"
   ]
  },
  {
   "cell_type": "code",
   "execution_count": null,
   "metadata": {},
   "outputs": [],
   "source": [
    "num_trips_by_id_fips['freq_group'] = num_trips_by_id_fips.apply(freq_group_fxn, axis=1)"
   ]
  },
  {
   "cell_type": "code",
   "execution_count": null,
   "metadata": {},
   "outputs": [],
   "source": [
    "# - check how many id's have an associated fips\n",
    "all_trips = num_trips_by_id_fips[(num_trips_by_id_fips['num_trips_by_id']>0) \n",
    "                             & (num_trips_by_id_fips['num_trips_by_id']<300)]['num_trips_by_id']\n",
    "all_trips_wofips = num_trips_by_id_fips[(~num_trips_by_id_fips['fips'].isna()) \n",
    "              & (num_trips_by_id_fips['num_trips_by_id']>0) \n",
    "              & (num_trips_by_id_fips['num_trips_by_id']<300)]['num_trips_by_id']\n",
    "all_trips_wfips = num_trips_by_id_fips[(num_trips_by_id_fips['fips'].isna()) \n",
    "              & (num_trips_by_id_fips['num_trips_by_id']>0)\n",
    "              & (num_trips_by_id_fips['num_trips_by_id']<300)]['num_trips_by_id']\n",
    "\n",
    "fig,axs=plt.subplots(1,3, figsize=(15,3))\n",
    "axs[0].hist(all_trips); axs[1].hist(all_trips_wofips); axs[2].hist(all_trips_wfips);"
   ]
  },
  {
   "cell_type": "code",
   "execution_count": null,
   "metadata": {},
   "outputs": [],
   "source": [
    "print('# of trips w/o fips: ' + str(dfnow['fips'].isna().sum()))\n",
    "print('total # of trips: ' + str(len(dfnow)))\n",
    "print('frac of trips w/o fips: ' + str(dfnow['fips'].isna().sum()/len(dfnow)))"
   ]
  },
  {
   "cell_type": "code",
   "execution_count": null,
   "metadata": {},
   "outputs": [],
   "source": [
    "print('# of ids w/o fips: ' + str(num_trips_by_id_fips['fips'].isna().sum()))\n",
    "print('total # of ids: ' + str(len(num_trips_by_id_fips)))\n",
    "print('frac of ids w/o fips: ' + str(num_trips_by_id_fips['fips'].isna().sum()/len(num_trips_by_id_fips)))"
   ]
  },
  {
   "cell_type": "code",
   "execution_count": null,
   "metadata": {},
   "outputs": [],
   "source": [
    "num_trips_by_id_fips.head()"
   ]
  },
  {
   "cell_type": "markdown",
   "metadata": {},
   "source": [
    "<i>For grouping trips by HOT lane trip length</i>"
   ]
  },
  {
   "cell_type": "code",
   "execution_count": null,
   "metadata": {},
   "outputs": [],
   "source": [
    "def dist_group_fxn(row):\n",
    "    if row['Dist btwn entry & exit loop']<=4:\n",
    "        val = \"0-4\"\n",
    "    elif (row['Dist btwn entry & exit loop']>4) & (row['Dist btwn entry & exit loop']<=6):\n",
    "        val = \">4-6\"\n",
    "    elif (row['Dist btwn entry & exit loop']>6) & (row['Dist btwn entry & exit loop']<=8):\n",
    "        val = \">6-8\"      \n",
    "    elif (row['Dist btwn entry & exit loop']>8) & (row['Dist btwn entry & exit loop']<=10):\n",
    "        val = \">8-10\"  \n",
    "    elif (row['Dist btwn entry & exit loop']>10) & (row['Dist btwn entry & exit loop']<=12):\n",
    "        val = \">10-12\"  \n",
    "    elif (row['Dist btwn entry & exit loop']>12):\n",
    "        val = \">12\"  \n",
    "    else:\n",
    "        val = \"?\"\n",
    "    return val\n",
    "\n",
    "dfnow['dist_group'] = dfnow.apply(dist_group_fxn, axis=1)"
   ]
  },
  {
   "cell_type": "markdown",
   "metadata": {},
   "source": [
    "<i>For grouping trips by income</i>"
   ]
  },
  {
   "cell_type": "code",
   "execution_count": null,
   "metadata": {},
   "outputs": [],
   "source": [
    "cbgs_joinnow = cbgs_acs.merge(fips_sov_grouped.agg({'toll': 'mean'}), on='fips', how='left') # avg toll over sov per bg\n",
    "print('# of bgs: ' + str(len(cbgs_joinnow)))\n",
    "print('# of null tolls: ' + str(len(cbgs_joinnow[cbgs_joinnow['toll'].isnull()])))\n",
    "print('# of null tolls or med incs: ' + str(len(cbgs_joinnow[cbgs_joinnow['med_inc'].isnull() | cbgs_joinnow['toll'].isnull()])))"
   ]
  },
  {
   "cell_type": "code",
   "execution_count": null,
   "metadata": {},
   "outputs": [],
   "source": [
    "filternow = ~(cbgs_joinnow['med_inc'].isnull() | cbgs_joinnow['toll'].isnull())\n",
    "cbgs_joinnow = cbgs_joinnow[filternow]"
   ]
  },
  {
   "cell_type": "code",
   "execution_count": null,
   "metadata": {},
   "outputs": [],
   "source": [
    "dfnow = dfnow.merge(cbgs_joinnow[['med_inc','fips']], on='fips', how='left')"
   ]
  },
  {
   "cell_type": "code",
   "execution_count": null,
   "metadata": {},
   "outputs": [],
   "source": [
    "# - Compare income distribs from all acs, cbgs join (each fips wt = 1), all trips bgs (each fips wt = # of trips from that fips) \n",
    "print('all acs bgs med inc: ' + str(cbgs_acs['med_inc'].median()))\n",
    "print('cbgs join bgs med inc: ' + str(cbgs_joinnow['med_inc'].median()))\n",
    "print('all trips bgs med inc: ' + str(dfnow['med_inc'].median()))\n",
    "\n",
    "all_acs_bgs_med_inc = cbgs_acs['med_inc']\n",
    "cbgs_join_bgs_med_inc = cbgs_joinnow['med_inc']\n",
    "all_trips_bgs_med_inc = dfnow['med_inc'] \n",
    "\n",
    "fig,axs=plt.subplots(1,3, figsize=(15,3))\n",
    "axs[0].hist(all_acs_bgs_med_inc, bins=30); axs[1].hist(cbgs_join_bgs_med_inc, bins=30); axs[2].hist(all_trips_bgs_med_inc, bins=30);"
   ]
  },
  {
   "cell_type": "code",
   "execution_count": null,
   "metadata": {},
   "outputs": [],
   "source": [
    "def histedges_equalN(x, nbin):\n",
    "    npt = len(x)\n",
    "    return np.interp(np.linspace(0, npt, nbin + 1),\n",
    "                     np.arange(npt),\n",
    "                     np.sort(x))"
   ]
  },
  {
   "cell_type": "code",
   "execution_count": null,
   "metadata": {},
   "outputs": [],
   "source": [
    "print('all acs bgs inc bin edges: ' + str(histedges_equalN(cbgs_acs['med_inc'],3)))\n",
    "print('cbgs join bgs inc bin edges: ' + str(histedges_equalN(cbgs_joinnow['med_inc'],3)))\n",
    "print('all trips bgs inc bin edges: ' + str(histedges_equalN(dfnow['med_inc'],3)))"
   ]
  },
  {
   "cell_type": "code",
   "execution_count": null,
   "metadata": {},
   "outputs": [],
   "source": [
    "def inc3_group_fxn(row):\n",
    "    if row['med_inc']<=65000:\n",
    "        val = \"low\"\n",
    "    elif (row['med_inc']>65000) & (row['med_inc']<=95000):\n",
    "        val = \"med\"\n",
    "    elif (row['med_inc']>95000):\n",
    "        val = \"high\"\n",
    "    else:\n",
    "        val = \"?\"\n",
    "    return val\n",
    "#dfnow['inc3_group'] = dfnow.apply(inc3_group_fxn, axis=1)"
   ]
  },
  {
   "cell_type": "code",
   "execution_count": null,
   "metadata": {},
   "outputs": [],
   "source": [
    "cbgs_joinnow['inc3_group'] = cbgs_joinnow.apply(inc3_group_fxn, axis=1)\n",
    "dfnow = dfnow.merge(cbgs_joinnow[['inc3_group','fips']], on='fips', how='left')"
   ]
  },
  {
   "cell_type": "markdown",
   "metadata": {},
   "source": [
    "# Plot relationships"
   ]
  },
  {
   "cell_type": "markdown",
   "metadata": {},
   "source": [
    "## Income x avg fare paid x forward/reverse commute"
   ]
  },
  {
   "cell_type": "code",
   "execution_count": null,
   "metadata": {},
   "outputs": [],
   "source": [
    "fips_peak_grouped = dfnow.groupby(['fips','peak_group'])\n",
    "#peak_grouped = dfnow.groupby(['peak_group'])\n",
    "#fips_peak_grouped.count()"
   ]
  },
  {
   "cell_type": "code",
   "execution_count": null,
   "metadata": {},
   "outputs": [],
   "source": [
    "# - Define reverse dir trips\n",
    "colnow1 = fips_peak_grouped.agg({'trip_id': 'nunique'}).xs('NB_m_pk', level='peak_group')\n",
    "colnow1.rename(columns={'trip_id': 'num_NB_m_pk_trips'},inplace=True)\n",
    "colnow2 = fips_peak_grouped.agg({'trip_id': 'nunique'}).xs('SB_e_pk', level='peak_group')\n",
    "colnow2.rename(columns={'trip_id': 'num_SB_e_pk_trips'},inplace=True)\n",
    "colsnow = colnow1.merge(colnow2, on='fips')"
   ]
  },
  {
   "cell_type": "code",
   "execution_count": null,
   "metadata": {},
   "outputs": [],
   "source": [
    "# - Define forward dir trips\n",
    "colnow1 = fips_peak_grouped.agg({'trip_id': 'nunique'}).xs('NB_e_pk', level='peak_group')\n",
    "colnow1.rename(columns={'trip_id': 'num_NB_e_pk_trips'},inplace=True)\n",
    "colnow2 = fips_peak_grouped.agg({'trip_id': 'nunique'}).xs('SB_m_pk', level='peak_group')\n",
    "colnow2.rename(columns={'trip_id': 'num_SB_m_pk_trips'},inplace=True)"
   ]
  },
  {
   "cell_type": "code",
   "execution_count": null,
   "metadata": {},
   "outputs": [],
   "source": [
    "# - Combine all defns together + calc tot trips\n",
    "colsnow = colsnow.merge(\n",
    "    colnow1, on='fips').merge(\n",
    "    colnow2, on='fips').merge(\n",
    "    fips_grouped.agg({'trip_id': 'nunique'}), on='fips')\n",
    "colsnow.rename(columns={'trip_id': 'tot_trips'}, inplace=True)"
   ]
  },
  {
   "cell_type": "code",
   "execution_count": null,
   "metadata": {},
   "outputs": [],
   "source": [
    "# - Calc tot trips/household and frac forward/reverse dir trips for each bg\n",
    "colsnow = colsnow.merge(acs[['households','fips']], on='fips', how='left')\n",
    "colsnow['tot_trips_ph'] = colsnow['tot_trips']/colsnow['households']\n",
    "# fd = forward commute direction\n",
    "colsnow['frac_fd_trips'] = (colsnow['num_NB_e_pk_trips']+colsnow['num_SB_m_pk_trips']\n",
    "                          )/colsnow['tot_trips']\n",
    "# rd = reverse commute direction\n",
    "colsnow['frac_rd_trips'] = (colsnow['num_NB_m_pk_trips']+colsnow['num_SB_e_pk_trips']\n",
    "                          )/colsnow['tot_trips']"
   ]
  },
  {
   "cell_type": "code",
   "execution_count": null,
   "metadata": {},
   "outputs": [],
   "source": [
    "# - Look at the distrib of frac forward/reverse dir trips among all bgs\n",
    "fig,axes=plt.subplots(1,2,figsize=(7,3))\n",
    "axes[0].hist(colsnow['frac_fd_trips']); axes[0].set_title('frac_fd_trips');\n",
    "axes[1].hist(colsnow['frac_rd_trips']); axes[1].set_title('frac_rd_trips');"
   ]
  },
  {
   "cell_type": "code",
   "execution_count": null,
   "metadata": {},
   "outputs": [],
   "source": [
    "# - Look at the distrib of tot trips among all bgs\n",
    "fig,axes=plt.subplots(1,2,figsize=(7,3))\n",
    "axes[0].hist(colsnow[colsnow['tot_trips']>100]['tot_trips'], bins=30); axes[0].set_title('tot_trips, >100');\n",
    "axes[1].hist(colsnow[colsnow['tot_trips']>1000]['tot_trips'], bins=30); axes[1].set_title('tot_trips, >1000');"
   ]
  },
  {
   "cell_type": "code",
   "execution_count": null,
   "metadata": {},
   "outputs": [],
   "source": [
    "# - Join frac_rd_trips, frac_fd_trips to cbgs + calc centroids\n",
    "cbgs_dfnow = cbgs.merge(colsnow, on='fips')\n",
    "#cbgs_dfnow.dropna(subset = ['geometry'], inplace=True)\n",
    "#cbgs_dfnow['geometry'].geom_type.unique()\n",
    "cbgs_dfnow['lon'] = cbgs_dfnow.centroid.x\n",
    "cbgs_dfnow['lat'] = cbgs_dfnow.centroid.y"
   ]
  },
  {
   "cell_type": "code",
   "execution_count": null,
   "metadata": {},
   "outputs": [],
   "source": [
    "# - Plot maps of frac forward/reverse dir trips by bgs + above/below E-W line --> defining reverse/forward commute block groups\n",
    "fig,axes = plt.subplots(2, 2, figsize = (16,20))\n",
    "\n",
    "vmin=0; vmax=1\n",
    "\n",
    "axes[0][0].set_ylim([47.25, 48.22]); axes[0][0].set_xlim([-122.45, -121.85]); axes[0][0].set_title('Frac forward commute direction trips')\n",
    "cbgs_dfnow.plot(column = 'frac_fd_trips', ax = axes[0][0], legend = True, vmin = vmin, vmax = vmax)\n",
    "majlks.plot(ax=axes[0][0], color='paleturquoise', linewidth=3); majrds.plot(ax=axes[0][0], color='gray', linewidth=3)\n",
    "majtpsnb.plot(ax=axes[0][0], color='magenta', markersize=100); majcps.plot(ax=axes[0][0], color='white')\n",
    "for x, y, label in zip(majcps.geometry.x, majcps.geometry.y, majcps.NAME):\n",
    "    axes[0][0].annotate(label, xy=(x, y), xytext=(3, 3), textcoords='offset points', color='white')\n",
    "\n",
    "axes[0][1].set_ylim([47.25, 48.22]); axes[0][1].set_xlim([-122.45, -121.85]); axes[0][1].set_title('Frac reverse commute direction trips')\n",
    "cbgs_dfnow.plot(column = 'frac_rd_trips', ax = axes[0][1], legend = True, vmin = vmin, vmax = vmax)\n",
    "majlks.plot(ax=axes[0][1], color='paleturquoise', linewidth=3); majrds.plot(ax=axes[0][1], color='gray', linewidth=3)\n",
    "majtpsnb.plot(ax=axes[0][1], color='magenta', markersize=100); majcps.plot(ax=axes[0][1], color='white')\n",
    "for x, y, label in zip(majcps.geometry.x, majcps.geometry.y, majcps.NAME):\n",
    "    axes[0][1].annotate(label, xy=(x, y), xytext=(3, 3), textcoords='offset points', color='white')\n",
    "\n",
    "vmin=0; vmax=0.5\n",
    "\n",
    "axes[1][0].set_ylim([47.25, 48.22]); axes[1][0].set_xlim([-122.45, -121.85]); axes[1][0].set_title('Frac forward commute direction trips')\n",
    "cbgs_dfnow[cbgs_dfnow['lat']>47.6].plot(column = 'frac_fd_trips', ax = axes[1][0], legend = True, vmin = vmin, vmax = vmax)\n",
    "majlks.plot(ax=axes[1][0], color='paleturquoise', linewidth=3); majrds.plot(ax=axes[1][0], color='gray', linewidth=3)\n",
    "majtpsnb.plot(ax=axes[1][0], color='magenta', markersize=100); majcps.plot(ax=axes[1][0], color='white')\n",
    "for x, y, label in zip(majcps.geometry.x, majcps.geometry.y, majcps.NAME):\n",
    "    axes[1][0].annotate(label, xy=(x, y), xytext=(3, 3), textcoords='offset points', color='white')\n",
    "\n",
    "axes[1][1].set_ylim([47.25, 48.22]); axes[1][1].set_xlim([-122.45, -121.85]); axes[1][1].set_title('Frac reverse commute direction trips')\n",
    "cbgs_dfnow[cbgs_dfnow['lat']<47.7].plot(column = 'frac_rd_trips', ax = axes[1][1], legend = True, vmin = vmin, vmax = vmax)\n",
    "majlks.plot(ax=axes[1][1], color='paleturquoise', linewidth=3); majrds.plot(ax=axes[1][1], color='gray', linewidth=3)\n",
    "majtpsnb.plot(ax=axes[1][1], color='magenta', markersize=100); majcps.plot(ax=axes[1][1], color='white')\n",
    "for x, y, label in zip(majcps.geometry.x, majcps.geometry.y, majcps.NAME):\n",
    "    axes[1][1].annotate(label, xy=(x, y), xytext=(3, 3), textcoords='offset points', color='white')\n",
    "    \n",
    "fig.savefig('/opt/dssg-hot/notebooks/shirley/figs/fips_frac_forward_reverse_commute_direction_trips.pdf', bbox_inches='tight', pad_inches = 0)"
   ]
  },
  {
   "cell_type": "code",
   "execution_count": null,
   "metadata": {},
   "outputs": [],
   "source": [
    "# - Define majority forward/reverse dir bgs\n",
    "# --> majority forward dir (fd) bg must:\n",
    "# 1.) have >50% of trips be during SB evening peak or NB morning peak,\n",
    "# 2.) have its centroid above 47.6 deg N\n",
    "# --> majority reverse dir (rd) bg must:\n",
    "# 1.) have >50% of trips be during SB morning peak or NB evening peak,\n",
    "# 2.) have its centroid below 47.7 deg N\n",
    "def maj_commute_dir_fxn(row):\n",
    "    if (row['frac_fd_trips']>0.5) & (row['lat']>47.6):\n",
    "        val = 'fd'\n",
    "    elif (row['frac_rd_trips']>0.5) & (row['lat']<47.7):\n",
    "        val = 'rd'\n",
    "    else:\n",
    "        val = 'nd'\n",
    "    return val\n",
    "\n",
    "cbgs_dfnow['maj_commute_dir'] = cbgs_dfnow.apply(maj_commute_dir_fxn, axis=1)"
   ]
  },
  {
   "cell_type": "code",
   "execution_count": null,
   "metadata": {},
   "outputs": [],
   "source": [
    "# - Get all forward/reverse commuting trips within the forward commuting bgs\n",
    "# --> forward commute trip must:\n",
    "# 1.) be during NB evening peak or SB morning peak,\n",
    "# 2.) belong to an id that has >20 trips/id, and\n",
    "# 3.) be performed by a user from a majority forward dir trip bg\n",
    "# --> reverse commute trip must:\n",
    "# 1.) be during NB morning peak or SB evening peak,\n",
    "# 2.) belong to an id that has >20 trips/id, and\n",
    "# 3.) be performed by a user from a majority reverse dir trip bg\n",
    "dfnow = dfnow.merge(num_trips_by_id_fips[['freq_group','id']], on='id')\n",
    "dfnow = dfnow.merge(cbgs_dfnow[['maj_commute_dir','fips']], on='fips')\n",
    "\n",
    "pk_fc_filternow = (dfnow['peak_group']=='NB_e_pk'\n",
    "                 ) | (dfnow['peak_group']=='SB_m_pk')\n",
    "pk_rc_filternow = (dfnow['peak_group']=='NB_m_pk'\n",
    "                 ) | (dfnow['peak_group']=='SB_e_pk')\n",
    "\n",
    "freq_filternow = (dfnow['freq_group']=='21-70'\n",
    "                 ) | (dfnow['freq_group']=='21-70'\n",
    "                     ) | (dfnow['freq_group']=='71-200'\n",
    "                         ) | (dfnow['freq_group']=='201-400'\n",
    "                             ) | (dfnow['freq_group']=='>401')\n",
    "\n",
    "dir_fc_filternow = (dfnow['maj_commute_dir']=='fd')\n",
    "dir_rc_filternow = (dfnow['maj_commute_dir']=='rd')\n",
    "\n",
    "fc_rc_trips = dfnow[(pk_fc_filternow | pk_rc_filternow) & \n",
    "                    freq_filternow & (dir_fc_filternow | dir_rc_filternow)]"
   ]
  },
  {
   "cell_type": "code",
   "execution_count": null,
   "metadata": {},
   "outputs": [],
   "source": [
    "len(fc_rc_trips)"
   ]
  },
  {
   "cell_type": "code",
   "execution_count": null,
   "metadata": {},
   "outputs": [],
   "source": [
    "test=fc_rc_trips.groupby(['inc3_group','maj_commute_dir'])"
   ]
  },
  {
   "cell_type": "code",
   "execution_count": null,
   "metadata": {},
   "outputs": [],
   "source": [
    "fc_rc_trips.boxplot(column='toll',by='')"
   ]
  },
  {
   "cell_type": "code",
   "execution_count": null,
   "metadata": {},
   "outputs": [],
   "source": []
  },
  {
   "cell_type": "code",
   "execution_count": null,
   "metadata": {},
   "outputs": [],
   "source": [
    "#fc_rc_trips.merge(fips_sov_grouped.agg({'toll': 'mean'}), on='fips')"
   ]
  },
  {
   "cell_type": "code",
   "execution_count": null,
   "metadata": {},
   "outputs": [],
   "source": [
    "cbgs_dfnow = cbgs_acs.merge(fips_grouped.agg(\n",
    "    {'Dist btwn entry & exit loop': 'mean'}), on='fips', how='left')"
   ]
  },
  {
   "cell_type": "code",
   "execution_count": null,
   "metadata": {},
   "outputs": [],
   "source": [
    "cbgs_dfnow = cbgs_dfnow.merge(fips_sov_grouped.agg(\n",
    "    {'toll': 'mean'}), on='fips', how='left') # avg toll over sov"
   ]
  },
  {
   "cell_type": "code",
   "execution_count": null,
   "metadata": {},
   "outputs": [],
   "source": [
    "cbgs_dfnow.rename(\n",
    "    columns={'Dist btwn entry & exit loop':'avg_dist','toll':'avg_toll'},inplace=True)"
   ]
  },
  {
   "cell_type": "code",
   "execution_count": null,
   "metadata": {},
   "outputs": [],
   "source": [
    "cbgs_dfnow = cbgs_dfnow.merge(\n",
    "    fips_grouped['trip_id'].nunique(), on='fips', how='left')\n",
    "cbgs_dfnow.rename(\n",
    "    columns={'trip_id':'num_trips'}, inplace=True)"
   ]
  },
  {
   "cell_type": "code",
   "execution_count": null,
   "metadata": {},
   "outputs": [],
   "source": [
    "cbgs_dfnow['trips_pc'] = cbgs_dfnow['num_trips']/cbgs_dfnow['population']\n",
    "cbgs_dfnow['trips_ph'] = cbgs_dfnow['num_trips']/cbgs_dfnow['households']"
   ]
  },
  {
   "cell_type": "code",
   "execution_count": null,
   "metadata": {},
   "outputs": [],
   "source": [
    "cbgs_dfnow = cbgs_dfnow.merge(\n",
    "    fips_grouped['id'].nunique(), on='fips', how='left')\n",
    "cbgs_dfnow.rename(\n",
    "    columns={'id':'num_ids'}, inplace=True)\n",
    "cbgs_dfnow['ids_pc'] = cbgs_dfnow['num_ids']/cbgs_dfnow['population']\n",
    "cbgs_dfnow['ids_ph'] = cbgs_dfnow['num_ids']/cbgs_dfnow['households']"
   ]
  },
  {
   "cell_type": "code",
   "execution_count": null,
   "metadata": {},
   "outputs": [],
   "source": [
    "cbgs_dfnow = cbgs_dfnow.merge(\n",
    "    num_trips_by_id_fips.groupby('fips').agg(\n",
    "        {'num_trips_by_id':'mean'}), on='fips', how='left')\n",
    "cbgs_dfnow.rename(\n",
    "    columns={'num_trips_by_id':'avg_num_trips_by_id'}, inplace=True)"
   ]
  },
  {
   "cell_type": "code",
   "execution_count": null,
   "metadata": {},
   "outputs": [],
   "source": [
    "cbgs_dfnow['avg_num_trips_by_id_per_hh'] = cbgs_dfnow['avg_num_trips_by_id']/cbgs_dfnow['households']\n"
   ]
  },
  {
   "cell_type": "code",
   "execution_count": null,
   "metadata": {},
   "outputs": [],
   "source": [
    "fips_shov_grouped = dfnow.groupby(['fips','is_hov'])\n",
    "perc_trips_within_bgnow = fips_shov_grouped.agg({'trip_id': 'nunique'}).div(\n",
    "    fips_grouped.agg({'trip_id': 'nunique'}, level='fips'))*100\n",
    "perc_trips_within_bgnow = perc_trips_within_bgnow.unstack(level='is_hov')\n",
    "perc_trips_within_bgnow.columns = perc_trips_within_bgnow.columns.droplevel(0)\n",
    "perc_trips_within_bgnow.reset_index(inplace=True)\n",
    "cbgs_dfnow = cbgs_dfnow.merge(perc_trips_within_bgnow, on='fips', how='left')"
   ]
  },
  {
   "cell_type": "code",
   "execution_count": null,
   "metadata": {},
   "outputs": [],
   "source": [
    "cbgs_dfnow.rename(columns={0:'perc_sov_trips',1:'perc_hov_trips'}, inplace=True)"
   ]
  },
  {
   "cell_type": "code",
   "execution_count": null,
   "metadata": {},
   "outputs": [],
   "source": [
    "cbgs_dfnow = cbgs_dfnow.merge(\n",
    "    colsnow[['fips','num_NB_m_pk_trips','num_SB_e_pk_trips',\n",
    "             'num_NB_e_pk_trips','num_SB_m_pk_trips',\n",
    "             'frac_fd_trips','frac_rd_trips']], on='fips', how='left')"
   ]
  },
  {
   "cell_type": "code",
   "execution_count": null,
   "metadata": {},
   "outputs": [],
   "source": [
    "cbgs_dfnow.dropna(subset = ['geometry'], inplace=True)\n",
    "cbgs_dfnow['lon'] = cbgs_dfnow.centroid.x\n",
    "cbgs_dfnow['lat'] = cbgs_dfnow.centroid.y"
   ]
  },
  {
   "cell_type": "code",
   "execution_count": null,
   "metadata": {},
   "outputs": [],
   "source": [
    "cbgs_dfnow_pd = pd.DataFrame(cbgs_dfnow.drop(columns='geometry'))"
   ]
  },
  {
   "cell_type": "code",
   "execution_count": null,
   "metadata": {},
   "outputs": [],
   "source": [
    "cbgs_dfnow_pd.to_csv(r'cbgs_fip_vars.csv')"
   ]
  },
  {
   "cell_type": "code",
   "execution_count": null,
   "metadata": {},
   "outputs": [],
   "source": [
    "cbgs_dfnow_pd.head(2)"
   ]
  },
  {
   "cell_type": "markdown",
   "metadata": {},
   "source": [
    "#### Avg SOV toll vs. avg HOT trip length"
   ]
  },
  {
   "cell_type": "code",
   "execution_count": null,
   "metadata": {},
   "outputs": [],
   "source": [
    "cbgs_joinnow = cbgs.merge(fips_grouped.agg(\n",
    "    {'Dist btwn entry & exit loop': 'mean'}), on='fips') # avg trip length\n",
    "cbgs_joinnow = cbgs_joinnow.merge(fips_sov_grouped.agg(\n",
    "    {'toll': 'mean'}), on='fips') # avg toll over sov\n",
    "plt.plot(cbgs_joinnow['Dist btwn entry & exit loop'],cbgs_joinnow['toll'],'.');"
   ]
  },
  {
   "cell_type": "markdown",
   "metadata": {},
   "source": [
    "#### Avg SOV toll vs. med inc"
   ]
  },
  {
   "cell_type": "code",
   "execution_count": null,
   "metadata": {},
   "outputs": [],
   "source": [
    "cbgs_joinnow = cbgs_acs.merge(fips_sov_grouped.agg(\n",
    "    {'toll': 'mean'}), on='fips') # avg toll over sov\n",
    "plt.plot(cbgs_joinnow['med_inc'],cbgs_joinnow['toll'],'.');"
   ]
  },
  {
   "cell_type": "markdown",
   "metadata": {},
   "source": [
    "#### Avg length trip vs. med inc"
   ]
  },
  {
   "cell_type": "code",
   "execution_count": null,
   "metadata": {},
   "outputs": [],
   "source": [
    "cbgs_joinnow = cbgs_acs.merge(fips_grouped.agg(\n",
    "    {'Dist btwn entry & exit loop': 'mean'}), on='fips') # avg trip length\n",
    "plt.plot(cbgs_joinnow['med_inc'],cbgs_joinnow['Dist btwn entry & exit loop'],'.');"
   ]
  },
  {
   "cell_type": "markdown",
   "metadata": {},
   "source": [
    "# Spatial clustering"
   ]
  },
  {
   "cell_type": "code",
   "execution_count": null,
   "metadata": {},
   "outputs": [],
   "source": []
  }
 ],
 "metadata": {
  "kernelspec": {
   "display_name": "Python 3",
   "language": "python",
   "name": "python3"
  },
  "language_info": {
   "codemirror_mode": {
    "name": "ipython",
    "version": 3
   },
   "file_extension": ".py",
   "mimetype": "text/x-python",
   "name": "python",
   "nbconvert_exporter": "python",
   "pygments_lexer": "ipython3",
   "version": "3.7.3"
  }
 },
 "nbformat": 4,
 "nbformat_minor": 4
}
