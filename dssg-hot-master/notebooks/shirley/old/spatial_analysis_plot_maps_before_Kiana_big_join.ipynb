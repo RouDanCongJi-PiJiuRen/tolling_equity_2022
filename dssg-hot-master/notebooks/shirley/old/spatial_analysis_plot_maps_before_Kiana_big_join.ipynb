{
 "cells": [
  {
   "cell_type": "markdown",
   "metadata": {},
   "source": [
    "# Load trip data and shapefiles"
   ]
  },
  {
   "cell_type": "code",
   "execution_count": null,
   "metadata": {},
   "outputs": [
    {
     "name": "stdout",
     "output_type": "stream",
     "text": [
      "working dir: /opt/dssg-hot/notebooks/shirley\n"
     ]
    }
   ],
   "source": [
    "%run spatial_analysis_load.ipynb"
   ]
  },
  {
   "cell_type": "markdown",
   "metadata": {},
   "source": [
    "# Group trips"
   ]
  },
  {
   "cell_type": "markdown",
   "metadata": {},
   "source": [
    "#### Create groupby objects"
   ]
  },
  {
   "cell_type": "code",
   "execution_count": 2,
   "metadata": {},
   "outputs": [],
   "source": [
    "fips_grouped = dfnow.groupby('fips')"
   ]
  },
  {
   "cell_type": "code",
   "execution_count": 3,
   "metadata": {},
   "outputs": [],
   "source": [
    "fips_sov_grouped = dfnow[dfnow['is_hov']==0].groupby('fips')\n",
    "fips_hov_grouped = dfnow[dfnow['is_hov']==1].groupby('fips')"
   ]
  },
  {
   "cell_type": "markdown",
   "metadata": {},
   "source": [
    "#### Compute groups (toll intervals, time of use, user frequency, length of HOT trip)"
   ]
  },
  {
   "cell_type": "markdown",
   "metadata": {},
   "source": [
    "<i>For grouping trips by toll</i>"
   ]
  },
  {
   "cell_type": "code",
   "execution_count": null,
   "metadata": {},
   "outputs": [],
   "source": [
    "def toll_group_fxn(row):\n",
    "    if row['toll']<=1:\n",
    "        val = \"0-1\"\n",
    "    elif (row['toll']>1) & (row['toll']<=2):\n",
    "        val = \">1-2\"\n",
    "    elif (row['toll']>2) & (row['toll']<=4):\n",
    "        val = \">2-4\"      \n",
    "    elif (row['toll']>4) & (row['toll']<=6):\n",
    "        val = \">4-6\"\n",
    "    elif (row['toll']>6) & (row['toll']<=8):\n",
    "        val = \">6-8\"\n",
    "    elif (row['toll']>8) & (row['toll']<=10):\n",
    "        val = \">8-10\"\n",
    "    else:\n",
    "        val = \">10?\"\n",
    "    return val\n",
    "\n",
    "dfnow['toll_group'] = dfnow.apply(toll_group_fxn, axis=1)"
   ]
  },
  {
   "cell_type": "markdown",
   "metadata": {},
   "source": [
    "<i>For grouping trips by week day, month, time of day</i>"
   ]
  },
  {
   "cell_type": "code",
   "execution_count": 4,
   "metadata": {},
   "outputs": [
    {
     "name": "stderr",
     "output_type": "stream",
     "text": [
      "/opt/conda/lib/python3.7/site-packages/ipykernel_launcher.py:1: SettingWithCopyWarning: \n",
      "A value is trying to be set on a copy of a slice from a DataFrame.\n",
      "Try using .loc[row_indexer,col_indexer] = value instead\n",
      "\n",
      "See the caveats in the documentation: http://pandas.pydata.org/pandas-docs/stable/indexing.html#indexing-view-versus-copy\n",
      "  \"\"\"Entry point for launching an IPython kernel.\n",
      "/opt/conda/lib/python3.7/site-packages/ipykernel_launcher.py:4: SettingWithCopyWarning: \n",
      "A value is trying to be set on a copy of a slice from a DataFrame.\n",
      "Try using .loc[row_indexer,col_indexer] = value instead\n",
      "\n",
      "See the caveats in the documentation: http://pandas.pydata.org/pandas-docs/stable/indexing.html#indexing-view-versus-copy\n",
      "  after removing the cwd from sys.path.\n"
     ]
    }
   ],
   "source": [
    "dfnow['entry_time'] = pd.to_datetime(dfnow['entry_time'],unit='s')\n",
    "#dfnow['entry_day'] = dfnow['entry_time'].apply(lambda t: t.weekday())\n",
    "#dfnow['entry_mon'] = dfnow['entry_time'].apply(lambda t: t.month)\n",
    "dfnow['entry_hr'] = dfnow['entry_time'].apply(lambda t: t.hour)"
   ]
  },
  {
   "cell_type": "code",
   "execution_count": 5,
   "metadata": {},
   "outputs": [
    {
     "name": "stderr",
     "output_type": "stream",
     "text": [
      "/opt/conda/lib/python3.7/site-packages/ipykernel_launcher.py:15: SettingWithCopyWarning: \n",
      "A value is trying to be set on a copy of a slice from a DataFrame.\n",
      "Try using .loc[row_indexer,col_indexer] = value instead\n",
      "\n",
      "See the caveats in the documentation: http://pandas.pydata.org/pandas-docs/stable/indexing.html#indexing-view-versus-copy\n",
      "  from ipykernel import kernelapp as app\n"
     ]
    }
   ],
   "source": [
    "# morning peak = 5-10am, evening peak = 3-8pm\n",
    "def peak_group_fxn(row):\n",
    "    if (row['entry_hr']>=5) & (row['entry_hr']<=9) & (row['entry_plaza']<13):\n",
    "        val = \"NB_m_pk\"\n",
    "    elif (row['entry_hr']>=5) & (row['entry_hr']<=9) & (row['entry_plaza']>=13):\n",
    "        val = \"SB_m_pk\"\n",
    "    elif (row['entry_hr']>=15) & (row['entry_hr']<=19) & (row['entry_plaza']<13):\n",
    "        val = \"NB_e_pk\"\n",
    "    elif (row['entry_hr']>=15) & (row['entry_hr']<=19) & (row['entry_plaza']>=13):\n",
    "        val = \"SB_e_pk\"\n",
    "    else:\n",
    "        val = \"offpk\"\n",
    "    return val\n",
    "\n",
    "dfnow['peak_group'] = dfnow.apply(peak_group_fxn, axis=1)"
   ]
  },
  {
   "cell_type": "markdown",
   "metadata": {},
   "source": [
    "<i>For grouping trips by user frequency</i>"
   ]
  },
  {
   "cell_type": "code",
   "execution_count": 26,
   "metadata": {},
   "outputs": [],
   "source": [
    "fips_id_lookup = dfnow.drop_duplicates('id', keep='first')[['id','fips']]\n",
    "#fips_id_lookup = pd.read_sql_query(\"select fips, id from census;\", db)\n",
    "#print(len(fips_id_lookup))\n",
    "#fips_id_lookup.head()"
   ]
  },
  {
   "cell_type": "code",
   "execution_count": 27,
   "metadata": {},
   "outputs": [],
   "source": [
    "num_trips_by_id = dfnow.agg({'id':'value_counts'}) # counts how many times each value appears in the column = # of trips per id\n",
    "num_trips_by_id.rename(columns={'id': 'num_trips_by_id'}, inplace=True)\n",
    "num_trips_by_id['id'] = num_trips_by_id.index\n",
    "num_trips_by_id_fips = pd.merge(num_trips_by_id, fips_id_lookup, how='left', on='id')"
   ]
  },
  {
   "cell_type": "code",
   "execution_count": 28,
   "metadata": {},
   "outputs": [],
   "source": [
    "def freq_group_fxn(row):\n",
    "    if row['num_trips_by_id']==1:\n",
    "        val = \"1\"\n",
    "    elif (row['num_trips_by_id']>=2) & (row['num_trips_by_id']<=20):\n",
    "        val = \"2-20\"\n",
    "    elif (row['num_trips_by_id']>20) & (row['num_trips_by_id']<=70):\n",
    "        val = \"21-70\"      \n",
    "    elif (row['num_trips_by_id']>70) & (row['num_trips_by_id']<=200):\n",
    "        val = \"71-200\"\n",
    "    elif (row['num_trips_by_id']>200) & (row['num_trips_by_id']<=400):\n",
    "        val = \"201-400\"\n",
    "    elif (row['num_trips_by_id']>400):\n",
    "        val = \">401\"\n",
    "    else:\n",
    "        val = \"0?\"\n",
    "    return val"
   ]
  },
  {
   "cell_type": "code",
   "execution_count": 29,
   "metadata": {},
   "outputs": [],
   "source": [
    "num_trips_by_id_fips['freq_group'] = num_trips_by_id_fips.apply(freq_group_fxn, axis=1)"
   ]
  },
  {
   "cell_type": "code",
   "execution_count": 10,
   "metadata": {},
   "outputs": [
    {
     "data": {
      "image/png": "[encoded data removed]",
      "text/plain": [
       "<Figure size 1080x216 with 3 Axes>"
      ]
     },
     "metadata": {
      "needs_background": "light"
     },
     "output_type": "display_data"
    }
   ],
   "source": [
    "# - check how many id's have an associated fips\n",
    "all_trips = num_trips_by_id_fips[(num_trips_by_id_fips['num_trips_by_id']>0) \n",
    "                             & (num_trips_by_id_fips['num_trips_by_id']<300)]['num_trips_by_id']\n",
    "all_trips_wofips = num_trips_by_id_fips[(~num_trips_by_id_fips['fips'].isna()) \n",
    "              & (num_trips_by_id_fips['num_trips_by_id']>0) \n",
    "              & (num_trips_by_id_fips['num_trips_by_id']<300)]['num_trips_by_id']\n",
    "all_trips_wfips = num_trips_by_id_fips[(num_trips_by_id_fips['fips'].isna()) \n",
    "              & (num_trips_by_id_fips['num_trips_by_id']>0)\n",
    "              & (num_trips_by_id_fips['num_trips_by_id']<300)]['num_trips_by_id']\n",
    "\n",
    "fig,axs=plt.subplots(1,3, figsize=(15,3))\n",
    "axs[0].hist(all_trips); axs[1].hist(all_trips_wofips); axs[2].hist(all_trips_wfips);"
   ]
  },
  {
   "cell_type": "code",
   "execution_count": 11,
   "metadata": {},
   "outputs": [
    {
     "name": "stdout",
     "output_type": "stream",
     "text": [
      "# of trips w/o fips: 5836315\n",
      "total # of trips: 15365032\n",
      "frac of trips w/o fips: 0.37984398600666763\n"
     ]
    }
   ],
   "source": [
    "print('# of trips w/o fips: ' + str(dfnow['fips'].isna().sum()))\n",
    "print('total # of trips: ' + str(len(dfnow)))\n",
    "print('frac of trips w/o fips: ' + str(dfnow['fips'].isna().sum()/len(dfnow)))"
   ]
  },
  {
   "cell_type": "code",
   "execution_count": 12,
   "metadata": {},
   "outputs": [
    {
     "name": "stdout",
     "output_type": "stream",
     "text": [
      "# of ids w/o fips: 463888\n",
      "total # of ids: 826679\n",
      "frac of ids w/o fips: 0.5611464667664232\n"
     ]
    }
   ],
   "source": [
    "print('# of ids w/o fips: ' + str(num_trips_by_id_fips['fips'].isna().sum()))\n",
    "print('total # of ids: ' + str(len(num_trips_by_id_fips)))\n",
    "print('frac of ids w/o fips: ' + str(num_trips_by_id_fips['fips'].isna().sum()/len(num_trips_by_id_fips)))"
   ]
  },
  {
   "cell_type": "code",
   "execution_count": 30,
   "metadata": {},
   "outputs": [
    {
     "data": {
      "text/html": [
       "<div>\n",
       "<style scoped>\n",
       "    .dataframe tbody tr th:only-of-type {\n",
       "        vertical-align: middle;\n",
       "    }\n",
       "\n",
       "    .dataframe tbody tr th {\n",
       "        vertical-align: top;\n",
       "    }\n",
       "\n",
       "    .dataframe thead th {\n",
       "        text-align: right;\n",
       "    }\n",
       "</style>\n",
       "<table border=\"1\" class=\"dataframe\">\n",
       "  <thead>\n",
       "    <tr style=\"text-align: right;\">\n",
       "      <th></th>\n",
       "      <th>num_trips_by_id</th>\n",
       "      <th>id</th>\n",
       "      <th>freq_group</th>\n",
       "    </tr>\n",
       "    <tr>\n",
       "      <th>fips</th>\n",
       "      <th></th>\n",
       "      <th></th>\n",
       "      <th></th>\n",
       "    </tr>\n",
       "  </thead>\n",
       "  <tbody>\n",
       "    <tr>\n",
       "      <th>5.306105e+11</th>\n",
       "      <td>3076</td>\n",
       "      <td>6.784643e+17</td>\n",
       "      <td>&gt;401</td>\n",
       "    </tr>\n",
       "    <tr>\n",
       "      <th>5.303303e+11</th>\n",
       "      <td>2556</td>\n",
       "      <td>5.985664e+18</td>\n",
       "      <td>&gt;401</td>\n",
       "    </tr>\n",
       "    <tr>\n",
       "      <th>5.307300e+11</th>\n",
       "      <td>1543</td>\n",
       "      <td>-5.974084e+18</td>\n",
       "      <td>&gt;401</td>\n",
       "    </tr>\n",
       "    <tr>\n",
       "      <th>5.303301e+11</th>\n",
       "      <td>1503</td>\n",
       "      <td>-6.948487e+18</td>\n",
       "      <td>&gt;401</td>\n",
       "    </tr>\n",
       "    <tr>\n",
       "      <th>5.306105e+11</th>\n",
       "      <td>1438</td>\n",
       "      <td>-8.703600e+18</td>\n",
       "      <td>&gt;401</td>\n",
       "    </tr>\n",
       "  </tbody>\n",
       "</table>\n",
       "</div>"
      ],
      "text/plain": [
       "              num_trips_by_id            id freq_group\n",
       "fips                                                  \n",
       "5.306105e+11             3076  6.784643e+17       >401\n",
       "5.303303e+11             2556  5.985664e+18       >401\n",
       "5.307300e+11             1543 -5.974084e+18       >401\n",
       "5.303301e+11             1503 -6.948487e+18       >401\n",
       "5.306105e+11             1438 -8.703600e+18       >401"
      ]
     },
     "execution_count": 30,
     "metadata": {},
     "output_type": "execute_result"
    }
   ],
   "source": [
    "num_trips_by_id_fips.head()"
   ]
  },
  {
   "cell_type": "markdown",
   "metadata": {},
   "source": [
    "<i>For grouping trips by HOT lane trip length</i>"
   ]
  },
  {
   "cell_type": "code",
   "execution_count": null,
   "metadata": {},
   "outputs": [],
   "source": [
    "def dist_group_fxn(row):\n",
    "    if row['Dist btwn entry & exit loop']<=4:\n",
    "        val = \"0-4\"\n",
    "    elif (row['Dist btwn entry & exit loop']>4) & (row['Dist btwn entry & exit loop']<=6):\n",
    "        val = \">4-6\"\n",
    "    elif (row['Dist btwn entry & exit loop']>6) & (row['Dist btwn entry & exit loop']<=8):\n",
    "        val = \">6-8\"      \n",
    "    elif (row['Dist btwn entry & exit loop']>8) & (row['Dist btwn entry & exit loop']<=10):\n",
    "        val = \">8-10\"  \n",
    "    elif (row['Dist btwn entry & exit loop']>10) & (row['Dist btwn entry & exit loop']<=12):\n",
    "        val = \">10-12\"  \n",
    "    elif (row['Dist btwn entry & exit loop']>12):\n",
    "        val = \">12\"  \n",
    "    else:\n",
    "        val = \"?\"\n",
    "    return val\n",
    "\n",
    "dfnow['dist_group'] = dfnow.apply(dist_group_fxn, axis=1)"
   ]
  },
  {
   "cell_type": "markdown",
   "metadata": {},
   "source": [
    "<i>For grouping trips by income</i>"
   ]
  },
  {
   "cell_type": "code",
   "execution_count": 14,
   "metadata": {},
   "outputs": [
    {
     "name": "stdout",
     "output_type": "stream",
     "text": [
      "# of bgs: 3166\n",
      "# of null tolls: 635\n",
      "# of null tolls or med incs: 668\n"
     ]
    }
   ],
   "source": [
    "cbgs_joinnow = cbgs_acs.merge(fips_sov_grouped.agg({'toll': 'mean'}), on='fips', how='left') # avg toll over sov per bg\n",
    "print('# of bgs: ' + str(len(cbgs_joinnow)))\n",
    "print('# of null tolls: ' + str(len(cbgs_joinnow[cbgs_joinnow['toll'].isnull()])))\n",
    "print('# of null tolls or med incs: ' + str(len(cbgs_joinnow[cbgs_joinnow['med_inc'].isnull() | cbgs_joinnow['toll'].isnull()])))"
   ]
  },
  {
   "cell_type": "code",
   "execution_count": 15,
   "metadata": {},
   "outputs": [],
   "source": [
    "filternow = ~(cbgs_joinnow['med_inc'].isnull() | cbgs_joinnow['toll'].isnull())\n",
    "cbgs_joinnow = cbgs_joinnow[filternow]"
   ]
  },
  {
   "cell_type": "code",
   "execution_count": 16,
   "metadata": {},
   "outputs": [],
   "source": [
    "dfnow = dfnow.merge(cbgs_joinnow[['med_inc','fips']], on='fips', how='left')"
   ]
  },
  {
   "cell_type": "code",
   "execution_count": 17,
   "metadata": {},
   "outputs": [
    {
     "name": "stdout",
     "output_type": "stream",
     "text": [
      "all acs bgs med inc: 74870.0\n",
      "cbgs join bgs med inc: 79558.0\n",
      "all trips bgs med inc: 99135.0\n"
     ]
    },
    {
     "name": "stderr",
     "output_type": "stream",
     "text": [
      "/opt/conda/lib/python3.7/site-packages/numpy/lib/histograms.py:824: RuntimeWarning: invalid value encountered in greater_equal\n",
      "  keep = (tmp_a >= first_edge)\n",
      "/opt/conda/lib/python3.7/site-packages/numpy/lib/histograms.py:825: RuntimeWarning: invalid value encountered in less_equal\n",
      "  keep &= (tmp_a <= last_edge)\n"
     ]
    },
    {
     "data": {
      "image/png": "[encoded data removed]",
      "text/plain": [
       "<Figure size 1080x216 with 3 Axes>"
      ]
     },
     "metadata": {
      "needs_background": "light"
     },
     "output_type": "display_data"
    }
   ],
   "source": [
    "# - Compare income distribs from all acs, cbgs join (each fips wt = 1), all trips bgs (each fips wt = # of trips from that fips) \n",
    "print('all acs bgs med inc: ' + str(cbgs_acs['med_inc'].median()))\n",
    "print('cbgs join bgs med inc: ' + str(cbgs_joinnow['med_inc'].median()))\n",
    "print('all trips bgs med inc: ' + str(dfnow['med_inc'].median()))\n",
    "\n",
    "all_acs_bgs_med_inc = cbgs_acs['med_inc']\n",
    "cbgs_join_bgs_med_inc = cbgs_joinnow['med_inc']\n",
    "all_trips_bgs_med_inc = dfnow['med_inc'] \n",
    "\n",
    "fig,axs=plt.subplots(1,3, figsize=(15,3))\n",
    "axs[0].hist(all_acs_bgs_med_inc, bins=30); axs[1].hist(cbgs_join_bgs_med_inc, bins=30); axs[2].hist(all_trips_bgs_med_inc, bins=30);"
   ]
  },
  {
   "cell_type": "code",
   "execution_count": 18,
   "metadata": {},
   "outputs": [],
   "source": [
    "def histedges_equalN(x, nbin):\n",
    "    npt = len(x)\n",
    "    return np.interp(np.linspace(0, npt, nbin + 1),\n",
    "                     np.arange(npt),\n",
    "                     np.sort(x))"
   ]
  },
  {
   "cell_type": "code",
   "execution_count": 19,
   "metadata": {},
   "outputs": [
    {
     "name": "stdout",
     "output_type": "stream",
     "text": [
      "all acs bgs inc bin edges: [ 8963. 62405. 90772.    nan]\n",
      "cbgs join bgs inc bin edges: [ 10469.          66018.          94289.66666667 250001.        ]\n",
      "all trips bgs inc bin edges: [ 10469. 102917.     nan     nan]\n"
     ]
    }
   ],
   "source": [
    "print('all acs bgs inc bin edges: ' + str(histedges_equalN(cbgs_acs['med_inc'],3)))\n",
    "print('cbgs join bgs inc bin edges: ' + str(histedges_equalN(cbgs_joinnow['med_inc'],3)))\n",
    "print('all trips bgs inc bin edges: ' + str(histedges_equalN(dfnow['med_inc'],3)))"
   ]
  },
  {
   "cell_type": "code",
   "execution_count": 20,
   "metadata": {},
   "outputs": [],
   "source": [
    "def inc3_group_fxn(row):\n",
    "    if row['med_inc']<=65000:\n",
    "        val = \"low\"\n",
    "    elif (row['med_inc']>65000) & (row['med_inc']<=95000):\n",
    "        val = \"med\"\n",
    "    elif (row['med_inc']>95000):\n",
    "        val = \"high\"\n",
    "    else:\n",
    "        val = \"?\"\n",
    "    return val\n",
    "#dfnow['inc3_group'] = dfnow.apply(inc3_group_fxn, axis=1)"
   ]
  },
  {
   "cell_type": "code",
   "execution_count": 21,
   "metadata": {},
   "outputs": [],
   "source": [
    "cbgs_joinnow['inc3_group'] = cbgs_joinnow.apply(inc3_group_fxn, axis=1)\n",
    "dfnow = dfnow.merge(cbgs_joinnow[['inc3_group','fips']], on='fips', how='left')"
   ]
  },
  {
   "cell_type": "markdown",
   "metadata": {},
   "source": [
    "# Plot maps"
   ]
  },
  {
   "cell_type": "code",
   "execution_count": 132,
   "metadata": {},
   "outputs": [],
   "source": [
    "def plot_on_bgs(cbgs_dfnow, colnamenow, titlenow, pdfnamenow, vmin=None, vmax=None):\n",
    "    if vmin is None:\n",
    "        vmin = cbgs_dfnow[colnamenow].min().min()\n",
    "    if vmax is None:\n",
    "        vmax = cbgs_dfnow[colnamenow].max().max()\n",
    "    \n",
    "    fig,ax = plt.subplots(figsize = (20,15)) # 20,15\n",
    "    #ax.set_ylim([47.25, 48])\n",
    "    #ax.set_xlim([-122.5, -122])\n",
    "    ax.set_ylim([47.25, 48.22])\n",
    "    ax.set_xlim([-122.45, -121.85])\n",
    "    ax.set_title(titlenow)\n",
    "\n",
    "    cbgs_dfnow.plot(column = colnamenow, ax = ax, legend = True, vmin=vmin, vmax=vmax)\n",
    "    \n",
    "    majlks.plot(ax=ax, color='paleturquoise', linewidth=3)\n",
    "    majrds.plot(ax=ax, color='gray', linewidth=3)\n",
    "    majcps.plot(ax=ax, color='white')\n",
    "    for x, y, label in zip(majcps.geometry.x, majcps.geometry.y, majcps.NAME):\n",
    "        ax.annotate(label, xy=(x, y), xytext=(3, 3), textcoords='offset points', color='white')\n",
    "    majtpsnb.plot(ax=ax, color='magenta', markersize=100)\n",
    "\n",
    "    fig.savefig('/opt/dssg-hot/notebooks/shirley/figs/' + pdfnamenow + '.pdf', bbox_inches='tight', pad_inches = 0)"
   ]
  },
  {
   "cell_type": "code",
   "execution_count": 39,
   "metadata": {},
   "outputs": [],
   "source": [
    "def plot_on_bgs_3cols_1row(cbgs_dfnow, colnamesnow, titlesnow, pdfnamenow):\n",
    "    fig,axes = plt.subplots(1, 3, figsize = (30,12.5)) # 20,15\n",
    "    \n",
    "    iplotvar = 0\n",
    "    for ax in axes:\n",
    "        ax.set_ylim([47.25, 48.22]); ax.set_xlim([-122.45, -121.85])\n",
    "        ax.set_title(titlesnow[iplotvar])\n",
    "\n",
    "        cbgs_dfnow.plot(column = colnamesnow[iplotvar], ax = ax, legend = True)\n",
    "\n",
    "        majlks.plot(ax=ax, color='paleturquoise', linewidth=3)\n",
    "        majrds.plot(ax=ax, color='gray', linewidth=3)\n",
    "        majcps.plot(ax=ax, color='white')\n",
    "        for x, y, label in zip(majcps.geometry.x, majcps.geometry.y, majcps.NAME):\n",
    "            ax.annotate(label, xy=(x, y), xytext=(3, 3), textcoords='offset points', color='white')\n",
    "        majtpsnb.plot(ax=ax, color='magenta', markersize=100)\n",
    "\n",
    "        iplotvar = iplotvar+1\n",
    "        \n",
    "    fig.savefig('/opt/dssg-hot/notebooks/shirley/figs/' + pdfnamenow + '.pdf', bbox_inches='tight', pad_inches = 0)"
   ]
  },
  {
   "cell_type": "code",
   "execution_count": 40,
   "metadata": {},
   "outputs": [],
   "source": [
    "def plot_on_bgs_6groups(cbgs_dfnow, groupsnow, titlenow, pdfnamenow, vmin=None, vmax=None):\n",
    "    \n",
    "    if vmin is None:\n",
    "        vmin = cbgs_dfnow.min().min()\n",
    "    if vmax is None:\n",
    "        vmax = cbgs_dfnow.max().max()\n",
    "    \n",
    "    fig,axes = plt.subplots(2, 3, figsize = (24,20))\n",
    "    \n",
    "    igroup = 0\n",
    "    for yax in range(0,2):\n",
    "        for xax in range(0,3):\n",
    "            group = groupsnow[igroup]\n",
    "            \n",
    "            axes[yax][xax].set_ylim([47.25, 48.1])\n",
    "            axes[yax][xax].set_xlim([-122.45, -121.9])\n",
    "            axes[yax][xax].set_title(titlenow + ' - ' + unitnow + group) \n",
    "\n",
    "            cbgs_dfnow.plot(column = group, ax = axes[yax][xax], vmin = vmin, vmax = vmax)\n",
    "\n",
    "            majlks.plot(ax=axes[yax][xax], color='paleturquoise', linewidth=3)\n",
    "            majrds.plot(ax=axes[yax][xax], color='gray', linewidth=3)\n",
    "            majcps.plot(ax=axes[yax][xax], color='white')\n",
    "            for x, y, label in zip(majcps.geometry.x, majcps.geometry.y, majcps.NAME):\n",
    "                axes[yax][xax].annotate(label, xy=(x, y), xytext=(3, 3), textcoords='offset points', color='white')\n",
    "                majtpsnb.plot(ax=axes[yax][xax], color='magenta', markersize=100)\n",
    "            \n",
    "            if igroup < (len(groupsnow)-1): # allows for using this fxn for <6 groups, just replots the last group\n",
    "                igroup = igroup+1\n",
    "\n",
    "    cb = plt.cm.ScalarMappable(norm=plt.Normalize(vmin=vmin, vmax=vmax))\n",
    "    fig.colorbar(cb, ax=axes.ravel().tolist(), shrink=0.8)\n",
    "\n",
    "    fig.savefig('/opt/dssg-hot/notebooks/shirley/figs/' + pdfnamenow + '.pdf', bbox_inches='tight', pad_inches = 0)"
   ]
  },
  {
   "cell_type": "code",
   "execution_count": 55,
   "metadata": {},
   "outputs": [],
   "source": [
    "def plot_on_bgs_6groups_diff_cbars(cbgs_dfnow, groupsnow, titlenow, pdfnamenow):\n",
    "    fig,axes = plt.subplots(2, 3, figsize = (24,20))\n",
    "\n",
    "    igroup = 0\n",
    "    for yax in range(0,2):\n",
    "        for xax in range(0,3):\n",
    "            group = groupsnow[igroup]\n",
    "            \n",
    "            axes[yax][xax].set_ylim([47.25, 48.1])\n",
    "            axes[yax][xax].set_xlim([-122.45, -121.9])\n",
    "            axes[yax][xax].set_title(titlenow + ' - ' + unitnow + group) \n",
    "\n",
    "            vmin = cbgs_dfnow[group].min().min()\n",
    "            vmax = cbgs_dfnow[group].max().max()\n",
    "            cbgs_dfnow.plot(column = group, ax = axes[yax][xax], legend=True, vmin=vmin, vmax=vmax)\n",
    "\n",
    "            majlks.plot(ax=axes[yax][xax], color='paleturquoise', linewidth=3)\n",
    "            majrds.plot(ax=axes[yax][xax], color='gray', linewidth=3)\n",
    "            majcps.plot(ax=axes[yax][xax], color='white')\n",
    "            for x, y, label in zip(majcps.geometry.x, majcps.geometry.y, majcps.NAME):\n",
    "                axes[yax][xax].annotate(label, xy=(x, y), xytext=(3, 3), textcoords='offset points', color='white')\n",
    "                majtpsnb.plot(ax=axes[yax][xax], color='magenta', markersize=100)\n",
    "            \n",
    "            if igroup < (len(groupsnow)-1): # allows for using this fxn for <6 groups, just replots the last group\n",
    "                igroup = igroup+1\n",
    "\n",
    "    fig.savefig('/opt/dssg-hot/notebooks/shirley/figs/' + pdfnamenow + '.pdf', bbox_inches='tight', pad_inches = 0)"
   ]
  },
  {
   "cell_type": "code",
   "execution_count": 21,
   "metadata": {},
   "outputs": [],
   "source": [
    "def plot_on_bgs_2groups(cbgs_dfnow, groupsnow, titlenow, pdfnamenow, vmin=None, vmax=None):\n",
    "    \n",
    "    if vmin is None:\n",
    "        vmin = cbgs_dfnow.min().min()\n",
    "    if vmax is None:\n",
    "        vmax = cbgs_dfnow.max().max()\n",
    "    \n",
    "    fig,axes = plt.subplots(1, 2, figsize = (20,15))\n",
    "    \n",
    "    igroup = 0\n",
    "    for ax in axes:\n",
    "        group = groupsnow[igroup]\n",
    "\n",
    "        ax.set_ylim([47.25, 48.1])\n",
    "        ax.set_xlim([-122.45, -121.9])\n",
    "        ax.set_title(titlenow + ' - ' + unitnow + str(group))\n",
    "\n",
    "        cbgs_dfnow.plot(column = group, ax = ax, vmin = vmin, vmax = vmax)\n",
    "\n",
    "        majlks.plot(ax=ax, color='paleturquoise', linewidth=3)\n",
    "        majrds.plot(ax=ax, color='gray', linewidth=3)\n",
    "        majcps.plot(ax=ax, color='white')\n",
    "        for x, y, label in zip(majcps.geometry.x, majcps.geometry.y, majcps.NAME):\n",
    "            ax.annotate(label, xy=(x, y), xytext=(3, 3), textcoords='offset points', color='white')\n",
    "            majtpsnb.plot(ax=ax, color='magenta', markersize=100)\n",
    "\n",
    "        if igroup < (len(groupsnow)-1): # allows for using this fxn for <6 groups, just replots the last group\n",
    "            igroup = igroup+1\n",
    "\n",
    "    cb = plt.cm.ScalarMappable(norm=plt.Normalize(vmin=vmin, vmax=vmax))\n",
    "    fig.colorbar(cb, ax=axes.ravel().tolist(), shrink=0.8)\n",
    "\n",
    "    fig.savefig('/opt/dssg-hot/notebooks/shirley/figs/' + pdfnamenow + '.pdf', bbox_inches='tight', pad_inches = 0)"
   ]
  },
  {
   "cell_type": "code",
   "execution_count": 42,
   "metadata": {},
   "outputs": [],
   "source": [
    "def plot_on_bgs_14groups(cbgs_dfnow, groupsnow, titlenow, pdfnamenow, vmin=None, vmax=None):\n",
    "    \n",
    "    if vmin is None:\n",
    "        vmin = cbgs_dfnow.min().min()\n",
    "    if vmax is None:\n",
    "        vmax = cbgs_dfnow.max().max()\n",
    "    \n",
    "    fig,axes = plt.subplots(2, 7, figsize = (50,15))\n",
    "    \n",
    "    igroup = 0\n",
    "    for yax in range(0,2):\n",
    "        for xax in range(0,7):\n",
    "            group = groupsnow[igroup]\n",
    "            \n",
    "            axes[yax][xax].set_ylim([47.25, 48.1])\n",
    "            axes[yax][xax].set_xlim([-122.45, -121.9])\n",
    "            axes[yax][xax].set_title(titlenow + ' - ' + unitnow + str(group)) \n",
    "\n",
    "            cbgs_dfnow.plot(column = group, ax = axes[yax][xax], vmin = vmin, vmax = vmax)\n",
    "\n",
    "            majlks.plot(ax=axes[yax][xax], color='paleturquoise', linewidth=3)\n",
    "            majrds.plot(ax=axes[yax][xax], color='gray', linewidth=3)\n",
    "            majcps.plot(ax=axes[yax][xax], color='white')\n",
    "            for x, y, label in zip(majcps.geometry.x, majcps.geometry.y, majcps.NAME):\n",
    "                axes[yax][xax].annotate(label, xy=(x, y), xytext=(3, 3), textcoords='offset points', color='white')\n",
    "                majtpsnb.plot(ax=axes[yax][xax], color='magenta', markersize=100)\n",
    "            \n",
    "            if igroup < (len(groupsnow)-1): # allows for using this fxn for <6 groups, just replots the last group\n",
    "                igroup = igroup+1\n",
    "\n",
    "    cb = plt.cm.ScalarMappable(norm=plt.Normalize(vmin=vmin, vmax=vmax))\n",
    "    fig.colorbar(cb, ax=axes.ravel().tolist(), shrink=0.8)\n",
    "\n",
    "    fig.savefig('/opt/dssg-hot/notebooks/shirley/figs/' + pdfnamenow + '.pdf', bbox_inches='tight', pad_inches = 0)"
   ]
  },
  {
   "cell_type": "markdown",
   "metadata": {},
   "source": [
    "## a.) Overall volume distribution"
   ]
  },
  {
   "cell_type": "markdown",
   "metadata": {},
   "source": [
    "#### log(Number of trips), Number of trips/capita, Number of trips/household"
   ]
  },
  {
   "cell_type": "code",
   "execution_count": null,
   "metadata": {},
   "outputs": [],
   "source": [
    "cbgs_dfnow = cbgs_acs.merge(fips_grouped['trip_id'].nunique(), on='fips')\n",
    "cbgs_dfnow['log_trips'] = np.log10(cbgs_dfnow['trip_id'])\n",
    "cbgs_dfnow['trips_pc'] = cbgs_dfnow['trip_id']/cbgs_dfnow['population']\n",
    "cbgs_dfnow['trips_ph'] = cbgs_dfnow['trip_id']/cbgs_dfnow['households']\n",
    "colnamesnow = ['log_trips','trips_pc','trips_ph'];\n",
    "titlesnow = ['log10(Number of trips)','Number of trips/capita','Number of trips/household'];\n",
    "pdfnamenow = 'fips_num_trips'\n",
    "plot_on_bgs_3cols_1row(cbgs_dfnow, colnamesnow, titlesnow, pdfnamenow)"
   ]
  },
  {
   "cell_type": "markdown",
   "metadata": {},
   "source": [
    "#### log10(Number of ids), Number of ids/capita, Number of ids/household"
   ]
  },
  {
   "cell_type": "code",
   "execution_count": null,
   "metadata": {},
   "outputs": [],
   "source": [
    "cbgs_dfnow = cbgs_acs.merge(fips_grouped['id'].nunique(), on='fips')\n",
    "cbgs_dfnow['log_ids'] = np.log10(cbgs_dfnow['id'])\n",
    "cbgs_dfnow['ids_pc'] = cbgs_dfnow['id']/cbgs_dfnow['population']\n",
    "cbgs_dfnow['ids_ph'] = cbgs_dfnow['id']/cbgs_dfnow['households']\n",
    "colnamesnow = ['log_ids','ids_pc','ids_ph'];\n",
    "titlesnow = ['log10(Number of unique ids)','Number of ids/capita','Number of ids/household'];\n",
    "pdfnamenow = 'fips_num_ids'\n",
    "plot_on_bgs_3cols_1row(cbgs_dfnow, colnamesnow, titlesnow, pdfnamenow)"
   ]
  },
  {
   "cell_type": "markdown",
   "metadata": {},
   "source": [
    "## b.) Distribution by toll"
   ]
  },
  {
   "cell_type": "code",
   "execution_count": null,
   "metadata": {},
   "outputs": [],
   "source": [
    "fips_toll_grouped = dfnow.groupby(['fips','toll_group'])\n",
    "toll_grouped = dfnow.groupby(['toll_group'])"
   ]
  },
  {
   "cell_type": "markdown",
   "metadata": {},
   "source": [
    "#### Avg toll of SOV trips"
   ]
  },
  {
   "cell_type": "code",
   "execution_count": null,
   "metadata": {},
   "outputs": [],
   "source": [
    "cbgs_dfnow = cbgs.merge(fips_sov_grouped.mean()['toll'], on='fips')\n",
    "colnamenow = 'toll';\n",
    "titlenow = 'Avg toll of all trips (excluding HOV=$0) within each BG';\n",
    "pdfnamenow = 'fips_avg_toll_wohov'\n",
    "plot_on_bgs(cbgs_dfnow, colnamenow, titlenow, pdfnamenow)"
   ]
  },
  {
   "cell_type": "markdown",
   "metadata": {},
   "source": [
    "#### Number of trips"
   ]
  },
  {
   "cell_type": "code",
   "execution_count": null,
   "metadata": {},
   "outputs": [],
   "source": [
    "groupsnow = ['0-1','>1-2','>2-4','>4-6','>6-8','>8-10']\n",
    "for group in groupsnow:\n",
    "    colnow = fips_toll_grouped.agg({'trip_id': 'nunique'}).xs(group, level='toll_group')\n",
    "    colnow.rename(columns={'trip_id':group}, inplace=True)\n",
    "    if group==groupsnow[0]:\n",
    "        cbgs_dfnow = cbgs.merge(colnow, on='fips')\n",
    "    else:\n",
    "        cbgs_dfnow = cbgs_dfnow.merge(colnow, on='fips')\n",
    "cbgs_dfnow.set_index('fips',inplace=True)"
   ]
  },
  {
   "cell_type": "code",
   "execution_count": null,
   "metadata": {},
   "outputs": [],
   "source": [
    "titlenow = 'Number of trips by toll group'; unitnow = '$'\n",
    "pdfnamenow = 'fips_num_trips_toll_groups' # using min min, max max on colorscale\n",
    "plot_on_bgs_6groups(cbgs_dfnow, groupsnow, titlenow, pdfnamenow)\n",
    "#pdfnamenow = 'fips_num_trips_toll_groups_diff_cbars'\n",
    "#plot_on_bgs_6groups_diff_cbars(cbgs_dfnow, groupsnow, titlenow, pdfnamenow)"
   ]
  },
  {
   "cell_type": "markdown",
   "metadata": {},
   "source": [
    "#### Number of trips/household"
   ]
  },
  {
   "cell_type": "code",
   "execution_count": null,
   "metadata": {},
   "outputs": [],
   "source": [
    "acs.set_index('fips',inplace=True)"
   ]
  },
  {
   "cell_type": "code",
   "execution_count": null,
   "metadata": {},
   "outputs": [],
   "source": [
    "groupsnow = ['0-1','>1-2','>2-4','>4-6','>6-8','>8-10']\n",
    "for group in groupsnow:\n",
    "    colnow = fips_toll_grouped.agg({'trip_id': 'nunique'}).xs(group, level='toll_group').div(acs['households'], axis=0)\n",
    "    colnow.rename(columns={'trip_id':group}, inplace=True)\n",
    "    if group==groupsnow[0]:\n",
    "        cbgs_dfnow = cbgs.merge(colnow, on='fips')\n",
    "    else:\n",
    "        cbgs_dfnow = cbgs_dfnow.merge(colnow, on='fips')\n",
    "cbgs_dfnow.set_index('fips',inplace=True)"
   ]
  },
  {
   "cell_type": "code",
   "execution_count": null,
   "metadata": {},
   "outputs": [],
   "source": [
    "titlenow = 'Number of trips/household by toll group'; unitnow = '$'\n",
    "pdfnamenow = 'fips_num_trips_ph_toll_groups' # using min min, max max on colorscale\n",
    "plot_on_bgs_6groups(cbgs_dfnow, groupsnow, titlenow, pdfnamenow)\n",
    "#pdfnamenow = 'fips_num_trips_ph_toll_groups_altered_scale' # using min min, 8.5 on colorscale\n",
    "#plot_on_bgs_6groups(cbgs_dfnow, groupsnow, titlenow, pdfnamenow, vmax=8.5)\n",
    "#pdfnamenow = 'fips_num_trips_ph_toll_groups_diff_cbars'\n",
    "#plot_on_bgs_6groups_diff_cbars(cbgs_dfnow, groupsnow, titlenow, pdfnamenow)"
   ]
  },
  {
   "cell_type": "markdown",
   "metadata": {},
   "source": [
    "#### % trips from bg"
   ]
  },
  {
   "cell_type": "code",
   "execution_count": null,
   "metadata": {},
   "outputs": [],
   "source": [
    "perc_trips_from_bgnow = fips_toll_grouped.agg({'trip_id': 'nunique'}).div(\n",
    "    toll_grouped.agg({'trip_id': 'nunique'}, level='toll_group'))*100\n",
    "perc_trips_from_bgnow = perc_trips_from_bgnow.unstack(level='toll_group')\n",
    "perc_trips_from_bgnow.columns = perc_trips_from_bgnow.columns.droplevel(0)\n",
    "perc_trips_from_bgnow.reset_index(inplace=True)\n",
    "cbgs_dfnow = cbgs.merge(perc_trips_from_bgnow, on='fips')\n",
    "cbgs_dfnow.set_index('fips',inplace=True)"
   ]
  },
  {
   "cell_type": "code",
   "execution_count": null,
   "metadata": {},
   "outputs": [],
   "source": [
    "groupsnow = ['0-1','>1-2','>2-4','>4-6','>6-8','>8-10']\n",
    "titlenow = '% trips from bg by toll group'; unitnow = '$'\n",
    "pdfnamenow = 'fips_perc_trips_from_bg_toll_groups' # using min min, max max on colorscale\n",
    "plot_on_bgs_6groups(cbgs_dfnow, groupsnow, titlenow, pdfnamenow)"
   ]
  },
  {
   "cell_type": "markdown",
   "metadata": {},
   "source": [
    "#### % trips within bg"
   ]
  },
  {
   "cell_type": "code",
   "execution_count": null,
   "metadata": {},
   "outputs": [],
   "source": [
    "perc_trips_within_bgnow = fips_toll_grouped.agg({'trip_id': 'nunique'}).div(\n",
    "    fips_grouped.agg({'trip_id': 'nunique'}, level='fips'))*100\n",
    "perc_trips_within_bgnow = perc_trips_within_bgnow.unstack(level='toll_group')\n",
    "perc_trips_within_bgnow.columns = perc_trips_within_bgnow.columns.droplevel(0)\n",
    "perc_trips_within_bgnow.reset_index(inplace=True)\n",
    "cbgs_dfnow = cbgs.merge(perc_trips_within_bgnow, on='fips')\n",
    "cbgs_dfnow.set_index('fips',inplace=True)"
   ]
  },
  {
   "cell_type": "code",
   "execution_count": null,
   "metadata": {},
   "outputs": [],
   "source": [
    "groupsnow = ['0-1','>1-2','>2-4','>4-6','>6-8','>8-10']\n",
    "titlenow = '% trips within bg by toll group'; unitnow = '$'\n",
    "#pdfnamenow = 'fips_perc_trips_within_bg_toll_groups' # using min min, max max on colorscale\n",
    "#plot_on_bgs_6groups(cbgs_dfnow, groupsnow, titlenow, pdfnamenow)\n",
    "pdfnamenow = 'fips_perc_trips_within_bg_toll_groups_altered_scale' # using min min, max 20 on colorscale\n",
    "plot_on_bgs_6groups(cbgs_dfnow, groupsnow, titlenow, pdfnamenow, vmax = 20)"
   ]
  },
  {
   "cell_type": "markdown",
   "metadata": {},
   "source": [
    "## c.) Distribution by time of day"
   ]
  },
  {
   "cell_type": "code",
   "execution_count": null,
   "metadata": {},
   "outputs": [],
   "source": [
    "fips_entryhr_nb_grouped = dfnow[dfnow['entry_plaza']<13].groupby(['fips','entry_hr'])\n",
    "entryhr_nb_grouped = dfnow[dfnow['entry_plaza']<13].groupby('entry_hr')\n",
    "fips_entryhr_sb_grouped = dfnow[dfnow['entry_plaza']>=13].groupby(['fips','entry_hr'])\n",
    "entryhr_sb_grouped = dfnow[dfnow['entry_plaza']>=13].groupby('entry_hr')"
   ]
  },
  {
   "cell_type": "code",
   "execution_count": null,
   "metadata": {},
   "outputs": [],
   "source": [
    "fips_entryhr_grouped = dfnow.groupby(['fips','entry_hr'])\n",
    "entryhr_grouped = dfnow.groupby('entry_hr')"
   ]
  },
  {
   "cell_type": "markdown",
   "metadata": {},
   "source": [
    "#### Number of trips, NB and SB"
   ]
  },
  {
   "cell_type": "code",
   "execution_count": null,
   "metadata": {},
   "outputs": [],
   "source": [
    "groupsnow = list(range(5,19))\n",
    "for group in groupsnow:\n",
    "    colnow = fips_entryhr_grouped.agg({'trip_id': 'nunique'}).xs(group, level='entry_hr')\n",
    "    colnow.rename(columns={'trip_id':group}, inplace=True)\n",
    "    if group==groupsnow[0]:\n",
    "        cbgs_dfnow = cbgs.merge(colnow, on='fips')\n",
    "    else:\n",
    "        cbgs_dfnow = cbgs_dfnow.merge(colnow, on='fips')\n",
    "cbgs_dfnow.set_index('fips',inplace=True)"
   ]
  },
  {
   "cell_type": "code",
   "execution_count": null,
   "metadata": {},
   "outputs": [],
   "source": [
    "titlenow = 'Number of trips by entry hr'; unitnow = '(hr#) '\n",
    "pdfnamenow = 'fips_num_trips_entryhr_groups' # using min min, max max on colorscale\n",
    "plot_on_bgs_14groups(cbgs_dfnow, groupsnow, titlenow, pdfnamenow)"
   ]
  },
  {
   "cell_type": "markdown",
   "metadata": {},
   "source": [
    "#### Number of trips/household, NB and SB"
   ]
  },
  {
   "cell_type": "code",
   "execution_count": null,
   "metadata": {},
   "outputs": [],
   "source": [
    "groupsnow = list(range(5,19))\n",
    "for group in groupsnow:\n",
    "    colnow = fips_entryhr_grouped.agg({'trip_id': 'nunique'}).xs(group, level='entry_hr').div(acs['households'], axis=0)\n",
    "    colnow.rename(columns={'trip_id':group}, inplace=True)\n",
    "    if group==groupsnow[0]:\n",
    "        cbgs_dfnow = cbgs.merge(colnow, on='fips')\n",
    "    else:\n",
    "        cbgs_dfnow = cbgs_dfnow.merge(colnow, on='fips')\n",
    "cbgs_dfnow.set_index('fips',inplace=True)"
   ]
  },
  {
   "cell_type": "code",
   "execution_count": null,
   "metadata": {},
   "outputs": [],
   "source": [
    "titlenow = 'Number of trips/household by entry hr'; unitnow = '(hr#) '\n",
    "pdfnamenow = 'fips_num_trips_ph_entryhr_groups' # using min min, max max on colorscale\n",
    "plot_on_bgs_14groups(cbgs_dfnow, groupsnow, titlenow, pdfnamenow)"
   ]
  },
  {
   "cell_type": "markdown",
   "metadata": {},
   "source": [
    "#### % trips from bg, NB and SB"
   ]
  },
  {
   "cell_type": "code",
   "execution_count": null,
   "metadata": {},
   "outputs": [],
   "source": [
    "perc_trips_from_bgnow = fips_entryhr_grouped.agg({'trip_id': 'nunique'}).div(\n",
    "    entryhr_grouped.agg({'trip_id': 'nunique'}, level='entry_hr'))*100\n",
    "perc_trips_from_bgnow = perc_trips_from_bgnow.unstack(level='entry_hr')\n",
    "perc_trips_from_bgnow.columns = perc_trips_from_bgnow.columns.droplevel(0)\n",
    "perc_trips_from_bgnow.reset_index(inplace=True)\n",
    "cbgs_dfnow = cbgs.merge(perc_trips_from_bgnow, on='fips')\n",
    "cbgs_dfnow.set_index('fips',inplace=True)"
   ]
  },
  {
   "cell_type": "code",
   "execution_count": null,
   "metadata": {},
   "outputs": [],
   "source": [
    "groupsnow = list(range(5,19))\n",
    "titlenow = '% trips from bg by entry hr'; unitnow = '(hr#) '\n",
    "pdfnamenow = 'fips_perc_trips_from_bg_entryhr_groups' # using min min, max max on colorscale\n",
    "plot_on_bgs_14groups(cbgs_dfnow, groupsnow, titlenow, pdfnamenow)"
   ]
  },
  {
   "cell_type": "markdown",
   "metadata": {},
   "source": [
    "#### % trips within bg, NB and SB"
   ]
  },
  {
   "cell_type": "code",
   "execution_count": null,
   "metadata": {},
   "outputs": [],
   "source": [
    "perc_trips_within_bgnow = fips_entryhr_grouped.agg({'trip_id': 'nunique'}).div(\n",
    "    fips_grouped.agg({'trip_id': 'nunique'}, level='fips'))*100\n",
    "perc_trips_within_bgnow = perc_trips_within_bgnow.unstack(level='entry_hr')\n",
    "perc_trips_within_bgnow.columns = perc_trips_within_bgnow.columns.droplevel(0)\n",
    "perc_trips_within_bgnow.reset_index(inplace=True)\n",
    "cbgs_dfnow = cbgs.merge(perc_trips_within_bgnow, on='fips')\n",
    "cbgs_dfnow.set_index('fips',inplace=True)"
   ]
  },
  {
   "cell_type": "code",
   "execution_count": null,
   "metadata": {},
   "outputs": [],
   "source": [
    "groupsnow = list(range(5,19))\n",
    "titlenow = '% trips within bg by entry hr'; unitnow = '(hr#) '\n",
    "pdfnamenow = 'fips_perc_trips_within_bg_entryhr_groups' # using min min, max max on colorscale\n",
    "plot_on_bgs_14groups(cbgs_dfnow, groupsnow, titlenow, pdfnamenow)"
   ]
  },
  {
   "cell_type": "markdown",
   "metadata": {},
   "source": [
    "#### Number of trips, NB only"
   ]
  },
  {
   "cell_type": "code",
   "execution_count": null,
   "metadata": {},
   "outputs": [],
   "source": [
    "groupsnow = list(range(5,19))\n",
    "for group in groupsnow:\n",
    "    colnow = fips_entryhr_nb_grouped.agg({'trip_id': 'nunique'}).xs(group, level='entry_hr')\n",
    "    colnow.rename(columns={'trip_id':group}, inplace=True)\n",
    "    if group==groupsnow[0]:\n",
    "        cbgs_dfnow = cbgs.merge(colnow, on='fips')\n",
    "    else:\n",
    "        cbgs_dfnow = cbgs_dfnow.merge(colnow, on='fips')\n",
    "cbgs_dfnow.set_index('fips',inplace=True)"
   ]
  },
  {
   "cell_type": "code",
   "execution_count": null,
   "metadata": {},
   "outputs": [],
   "source": [
    "titlenow = 'Number of trips by entry hr, nb'; unitnow = '(hr#) '\n",
    "pdfnamenow = 'fips_num_trips_entryhr_nb_groups' # using min min, max max on colorscale\n",
    "plot_on_bgs_14groups(cbgs_dfnow, groupsnow, titlenow, pdfnamenow)"
   ]
  },
  {
   "cell_type": "markdown",
   "metadata": {},
   "source": [
    "#### Number of trips/household, NB only"
   ]
  },
  {
   "cell_type": "code",
   "execution_count": null,
   "metadata": {},
   "outputs": [],
   "source": [
    "groupsnow = list(range(5,19))\n",
    "for group in groupsnow:\n",
    "    colnow = fips_entryhr_nb_grouped.agg({'trip_id': 'nunique'}).xs(group, level='entry_hr').div(acs['households'], axis=0)\n",
    "    colnow.rename(columns={'trip_id':group}, inplace=True)\n",
    "    if group==groupsnow[0]:\n",
    "        cbgs_dfnow = cbgs.merge(colnow, on='fips')\n",
    "    else:\n",
    "        cbgs_dfnow = cbgs_dfnow.merge(colnow, on='fips')\n",
    "cbgs_dfnow.set_index('fips',inplace=True)"
   ]
  },
  {
   "cell_type": "code",
   "execution_count": null,
   "metadata": {},
   "outputs": [],
   "source": [
    "titlenow = 'Number of trips/household by entry hr, nb'; unitnow = '(hr#) '\n",
    "pdfnamenow = 'fips_num_trips_ph_entryhr_nb_groups' # using min min, max max on colorscale\n",
    "plot_on_bgs_14groups(cbgs_dfnow, groupsnow, titlenow, pdfnamenow)"
   ]
  },
  {
   "cell_type": "markdown",
   "metadata": {},
   "source": [
    "#### % trips from bg, NB only"
   ]
  },
  {
   "cell_type": "code",
   "execution_count": null,
   "metadata": {},
   "outputs": [],
   "source": [
    "perc_trips_from_bgnow = fips_entryhr_nb_grouped.agg({'trip_id': 'nunique'}).div(\n",
    "    entryhr_nb_grouped.agg({'trip_id': 'nunique'}, level='entry_hr'))*100\n",
    "perc_trips_from_bgnow = perc_trips_from_bgnow.unstack(level='entry_hr')\n",
    "perc_trips_from_bgnow.columns = perc_trips_from_bgnow.columns.droplevel(0)\n",
    "perc_trips_from_bgnow.reset_index(inplace=True)\n",
    "cbgs_dfnow = cbgs.merge(perc_trips_from_bgnow, on='fips')\n",
    "cbgs_dfnow.set_index('fips',inplace=True)"
   ]
  },
  {
   "cell_type": "code",
   "execution_count": null,
   "metadata": {},
   "outputs": [],
   "source": [
    "groupsnow = list(range(5,19))\n",
    "titlenow = '% trips from bg by entry hr, nb'; unitnow = '(hr#) '\n",
    "pdfnamenow = 'fips_perc_trips_from_bg_entryhr_nb_groups' # using min min, max max on colorscale\n",
    "plot_on_bgs_14groups(cbgs_dfnow, groupsnow, titlenow, pdfnamenow)"
   ]
  },
  {
   "cell_type": "markdown",
   "metadata": {},
   "source": [
    "#### % trips within bg, NB only"
   ]
  },
  {
   "cell_type": "code",
   "execution_count": null,
   "metadata": {},
   "outputs": [],
   "source": [
    "perc_trips_within_bgnow = fips_entryhr_nb_grouped.agg({'trip_id': 'nunique'}).div(\n",
    "    fips_grouped.agg({'trip_id': 'nunique'}, level='fips'))*100\n",
    "perc_trips_within_bgnow = perc_trips_within_bgnow.unstack(level='entry_hr')\n",
    "perc_trips_within_bgnow.columns = perc_trips_within_bgnow.columns.droplevel(0)\n",
    "perc_trips_within_bgnow.reset_index(inplace=True)\n",
    "cbgs_dfnow = cbgs.merge(perc_trips_within_bgnow, on='fips')\n",
    "cbgs_dfnow.set_index('fips',inplace=True)"
   ]
  },
  {
   "cell_type": "code",
   "execution_count": null,
   "metadata": {},
   "outputs": [],
   "source": [
    "groupsnow = list(range(5,19))\n",
    "titlenow = '% trips within bg by entry hr, nb'; unitnow = '(hr#) '\n",
    "pdfnamenow = 'fips_perc_trips_within_bg_entryhr_nb_groups' # using min min, max max on colorscale\n",
    "plot_on_bgs_14groups(cbgs_dfnow, groupsnow, titlenow, pdfnamenow)"
   ]
  },
  {
   "cell_type": "markdown",
   "metadata": {},
   "source": [
    "#### Number of trips, SB only"
   ]
  },
  {
   "cell_type": "code",
   "execution_count": null,
   "metadata": {},
   "outputs": [],
   "source": [
    "groupsnow = list(range(5,19))\n",
    "for group in groupsnow:\n",
    "    colnow = fips_entryhr_sb_grouped.agg({'trip_id': 'nunique'}).xs(group, level='entry_hr')\n",
    "    colnow.rename(columns={'trip_id':group}, inplace=True)\n",
    "    if group==groupsnow[0]:\n",
    "        cbgs_dfnow = cbgs.merge(colnow, on='fips')\n",
    "    else:\n",
    "        cbgs_dfnow = cbgs_dfnow.merge(colnow, on='fips')\n",
    "cbgs_dfnow.set_index('fips',inplace=True)"
   ]
  },
  {
   "cell_type": "code",
   "execution_count": null,
   "metadata": {},
   "outputs": [],
   "source": [
    "titlenow = 'Number of trips by entry hr, sb'; unitnow = '(hr#) '\n",
    "pdfnamenow = 'fips_num_trips_entryhr_sb_groups' # using min min, max max on colorscale\n",
    "plot_on_bgs_14groups(cbgs_dfnow, groupsnow, titlenow, pdfnamenow)"
   ]
  },
  {
   "cell_type": "markdown",
   "metadata": {},
   "source": [
    "#### Number of trips/household, SB only"
   ]
  },
  {
   "cell_type": "code",
   "execution_count": null,
   "metadata": {},
   "outputs": [],
   "source": [
    "groupsnow = list(range(5,19))\n",
    "for group in groupsnow:\n",
    "    colnow = fips_entryhr_sb_grouped.agg({'trip_id': 'nunique'}).xs(group, level='entry_hr').div(acs['households'], axis=0)\n",
    "    colnow.rename(columns={'trip_id':group}, inplace=True)\n",
    "    if group==groupsnow[0]:\n",
    "        cbgs_dfnow = cbgs.merge(colnow, on='fips')\n",
    "    else:\n",
    "        cbgs_dfnow = cbgs_dfnow.merge(colnow, on='fips')\n",
    "cbgs_dfnow.set_index('fips',inplace=True)"
   ]
  },
  {
   "cell_type": "code",
   "execution_count": null,
   "metadata": {},
   "outputs": [],
   "source": [
    "titlenow = 'Number of trips/household by entry hr, sb'; unitnow = '(hr#) '\n",
    "pdfnamenow = 'fips_num_trips_ph_entryhr_sb_groups' # using min min, max max on colorscale\n",
    "plot_on_bgs_14groups(cbgs_dfnow, groupsnow, titlenow, pdfnamenow)"
   ]
  },
  {
   "cell_type": "markdown",
   "metadata": {},
   "source": [
    "#### % trips from bg, SB only"
   ]
  },
  {
   "cell_type": "code",
   "execution_count": null,
   "metadata": {},
   "outputs": [],
   "source": [
    "perc_trips_from_bgnow = fips_entryhr_sb_grouped.agg({'trip_id': 'nunique'}).div(\n",
    "    entryhr_sb_grouped.agg({'trip_id': 'nunique'}, level='entry_hr'))*100\n",
    "perc_trips_from_bgnow = perc_trips_from_bgnow.unstack(level='entry_hr')\n",
    "perc_trips_from_bgnow.columns = perc_trips_from_bgnow.columns.droplevel(0)\n",
    "perc_trips_from_bgnow.reset_index(inplace=True)\n",
    "cbgs_dfnow = cbgs.merge(perc_trips_from_bgnow, on='fips')\n",
    "cbgs_dfnow.set_index('fips',inplace=True)"
   ]
  },
  {
   "cell_type": "code",
   "execution_count": null,
   "metadata": {},
   "outputs": [],
   "source": [
    "groupsnow = list(range(5,19))\n",
    "titlenow = '% trips from bg by entry hr, sb'; unitnow = '(hr#) '\n",
    "pdfnamenow = 'fips_perc_trips_from_bg_entryhr_sb_groups' # using min min, max max on colorscale\n",
    "plot_on_bgs_14groups(cbgs_dfnow, groupsnow, titlenow, pdfnamenow)"
   ]
  },
  {
   "cell_type": "markdown",
   "metadata": {},
   "source": [
    "#### % trips within bg, SB only"
   ]
  },
  {
   "cell_type": "code",
   "execution_count": null,
   "metadata": {},
   "outputs": [],
   "source": [
    "perc_trips_within_bgnow = fips_entryhr_sb_grouped.agg({'trip_id': 'nunique'}).div(\n",
    "    fips_grouped.agg({'trip_id': 'nunique'}, level='fips'))*100\n",
    "perc_trips_within_bgnow = perc_trips_within_bgnow.unstack(level='entry_hr')\n",
    "perc_trips_within_bgnow.columns = perc_trips_within_bgnow.columns.droplevel(0)\n",
    "perc_trips_within_bgnow.reset_index(inplace=True)\n",
    "cbgs_dfnow = cbgs.merge(perc_trips_within_bgnow, on='fips')\n",
    "cbgs_dfnow.set_index('fips',inplace=True)"
   ]
  },
  {
   "cell_type": "code",
   "execution_count": null,
   "metadata": {},
   "outputs": [],
   "source": [
    "groupsnow = list(range(5,19))\n",
    "titlenow = '% trips within bg by entry hr, sb'; unitnow = '(hr#) '\n",
    "pdfnamenow = 'fips_perc_trips_within_bg_entryhr_sb_groups' # using min min, max max on colorscale\n",
    "plot_on_bgs_14groups(cbgs_dfnow, groupsnow, titlenow, pdfnamenow)"
   ]
  },
  {
   "cell_type": "markdown",
   "metadata": {},
   "source": [
    "## d.) Distribution by user frequency"
   ]
  },
  {
   "cell_type": "code",
   "execution_count": 34,
   "metadata": {},
   "outputs": [
    {
     "data": {
      "text/html": [
       "<div>\n",
       "<style scoped>\n",
       "    .dataframe tbody tr th:only-of-type {\n",
       "        vertical-align: middle;\n",
       "    }\n",
       "\n",
       "    .dataframe tbody tr th {\n",
       "        vertical-align: top;\n",
       "    }\n",
       "\n",
       "    .dataframe thead th {\n",
       "        text-align: right;\n",
       "    }\n",
       "</style>\n",
       "<table border=\"1\" class=\"dataframe\">\n",
       "  <thead>\n",
       "    <tr style=\"text-align: right;\">\n",
       "      <th></th>\n",
       "      <th>num_trips_by_id</th>\n",
       "      <th>id</th>\n",
       "      <th>freq_group</th>\n",
       "    </tr>\n",
       "    <tr>\n",
       "      <th>fips</th>\n",
       "      <th></th>\n",
       "      <th></th>\n",
       "      <th></th>\n",
       "    </tr>\n",
       "  </thead>\n",
       "  <tbody>\n",
       "    <tr>\n",
       "      <th>5.306105e+11</th>\n",
       "      <td>3076</td>\n",
       "      <td>6.784643e+17</td>\n",
       "      <td>&gt;401</td>\n",
       "    </tr>\n",
       "    <tr>\n",
       "      <th>5.303303e+11</th>\n",
       "      <td>2556</td>\n",
       "      <td>5.985664e+18</td>\n",
       "      <td>&gt;401</td>\n",
       "    </tr>\n",
       "  </tbody>\n",
       "</table>\n",
       "</div>"
      ],
      "text/plain": [
       "              num_trips_by_id            id freq_group\n",
       "fips                                                  \n",
       "5.306105e+11             3076  6.784643e+17       >401\n",
       "5.303303e+11             2556  5.985664e+18       >401"
      ]
     },
     "execution_count": 34,
     "metadata": {},
     "output_type": "execute_result"
    }
   ],
   "source": [
    "num_trips_by_id_fips.reset_index(inplace=True)\n",
    "num_trips_by_id_fips.dropna(subset = ['fips'], inplace=True)\n",
    "num_trips_by_id_fips.set_index('fips', inplace=True)\n",
    "num_trips_by_id_fips.head(2)"
   ]
  },
  {
   "cell_type": "code",
   "execution_count": 35,
   "metadata": {},
   "outputs": [],
   "source": [
    "fips_freq_grouped = num_trips_by_id_fips.groupby(['fips','freq_group'])\n",
    "freq_grouped = num_trips_by_id_fips.groupby('freq_group')"
   ]
  },
  {
   "cell_type": "markdown",
   "metadata": {},
   "source": [
    "#### Avg # of trips/id"
   ]
  },
  {
   "cell_type": "code",
   "execution_count": 36,
   "metadata": {},
   "outputs": [],
   "source": [
    "fips_avg_num_trips_by_id = num_trips_by_id_fips.groupby('fips').agg({'num_trips_by_id':'mean'})\n",
    "fips_avg_num_trips_by_id.rename(columns={'num_trips_by_id':'avg_num_trips_by_id'}, inplace=True)"
   ]
  },
  {
   "cell_type": "code",
   "execution_count": null,
   "metadata": {},
   "outputs": [],
   "source": [
    "cbgs_dfnow = cbgs.merge(fips_avg_num_trips_by_id, on='fips')\n",
    "colnamenow = 'avg_num_trips_by_id';\n",
    "titlenow = 'Avg number of HOT trips per id within each BG';\n",
    "pdfnamenow = 'fips_avg_num_trips_by_id'\n",
    "plot_on_bgs(cbgs_dfnow, colnamenow, titlenow, pdfnamenow)"
   ]
  },
  {
   "cell_type": "markdown",
   "metadata": {},
   "source": [
    "#### Avg # of trips/id/household"
   ]
  },
  {
   "cell_type": "code",
   "execution_count": null,
   "metadata": {},
   "outputs": [],
   "source": [
    "cbgs_dfnow = cbgs_acs[['fips','households']].merge(fips_avg_num_trips_by_id, on='fips')\n",
    "cbgs_dfnow['avg_num_trips_by_id_per_hh'] = cbgs_dfnow['avg_num_trips_by_id']/cbgs_dfnow['households']\n",
    "cbgs_dfnow = cbgs.merge(cbgs_dfnow, on='fips')\n",
    "colnamenow = 'avg_num_trips_by_id_per_hh';\n",
    "titlenow = 'Avg number of HOT trips per id per household within each BG';\n",
    "pdfnamenow = 'fips_avg_num_trips_by_id_ph'\n",
    "plot_on_bgs(cbgs_dfnow, colnamenow, titlenow, pdfnamenow)"
   ]
  },
  {
   "cell_type": "markdown",
   "metadata": {},
   "source": [
    "#### Number of trips"
   ]
  },
  {
   "cell_type": "code",
   "execution_count": 45,
   "metadata": {},
   "outputs": [],
   "source": [
    "groupsnow = ['1','2-20','21-70','71-200','201-400','>401']\n",
    "for group in groupsnow:\n",
    "    colnow = fips_freq_grouped.agg({'num_trips_by_id': 'sum'}).xs(group, level='freq_group')\n",
    "    colnow.rename(columns={'num_trips_by_id':group}, inplace=True)\n",
    "    if group==groupsnow[0]:\n",
    "        cbgs_dfnow = cbgs.merge(colnow, on='fips')\n",
    "    else:\n",
    "        cbgs_dfnow = cbgs_dfnow.merge(colnow, on='fips')\n",
    "cbgs_dfnow.set_index('fips',inplace=True)"
   ]
  },
  {
   "cell_type": "code",
   "execution_count": null,
   "metadata": {},
   "outputs": [],
   "source": [
    "titlenow = 'Number of trips by freq group'; unitnow = '(# of trips per id) '\n",
    "#pdfnamenow = 'fips_num_trips_freq_groups' # using min min, max max on colorscale\n",
    "#plot_on_bgs_6groups(cbgs_dfnow, groupsnow, titlenow, pdfnamenow)\n",
    "pdfnamenow = 'fips_num_trips_freq_groups_diff_cbars' # using min min, max max on colorscale\n",
    "plot_on_bgs_6groups_diff_cbars(cbgs_dfnow, groupsnow, titlenow, pdfnamenow)"
   ]
  },
  {
   "cell_type": "markdown",
   "metadata": {},
   "source": [
    "#### Number of trips/household"
   ]
  },
  {
   "cell_type": "code",
   "execution_count": 48,
   "metadata": {},
   "outputs": [],
   "source": [
    "groupsnow = ['1','2-20','21-70','71-200','201-400','>401']\n",
    "for group in groupsnow:\n",
    "    colnow = fips_freq_grouped.agg({'num_trips_by_id': 'sum'}).xs(group, level='freq_group')\n",
    "    colnow = colnow.merge(acs[['fips','households']], on='fips')\n",
    "    colnow.rename(columns={'num_trips_by_id':group}, inplace=True)\n",
    "    if group==groupsnow[0]:\n",
    "        cbgs_dfnow = cbgs.merge(colnow, on='fips')\n",
    "    else:\n",
    "        cbgs_dfnow = cbgs_dfnow.merge(colnow, on='fips')\n",
    "cbgs_dfnow.set_index('fips',inplace=True)"
   ]
  },
  {
   "cell_type": "code",
   "execution_count": null,
   "metadata": {},
   "outputs": [],
   "source": [
    "titlenow = '# of trips/household by freq group'; unitnow = '(# trips per id) '\n",
    "#pdfnamenow = 'fips_num_trips_ph_freq_groups' # using min min, max max on colorscale\n",
    "#plot_on_bgs_6groups(cbgs_dfnow, groupsnow, titlenow, pdfnamenow)\n",
    "pdfnamenow = 'fips_num_trips_ph_freq_groups_diff_cbars' # using min min, max max on colorscale\n",
    "plot_on_bgs_6groups_diff_cbars(cbgs_dfnow, groupsnow, titlenow, pdfnamenow)"
   ]
  },
  {
   "cell_type": "markdown",
   "metadata": {},
   "source": [
    "#### % trips from bg"
   ]
  },
  {
   "cell_type": "code",
   "execution_count": 52,
   "metadata": {},
   "outputs": [],
   "source": [
    "perc_trips_from_bgnow = fips_freq_grouped.agg({'num_trips_by_id': 'sum'}).div(\n",
    "    freq_grouped.agg({'num_trips_by_id': 'sum'}, level='freq_group'))*100\n",
    "perc_trips_from_bgnow = perc_trips_from_bgnow.unstack(level='freq_group')\n",
    "perc_trips_from_bgnow.columns = perc_trips_from_bgnow.columns.droplevel(0)\n",
    "perc_trips_from_bgnow.reset_index(inplace=True)\n",
    "cbgs_dfnow = cbgs.merge(perc_trips_from_bgnow, on='fips')\n",
    "cbgs_dfnow.set_index('fips',inplace=True)"
   ]
  },
  {
   "cell_type": "code",
   "execution_count": null,
   "metadata": {},
   "outputs": [],
   "source": [
    "groupsnow = ['1','2-20','21-70','71-200','201-400','>401']\n",
    "titlenow = '% trips from bg by freq group'; unitnow = '(# trips per id) '\n",
    "#pdfnamenow = 'fips_perc_trips_from_bg_freq_groups' # using min min, max max on colorscale\n",
    "#plot_on_bgs_6groups(cbgs_dfnow, groupsnow, titlenow, pdfnamenow)\n",
    "pdfnamenow = 'fips_perc_trips_from_bg_freq_groups_diff_cbars' # using min min, max max on colorscale\n",
    "plot_on_bgs_6groups_diff_cbars(cbgs_dfnow, groupsnow, titlenow, pdfnamenow)"
   ]
  },
  {
   "cell_type": "markdown",
   "metadata": {},
   "source": [
    "#### % trips within bg"
   ]
  },
  {
   "cell_type": "code",
   "execution_count": 63,
   "metadata": {},
   "outputs": [],
   "source": [
    "perc_trips_within_bgnow = fips_freq_grouped.agg({'num_trips_by_id': 'sum'}).div(\n",
    "    num_trips_by_id_fips.groupby('fips').agg({'num_trips_by_id': 'sum'}, level='fips'))*100\n",
    "perc_trips_within_bgnow = perc_trips_within_bgnow.unstack(level='freq_group')\n",
    "perc_trips_within_bgnow.columns = perc_trips_within_bgnow.columns.droplevel(0)\n",
    "perc_trips_within_bgnow.reset_index(inplace=True)\n",
    "cbgs_dfnow = cbgs.merge(perc_trips_within_bgnow, on='fips')\n",
    "cbgs_dfnow.set_index('fips',inplace=True)"
   ]
  },
  {
   "cell_type": "code",
   "execution_count": null,
   "metadata": {},
   "outputs": [],
   "source": [
    "groupsnow = ['1','2-20','21-70','71-200','201-400','>401']\n",
    "titlenow = '% trips within bg by freq group'; unitnow = '(# trips per id) '\n",
    "#pdfnamenow = 'fips_perc_trips_within_bg_freq_groups' # using min min, max max on colorscale\n",
    "#plot_on_bgs_6groups(cbgs_dfnow, groupsnow, titlenow, pdfnamenow)\n",
    "pdfnamenow = 'fips_perc_trips_within_bg_freq_groups_diff_cbars' # using min min, max max on colorscale\n",
    "plot_on_bgs_6groups_diff_cbars(cbgs_dfnow, groupsnow, titlenow, pdfnamenow)"
   ]
  },
  {
   "cell_type": "markdown",
   "metadata": {},
   "source": [
    "## e.) Distribution by HOV/SOV"
   ]
  },
  {
   "cell_type": "code",
   "execution_count": null,
   "metadata": {},
   "outputs": [],
   "source": [
    "fips_shov_grouped = dfnow.groupby(['fips','is_hov'])\n",
    "shov_grouped = dfnow.groupby('is_hov')"
   ]
  },
  {
   "cell_type": "markdown",
   "metadata": {},
   "source": [
    "#### Number of trips"
   ]
  },
  {
   "cell_type": "code",
   "execution_count": null,
   "metadata": {},
   "outputs": [],
   "source": [
    "groupsnow = [0,1]\n",
    "for group in groupsnow:\n",
    "    colnow = fips_shov_grouped.agg({'trip_id': 'nunique'}).xs(group, level='is_hov')\n",
    "    colnow.rename(columns={'trip_id':group}, inplace=True)\n",
    "    if group==groupsnow[0]:\n",
    "        cbgs_dfnow = cbgs.merge(colnow, on='fips')\n",
    "    else:\n",
    "        cbgs_dfnow = cbgs_dfnow.merge(colnow, on='fips')\n",
    "cbgs_dfnow.set_index('fips',inplace=True)"
   ]
  },
  {
   "cell_type": "code",
   "execution_count": null,
   "metadata": {},
   "outputs": [],
   "source": [
    "titlenow = 'Number of trips by hov/sov (0=sov, 1=hov)'; unitnow = ''\n",
    "pdfnamenow = 'fips_num_trips_shov_groups' # using min min, max max on colorscale\n",
    "plot_on_bgs_2groups(cbgs_dfnow, groupsnow, titlenow, pdfnamenow)"
   ]
  },
  {
   "cell_type": "markdown",
   "metadata": {},
   "source": [
    "#### Number of trips/household"
   ]
  },
  {
   "cell_type": "code",
   "execution_count": null,
   "metadata": {},
   "outputs": [],
   "source": [
    "groupsnow = [0,1]\n",
    "for group in groupsnow:\n",
    "    colnow = fips_shov_grouped.agg({'trip_id': 'nunique'}).xs(group, level='is_hov').div(acs['households'], axis=0)\n",
    "    colnow.rename(columns={'trip_id':group}, inplace=True)\n",
    "    if group==groupsnow[0]:\n",
    "        cbgs_dfnow = cbgs.merge(colnow, on='fips')\n",
    "    else:\n",
    "        cbgs_dfnow = cbgs_dfnow.merge(colnow, on='fips')\n",
    "cbgs_dfnow.set_index('fips',inplace=True)"
   ]
  },
  {
   "cell_type": "code",
   "execution_count": null,
   "metadata": {},
   "outputs": [],
   "source": [
    "titlenow = 'Number of trips/household by hov/sov (0=sov, 1=hov)'; unitnow = ''\n",
    "pdfnamenow = 'fips_num_trips_ph_shov_groups' # using min min, max max on colorscale\n",
    "plot_on_bgs_2groups(cbgs_dfnow, groupsnow, titlenow, pdfnamenow)"
   ]
  },
  {
   "cell_type": "markdown",
   "metadata": {},
   "source": [
    "#### % trips from bg"
   ]
  },
  {
   "cell_type": "code",
   "execution_count": null,
   "metadata": {},
   "outputs": [],
   "source": [
    "perc_trips_from_bgnow = fips_shov_grouped.agg({'trip_id': 'nunique'}).div(\n",
    "    shov_grouped.agg({'trip_id': 'nunique'}, level='is_hov'))*100\n",
    "perc_trips_from_bgnow = perc_trips_from_bgnow.unstack(level='is_hov')\n",
    "perc_trips_from_bgnow.columns = perc_trips_from_bgnow.columns.droplevel(0)\n",
    "perc_trips_from_bgnow.reset_index(inplace=True)\n",
    "cbgs_dfnow = cbgs.merge(perc_trips_from_bgnow, on='fips')\n",
    "cbgs_dfnow.set_index('fips',inplace=True)"
   ]
  },
  {
   "cell_type": "code",
   "execution_count": null,
   "metadata": {},
   "outputs": [],
   "source": [
    "groupsnow = [0,1]\n",
    "titlenow = '% trips from bg by hov/sov (0=sov, 1=hov)'; unitnow = ''\n",
    "pdfnamenow = 'fips_perc_trips_from_bg_shov_groups' # using min min, max max on colorscale\n",
    "plot_on_bgs_2groups(cbgs_dfnow, groupsnow, titlenow, pdfnamenow)"
   ]
  },
  {
   "cell_type": "markdown",
   "metadata": {},
   "source": [
    "#### % trips within bg"
   ]
  },
  {
   "cell_type": "code",
   "execution_count": null,
   "metadata": {},
   "outputs": [],
   "source": [
    "perc_trips_within_bgnow = fips_shov_grouped.agg({'trip_id': 'nunique'}).div(\n",
    "    fips_grouped.agg({'trip_id': 'nunique'}, level='fips'))*100\n",
    "perc_trips_within_bgnow = perc_trips_within_bgnow.unstack(level='is_hov')\n",
    "perc_trips_within_bgnow.columns = perc_trips_within_bgnow.columns.droplevel(0)\n",
    "perc_trips_within_bgnow.reset_index(inplace=True)\n",
    "cbgs_dfnow = cbgs.merge(perc_trips_within_bgnow, on='fips')\n",
    "cbgs_dfnow.set_index('fips',inplace=True)"
   ]
  },
  {
   "cell_type": "code",
   "execution_count": null,
   "metadata": {},
   "outputs": [],
   "source": [
    "groupsnow = [0,1]\n",
    "titlenow = '% trips within bg by hov/sov (0=sov, 1=hov)'; unitnow = ''\n",
    "#pdfnamenow = 'fips_perc_trips_within_bg_shov_groups' # using min min, max max on colorscale\n",
    "#plot_on_bgs_2groups(cbgs_dfnow, groupsnow, titlenow, pdfnamenow)\n",
    "pdfnamenow = 'fips_perc_trips_within_bg_shov_groups_altered_scale' # using min min, max max on colorscale\n",
    "plot_on_bgs_2groups(cbgs_dfnow, groupsnow, titlenow, pdfnamenow, vmax=60)"
   ]
  },
  {
   "cell_type": "markdown",
   "metadata": {},
   "source": [
    "#### Relationship btwn median income and %hov trips of blockgroup"
   ]
  },
  {
   "cell_type": "code",
   "execution_count": null,
   "metadata": {},
   "outputs": [],
   "source": [
    "# use cbgs_dfnow from \"% trips within bg\" cell above\n",
    "#cbgs_dfnow = cbgs_dfnow.merge(acs['med_inc'], on='fips')\n",
    "plt.plot(cbgs_dfnow['med_inc'],cbgs_dfnow[1],'.')"
   ]
  },
  {
   "cell_type": "markdown",
   "metadata": {},
   "source": [
    "## f.) Distribution by SB peak / NB peak / off-peak"
   ]
  },
  {
   "cell_type": "code",
   "execution_count": null,
   "metadata": {},
   "outputs": [],
   "source": [
    "fips_peak_grouped = dfnow.groupby(['fips','peak_group'])\n",
    "peak_grouped = dfnow.groupby(['peak_group'])"
   ]
  },
  {
   "cell_type": "markdown",
   "metadata": {},
   "source": [
    "#### Number of trips"
   ]
  },
  {
   "cell_type": "code",
   "execution_count": null,
   "metadata": {},
   "outputs": [],
   "source": [
    "groupsnow = ['NB_m_pk','SB_m_pk','NB_e_pk','SB_e_pk','offpk']\n",
    "for group in groupsnow:\n",
    "    colnow = fips_peak_grouped.agg({'trip_id': 'nunique'}).xs(group, level='peak_group')\n",
    "    colnow.rename(columns={'trip_id':group}, inplace=True)\n",
    "    if group==groupsnow[0]:\n",
    "        cbgs_dfnow = cbgs.merge(colnow, on='fips')\n",
    "    else:\n",
    "        cbgs_dfnow = cbgs_dfnow.merge(colnow, on='fips')\n",
    "cbgs_dfnow.set_index('fips',inplace=True)"
   ]
  },
  {
   "cell_type": "code",
   "execution_count": null,
   "metadata": {},
   "outputs": [],
   "source": [
    "titlenow = 'Number of trips by peak group'; unitnow = ''\n",
    "pdfnamenow = 'fips_num_trips_peak_groups' # using min min, max max on colorscale\n",
    "plot_on_bgs_6groups(cbgs_dfnow, groupsnow, titlenow, pdfnamenow)\n",
    "#pdfnamenow = 'fips_num_trips_peak_groups_diff_cbars'\n",
    "#plot_on_bgs_6groups_diff_cbars(cbgs_dfnow, groupsnow, titlenow, pdfnamenow)"
   ]
  },
  {
   "cell_type": "markdown",
   "metadata": {},
   "source": [
    "#### Number of trips/household"
   ]
  },
  {
   "cell_type": "code",
   "execution_count": null,
   "metadata": {},
   "outputs": [],
   "source": [
    "groupsnow = ['NB_m_pk','SB_m_pk','NB_e_pk','SB_e_pk','offpk']\n",
    "for group in groupsnow:\n",
    "    colnow = fips_peak_grouped.agg({'trip_id': 'nunique'}).xs(group, level='peak_group').div(acs['households'], axis=0)\n",
    "    colnow.rename(columns={'trip_id':group}, inplace=True)\n",
    "    if group==groupsnow[0]:\n",
    "        cbgs_dfnow = cbgs.merge(colnow, on='fips')\n",
    "    else:\n",
    "        cbgs_dfnow = cbgs_dfnow.merge(colnow, on='fips')\n",
    "cbgs_dfnow.set_index('fips',inplace=True)"
   ]
  },
  {
   "cell_type": "code",
   "execution_count": null,
   "metadata": {},
   "outputs": [],
   "source": [
    "titlenow = 'Number of trips/household by peak group'; unitnow = ''\n",
    "pdfnamenow = 'fips_num_trips_ph_peak_groups' # using min min, max max on colorscale\n",
    "plot_on_bgs_6groups(cbgs_dfnow, groupsnow, titlenow, pdfnamenow)\n",
    "#pdfnamenow = 'fips_num_trips_ph_peak_groups_altered_scale' # using min 0, max 36\n",
    "#plot_on_bgs_6groups(cbgs_dfnow, groupsnow, titlenow, pdfnamenow, vmin=0, vmax=36)\n",
    "#pdfnamenow = 'fips_num_trips_ph_peak_groups_diff_cbars'\n",
    "#plot_on_bgs_6groups_diff_cbars(cbgs_dfnow, groupsnow, titlenow, pdfnamenow)"
   ]
  },
  {
   "cell_type": "markdown",
   "metadata": {},
   "source": [
    "#### % trips from bg"
   ]
  },
  {
   "cell_type": "code",
   "execution_count": null,
   "metadata": {},
   "outputs": [],
   "source": [
    "perc_trips_from_bgnow = fips_peak_grouped.agg({'trip_id': 'nunique'}).div(\n",
    "    peak_grouped.agg({'trip_id': 'nunique'}, level='peak_group'))*100\n",
    "perc_trips_from_bgnow = perc_trips_from_bgnow.unstack(level='peak_group')\n",
    "perc_trips_from_bgnow.columns = perc_trips_from_bgnow.columns.droplevel(0)\n",
    "perc_trips_from_bgnow.reset_index(inplace=True)\n",
    "cbgs_dfnow = cbgs.merge(perc_trips_from_bgnow, on='fips')\n",
    "cbgs_dfnow.set_index('fips',inplace=True)"
   ]
  },
  {
   "cell_type": "code",
   "execution_count": null,
   "metadata": {},
   "outputs": [],
   "source": [
    "groupsnow = ['NB_m_pk','SB_m_pk','NB_e_pk','SB_e_pk','offpk']\n",
    "titlenow = '% trips from bg by peak group'; unitnow = ''\n",
    "pdfnamenow = 'fips_perc_trips_from_bg_peak_groups' # using min min, max max on colorscale\n",
    "plot_on_bgs_6groups(cbgs_dfnow, groupsnow, titlenow, pdfnamenow)"
   ]
  },
  {
   "cell_type": "markdown",
   "metadata": {},
   "source": [
    "#### % trips within bg"
   ]
  },
  {
   "cell_type": "code",
   "execution_count": null,
   "metadata": {},
   "outputs": [],
   "source": [
    "perc_trips_within_bgnow = fips_peak_grouped.agg({'trip_id': 'nunique'}).div(\n",
    "    fips_grouped.agg({'trip_id': 'nunique'}, level='fips'))*100\n",
    "perc_trips_within_bgnow = perc_trips_within_bgnow.unstack(level='peak_group')\n",
    "perc_trips_within_bgnow.columns = perc_trips_within_bgnow.columns.droplevel(0)\n",
    "perc_trips_within_bgnow.reset_index(inplace=True)\n",
    "cbgs_dfnow = cbgs.merge(perc_trips_within_bgnow, on='fips')\n",
    "cbgs_dfnow.set_index('fips',inplace=True)"
   ]
  },
  {
   "cell_type": "code",
   "execution_count": null,
   "metadata": {},
   "outputs": [],
   "source": [
    "groupsnow = ['NB_m_pk','SB_m_pk','NB_e_pk','SB_e_pk','offpk']\n",
    "titlenow = '% trips within bg by peak group'; unitnow = ''\n",
    "#pdfnamenow = 'fips_perc_trips_within_bg_peak_groups' # using min min, max max on colorscale\n",
    "#plot_on_bgs_6groups(cbgs_dfnow, groupsnow, titlenow, pdfnamenow)\n",
    "pdfnamenow = 'fips_perc_trips_within_bg_peak_groups_altered_scale' # using min min, max 20 on colorscale\n",
    "plot_on_bgs_6groups(cbgs_dfnow, groupsnow, titlenow, pdfnamenow, vmax = 60)"
   ]
  },
  {
   "cell_type": "markdown",
   "metadata": {},
   "source": [
    "## g.) Distribution by HOT lane travel distance"
   ]
  },
  {
   "cell_type": "code",
   "execution_count": null,
   "metadata": {},
   "outputs": [],
   "source": [
    "fips_dist_grouped = dfnow.groupby(['fips','dist_group'])\n",
    "dist_grouped = dfnow.groupby(['dist_group'])"
   ]
  },
  {
   "cell_type": "markdown",
   "metadata": {},
   "source": [
    "#### What should be the distance bins? What is the distrib of travel dists?"
   ]
  },
  {
   "cell_type": "code",
   "execution_count": null,
   "metadata": {},
   "outputs": [],
   "source": [
    "fips_avg_dist = fips_grouped.agg({'Dist btwn entry & exit loop': 'mean'}) # avg trip length"
   ]
  },
  {
   "cell_type": "code",
   "execution_count": null,
   "metadata": {},
   "outputs": [],
   "source": [
    "plt.hist(fips_avg_dist['Dist btwn entry & exit loop'], bins=30);"
   ]
  },
  {
   "cell_type": "markdown",
   "metadata": {},
   "source": [
    "#### Avg dist of all trips"
   ]
  },
  {
   "cell_type": "code",
   "execution_count": null,
   "metadata": {},
   "outputs": [],
   "source": [
    "cbgs_dfnow = cbgs.merge(fips_avg_dist, on='fips')\n",
    "colnamenow = 'Dist btwn entry & exit loop';\n",
    "titlenow = 'Avg dist of all HOT trips within each BG';\n",
    "pdfnamenow = 'fips_avg_dist'\n",
    "plot_on_bgs(cbgs_dfnow, colnamenow, titlenow, pdfnamenow)"
   ]
  },
  {
   "cell_type": "markdown",
   "metadata": {},
   "source": [
    "#### Number of trips"
   ]
  },
  {
   "cell_type": "code",
   "execution_count": null,
   "metadata": {},
   "outputs": [],
   "source": [
    "groupsnow = ['0-4','>4-6','>6-8','>8-10','>10-12','>12']\n",
    "for group in groupsnow:\n",
    "    colnow = fips_dist_grouped.agg({'trip_id': 'nunique'}).xs(group, level='dist_group')\n",
    "    colnow.rename(columns={'trip_id':group}, inplace=True)\n",
    "    if group==groupsnow[0]:\n",
    "        cbgs_dfnow = cbgs.merge(colnow, on='fips')\n",
    "    else:\n",
    "        cbgs_dfnow = cbgs_dfnow.merge(colnow, on='fips')\n",
    "cbgs_dfnow.set_index('fips',inplace=True)"
   ]
  },
  {
   "cell_type": "code",
   "execution_count": null,
   "metadata": {},
   "outputs": [],
   "source": [
    "titlenow = 'Number of trips by dist group'; unitnow = '(miles) '\n",
    "pdfnamenow = 'fips_num_trips_dist_groups' # using min min, max max on colorscale\n",
    "plot_on_bgs_6groups(cbgs_dfnow, groupsnow, titlenow, pdfnamenow)"
   ]
  },
  {
   "cell_type": "markdown",
   "metadata": {},
   "source": [
    "#### Number of trips/household"
   ]
  },
  {
   "cell_type": "code",
   "execution_count": null,
   "metadata": {},
   "outputs": [],
   "source": [
    "groupsnow = ['0-4','>4-6','>6-8','>8-10','>10-12','>12']\n",
    "for group in groupsnow:\n",
    "    colnow = fips_dist_grouped.agg({'trip_id': 'nunique'}).xs(group, level='dist_group').div(acs['households'], axis=0)\n",
    "    colnow.rename(columns={'trip_id':group}, inplace=True)\n",
    "    if group==groupsnow[0]:\n",
    "        cbgs_dfnow = cbgs.merge(colnow, on='fips')\n",
    "    else:\n",
    "        cbgs_dfnow = cbgs_dfnow.merge(colnow, on='fips')\n",
    "cbgs_dfnow.set_index('fips',inplace=True)"
   ]
  },
  {
   "cell_type": "code",
   "execution_count": null,
   "metadata": {},
   "outputs": [],
   "source": [
    "titlenow = 'Number of trips/household by dist group'; unitnow = '(miles) '\n",
    "pdfnamenow = 'fips_num_trips_ph_dist_groups' # using min min, max max on colorscale\n",
    "plot_on_bgs_6groups(cbgs_dfnow, groupsnow, titlenow, pdfnamenow)"
   ]
  },
  {
   "cell_type": "markdown",
   "metadata": {},
   "source": [
    "#### % trips from bg"
   ]
  },
  {
   "cell_type": "code",
   "execution_count": null,
   "metadata": {},
   "outputs": [],
   "source": [
    "perc_trips_from_bgnow = fips_dist_grouped.agg({'trip_id': 'nunique'}).div(\n",
    "    dist_grouped.agg({'trip_id': 'nunique'}, level='dist_group'))*100\n",
    "perc_trips_from_bgnow = perc_trips_from_bgnow.unstack(level='dist_group')\n",
    "perc_trips_from_bgnow.columns = perc_trips_from_bgnow.columns.droplevel(0)\n",
    "perc_trips_from_bgnow.reset_index(inplace=True)\n",
    "cbgs_dfnow = cbgs.merge(perc_trips_from_bgnow, on='fips')\n",
    "cbgs_dfnow.set_index('fips',inplace=True)"
   ]
  },
  {
   "cell_type": "code",
   "execution_count": null,
   "metadata": {},
   "outputs": [],
   "source": [
    "groupsnow = ['0-4','>4-6','>6-8','>8-10','>10-12','>12']\n",
    "titlenow = '% trips from bg by dist group'; unitnow = '(miles) '\n",
    "pdfnamenow = 'fips_perc_trips_from_bg_dist_groups' # using min min, max max on colorscale\n",
    "plot_on_bgs_6groups(cbgs_dfnow, groupsnow, titlenow, pdfnamenow)"
   ]
  },
  {
   "cell_type": "markdown",
   "metadata": {},
   "source": [
    "#### % trips within bg"
   ]
  },
  {
   "cell_type": "code",
   "execution_count": null,
   "metadata": {},
   "outputs": [],
   "source": [
    "perc_trips_within_bgnow = fips_dist_grouped.agg({'trip_id': 'nunique'}).div(\n",
    "    fips_grouped.agg({'trip_id': 'nunique'}, level='fips'))*100\n",
    "perc_trips_within_bgnow = perc_trips_within_bgnow.unstack(level='dist_group')\n",
    "perc_trips_within_bgnow.columns = perc_trips_within_bgnow.columns.droplevel(0)\n",
    "perc_trips_within_bgnow.reset_index(inplace=True)\n",
    "cbgs_dfnow = cbgs.merge(perc_trips_within_bgnow, on='fips')\n",
    "cbgs_dfnow.set_index('fips',inplace=True)"
   ]
  },
  {
   "cell_type": "code",
   "execution_count": null,
   "metadata": {},
   "outputs": [],
   "source": [
    "groupsnow = ['0-4','>4-6','>6-8','>8-10','>10-12','>12']\n",
    "titlenow = '% trips within bg by dist group'; unitnow = '(miles) '\n",
    "pdfnamenow = 'fips_perc_trips_within_bg_dist_groups' # using min min, max max on colorscale\n",
    "plot_on_bgs_6groups(cbgs_dfnow, groupsnow, titlenow, pdfnamenow)"
   ]
  }
 ],
 "metadata": {
  "kernelspec": {
   "display_name": "Python 3",
   "language": "python",
   "name": "python3"
  },
  "language_info": {
   "codemirror_mode": {
    "name": "ipython",
    "version": 3
   },
   "file_extension": ".py",
   "mimetype": "text/x-python",
   "name": "python",
   "nbconvert_exporter": "python",
   "pygments_lexer": "ipython3",
   "version": "3.7.3"
  }
 },
 "nbformat": 4,
 "nbformat_minor": 4
}
