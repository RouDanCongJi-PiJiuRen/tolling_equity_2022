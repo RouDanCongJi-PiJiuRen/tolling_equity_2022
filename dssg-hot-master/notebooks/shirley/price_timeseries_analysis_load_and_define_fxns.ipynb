{
 "cells": [
  {
   "cell_type": "code",
   "execution_count": 2,
   "metadata": {},
   "outputs": [],
   "source": [
    "import importlib.util\n",
    "import matplotlib.dates as md\n",
    "import matplotlib.pyplot as plt\n",
    "import numpy as np\n",
    "import pandas as pd\n",
    "\n",
    "%matplotlib inline\n",
    "\n",
    "# if importlib.util.find_spec('seaborn') is not None:\n",
    "#     import seaborn as sns\n",
    "#     sns.set()"
   ]
  },
  {
   "cell_type": "markdown",
   "metadata": {},
   "source": [
    "## Load data"
   ]
  },
  {
   "cell_type": "markdown",
   "metadata": {},
   "source": [
    "##### Toll price timeseries"
   ]
  },
  {
   "cell_type": "code",
   "execution_count": 3,
   "metadata": {},
   "outputs": [
    {
     "data": {
      "text/html": [
       "<div>\n",
       "<style scoped>\n",
       "    .dataframe tbody tr th:only-of-type {\n",
       "        vertical-align: middle;\n",
       "    }\n",
       "\n",
       "    .dataframe tbody tr th {\n",
       "        vertical-align: top;\n",
       "    }\n",
       "\n",
       "    .dataframe thead th {\n",
       "        text-align: right;\n",
       "    }\n",
       "</style>\n",
       "<table border=\"1\" class=\"dataframe\">\n",
       "  <thead>\n",
       "    <tr style=\"text-align: right;\">\n",
       "      <th></th>\n",
       "      <th>Time</th>\n",
       "      <th>2689</th>\n",
       "      <th>2690</th>\n",
       "      <th>2691</th>\n",
       "      <th>2692</th>\n",
       "      <th>2693</th>\n",
       "      <th>2694</th>\n",
       "      <th>2695</th>\n",
       "      <th>2696</th>\n",
       "      <th>2697</th>\n",
       "      <th>...</th>\n",
       "      <th>2769</th>\n",
       "      <th>2770</th>\n",
       "      <th>2771</th>\n",
       "      <th>2772</th>\n",
       "      <th>2773</th>\n",
       "      <th>2774</th>\n",
       "      <th>2731</th>\n",
       "      <th>2732</th>\n",
       "      <th>2733</th>\n",
       "      <th>2746</th>\n",
       "    </tr>\n",
       "  </thead>\n",
       "  <tbody>\n",
       "    <tr>\n",
       "      <th>0</th>\n",
       "      <td>2018-01-01 05:01:59</td>\n",
       "      <td>NaN</td>\n",
       "      <td>NaN</td>\n",
       "      <td>NaN</td>\n",
       "      <td>NaN</td>\n",
       "      <td>NaN</td>\n",
       "      <td>NaN</td>\n",
       "      <td>NaN</td>\n",
       "      <td>NaN</td>\n",
       "      <td>NaN</td>\n",
       "      <td>...</td>\n",
       "      <td>NaN</td>\n",
       "      <td>NaN</td>\n",
       "      <td>NaN</td>\n",
       "      <td>NaN</td>\n",
       "      <td>NaN</td>\n",
       "      <td>NaN</td>\n",
       "      <td>NaN</td>\n",
       "      <td>NaN</td>\n",
       "      <td>NaN</td>\n",
       "      <td>NaN</td>\n",
       "    </tr>\n",
       "    <tr>\n",
       "      <th>1</th>\n",
       "      <td>2018-01-01 05:02:00</td>\n",
       "      <td>NaN</td>\n",
       "      <td>NaN</td>\n",
       "      <td>NaN</td>\n",
       "      <td>NaN</td>\n",
       "      <td>NaN</td>\n",
       "      <td>NaN</td>\n",
       "      <td>NaN</td>\n",
       "      <td>NaN</td>\n",
       "      <td>NaN</td>\n",
       "      <td>...</td>\n",
       "      <td>NaN</td>\n",
       "      <td>NaN</td>\n",
       "      <td>NaN</td>\n",
       "      <td>NaN</td>\n",
       "      <td>NaN</td>\n",
       "      <td>NaN</td>\n",
       "      <td>NaN</td>\n",
       "      <td>NaN</td>\n",
       "      <td>NaN</td>\n",
       "      <td>NaN</td>\n",
       "    </tr>\n",
       "  </tbody>\n",
       "</table>\n",
       "<p>2 rows × 84 columns</p>\n",
       "</div>"
      ],
      "text/plain": [
       "                  Time  2689  2690  2691  2692  2693  2694  2695  2696  2697  \\\n",
       "0  2018-01-01 05:01:59   NaN   NaN   NaN   NaN   NaN   NaN   NaN   NaN   NaN   \n",
       "1  2018-01-01 05:02:00   NaN   NaN   NaN   NaN   NaN   NaN   NaN   NaN   NaN   \n",
       "\n",
       "   ...  2769  2770  2771  2772  2773  2774  2731  2732  2733  2746  \n",
       "0  ...   NaN   NaN   NaN   NaN   NaN   NaN   NaN   NaN   NaN   NaN  \n",
       "1  ...   NaN   NaN   NaN   NaN   NaN   NaN   NaN   NaN   NaN   NaN  \n",
       "\n",
       "[2 rows x 84 columns]"
      ]
     },
     "execution_count": 3,
     "metadata": {},
     "output_type": "execute_result"
    }
   ],
   "source": [
    "# - Read in toll price timeseries data\n",
    "df = pd.read_csv('/opt/dssg-hot/data/toll_prices/concatenated_405_prices_2018.csv')\n",
    "\n",
    "# - Examine data\n",
    "df.head(2)"
   ]
  },
  {
   "cell_type": "markdown",
   "metadata": {},
   "source": [
    "## Add and groupby useful computed time columns"
   ]
  },
  {
   "cell_type": "code",
   "execution_count": 4,
   "metadata": {},
   "outputs": [],
   "source": [
    "df['new_dates'] = pd.to_datetime(df['Time'])\n",
    "df['weekday_num'] = df['new_dates'].apply(lambda t: t.weekday())\n",
    "df['month_num'] = df['new_dates'].apply(lambda t: t.month)\n",
    "df['hour_num'] = df['new_dates'].apply(lambda t: t.hour)\n",
    "df['time_of_day'] = df['new_dates'].apply(lambda t: t.time())\n",
    "# NOTE: mon = 0, fri = 4; jan = 1, dec = 12"
   ]
  },
  {
   "cell_type": "code",
   "execution_count": 5,
   "metadata": {},
   "outputs": [],
   "source": [
    "monthxtimeofday_grouped = df.groupby(['month_num','time_of_day'])\n",
    "monthxtimeofday_stds = monthxtimeofday_grouped.aggregate(np.std)\n",
    "monthxtimeofday_meds = monthxtimeofday_grouped.aggregate(np.median)"
   ]
  },
  {
   "cell_type": "markdown",
   "metadata": {},
   "source": [
    "## Define fxns to plot toll price timeseries in diff ways"
   ]
  },
  {
   "cell_type": "markdown",
   "metadata": {},
   "source": [
    "#### Plot toll prices over the day by month"
   ]
  },
  {
   "cell_type": "code",
   "execution_count": 19,
   "metadata": {},
   "outputs": [],
   "source": [
    "def plot_tp_over_day_by_month(nb_trip_def_id1,nb_trip_def_id2,sb_trip_def_id1,sb_trip_def_id2):\n",
    "    fig, axs = plt.subplots(4, 3, figsize=(16,12), sharex=True, sharey=True)\n",
    "    \n",
    "    isp_x = 0; isp_y = -1;\n",
    "    for month in range(1,13):\n",
    "        if (month!=5) and (month!=9):\n",
    "            isp_y = isp_y + 1;\n",
    "        elif month==5:\n",
    "            isp_y = 0;\n",
    "            isp_x = 1;\n",
    "        elif month==9:\n",
    "            isp_y = 0;\n",
    "            isp_x = 2;\n",
    "\n",
    "        axs[isp_y][isp_x].plot(\n",
    "            df[df['month_num']==month]['time_of_day'],\n",
    "            df[df['month_num']==month][nb_trip_def_id1],\n",
    "            'C1.')\n",
    "        axs[isp_y][isp_x].plot(\n",
    "            df[df['month_num']==month]['time_of_day'],\n",
    "            df[df['month_num']==month][nb_trip_def_id2],\n",
    "            'C1.')\n",
    "        axs[isp_y][isp_x].plot(\n",
    "            df[df['month_num']==month]['time_of_day'],\n",
    "            df[df['month_num']==month][sb_trip_def_id1],\n",
    "            'C2.')\n",
    "        axs[isp_y][isp_x].plot(\n",
    "            df[df['month_num']==month]['time_of_day'],\n",
    "            df[df['month_num']==month][sb_trip_def_id2],\n",
    "            'C2.')\n",
    "\n",
    "        axs[isp_y][isp_x].set_title('Month number: %i' %month)\n",
    "        axs[isp_y][isp_x].yaxis.grid(True)\n",
    "        axs[isp_y][isp_x].xaxis.grid(True)\n",
    "        axs[isp_y][isp_x].tick_params(axis='x', labelrotation=90)"
   ]
  },
  {
   "cell_type": "markdown",
   "metadata": {},
   "source": [
    "#### Plot toll prices over the day by day of the week"
   ]
  },
  {
   "cell_type": "code",
   "execution_count": 11,
   "metadata": {},
   "outputs": [],
   "source": [
    "def plot_tp_over_day_by_day_of_week(nb_trip_def_id1,nb_trip_def_id2,sb_trip_def_id1,sb_trip_def_id2):\n",
    "    fig, axs = plt.subplots(2, 3, figsize=(16,6), sharex=True, sharey=True)\n",
    "    isp_x = 0; isp_y = -1;\n",
    "    for day in range(0,6): # plot friday twice\n",
    "        if (day!=2) and (day!=4):\n",
    "            isp_y = isp_y + 1;\n",
    "        elif day==2:\n",
    "            isp_y = 0;\n",
    "            isp_x = 1;\n",
    "        elif day==4:\n",
    "            isp_y = 0;\n",
    "            isp_x = 2;\n",
    "\n",
    "        if day==5: # plot friday twice\n",
    "            day = 4;\n",
    "\n",
    "        axs[isp_y][isp_x].plot(\n",
    "            df[df['weekday_num']==day]['time_of_day'],\n",
    "            df[df['weekday_num']==day][nb_trip_def_id1],\n",
    "            'C1.')\n",
    "        axs[isp_y][isp_x].plot(\n",
    "            df[df['weekday_num']==day]['time_of_day'],\n",
    "            df[df['weekday_num']==day][nb_trip_def_id2],\n",
    "            'C1.')\n",
    "        axs[isp_y][isp_x].plot(\n",
    "            df[df['weekday_num']==day]['time_of_day'],\n",
    "            df[df['weekday_num']==day][sb_trip_def_id1],\n",
    "            'C2.')\n",
    "        axs[isp_y][isp_x].plot(\n",
    "            df[df['weekday_num']==day]['time_of_day'],\n",
    "            df[df['weekday_num']==day][sb_trip_def_id2],\n",
    "            'C2.')\n",
    "\n",
    "        axs[isp_y][isp_x].set_title('Week day number: %i' %day)\n",
    "        axs[isp_y][isp_x].yaxis.grid(True)\n",
    "        axs[isp_y][isp_x].xaxis.grid(True)\n",
    "        axs[isp_y][isp_x].tick_params(axis='x', labelrotation=90)"
   ]
  },
  {
   "cell_type": "markdown",
   "metadata": {},
   "source": [
    "#### Plot toll prices over the day by day of the week w/ medians and stdevs"
   ]
  },
  {
   "cell_type": "code",
   "execution_count": 28,
   "metadata": {},
   "outputs": [],
   "source": [
    "def plot_tp_over_day_by_month_medstd(nb_trip_def_id1,nb_trip_def_id2,sb_trip_def_id1,sb_trip_def_id2):\n",
    "    fig, axs = plt.subplots(4, 3, figsize=(16,12), sharex=True, sharey=True)\n",
    "    \n",
    "    isp_x = 0; isp_y = -1;\n",
    "    for month in range(1,13):\n",
    "        if (month!=5) and (month!=9):\n",
    "            isp_y = isp_y + 1;\n",
    "        elif month==5:\n",
    "            isp_y = 0;\n",
    "            isp_x = 1;\n",
    "        elif month==9:\n",
    "            isp_y = 0;\n",
    "            isp_x = 2;\n",
    "\n",
    "        axs[isp_y][isp_x].plot(\n",
    "                (monthxtimeofday_meds[nb_trip_def_id1][month]\n",
    "             +monthxtimeofday_stds[nb_trip_def_id1][month]),'C1--')\n",
    "        axs[isp_y][isp_x].plot(\n",
    "            monthxtimeofday_meds[nb_trip_def_id1][month],'C1-')\n",
    "        axs[isp_y][isp_x].plot(\n",
    "            (monthxtimeofday_meds[nb_trip_def_id1][month]\n",
    "             -monthxtimeofday_stds[nb_trip_def_id1][month]),'C1--')\n",
    "        axs[isp_y][isp_x].plot(\n",
    "            (monthxtimeofday_meds[nb_trip_def_id2][month]\n",
    "             +monthxtimeofday_stds[nb_trip_def_id2][month]),'C1--')\n",
    "        axs[isp_y][isp_x].plot(\n",
    "            monthxtimeofday_meds[nb_trip_def_id2][month],'C1-')\n",
    "        axs[isp_y][isp_x].plot(\n",
    "            (monthxtimeofday_meds[nb_trip_def_id2][month]\n",
    "             -monthxtimeofday_stds[nb_trip_def_id2][month]),'C1--')\n",
    "        \n",
    "        axs[isp_y][isp_x].plot(\n",
    "            (monthxtimeofday_meds[sb_trip_def_id1][month]\n",
    "             +monthxtimeofday_stds[sb_trip_def_id1][month]),'C2--')\n",
    "        axs[isp_y][isp_x].plot(\n",
    "            monthxtimeofday_meds[sb_trip_def_id1][month],'C2-')\n",
    "        axs[isp_y][isp_x].plot(\n",
    "            (monthxtimeofday_meds[sb_trip_def_id1][month]\n",
    "             -monthxtimeofday_stds[sb_trip_def_id1][month]),'C2--')\n",
    "        axs[isp_y][isp_x].plot(\n",
    "            (monthxtimeofday_meds[sb_trip_def_id2][month]\n",
    "             +monthxtimeofday_stds[sb_trip_def_id2][month]),'C2--')\n",
    "        axs[isp_y][isp_x].plot(\n",
    "            monthxtimeofday_meds[sb_trip_def_id2][month],'C2-')\n",
    "        axs[isp_y][isp_x].plot(\n",
    "            (monthxtimeofday_meds[sb_trip_def_id2][month]\n",
    "             -monthxtimeofday_stds[sb_trip_def_id2][month]),'C2--')\n",
    "\n",
    "        axs[isp_y][isp_x].set_title('Month number: %i' %month)\n",
    "        axs[isp_y][isp_x].yaxis.grid(True)\n",
    "        axs[isp_y][isp_x].xaxis.grid(True)\n",
    "        axs[isp_y][isp_x].tick_params(axis='x', labelrotation=90)"
   ]
  }
 ],
 "metadata": {
  "anaconda-cloud": {},
  "kernelspec": {
   "display_name": "Python 3",
   "language": "python",
   "name": "python3"
  },
  "language_info": {
   "codemirror_mode": {
    "name": "ipython",
    "version": 3
   },
   "file_extension": ".py",
   "mimetype": "text/x-python",
   "name": "python",
   "nbconvert_exporter": "python",
   "pygments_lexer": "ipython3",
   "version": "3.7.3"
  }
 },
 "nbformat": 4,
 "nbformat_minor": 4
}
