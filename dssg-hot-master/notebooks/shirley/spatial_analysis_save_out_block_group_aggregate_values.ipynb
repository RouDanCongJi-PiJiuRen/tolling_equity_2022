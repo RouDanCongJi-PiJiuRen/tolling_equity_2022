{
 "cells": [
  {
   "cell_type": "markdown",
   "metadata": {},
   "source": [
    "# Load trip data and shapefiles"
   ]
  },
  {
   "cell_type": "code",
   "execution_count": 1,
   "metadata": {},
   "outputs": [
    {
     "name": "stdout",
     "output_type": "stream",
     "text": [
      "working dir: /opt/dssg-hot/notebooks/shirley\n",
      "Test commercial vs. private classification; following # should be zero: 0\n",
      "Test commerical vs. private classification by num of trips; following # should be zero: 0\n",
      "Test one-time use frequency classification; following # should be zero: 0\n"
     ]
    },
    {
     "name": "stderr",
     "output_type": "stream",
     "text": [
      "/opt/conda/lib/python3.7/site-packages/pandas/core/frame.py:3940: SettingWithCopyWarning: \n",
      "A value is trying to be set on a copy of a slice from a DataFrame\n",
      "\n",
      "See the caveats in the documentation: http://pandas.pydata.org/pandas-docs/stable/indexing.html#indexing-view-versus-copy\n",
      "  errors=errors)\n"
     ]
    }
   ],
   "source": [
    "%run spatial_analysis_load.ipynb"
   ]
  },
  {
   "cell_type": "markdown",
   "metadata": {},
   "source": [
    "# Group trips"
   ]
  },
  {
   "cell_type": "markdown",
   "metadata": {},
   "source": [
    "#### Create groupby objects"
   ]
  },
  {
   "cell_type": "code",
   "execution_count": 2,
   "metadata": {},
   "outputs": [],
   "source": [
    "fips_grouped = dfnow.groupby('fips')"
   ]
  },
  {
   "cell_type": "code",
   "execution_count": 3,
   "metadata": {},
   "outputs": [],
   "source": [
    "fips_sov_grouped = dfnow[dfnow['is_hov']==0].groupby('fips')\n",
    "fips_hov_grouped = dfnow[dfnow['is_hov']==1].groupby('fips')"
   ]
  },
  {
   "cell_type": "markdown",
   "metadata": {},
   "source": [
    "#### Compute groups (toll intervals, time of use, user frequency, length of HOT trip)\n",
    "--> see sql code by Kiana"
   ]
  },
  {
   "cell_type": "markdown",
   "metadata": {},
   "source": [
    "<i>For grouping trips by toll --> toll_group</i>\n",
    "<br><i>For grouping trips by entry hour --> entry_hour, peak group --> peak_group</i>\n",
    "<br><i>For grouping trips by user frequency --> frequency, freq_group</i>\n",
    "<br><i>For grouping trips by HOT lane trip length --> dist_group</i>\n",
    "<br><i>For grouping trips by income --> inc3_group</i>"
   ]
  },
  {
   "cell_type": "markdown",
   "metadata": {},
   "source": [
    "# Make sure all data and classifications/groupings are good"
   ]
  },
  {
   "cell_type": "markdown",
   "metadata": {},
   "source": [
    "#### Check how many id's have an associated fips"
   ]
  },
  {
   "cell_type": "code",
   "execution_count": 4,
   "metadata": {},
   "outputs": [],
   "source": [
    "fips_id_lookup = dfnow.drop_duplicates('id', keep='first')[['id','fips']]\n",
    "#fips_id_lookup = pd.read_sql_query(\"select fips, id from census;\", db)\n",
    "#print(len(fips_id_lookup))\n",
    "#fips_id_lookup.head()"
   ]
  },
  {
   "cell_type": "code",
   "execution_count": 5,
   "metadata": {},
   "outputs": [],
   "source": [
    "num_trips_by_id = dfnow.agg({'id':'value_counts'}) # counts how many times each value appears in the column = # of trips per id\n",
    "num_trips_by_id.rename(columns={'id': 'num_trips_by_id'}, inplace=True)\n",
    "num_trips_by_id['id'] = num_trips_by_id.index"
   ]
  },
  {
   "cell_type": "code",
   "execution_count": 6,
   "metadata": {},
   "outputs": [],
   "source": [
    "num_trips_by_id_fips = pd.merge(num_trips_by_id, fips_id_lookup, how='left', on='id')"
   ]
  },
  {
   "cell_type": "code",
   "execution_count": 7,
   "metadata": {},
   "outputs": [
    {
     "data": {
      "image/png": "[encoded data removed]",
      "text/plain": [
       "<Figure size 1080x216 with 3 Axes>"
      ]
     },
     "metadata": {
      "needs_background": "light"
     },
     "output_type": "display_data"
    }
   ],
   "source": [
    "all_trips = num_trips_by_id_fips[(num_trips_by_id_fips['num_trips_by_id']>0) \n",
    "                             & (num_trips_by_id_fips['num_trips_by_id']<300)]['num_trips_by_id']\n",
    "all_trips_wofips = num_trips_by_id_fips[(~num_trips_by_id_fips['fips'].isna()) \n",
    "              & (num_trips_by_id_fips['num_trips_by_id']>0) \n",
    "              & (num_trips_by_id_fips['num_trips_by_id']<300)]['num_trips_by_id']\n",
    "all_trips_wfips = num_trips_by_id_fips[(num_trips_by_id_fips['fips'].isna()) \n",
    "              & (num_trips_by_id_fips['num_trips_by_id']>0)\n",
    "              & (num_trips_by_id_fips['num_trips_by_id']<300)]['num_trips_by_id']\n",
    "\n",
    "fig,axs=plt.subplots(1,3, figsize=(15,3))\n",
    "axs[0].hist(all_trips); axs[1].hist(all_trips_wofips); axs[2].hist(all_trips_wfips);"
   ]
  },
  {
   "cell_type": "code",
   "execution_count": 8,
   "metadata": {},
   "outputs": [
    {
     "name": "stdout",
     "output_type": "stream",
     "text": [
      "# of trips w/o fips: 5836315\n",
      "total # of trips: 15365032\n",
      "frac of trips w/o fips: 0.37984398600666763\n"
     ]
    }
   ],
   "source": [
    "print('# of trips w/o fips: ' + str(dfnow['fips'].isna().sum()))\n",
    "print('total # of trips: ' + str(len(dfnow)))\n",
    "print('frac of trips w/o fips: ' + str(dfnow['fips'].isna().sum()/len(dfnow)))"
   ]
  },
  {
   "cell_type": "code",
   "execution_count": 9,
   "metadata": {},
   "outputs": [
    {
     "name": "stdout",
     "output_type": "stream",
     "text": [
      "# of ids w/o fips: 463888\n",
      "total # of ids: 826679\n",
      "frac of ids w/o fips: 0.5611464667664232\n"
     ]
    }
   ],
   "source": [
    "print('# of ids w/o fips: ' + str(num_trips_by_id_fips['fips'].isna().sum()))\n",
    "print('total # of ids: ' + str(len(num_trips_by_id_fips)))\n",
    "print('frac of ids w/o fips: ' + str(num_trips_by_id_fips['fips'].isna().sum()/len(num_trips_by_id_fips)))"
   ]
  },
  {
   "cell_type": "markdown",
   "metadata": {},
   "source": [
    "#### Check if there are block groups in the trips file, but not in the census block group shapefile"
   ]
  },
  {
   "cell_type": "code",
   "execution_count": 10,
   "metadata": {},
   "outputs": [
    {
     "name": "stdout",
     "output_type": "stream",
     "text": [
      "Total # of unique WA fips in all trips: 3306\n"
     ]
    }
   ],
   "source": [
    "# - Get all Washington state block groups in the all trips file\n",
    "# --> all WA state block groups start w/ 53, w/ a total of 12 digits\n",
    "print('Total # of unique WA fips in all trips: ' + \n",
    "      str(len(\n",
    "          dfnow[(dfnow['fips']>=530000000000)\n",
    "                & (dfnow['fips']<540000000000)]['fips'].unique())))"
   ]
  },
  {
   "cell_type": "code",
   "execution_count": 11,
   "metadata": {},
   "outputs": [
    {
     "name": "stdout",
     "output_type": "stream",
     "text": [
      "Total # of unique fips in cbgs WA shapefile: 4783\n"
     ]
    }
   ],
   "source": [
    "print('Total # of unique fips in cbgs WA shapefile: ' + \n",
    "      str(len(cbgs['fips'].unique())))"
   ]
  },
  {
   "cell_type": "code",
   "execution_count": 12,
   "metadata": {},
   "outputs": [
    {
     "name": "stdout",
     "output_type": "stream",
     "text": [
      "Total # of unique fips in acs WA file: 4783\n"
     ]
    }
   ],
   "source": [
    "print('Total # of unique fips in acs WA file: ' + \n",
    "      str(len(acs['fips'].unique())))"
   ]
  },
  {
   "cell_type": "markdown",
   "metadata": {},
   "source": [
    "#### Check how many block groups don't have certain variables (avg toll, median income, ...)"
   ]
  },
  {
   "cell_type": "code",
   "execution_count": 13,
   "metadata": {},
   "outputs": [
    {
     "name": "stdout",
     "output_type": "stream",
     "text": [
      "# of bgs: 4783\n",
      "# of null avg toll: 2202\n",
      "# of null med inc: 109\n",
      "# of null avg toll or med inc: 2235\n"
     ]
    }
   ],
   "source": [
    "cbgs_joinnow = cbgs_acs.merge(fips_sov_grouped.agg({'toll': 'mean'}), on='fips', how='left') # avg toll over sov per bg\n",
    "print('# of bgs: ' + str(len(cbgs_joinnow)))\n",
    "print('# of null avg toll: ' + str(len(cbgs_joinnow[cbgs_joinnow['toll'].isnull()])))\n",
    "print('# of null med inc: ' + str(len(cbgs_joinnow[cbgs_joinnow['med_inc'].isnull()])))\n",
    "print('# of null avg toll or med inc: ' + str(len(cbgs_joinnow[cbgs_joinnow['med_inc'].isnull() | cbgs_joinnow['toll'].isnull()])))"
   ]
  },
  {
   "cell_type": "code",
   "execution_count": 18,
   "metadata": {},
   "outputs": [
    {
     "ename": "AttributeError",
     "evalue": "'Series' object has no attribute 'merge'",
     "output_type": "error",
     "traceback": [
      "\u001b[0;31m---------------------------------------------------------------------------\u001b[0m",
      "\u001b[0;31mAttributeError\u001b[0m                            Traceback (most recent call last)",
      "\u001b[0;32m<ipython-input-18-409ecea78814>\u001b[0m in \u001b[0;36m<module>\u001b[0;34m\u001b[0m\n\u001b[0;32m----> 1\u001b[0;31m \u001b[0mfips_med_inc_lookup\u001b[0m \u001b[0;34m=\u001b[0m \u001b[0mdfnow\u001b[0m\u001b[0;34m[\u001b[0m\u001b[0;34m'trip_id'\u001b[0m\u001b[0;34m]\u001b[0m\u001b[0;34m.\u001b[0m\u001b[0mmerge\u001b[0m\u001b[0;34m(\u001b[0m\u001b[0mcbgs_joinnow\u001b[0m\u001b[0;34m[\u001b[0m\u001b[0;34m[\u001b[0m\u001b[0;34m'med_inc'\u001b[0m\u001b[0;34m,\u001b[0m\u001b[0;34m'fips'\u001b[0m\u001b[0;34m]\u001b[0m\u001b[0;34m]\u001b[0m\u001b[0;34m,\u001b[0m \u001b[0mon\u001b[0m\u001b[0;34m=\u001b[0m\u001b[0;34m'fips'\u001b[0m\u001b[0;34m,\u001b[0m \u001b[0mhow\u001b[0m\u001b[0;34m=\u001b[0m\u001b[0;34m'left'\u001b[0m\u001b[0;34m)\u001b[0m\u001b[0;34m\u001b[0m\u001b[0;34m\u001b[0m\u001b[0m\n\u001b[0m",
      "\u001b[0;32m/opt/conda/lib/python3.7/site-packages/pandas/core/generic.py\u001b[0m in \u001b[0;36m__getattr__\u001b[0;34m(self, name)\u001b[0m\n\u001b[1;32m   5065\u001b[0m             \u001b[0;32mif\u001b[0m \u001b[0mself\u001b[0m\u001b[0;34m.\u001b[0m\u001b[0m_info_axis\u001b[0m\u001b[0;34m.\u001b[0m\u001b[0m_can_hold_identifiers_and_holds_name\u001b[0m\u001b[0;34m(\u001b[0m\u001b[0mname\u001b[0m\u001b[0;34m)\u001b[0m\u001b[0;34m:\u001b[0m\u001b[0;34m\u001b[0m\u001b[0;34m\u001b[0m\u001b[0m\n\u001b[1;32m   5066\u001b[0m                 \u001b[0;32mreturn\u001b[0m \u001b[0mself\u001b[0m\u001b[0;34m[\u001b[0m\u001b[0mname\u001b[0m\u001b[0;34m]\u001b[0m\u001b[0;34m\u001b[0m\u001b[0;34m\u001b[0m\u001b[0m\n\u001b[0;32m-> 5067\u001b[0;31m             \u001b[0;32mreturn\u001b[0m \u001b[0mobject\u001b[0m\u001b[0;34m.\u001b[0m\u001b[0m__getattribute__\u001b[0m\u001b[0;34m(\u001b[0m\u001b[0mself\u001b[0m\u001b[0;34m,\u001b[0m \u001b[0mname\u001b[0m\u001b[0;34m)\u001b[0m\u001b[0;34m\u001b[0m\u001b[0;34m\u001b[0m\u001b[0m\n\u001b[0m\u001b[1;32m   5068\u001b[0m \u001b[0;34m\u001b[0m\u001b[0m\n\u001b[1;32m   5069\u001b[0m     \u001b[0;32mdef\u001b[0m \u001b[0m__setattr__\u001b[0m\u001b[0;34m(\u001b[0m\u001b[0mself\u001b[0m\u001b[0;34m,\u001b[0m \u001b[0mname\u001b[0m\u001b[0;34m,\u001b[0m \u001b[0mvalue\u001b[0m\u001b[0;34m)\u001b[0m\u001b[0;34m:\u001b[0m\u001b[0;34m\u001b[0m\u001b[0;34m\u001b[0m\u001b[0m\n",
      "\u001b[0;31mAttributeError\u001b[0m: 'Series' object has no attribute 'merge'"
     ]
    }
   ],
   "source": [
    "fips_med_inc_lookup = dfnow[['trip_id','fips']].merge(cbgs_joinnow[['med_inc','fips']], on='fips', how='left')"
   ]
  },
  {
   "cell_type": "code",
   "execution_count": null,
   "metadata": {},
   "outputs": [],
   "source": [
    "fips_med_inc_lookup = dfnow.drop_duplicates('fips', keep='first')[['med_inc']].squeeze()"
   ]
  },
  {
   "cell_type": "code",
   "execution_count": null,
   "metadata": {},
   "outputs": [],
   "source": [
    "# - Compare median income distribs from all acs, cbgs join (each fips wt = 1), all trips bgs (each fips wt = 1) \n",
    "print('all acs bgs med med inc: ' + str(cbgs_acs['med_inc'].median()))\n",
    "print('cbgs join bgs med med inc: ' + str(cbgs_joinnow['med_inc'].median()))\n",
    "print('all trips bgs med med inc: ' + str(fips_med_inc_lookup.median()))\n",
    "\n",
    "fig,axs=plt.subplots(1,3, figsize=(15,3))\n",
    "axs[0].hist(cbgs_acs['med_inc'], bins=30);\n",
    "axs[1].hist(cbgs_joinnow['med_inc'], bins=30);\n",
    "axs[2].hist(fips_med_inc_lookup, bins=30);"
   ]
  },
  {
   "cell_type": "markdown",
   "metadata": {},
   "source": [
    "#### Make sure median income separation bins are good"
   ]
  },
  {
   "cell_type": "code",
   "execution_count": null,
   "metadata": {},
   "outputs": [],
   "source": [
    "def histedges_equalN(x, nbin):\n",
    "    npt = len(x)\n",
    "    return np.interp(np.linspace(0, npt, nbin + 1),\n",
    "                     np.arange(npt),\n",
    "                     np.sort(x))"
   ]
  },
  {
   "cell_type": "code",
   "execution_count": null,
   "metadata": {},
   "outputs": [],
   "source": [
    "print('all acs bgs inc bin edges: ' + str(histedges_equalN(cbgs_acs['med_inc'],3)))\n",
    "print('cbgs join bgs inc bin edges: ' + str(histedges_equalN(cbgs_joinnow['med_inc'],3)))\n",
    "print('all trips bgs inc bin edges: ' + str(histedges_equalN(fips_med_inc_lookup,3)))"
   ]
  },
  {
   "cell_type": "markdown",
   "metadata": {},
   "source": [
    "# Cleanup"
   ]
  },
  {
   "cell_type": "code",
   "execution_count": 15,
   "metadata": {},
   "outputs": [
    {
     "ename": "NameError",
     "evalue": "name 'fips_med_inc_lookup' is not defined",
     "output_type": "error",
     "traceback": [
      "\u001b[0;31m---------------------------------------------------------------------------\u001b[0m",
      "\u001b[0;31mNameError\u001b[0m                                 Traceback (most recent call last)",
      "\u001b[0;32m<ipython-input-15-1c0515847657>\u001b[0m in \u001b[0;36m<module>\u001b[0;34m\u001b[0m\n\u001b[0;32m----> 1\u001b[0;31m \u001b[0;32mdel\u001b[0m\u001b[0;34m(\u001b[0m\u001b[0mfips_med_inc_lookup\u001b[0m\u001b[0;34m,\u001b[0m \u001b[0mall_trips\u001b[0m\u001b[0;34m,\u001b[0m \u001b[0mall_trips_wofips\u001b[0m\u001b[0;34m,\u001b[0m \u001b[0mall_trips_wfips\u001b[0m\u001b[0;34m,\u001b[0m \u001b[0mfips_id_lookup\u001b[0m\u001b[0;34m)\u001b[0m\u001b[0;34m\u001b[0m\u001b[0;34m\u001b[0m\u001b[0m\n\u001b[0m\u001b[1;32m      2\u001b[0m \u001b[0mgc\u001b[0m\u001b[0;34m.\u001b[0m\u001b[0mcollect\u001b[0m\u001b[0;34m(\u001b[0m\u001b[0;34m)\u001b[0m\u001b[0;34m\u001b[0m\u001b[0;34m\u001b[0m\u001b[0m\n",
      "\u001b[0;31mNameError\u001b[0m: name 'fips_med_inc_lookup' is not defined"
     ]
    }
   ],
   "source": [
    "del(fips_med_inc_lookup, all_trips, all_trips_wofips, all_trips_wfips, fips_id_lookup)\n",
    "gc.collect()"
   ]
  },
  {
   "cell_type": "markdown",
   "metadata": {},
   "source": [
    "# Create lookup tables for groupings"
   ]
  },
  {
   "cell_type": "code",
   "execution_count": null,
   "metadata": {},
   "outputs": [],
   "source": [
    "def toll_group_defn(row):\n",
    "    if row['toll_group']==0:\n",
    "        val = \"0-1\"\n",
    "    elif row['toll_group']==1:\n",
    "        val = \">1-2\"\n",
    "    elif row['toll_group']==2:\n",
    "        val = \">2-4\"      \n",
    "    elif row['toll_group']==3:\n",
    "        val = \">4-6\"\n",
    "    elif row['toll_group']==4:\n",
    "        val = \">6-8\"\n",
    "    elif row['toll_group']==5:\n",
    "        val = \">8-10\"\n",
    "    elif row['toll_group']==6:\n",
    "        val = \">10?\"\n",
    "    return val\n",
    "\n",
    "toll_group_defn_lu_table = pd.DataFrame({'toll_group':[0,1,2,3,4,5,6]}) \n",
    "toll_group_defn_lu_table['toll_group_str'] = toll_group_defn_lu_table.apply(toll_group_defn, axis=1)"
   ]
  },
  {
   "cell_type": "code",
   "execution_count": null,
   "metadata": {},
   "outputs": [],
   "source": [
    "def peak_group_defn(row):\n",
    "    if row['peak_group']==0:\n",
    "        val = \"NB_m_pk\"\n",
    "    elif row['peak_group']==1:\n",
    "        val = \"SB_m_pk\"\n",
    "    elif row['peak_group']==2:\n",
    "        val = \"NB_e_pk\"      \n",
    "    elif row['peak_group']==3:\n",
    "        val = \"SB_e_pk\"\n",
    "    elif row['peak_group']==4:\n",
    "        val = \"offpk\"\n",
    "    return val\n",
    "\n",
    "peak_group_defn_lu_table = pd.DataFrame({'peak_group':[0,1,2,3,4]}) \n",
    "peak_group_defn_lu_table['peak_group_str'] = peak_group_defn_lu_table.apply(peak_group_defn, axis=1)"
   ]
  },
  {
   "cell_type": "code",
   "execution_count": null,
   "metadata": {},
   "outputs": [],
   "source": [
    "def freq_group_defn(row):\n",
    "    if row['freq_group']==0:\n",
    "        val = \"1\"\n",
    "    elif row['freq_group']==1:\n",
    "        val = \"2-20\"\n",
    "    elif row['freq_group']==2:\n",
    "        val = \"21-70\"      \n",
    "    elif row['freq_group']==3:\n",
    "        val = \"71-200\"\n",
    "    elif row['freq_group']==4:\n",
    "        val = \"201-400\"\n",
    "    elif row['freq_group']==5:\n",
    "        val = \">401\"\n",
    "    elif row['freq_group']==6:\n",
    "        val = \"0?\"\n",
    "    return val\n",
    "\n",
    "freq_group_defn_lu_table = pd.DataFrame({'freq_group':[0,1,2,3,4,5,6]}) \n",
    "freq_group_defn_lu_table['freq_group_str'] = freq_group_defn_lu_table.apply(freq_group_defn, axis=1)"
   ]
  },
  {
   "cell_type": "code",
   "execution_count": null,
   "metadata": {},
   "outputs": [],
   "source": [
    "def dist_group_defn(row):\n",
    "    if row['dist_group']==0:\n",
    "        val = \"0-4\"\n",
    "    elif row['dist_group']==1:\n",
    "        val = \">4-6\"\n",
    "    elif row['dist_group']==2:\n",
    "        val = \">6-8\"      \n",
    "    elif row['dist_group']==3:\n",
    "        val = \">8-10\"  \n",
    "    elif row['dist_group']==4:\n",
    "        val = \">10-12\"  \n",
    "    elif row['dist_group']==5:\n",
    "        val = \">12\"  \n",
    "    elif row['dist_group']==6:\n",
    "        val = \"?\"\n",
    "    return val\n",
    "\n",
    "dist_group_defn_lu_table = pd.DataFrame({'dist_group':[0,1,2,3,4,5,6]}) \n",
    "dist_group_defn_lu_table['dist_group_str'] = dist_group_defn_lu_table.apply(dist_group_defn, axis=1)"
   ]
  },
  {
   "cell_type": "code",
   "execution_count": null,
   "metadata": {},
   "outputs": [],
   "source": [
    "def inc_group_defn(row):\n",
    "    if row['inc_group']==0:\n",
    "        val = \"low\"\n",
    "    elif row['inc_group']==1:\n",
    "        val = \"med\"\n",
    "    elif row['inc_group']==2:\n",
    "        val = \"high\"\n",
    "    elif row['inc_group']==3:\n",
    "        val = \"?\"\n",
    "    return val\n",
    "\n",
    "inc_group_defn_lu_table = pd.DataFrame({'inc_group':[0,1,2,3]}) \n",
    "inc_group_defn_lu_table['inc_group_str'] = inc_group_defn_lu_table.apply(inc_group_defn, axis=1)"
   ]
  },
  {
   "cell_type": "markdown",
   "metadata": {},
   "source": [
    "# Create csv file for vars aggregated over block groups\n",
    "--> to use in Tableau and elsewhere"
   ]
  },
  {
   "cell_type": "code",
   "execution_count": null,
   "metadata": {},
   "outputs": [],
   "source": [
    "# - Load census block groups\n",
    "cbgs = gpd.read_file('/opt/dssg-hot/data/shapefiles/block_groups_WA/bg10.shp')\n",
    "#cbgs.dtypes\n",
    "#cbgs.head()\n",
    "#cbgs.crs\n",
    "cbgs = cbgs[['GEOID10','geometry']]\n",
    "cbgs.rename(columns={'GEOID10':'fips'}, inplace=True)\n",
    "cbgs['fips'] = pd.to_numeric(cbgs['fips'])\n",
    "cbgs['geometry'] = cbgs['geometry'].to_crs(epsg=4326)\n",
    "\n",
    "# - Load ACS 2016 info\n",
    "acs = pd.read_csv('/opt/dssg-hot/data/acs/block_group_census_estimates_wide_original_bins_all_WA.csv')\n",
    "acs.rename(columns={'fips_code':'fips'}, inplace=True)\n",
    "#acs.dtypes\n",
    "\n",
    "cbgs_acs = cbgs.merge(acs, on='fips')"
   ]
  },
  {
   "cell_type": "markdown",
   "metadata": {},
   "source": [
    "#### Add in acs data"
   ]
  },
  {
   "cell_type": "code",
   "execution_count": null,
   "metadata": {},
   "outputs": [],
   "source": [
    "cbgs_dfnow = cbgs_acs[['fips','geometry','county_name','mean_inc','med_age','med_inc','pc_income',\n",
    "                       'households','population','race_nonhisp_asian','race_nonhisp_white','trans_carpool',\n",
    "                       'trans_drivealone','trans_transit']]"
   ]
  },
  {
   "cell_type": "markdown",
   "metadata": {},
   "source": [
    "#### Define majority forward and reverse commute block groups"
   ]
  },
  {
   "cell_type": "code",
   "execution_count": null,
   "metadata": {},
   "outputs": [],
   "source": [
    "fips_peak_grouped = dfnow.groupby(['fips','peak_group'])\n",
    "#peak_grouped = dfnow.groupby(['peak_group'])\n",
    "#fips_peak_grouped.count()"
   ]
  },
  {
   "cell_type": "code",
   "execution_count": null,
   "metadata": {},
   "outputs": [],
   "source": [
    "# - Define reverse dir trips\n",
    "colnow = fips_peak_grouped.agg({'trip_id': 'nunique'}).xs(0, level='peak_group') # 'NB_m_pk'\n",
    "colnow.rename(columns={'trip_id': 'num_NB_m_pk_trips'},inplace=True)\n",
    "cbgs_dfnow = cbgs_dfnow.merge(colnow, how='left', on='fips')\n",
    "colnow = fips_peak_grouped.agg({'trip_id': 'nunique'}).xs(3, level='peak_group') # 'SB_e_pk'\n",
    "colnow.rename(columns={'trip_id': 'num_SB_e_pk_trips'},inplace=True)\n",
    "cbgs_dfnow = cbgs_dfnow.merge(colnow, how='left', on='fips')"
   ]
  },
  {
   "cell_type": "code",
   "execution_count": null,
   "metadata": {},
   "outputs": [],
   "source": [
    "# - Define forward dir trips\n",
    "colnow = fips_peak_grouped.agg({'trip_id': 'nunique'}).xs(2, level='peak_group') # 'NB_e_pk'\n",
    "colnow.rename(columns={'trip_id': 'num_NB_e_pk_trips'},inplace=True)\n",
    "cbgs_dfnow = cbgs_dfnow.merge(colnow, how='left', on='fips')\n",
    "colnow = fips_peak_grouped.agg({'trip_id': 'nunique'}).xs(1, level='peak_group') # 'SB_m_pk'\n",
    "colnow.rename(columns={'trip_id': 'num_SB_m_pk_trips'},inplace=True)\n",
    "cbgs_dfnow = cbgs_dfnow.merge(colnow, how='left', on='fips')"
   ]
  },
  {
   "cell_type": "code",
   "execution_count": null,
   "metadata": {},
   "outputs": [],
   "source": [
    "# - Calc tot trips\n",
    "cbgs_dfnow = cbgs_dfnow.merge(\n",
    "    fips_grouped['trip_id'].nunique(), how='left', on='fips')\n",
    "cbgs_dfnow.rename(\n",
    "    columns={'trip_id':'num_trips'}, inplace=True)"
   ]
  },
  {
   "cell_type": "code",
   "execution_count": null,
   "metadata": {},
   "outputs": [],
   "source": [
    "# - Calc tot trips/household, tot trips/capita, and frac forward/reverse dir trips for each bg\n",
    "cbgs_dfnow['num_trips_pc'] = cbgs_dfnow['num_trips']/cbgs_dfnow['population']\n",
    "cbgs_dfnow['num_trips_ph'] = cbgs_dfnow['num_trips']/cbgs_dfnow['households']\n",
    "# fd = forward commute direction\n",
    "cbgs_dfnow['frac_fd_trips'] = (cbgs_dfnow['num_NB_e_pk_trips']+cbgs_dfnow['num_SB_m_pk_trips']\n",
    "                          )/cbgs_dfnow['num_trips']\n",
    "# rd = reverse commute direction\n",
    "cbgs_dfnow['frac_rd_trips'] = (cbgs_dfnow['num_NB_m_pk_trips']+cbgs_dfnow['num_SB_e_pk_trips']\n",
    "                          )/cbgs_dfnow['num_trips']"
   ]
  },
  {
   "cell_type": "code",
   "execution_count": null,
   "metadata": {},
   "outputs": [],
   "source": [
    "# - Look at the distrib of frac forward/reverse dir trips among all bgs\n",
    "fig,axes=plt.subplots(1,2,figsize=(7,3))\n",
    "axes[0].hist(cbgs_dfnow['frac_fd_trips']); axes[0].set_title('frac_fd_trips');\n",
    "axes[1].hist(cbgs_dfnow['frac_rd_trips']); axes[1].set_title('frac_rd_trips');"
   ]
  },
  {
   "cell_type": "code",
   "execution_count": null,
   "metadata": {},
   "outputs": [],
   "source": [
    "# - Look at the distrib of tot trips among all bgs\n",
    "fig,axes=plt.subplots(1,2,figsize=(7,3))\n",
    "axes[0].hist(cbgs_dfnow[cbgs_dfnow['num_trips']>100]['num_trips'], bins=30); axes[0].set_title('num_trips, >100');\n",
    "axes[1].hist(cbgs_dfnow[cbgs_dfnow['num_trips']>1000]['num_trips'], bins=30); axes[1].set_title('num_trips, >1000');"
   ]
  },
  {
   "cell_type": "code",
   "execution_count": null,
   "metadata": {},
   "outputs": [],
   "source": [
    "# - Calc centroids\n",
    "#cbgs_dfnow.dropna(subset = ['geometry'], inplace=True)\n",
    "#cbgs_dfnow['geometry'].geom_type.unique()\n",
    "cbgs_dfnow['lon'] = cbgs_dfnow.centroid.x\n",
    "cbgs_dfnow['lat'] = cbgs_dfnow.centroid.y"
   ]
  },
  {
   "cell_type": "code",
   "execution_count": null,
   "metadata": {},
   "outputs": [],
   "source": [
    "# - Plot maps of frac forward/reverse dir trips by bgs + above/below E-W line --> defining reverse/forward commute block groups\n",
    "fig,axes = plt.subplots(2, 2, figsize = (16,20))\n",
    "\n",
    "vmin=0; vmax=1\n",
    "\n",
    "axes[0][0].set_ylim([47.25, 48.22]); axes[0][0].set_xlim([-122.45, -121.85]); axes[0][0].set_title('Frac forward commute direction trips')\n",
    "cbgs_dfnow.plot(column = 'frac_fd_trips', ax = axes[0][0], legend = True, vmin = vmin, vmax = vmax)\n",
    "majlks.plot(ax=axes[0][0], color='paleturquoise', linewidth=3); majrds.plot(ax=axes[0][0], color='gray', linewidth=3)\n",
    "majtpsnb.plot(ax=axes[0][0], color='magenta', markersize=100); majcps.plot(ax=axes[0][0], color='white')\n",
    "for x, y, label in zip(majcps.geometry.x, majcps.geometry.y, majcps.NAME):\n",
    "    axes[0][0].annotate(label, xy=(x, y), xytext=(3, 3), textcoords='offset points', color='white')\n",
    "\n",
    "axes[0][1].set_ylim([47.25, 48.22]); axes[0][1].set_xlim([-122.45, -121.85]); axes[0][1].set_title('Frac reverse commute direction trips')\n",
    "cbgs_dfnow.plot(column = 'frac_rd_trips', ax = axes[0][1], legend = True, vmin = vmin, vmax = vmax)\n",
    "majlks.plot(ax=axes[0][1], color='paleturquoise', linewidth=3); majrds.plot(ax=axes[0][1], color='gray', linewidth=3)\n",
    "majtpsnb.plot(ax=axes[0][1], color='magenta', markersize=100); majcps.plot(ax=axes[0][1], color='white')\n",
    "for x, y, label in zip(majcps.geometry.x, majcps.geometry.y, majcps.NAME):\n",
    "    axes[0][1].annotate(label, xy=(x, y), xytext=(3, 3), textcoords='offset points', color='white')\n",
    "\n",
    "vmin=0; vmax=0.5\n",
    "\n",
    "axes[1][0].set_ylim([47.25, 48.22]); axes[1][0].set_xlim([-122.45, -121.85]); axes[1][0].set_title('Frac forward commute direction trips')\n",
    "cbgs_dfnow[cbgs_dfnow['lat']>47.6].plot(column = 'frac_fd_trips', ax = axes[1][0], legend = True, vmin = vmin, vmax = vmax)\n",
    "majlks.plot(ax=axes[1][0], color='paleturquoise', linewidth=3); majrds.plot(ax=axes[1][0], color='gray', linewidth=3)\n",
    "majtpsnb.plot(ax=axes[1][0], color='magenta', markersize=100); majcps.plot(ax=axes[1][0], color='white')\n",
    "for x, y, label in zip(majcps.geometry.x, majcps.geometry.y, majcps.NAME):\n",
    "    axes[1][0].annotate(label, xy=(x, y), xytext=(3, 3), textcoords='offset points', color='white')\n",
    "\n",
    "axes[1][1].set_ylim([47.25, 48.22]); axes[1][1].set_xlim([-122.45, -121.85]); axes[1][1].set_title('Frac reverse commute direction trips')\n",
    "cbgs_dfnow[cbgs_dfnow['lat']<47.7].plot(column = 'frac_rd_trips', ax = axes[1][1], legend = True, vmin = vmin, vmax = vmax)\n",
    "majlks.plot(ax=axes[1][1], color='paleturquoise', linewidth=3); majrds.plot(ax=axes[1][1], color='gray', linewidth=3)\n",
    "majtpsnb.plot(ax=axes[1][1], color='magenta', markersize=100); majcps.plot(ax=axes[1][1], color='white')\n",
    "for x, y, label in zip(majcps.geometry.x, majcps.geometry.y, majcps.NAME):\n",
    "    axes[1][1].annotate(label, xy=(x, y), xytext=(3, 3), textcoords='offset points', color='white')\n",
    "    \n",
    "fig.savefig('/opt/dssg-hot/notebooks/shirley/figs/fips_frac_forward_reverse_commute_direction_trips.pdf', bbox_inches='tight', pad_inches = 0)"
   ]
  },
  {
   "cell_type": "code",
   "execution_count": null,
   "metadata": {},
   "outputs": [],
   "source": [
    "# - Define majority forward/reverse dir bgs\n",
    "# --> majority forward dir (fd) bg must:\n",
    "# 1.) have >50% of trips be during SB evening peak or NB morning peak,\n",
    "# 2.) have its centroid above 47.6 deg N\n",
    "# --> majority reverse dir (rd) bg must:\n",
    "# 1.) have >50% of trips be during SB morning peak or NB evening peak,\n",
    "# 2.) have its centroid below 47.7 deg N\n",
    "def maj_commute_dir_fxn(row):\n",
    "    if (row['frac_fd_trips']>0.5) & (row['lat']>47.6):\n",
    "        val = 'fd'\n",
    "    elif (row['frac_rd_trips']>0.5) & (row['lat']<47.7):\n",
    "        val = 'rd'\n",
    "    else:\n",
    "        val = 'nd'\n",
    "    return val\n",
    "\n",
    "cbgs_dfnow['maj_commute_dir'] = cbgs_dfnow.apply(maj_commute_dir_fxn, axis=1)"
   ]
  },
  {
   "cell_type": "markdown",
   "metadata": {},
   "source": [
    "#### Add in many other block group level aggregated variables"
   ]
  },
  {
   "cell_type": "code",
   "execution_count": null,
   "metadata": {},
   "outputs": [],
   "source": [
    "# - Avg dist traveled in HOT lanes\n",
    "cbgs_dfnow = cbgs_dfnow.merge(fips_grouped.agg(\n",
    "    {'dist_btwn_entry_exit_loop': 'mean'}), on='fips', how='left')\n",
    "cbgs_dfnow.rename(\n",
    "    columns={'dist_btwn_entry_exit_loop':'avg_dist'},inplace=True)"
   ]
  },
  {
   "cell_type": "code",
   "execution_count": null,
   "metadata": {},
   "outputs": [],
   "source": [
    "# - Avg toll paid w/o HOV\n",
    "cbgs_dfnow = cbgs_dfnow.merge(fips_sov_grouped.agg(\n",
    "    {'toll': 'mean'}), on='fips', how='left')\n",
    "cbgs_dfnow.rename(\n",
    "    columns={'toll':'avg_toll_wohov'},inplace=True)"
   ]
  },
  {
   "cell_type": "code",
   "execution_count": null,
   "metadata": {},
   "outputs": [],
   "source": [
    "# - Avg toll paid w/ HOV\n",
    "cbgs_dfnow = cbgs_dfnow.merge(fips_grouped.agg(\n",
    "    {'toll': 'mean'}), on='fips', how='left')\n",
    "cbgs_dfnow.rename(\n",
    "    columns={'toll':'avg_toll_whov'},inplace=True)"
   ]
  },
  {
   "cell_type": "code",
   "execution_count": null,
   "metadata": {},
   "outputs": [],
   "source": [
    "# - Number of unique ids\n",
    "cbgs_dfnow = cbgs_dfnow.merge(\n",
    "    fips_grouped['id'].nunique(), on='fips', how='left')\n",
    "cbgs_dfnow.rename(\n",
    "    columns={'id':'num_ids'}, inplace=True)\n",
    "cbgs_dfnow['ids_pc'] = cbgs_dfnow['num_ids']/cbgs_dfnow['population']\n",
    "cbgs_dfnow['ids_ph'] = cbgs_dfnow['num_ids']/cbgs_dfnow['households']"
   ]
  },
  {
   "cell_type": "code",
   "execution_count": null,
   "metadata": {},
   "outputs": [],
   "source": [
    "# - Number of trips per id\n",
    "cbgs_dfnow = cbgs_dfnow.merge(\n",
    "    num_trips_by_id_fips.groupby('fips').agg(\n",
    "        {'num_trips_by_id':'mean'}), on='fips', how='left')\n",
    "cbgs_dfnow.rename(\n",
    "    columns={'num_trips_by_id':'avg_num_trips_by_id'}, inplace=True)\n",
    "cbgs_dfnow['avg_num_trips_by_id_ph'] = cbgs_dfnow['avg_num_trips_by_id']/cbgs_dfnow['households']\n",
    "cbgs_dfnow['avg_num_trips_by_id_pc'] = cbgs_dfnow['avg_num_trips_by_id']/cbgs_dfnow['population']"
   ]
  },
  {
   "cell_type": "code",
   "execution_count": null,
   "metadata": {},
   "outputs": [],
   "source": [
    "# - % HOV/SOV\n",
    "fips_shov_grouped = dfnow.groupby(['fips','is_hov'])\n",
    "perc_trips_within_bgnow = fips_shov_grouped.agg({'trip_id': 'nunique'}).div(\n",
    "    fips_grouped.agg({'trip_id': 'nunique'}, level='fips'))*100\n",
    "perc_trips_within_bgnow = perc_trips_within_bgnow.unstack(level='is_hov')\n",
    "perc_trips_within_bgnow.columns = perc_trips_within_bgnow.columns.droplevel(0)\n",
    "perc_trips_within_bgnow.reset_index(inplace=True)\n",
    "cbgs_dfnow = cbgs_dfnow.merge(perc_trips_within_bgnow, on='fips', how='left')\n",
    "cbgs_dfnow.rename(columns={0:'perc_sov_trips',1:'perc_hov_trips'}, inplace=True)"
   ]
  },
  {
   "cell_type": "code",
   "execution_count": null,
   "metadata": {},
   "outputs": [],
   "source": [
    "# - Travel time savings\n",
    "cbgs_dfnow = cbgs_dfnow.merge(\n",
    "    fips_grouped.agg(\n",
    "        {'tt_savings':'mean'}), on='fips', how='left')\n",
    "cbgs_dfnow.rename(columns={'tt_savings':'avg_tt_savings'}, inplace=True)\n",
    "cbgs_dfnow = cbgs_dfnow.merge(\n",
    "    fips_grouped.agg(\n",
    "        {'tt_savings':'sum'}), on='fips', how='left')\n",
    "cbgs_dfnow.rename(columns={'tt_savings':'tot_tt_savings'}, inplace=True)"
   ]
  },
  {
   "cell_type": "code",
   "execution_count": null,
   "metadata": {},
   "outputs": [],
   "source": [
    "# - Reliability savings\n",
    "cbgs_dfnow = cbgs_dfnow.merge(\n",
    "    fips_grouped.agg(\n",
    "        {'reliab_savings':'mean'}), on='fips', how='left')\n",
    "cbgs_dfnow.rename(columns={'reliab_savings':'avg_reliab_savings'}, inplace=True)\n",
    "cbgs_dfnow = cbgs_dfnow.merge(\n",
    "    fips_grouped.agg(\n",
    "        {'reliab_savings':'sum'}), on='fips', how='left')\n",
    "cbgs_dfnow.rename(columns={'reliab_savings':'tot_reliab_savings'}, inplace=True)"
   ]
  },
  {
   "cell_type": "markdown",
   "metadata": {},
   "source": [
    "#### Save out the final csv"
   ]
  },
  {
   "cell_type": "code",
   "execution_count": null,
   "metadata": {},
   "outputs": [],
   "source": [
    "cbgs_dfnow.to_csv(r'/opt/dssg-hot/data/block_group_aggregates/cbgs_fips_vars_with_geometry.csv')"
   ]
  },
  {
   "cell_type": "code",
   "execution_count": null,
   "metadata": {},
   "outputs": [],
   "source": [
    "cbgs_dfnow_pd = pd.DataFrame(cbgs_dfnow.drop(columns='geometry'))\n",
    "cbgs_dfnow_pd.to_csv(r'/opt/dssg-hot/data/block_group_aggregates/cbgs_fips_vars.csv')"
   ]
  }
 ],
 "metadata": {
  "kernelspec": {
   "display_name": "Python 3",
   "language": "python",
   "name": "python3"
  },
  "language_info": {
   "codemirror_mode": {
    "name": "ipython",
    "version": 3
   },
   "file_extension": ".py",
   "mimetype": "text/x-python",
   "name": "python",
   "nbconvert_exporter": "python",
   "pygments_lexer": "ipython3",
   "version": "3.7.3"
  }
 },
 "nbformat": 4,
 "nbformat_minor": 4
}
