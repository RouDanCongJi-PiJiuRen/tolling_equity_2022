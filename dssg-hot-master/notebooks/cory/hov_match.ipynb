{
 "cells": [
  {
   "cell_type": "markdown",
   "metadata": {},
   "source": [
    "# HOV Account Matching"
   ]
  },
  {
   "cell_type": "code",
   "execution_count": 1,
   "metadata": {},
   "outputs": [],
   "source": [
    "suppressWarnings(suppressMessages(library(tidyverse)))\n",
    "suppressMessages(library(lubridate))\n",
    "library(RSQLCipher)"
   ]
  },
  {
   "cell_type": "code",
   "execution_count": 2,
   "metadata": {},
   "outputs": [],
   "source": [
    "Sys.setenv(\"SQL_KEY\"=Sys.getenv(\"HOT_KEY\"))\n",
    "options(repr.plot.width=10, repr.plot.height=6)"
   ]
  },
  {
   "cell_type": "code",
   "execution_count": 7,
   "metadata": {},
   "outputs": [],
   "source": [
    "db_path = \"../../../data/hot.db\"\n",
    "\n",
    "# import tables\n",
    "trips = load_table(db_path, \"trips_linked\", c(tag_id=\"c\", acct=\"c\", \n",
    "                                              plate=\"c\", id=\"c\", zip=\"c\"))\n",
    "rts = load_table(db_path, \"rts\", c(plate=\"c\"))\n",
    "hov = load_table(db_path, \"hov\", c(ag_tag_id=\"c\", acct_id=\"c\"))"
   ]
  },
  {
   "cell_type": "code",
   "execution_count": 3,
   "metadata": {},
   "outputs": [],
   "source": [
    "make_2way = function(df, var1, var2) {\n",
    "    table(eval(substitute(var1), df), eval(substitute(var2), df), \n",
    "         dnn=c(substitute(var1), substitute(var2)), useNA=\"ifany\") %>% prop.table %>% round(3)\n",
    "}\n",
    "frac.na = function(x) { mean(is.na(x)) }"
   ]
  },
  {
   "cell_type": "markdown",
   "metadata": {},
   "source": [
    "## Missing data\n",
    "Most of the data is here, except for 8% of the plate states, 7% of the census block information, and a smattering of other missing variables."
   ]
  },
  {
   "cell_type": "code",
   "execution_count": 11,
   "metadata": {},
   "outputs": [
    {
     "data": {
      "text/html": [
       "<table>\n",
       "<caption>A matrix: 15 × 1 of type dbl</caption>\n",
       "<tbody>\n",
       "\t<tr><th scope=row>acct_id</th><td>0.0000</td></tr>\n",
       "\t<tr><th scope=row>is_original</th><td>0.0000</td></tr>\n",
       "\t<tr><th scope=row>trip_id</th><td>0.0000</td></tr>\n",
       "\t<tr><th scope=row>txn_id</th><td>0.0000</td></tr>\n",
       "\t<tr><th scope=row>ag_tag_id</th><td>0.0000</td></tr>\n",
       "\t<tr><th scope=row>plate_state_id</th><td>0.0827</td></tr>\n",
       "\t<tr><th scope=row>city</th><td>0.0002</td></tr>\n",
       "\t<tr><th scope=row>state</th><td>0.0002</td></tr>\n",
       "\t<tr><th scope=row>zip_code</th><td>0.0077</td></tr>\n",
       "\t<tr><th scope=row>match</th><td>0.0002</td></tr>\n",
       "\t<tr><th scope=row>is_exact</th><td>0.0737</td></tr>\n",
       "\t<tr><th scope=row>fips</th><td>0.0000</td></tr>\n",
       "\t<tr><th scope=row>county</th><td>0.0737</td></tr>\n",
       "\t<tr><th scope=row>cty_subdivision</th><td>0.0737</td></tr>\n",
       "\t<tr><th scope=row>block</th><td>0.0737</td></tr>\n",
       "</tbody>\n",
       "</table>\n"
      ],
      "text/latex": [
       "A matrix: 15 × 1 of type dbl\n",
       "\\begin{tabular}{r|l}\n",
       "\tacct\\_id & 0.0000\\\\\n",
       "\tis\\_original & 0.0000\\\\\n",
       "\ttrip\\_id & 0.0000\\\\\n",
       "\ttxn\\_id & 0.0000\\\\\n",
       "\tag\\_tag\\_id & 0.0000\\\\\n",
       "\tplate\\_state\\_id & 0.0827\\\\\n",
       "\tcity & 0.0002\\\\\n",
       "\tstate & 0.0002\\\\\n",
       "\tzip\\_code & 0.0077\\\\\n",
       "\tmatch & 0.0002\\\\\n",
       "\tis\\_exact & 0.0737\\\\\n",
       "\tfips & 0.0000\\\\\n",
       "\tcounty & 0.0737\\\\\n",
       "\tcty\\_subdivision & 0.0737\\\\\n",
       "\tblock & 0.0737\\\\\n",
       "\\end{tabular}\n"
      ],
      "text/markdown": [
       "\n",
       "A matrix: 15 × 1 of type dbl\n",
       "\n",
       "| acct_id | 0.0000 |\n",
       "| is_original | 0.0000 |\n",
       "| trip_id | 0.0000 |\n",
       "| txn_id | 0.0000 |\n",
       "| ag_tag_id | 0.0000 |\n",
       "| plate_state_id | 0.0827 |\n",
       "| city | 0.0002 |\n",
       "| state | 0.0002 |\n",
       "| zip_code | 0.0077 |\n",
       "| match | 0.0002 |\n",
       "| is_exact | 0.0737 |\n",
       "| fips | 0.0000 |\n",
       "| county | 0.0737 |\n",
       "| cty_subdivision | 0.0737 |\n",
       "| block | 0.0737 |\n",
       "\n"
      ],
      "text/plain": [
       "                [,1]  \n",
       "acct_id         0.0000\n",
       "is_original     0.0000\n",
       "trip_id         0.0000\n",
       "txn_id          0.0000\n",
       "ag_tag_id       0.0000\n",
       "plate_state_id  0.0827\n",
       "city            0.0002\n",
       "state           0.0002\n",
       "zip_code        0.0077\n",
       "match           0.0002\n",
       "is_exact        0.0737\n",
       "fips            0.0000\n",
       "county          0.0737\n",
       "cty_subdivision 0.0737\n",
       "block           0.0737"
      ]
     },
     "metadata": {},
     "output_type": "display_data"
    }
   ],
   "source": [
    "hov %>%\n",
    "    head(10000) %>%\n",
    "    execute %>%\n",
    "    summarize_all(frac.na) %>% \n",
    "    t"
   ]
  },
  {
   "cell_type": "markdown",
   "metadata": {},
   "source": [
    "## Joining"
   ]
  },
  {
   "cell_type": "code",
   "execution_count": 142,
   "metadata": {},
   "outputs": [],
   "source": [
    "rts_hov = rts %>%\n",
    "    filter(pmt_type == \"HOV\") %>%\n",
    "    select(trip_id, trip_def_id, txn_id, agency_tag) %>%\n",
    "    left_join(select(hov, acct_id, is_original, ag_tag_id, plate_state_id, fips), \n",
    "              by=c(\"agency_tag\"=\"ag_tag_id\")) %>%\n",
    "    head(10000) %>%\n",
    "    execute(col_types=\"iiicclcc\")"
   ]
  },
  {
   "cell_type": "code",
   "execution_count": 145,
   "metadata": {},
   "outputs": [
    {
     "data": {
      "text/plain": [
       "               fips != 0\n",
       "!is.na(acct_id) FALSE  TRUE  <NA>\n",
       "          FALSE 0.000 0.000 0.004\n",
       "          TRUE  0.098 0.898 0.000"
      ]
     },
     "metadata": {},
     "output_type": "display_data"
    }
   ],
   "source": [
    "make_2way(rts_hov, !is.na(acct_id), fips != 0)"
   ]
  },
  {
   "cell_type": "markdown",
   "metadata": {},
   "source": [
    "### *Diagnostics*"
   ]
  },
  {
   "cell_type": "code",
   "execution_count": 149,
   "metadata": {},
   "outputs": [
    {
     "data": {
      "text/html": [
       "<table>\n",
       "<caption>A spec_tbl_df: 2 × 15</caption>\n",
       "<thead>\n",
       "\t<tr><th scope=col>acct_id</th><th scope=col>is_original</th><th scope=col>trip_id</th><th scope=col>txn_id</th><th scope=col>ag_tag_id</th><th scope=col>plate_state_id</th><th scope=col>city</th><th scope=col>state</th><th scope=col>zip_code</th><th scope=col>match</th><th scope=col>is_exact</th><th scope=col>fips</th><th scope=col>county</th><th scope=col>cty_subdivision</th><th scope=col>block</th></tr>\n",
       "\t<tr><th scope=col>&lt;dbl&gt;</th><th scope=col>&lt;dbl&gt;</th><th scope=col>&lt;dbl&gt;</th><th scope=col>&lt;dbl&gt;</th><th scope=col>&lt;dbl&gt;</th><th scope=col>&lt;dbl&gt;</th><th scope=col>&lt;chr&gt;</th><th scope=col>&lt;chr&gt;</th><th scope=col>&lt;dbl&gt;</th><th scope=col>&lt;chr&gt;</th><th scope=col>&lt;dbl&gt;</th><th scope=col>&lt;dbl&gt;</th><th scope=col>&lt;dbl&gt;</th><th scope=col>&lt;dbl&gt;</th><th scope=col>&lt;dbl&gt;</th></tr>\n",
       "</thead>\n",
       "<tbody>\n",
       "\t<tr><td>-4.667543e+18</td><td>1</td><td>104255284</td><td>383866747</td><td>-5.018025e+18</td><td>-9.152049e+18</td><td>WOODINVILLE</td><td>WA</td><td>98072</td><td>Match</td><td>1</td><td>530330323212</td><td>33</td><td>32321</td><td>2002</td></tr>\n",
       "\t<tr><td>-4.667543e+18</td><td>1</td><td>104255284</td><td>383870235</td><td>-5.018025e+18</td><td> 8.487190e+17</td><td>WOODINVILLE</td><td>WA</td><td>98072</td><td>Match</td><td>1</td><td>530330323212</td><td>33</td><td>32321</td><td>2002</td></tr>\n",
       "</tbody>\n",
       "</table>\n"
      ],
      "text/latex": [
       "A spec_tbl_df: 2 × 15\n",
       "\\begin{tabular}{r|lllllllllllllll}\n",
       " acct\\_id & is\\_original & trip\\_id & txn\\_id & ag\\_tag\\_id & plate\\_state\\_id & city & state & zip\\_code & match & is\\_exact & fips & county & cty\\_subdivision & block\\\\\n",
       " <dbl> & <dbl> & <dbl> & <dbl> & <dbl> & <dbl> & <chr> & <chr> & <dbl> & <chr> & <dbl> & <dbl> & <dbl> & <dbl> & <dbl>\\\\\n",
       "\\hline\n",
       "\t -4.667543e+18 & 1 & 104255284 & 383866747 & -5.018025e+18 & -9.152049e+18 & WOODINVILLE & WA & 98072 & Match & 1 & 530330323212 & 33 & 32321 & 2002\\\\\n",
       "\t -4.667543e+18 & 1 & 104255284 & 383870235 & -5.018025e+18 &  8.487190e+17 & WOODINVILLE & WA & 98072 & Match & 1 & 530330323212 & 33 & 32321 & 2002\\\\\n",
       "\\end{tabular}\n"
      ],
      "text/markdown": [
       "\n",
       "A spec_tbl_df: 2 × 15\n",
       "\n",
       "| acct_id &lt;dbl&gt; | is_original &lt;dbl&gt; | trip_id &lt;dbl&gt; | txn_id &lt;dbl&gt; | ag_tag_id &lt;dbl&gt; | plate_state_id &lt;dbl&gt; | city &lt;chr&gt; | state &lt;chr&gt; | zip_code &lt;dbl&gt; | match &lt;chr&gt; | is_exact &lt;dbl&gt; | fips &lt;dbl&gt; | county &lt;dbl&gt; | cty_subdivision &lt;dbl&gt; | block &lt;dbl&gt; |\n",
       "|---|---|---|---|---|---|---|---|---|---|---|---|---|---|---|\n",
       "| -4.667543e+18 | 1 | 104255284 | 383866747 | -5.018025e+18 | -9.152049e+18 | WOODINVILLE | WA | 98072 | Match | 1 | 530330323212 | 33 | 32321 | 2002 |\n",
       "| -4.667543e+18 | 1 | 104255284 | 383870235 | -5.018025e+18 |  8.487190e+17 | WOODINVILLE | WA | 98072 | Match | 1 | 530330323212 | 33 | 32321 | 2002 |\n",
       "\n"
      ],
      "text/plain": [
       "  acct_id       is_original trip_id   txn_id    ag_tag_id     plate_state_id\n",
       "1 -4.667543e+18 1           104255284 383866747 -5.018025e+18 -9.152049e+18 \n",
       "2 -4.667543e+18 1           104255284 383870235 -5.018025e+18  8.487190e+17 \n",
       "  city        state zip_code match is_exact fips         county cty_subdivision\n",
       "1 WOODINVILLE WA    98072    Match 1        530330323212 33     32321          \n",
       "2 WOODINVILLE WA    98072    Match 1        530330323212 33     32321          \n",
       "  block\n",
       "1 2002 \n",
       "2 2002 "
      ]
     },
     "metadata": {},
     "output_type": "display_data"
    }
   ],
   "source": [
    "hov %>% filter(trip_id == 104255284) %>% execute"
   ]
  },
  {
   "cell_type": "code",
   "execution_count": 150,
   "metadata": {},
   "outputs": [
    {
     "data": {
      "text/html": [
       "<table>\n",
       "<caption>A spec_tbl_df: 3 × 12</caption>\n",
       "<thead>\n",
       "\t<tr><th scope=col>trip_id</th><th scope=col>entry_time</th><th scope=col>exit_time</th><th scope=col>trip_def_id</th><th scope=col>fare</th><th scope=col>pmt_type</th><th scope=col>plaza</th><th scope=col>txn_id</th><th scope=col>entry_exit</th><th scope=col>txn_time</th><th scope=col>agency_tag</th><th scope=col>plate</th></tr>\n",
       "\t<tr><th scope=col>&lt;dbl&gt;</th><th scope=col>&lt;dbl&gt;</th><th scope=col>&lt;dbl&gt;</th><th scope=col>&lt;dbl&gt;</th><th scope=col>&lt;dbl&gt;</th><th scope=col>&lt;chr&gt;</th><th scope=col>&lt;chr&gt;</th><th scope=col>&lt;dbl&gt;</th><th scope=col>&lt;chr&gt;</th><th scope=col>&lt;dbl&gt;</th><th scope=col>&lt;dbl&gt;</th><th scope=col>&lt;dbl&gt;</th></tr>\n",
       "</thead>\n",
       "<tbody>\n",
       "\t<tr><td>104255284</td><td>1514992382</td><td>1514992722</td><td>2690</td><td>0</td><td>HOV</td><td>NB01</td><td>383866747</td><td>E </td><td>1514992382</td><td>-5.018025e+18</td><td>-9.152049e+18</td></tr>\n",
       "\t<tr><td>104255284</td><td>1514992382</td><td>1514992722</td><td>2690</td><td>0</td><td>HOV</td><td>NB03</td><td>383868474</td><td>NA</td><td>1514992550</td><td>-5.018025e+18</td><td>           NA</td></tr>\n",
       "\t<tr><td>104255284</td><td>1514992382</td><td>1514992722</td><td>2690</td><td>0</td><td>HOV</td><td>NB04</td><td>383870235</td><td>X </td><td>1514992722</td><td>-5.018025e+18</td><td> 8.487190e+17</td></tr>\n",
       "</tbody>\n",
       "</table>\n"
      ],
      "text/latex": [
       "A spec_tbl_df: 3 × 12\n",
       "\\begin{tabular}{r|llllllllllll}\n",
       " trip\\_id & entry\\_time & exit\\_time & trip\\_def\\_id & fare & pmt\\_type & plaza & txn\\_id & entry\\_exit & txn\\_time & agency\\_tag & plate\\\\\n",
       " <dbl> & <dbl> & <dbl> & <dbl> & <dbl> & <chr> & <chr> & <dbl> & <chr> & <dbl> & <dbl> & <dbl>\\\\\n",
       "\\hline\n",
       "\t 104255284 & 1514992382 & 1514992722 & 2690 & 0 & HOV & NB01 & 383866747 & E  & 1514992382 & -5.018025e+18 & -9.152049e+18\\\\\n",
       "\t 104255284 & 1514992382 & 1514992722 & 2690 & 0 & HOV & NB03 & 383868474 & NA & 1514992550 & -5.018025e+18 &            NA\\\\\n",
       "\t 104255284 & 1514992382 & 1514992722 & 2690 & 0 & HOV & NB04 & 383870235 & X  & 1514992722 & -5.018025e+18 &  8.487190e+17\\\\\n",
       "\\end{tabular}\n"
      ],
      "text/markdown": [
       "\n",
       "A spec_tbl_df: 3 × 12\n",
       "\n",
       "| trip_id &lt;dbl&gt; | entry_time &lt;dbl&gt; | exit_time &lt;dbl&gt; | trip_def_id &lt;dbl&gt; | fare &lt;dbl&gt; | pmt_type &lt;chr&gt; | plaza &lt;chr&gt; | txn_id &lt;dbl&gt; | entry_exit &lt;chr&gt; | txn_time &lt;dbl&gt; | agency_tag &lt;dbl&gt; | plate &lt;dbl&gt; |\n",
       "|---|---|---|---|---|---|---|---|---|---|---|---|\n",
       "| 104255284 | 1514992382 | 1514992722 | 2690 | 0 | HOV | NB01 | 383866747 | E  | 1514992382 | -5.018025e+18 | -9.152049e+18 |\n",
       "| 104255284 | 1514992382 | 1514992722 | 2690 | 0 | HOV | NB03 | 383868474 | NA | 1514992550 | -5.018025e+18 |            NA |\n",
       "| 104255284 | 1514992382 | 1514992722 | 2690 | 0 | HOV | NB04 | 383870235 | X  | 1514992722 | -5.018025e+18 |  8.487190e+17 |\n",
       "\n"
      ],
      "text/plain": [
       "  trip_id   entry_time exit_time  trip_def_id fare pmt_type plaza txn_id   \n",
       "1 104255284 1514992382 1514992722 2690        0    HOV      NB01  383866747\n",
       "2 104255284 1514992382 1514992722 2690        0    HOV      NB03  383868474\n",
       "3 104255284 1514992382 1514992722 2690        0    HOV      NB04  383870235\n",
       "  entry_exit txn_time   agency_tag    plate        \n",
       "1 E          1514992382 -5.018025e+18 -9.152049e+18\n",
       "2 NA         1514992550 -5.018025e+18            NA\n",
       "3 X          1514992722 -5.018025e+18  8.487190e+17"
      ]
     },
     "metadata": {},
     "output_type": "display_data"
    }
   ],
   "source": [
    "rts %>% filter(trip_id == 104255284) %>% execute"
   ]
  },
  {
   "cell_type": "code",
   "execution_count": 151,
   "metadata": {},
   "outputs": [
    {
     "data": {
      "text/html": [
       "<table>\n",
       "<caption>A spec_tbl_df: 1 × 16</caption>\n",
       "<thead>\n",
       "\t<tr><th scope=col>trip_id</th><th scope=col>def_id</th><th scope=col>toll</th><th scope=col>entry_time</th><th scope=col>exit_time</th><th scope=col>entry_plaza</th><th scope=col>exit_plaza</th><th scope=col>is_hov</th><th scope=col>tag_id</th><th scope=col>acct</th><th scope=col>plate</th><th scope=col>id</th><th scope=col>plate_state</th><th scope=col>zip</th><th scope=col>plus4_code</th><th scope=col>fips</th></tr>\n",
       "\t<tr><th scope=col>&lt;dbl&gt;</th><th scope=col>&lt;dbl&gt;</th><th scope=col>&lt;dbl&gt;</th><th scope=col>&lt;dbl&gt;</th><th scope=col>&lt;dbl&gt;</th><th scope=col>&lt;dbl&gt;</th><th scope=col>&lt;dbl&gt;</th><th scope=col>&lt;dbl&gt;</th><th scope=col>&lt;lgl&gt;</th><th scope=col>&lt;lgl&gt;</th><th scope=col>&lt;lgl&gt;</th><th scope=col>&lt;lgl&gt;</th><th scope=col>&lt;lgl&gt;</th><th scope=col>&lt;lgl&gt;</th><th scope=col>&lt;lgl&gt;</th><th scope=col>&lt;lgl&gt;</th></tr>\n",
       "</thead>\n",
       "<tbody>\n",
       "\t<tr><td>104255284</td><td>2690</td><td>0</td><td>1514995982</td><td>1514996322</td><td>3</td><td>6</td><td>1</td><td>NA</td><td>NA</td><td>NA</td><td>NA</td><td>NA</td><td>NA</td><td>NA</td><td>NA</td></tr>\n",
       "</tbody>\n",
       "</table>\n"
      ],
      "text/latex": [
       "A spec_tbl_df: 1 × 16\n",
       "\\begin{tabular}{r|llllllllllllllll}\n",
       " trip\\_id & def\\_id & toll & entry\\_time & exit\\_time & entry\\_plaza & exit\\_plaza & is\\_hov & tag\\_id & acct & plate & id & plate\\_state & zip & plus4\\_code & fips\\\\\n",
       " <dbl> & <dbl> & <dbl> & <dbl> & <dbl> & <dbl> & <dbl> & <dbl> & <lgl> & <lgl> & <lgl> & <lgl> & <lgl> & <lgl> & <lgl> & <lgl>\\\\\n",
       "\\hline\n",
       "\t 104255284 & 2690 & 0 & 1514995982 & 1514996322 & 3 & 6 & 1 & NA & NA & NA & NA & NA & NA & NA & NA\\\\\n",
       "\\end{tabular}\n"
      ],
      "text/markdown": [
       "\n",
       "A spec_tbl_df: 1 × 16\n",
       "\n",
       "| trip_id &lt;dbl&gt; | def_id &lt;dbl&gt; | toll &lt;dbl&gt; | entry_time &lt;dbl&gt; | exit_time &lt;dbl&gt; | entry_plaza &lt;dbl&gt; | exit_plaza &lt;dbl&gt; | is_hov &lt;dbl&gt; | tag_id &lt;lgl&gt; | acct &lt;lgl&gt; | plate &lt;lgl&gt; | id &lt;lgl&gt; | plate_state &lt;lgl&gt; | zip &lt;lgl&gt; | plus4_code &lt;lgl&gt; | fips &lt;lgl&gt; |\n",
       "|---|---|---|---|---|---|---|---|---|---|---|---|---|---|---|---|\n",
       "| 104255284 | 2690 | 0 | 1514995982 | 1514996322 | 3 | 6 | 1 | NA | NA | NA | NA | NA | NA | NA | NA |\n",
       "\n"
      ],
      "text/plain": [
       "  trip_id   def_id toll entry_time exit_time  entry_plaza exit_plaza is_hov\n",
       "1 104255284 2690   0    1514995982 1514996322 3           6          1     \n",
       "  tag_id acct plate id plate_state zip plus4_code fips\n",
       "1 NA     NA   NA    NA NA          NA  NA         NA  "
      ]
     },
     "metadata": {},
     "output_type": "display_data"
    }
   ],
   "source": [
    "trips %>% filter(trip_id == 104255284) %>% execute"
   ]
  },
  {
   "cell_type": "markdown",
   "metadata": {},
   "source": [
    "## Post-join check\n",
    "\n",
    "We are able to get census tracts for around 38% of HOV trips."
   ]
  },
  {
   "cell_type": "code",
   "execution_count": 17,
   "metadata": {},
   "outputs": [],
   "source": [
    "trips_top = trips %>%\n",
    "    group_by(is.na(fips), toll==0) %>%\n",
    "    summarize(n=n()) %>%\n",
    "    execute"
   ]
  },
  {
   "cell_type": "code",
   "execution_count": null,
   "metadata": {},
   "outputs": [],
   "source": []
  }
 ],
 "metadata": {
  "kernelspec": {
   "display_name": "R",
   "language": "R",
   "name": "ir"
  },
  "language_info": {
   "codemirror_mode": "r",
   "file_extension": ".r",
   "mimetype": "text/x-r-source",
   "name": "R",
   "pygments_lexer": "r",
   "version": "3.6.0"
  }
 },
 "nbformat": 4,
 "nbformat_minor": 2
}
