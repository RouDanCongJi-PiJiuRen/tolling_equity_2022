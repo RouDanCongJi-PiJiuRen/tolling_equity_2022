{
 "cells": [
  {
   "cell_type": "markdown",
   "metadata": {},
   "source": [
    "# WSDOT Initial Data Observations\n",
    "\n",
    "This notebook explores the basic relationships and overall quality of the tolling data provided by WSDOT."
   ]
  },
  {
   "cell_type": "code",
   "execution_count": 1,
   "metadata": {},
   "outputs": [],
   "source": [
    "suppressWarnings(suppressMessages(library(tidyverse)))\n",
    "suppressMessages(library(lubridate))\n",
    "library(RSQLCipher)"
   ]
  },
  {
   "cell_type": "code",
   "execution_count": 2,
   "metadata": {},
   "outputs": [],
   "source": [
    "Sys.setenv(\"SQL_KEY\"=Sys.getenv(\"HOT_KEY\"))"
   ]
  },
  {
   "cell_type": "code",
   "execution_count": 3,
   "metadata": {},
   "outputs": [],
   "source": [
    "db_path = \"../../../data/hot.db\"\n",
    "\n",
    "# compute fraction of missing data in a column\n",
    "frac.na = function(x) { mean(is.na(x)) }\n",
    "replace_null = function(x) {\n",
    "    na_if(na_if(na_if(x, \"11183834060272721597\"), \"-8355759756528748941\"), \"8974271441158017554\")\n",
    "}\n",
    "\n",
    "# import tables\n",
    "trips = load_table(db_path, \"trips\") # ~16M rows\n",
    "bos = load_table(db_path, \"bos\") # ~10M rows\n",
    "bad_bos = load_table(db_path, \"bad_bos\") # 36.4K rows\n",
    "census = load_table(db_path, \"census\") # ~331K rows, 331K unique acct/plate pairs\n",
    "bad_census = load_table(db_path, \"bad_census\") # ~46K rows"
   ]
  },
  {
   "cell_type": "code",
   "execution_count": 4,
   "metadata": {},
   "outputs": [],
   "source": [
    "make_2way = function(df, var1, var2) {\n",
    "    table(eval(substitute(var1), df), eval(substitute(var2), df), \n",
    "         dnn=c(substitute(var1), substitute(var2)), useNA=\"ifany\") %>% prop.table %>% round(3)\n",
    "}"
   ]
  },
  {
   "cell_type": "markdown",
   "metadata": {},
   "source": [
    "---\n",
    "## Table overview\n",
    "\n",
    "### `trips`\n",
    "All of the trip data are present, except for ~22% of the `is_hov` and `tag_status` entries.  A quick check of these rows shows that they (nearly) all paid a fare.  Presumably these can therefore be reclassified as `is_hov=0`."
   ]
  },
  {
   "cell_type": "code",
   "execution_count": 110,
   "metadata": {},
   "outputs": [
    {
     "data": {
      "text/html": [
       "<table>\n",
       "<caption>A matrix: 14 × 1 of type dbl</caption>\n",
       "<tbody>\n",
       "\t<tr><th scope=row>trip_id</th><td>0.00000</td></tr>\n",
       "\t<tr><th scope=row>def_id</th><td>0.00000</td></tr>\n",
       "\t<tr><th scope=row>txn_time</th><td>0.00000</td></tr>\n",
       "\t<tr><th scope=row>fare</th><td>0.00000</td></tr>\n",
       "\t<tr><th scope=row>entry_time</th><td>0.00000</td></tr>\n",
       "\t<tr><th scope=row>is_hov</th><td>0.21842</td></tr>\n",
       "\t<tr><th scope=row>exit_time</th><td>0.00000</td></tr>\n",
       "\t<tr><th scope=row>tag_status</th><td>0.21842</td></tr>\n",
       "\t<tr><th scope=row>pay_type_code</th><td>0.00000</td></tr>\n",
       "\t<tr><th scope=row>filter_type</th><td>0.00000</td></tr>\n",
       "\t<tr><th scope=row>entry_plaza_id</th><td>0.00000</td></tr>\n",
       "\t<tr><th scope=row>entry_lane_num</th><td>0.00000</td></tr>\n",
       "\t<tr><th scope=row>exit_plaza_id</th><td>0.00000</td></tr>\n",
       "\t<tr><th scope=row>exit_lane_num</th><td>0.00000</td></tr>\n",
       "</tbody>\n",
       "</table>\n"
      ],
      "text/latex": [
       "A matrix: 14 × 1 of type dbl\n",
       "\\begin{tabular}{r|l}\n",
       "\ttrip\\_id & 0.00000\\\\\n",
       "\tdef\\_id & 0.00000\\\\\n",
       "\ttxn\\_time & 0.00000\\\\\n",
       "\tfare & 0.00000\\\\\n",
       "\tentry\\_time & 0.00000\\\\\n",
       "\tis\\_hov & 0.21842\\\\\n",
       "\texit\\_time & 0.00000\\\\\n",
       "\ttag\\_status & 0.21842\\\\\n",
       "\tpay\\_type\\_code & 0.00000\\\\\n",
       "\tfilter\\_type & 0.00000\\\\\n",
       "\tentry\\_plaza\\_id & 0.00000\\\\\n",
       "\tentry\\_lane\\_num & 0.00000\\\\\n",
       "\texit\\_plaza\\_id & 0.00000\\\\\n",
       "\texit\\_lane\\_num & 0.00000\\\\\n",
       "\\end{tabular}\n"
      ],
      "text/markdown": [
       "\n",
       "A matrix: 14 × 1 of type dbl\n",
       "\n",
       "| trip_id | 0.00000 |\n",
       "| def_id | 0.00000 |\n",
       "| txn_time | 0.00000 |\n",
       "| fare | 0.00000 |\n",
       "| entry_time | 0.00000 |\n",
       "| is_hov | 0.21842 |\n",
       "| exit_time | 0.00000 |\n",
       "| tag_status | 0.21842 |\n",
       "| pay_type_code | 0.00000 |\n",
       "| filter_type | 0.00000 |\n",
       "| entry_plaza_id | 0.00000 |\n",
       "| entry_lane_num | 0.00000 |\n",
       "| exit_plaza_id | 0.00000 |\n",
       "| exit_lane_num | 0.00000 |\n",
       "\n"
      ],
      "text/plain": [
       "               [,1]   \n",
       "trip_id        0.00000\n",
       "def_id         0.00000\n",
       "txn_time       0.00000\n",
       "fare           0.00000\n",
       "entry_time     0.00000\n",
       "is_hov         0.21842\n",
       "exit_time      0.00000\n",
       "tag_status     0.21842\n",
       "pay_type_code  0.00000\n",
       "filter_type    0.00000\n",
       "entry_plaza_id 0.00000\n",
       "entry_lane_num 0.00000\n",
       "exit_plaza_id  0.00000\n",
       "exit_lane_num  0.00000"
      ]
     },
     "metadata": {},
     "output_type": "display_data"
    },
    {
     "data": {
      "text/plain": [
       "      fare == 0\n",
       "is_hov FALSE  TRUE\n",
       "  0    0.453 0.003\n",
       "  1    0.002 0.324\n",
       "  <NA> 0.217 0.001"
      ]
     },
     "metadata": {},
     "output_type": "display_data"
    }
   ],
   "source": [
    "trips %>%\n",
    "    head(50000) %>%\n",
    "    execute %>%\n",
    "    summarize_all(frac.na) %>% t\n",
    "\n",
    "trips %>%\n",
    "    #filter(is.null(is_hov)) %>%\n",
    "    head(50000) %>%\n",
    "    execute %>%\n",
    "    make_2way(is_hov, fare==0)"
   ]
  },
  {
   "cell_type": "markdown",
   "metadata": {},
   "source": [
    "Approximately 33% of trips are HOV trips."
   ]
  },
  {
   "cell_type": "code",
   "execution_count": 91,
   "metadata": {},
   "outputs": [
    {
     "data": {
      "text/html": [
       "<table>\n",
       "<caption>A tibble: 1 × 1</caption>\n",
       "<thead>\n",
       "\t<tr><th scope=col>mean(is_hov, na.rm = T)</th></tr>\n",
       "\t<tr><th scope=col>&lt;dbl&gt;</th></tr>\n",
       "</thead>\n",
       "<tbody>\n",
       "\t<tr><td>0.32556</td></tr>\n",
       "</tbody>\n",
       "</table>\n"
      ],
      "text/latex": [
       "A tibble: 1 × 1\n",
       "\\begin{tabular}{r|l}\n",
       " mean(is\\_hov, na.rm = T)\\\\\n",
       " <dbl>\\\\\n",
       "\\hline\n",
       "\t 0.32556\\\\\n",
       "\\end{tabular}\n"
      ],
      "text/markdown": [
       "\n",
       "A tibble: 1 × 1\n",
       "\n",
       "| mean(is_hov, na.rm = T) &lt;dbl&gt; |\n",
       "|---|\n",
       "| 0.32556 |\n",
       "\n"
      ],
      "text/plain": [
       "  mean(is_hov, na.rm = T)\n",
       "1 0.32556                "
      ]
     },
     "metadata": {},
     "output_type": "display_data"
    }
   ],
   "source": [
    "trips %>%\n",
    "    head(50000) %>%\n",
    "    execute %>%\n",
    "    mutate(is_hov = replace_na(is_hov, 0)) %>%\n",
    "    summarize(mean(is_hov, na.rm=T))"
   ]
  },
  {
   "cell_type": "markdown",
   "metadata": {},
   "source": [
    "### `bos`\n",
    "\n",
    "We are missing around 10% of tag IDs, 6% of \"secondary\" plates, 4% of accounts, and 2% of plate states.  95% of licence plate types are missing, which suggests that the default (no particular type) is coded as `NULL`. We are also missing 0.6% of ZIP codes, and nearly 90% of ZIP+4 codes."
   ]
  },
  {
   "cell_type": "code",
   "execution_count": 144,
   "metadata": {},
   "outputs": [
    {
     "data": {
      "text/html": [
       "<table>\n",
       "<caption>A matrix: 11 × 1 of type dbl</caption>\n",
       "<tbody>\n",
       "\t<tr><th scope=row>txn_id</th><td>0.0000</td></tr>\n",
       "\t<tr><th scope=row>trip_id</th><td>0.0000</td></tr>\n",
       "\t<tr><th scope=row>veh_class</th><td>0.0000</td></tr>\n",
       "\t<tr><th scope=row>tag_id</th><td>0.0496</td></tr>\n",
       "\t<tr><th scope=row>posted_account</th><td>0.0353</td></tr>\n",
       "\t<tr><th scope=row>plate_state_pri</th><td>0.0000</td></tr>\n",
       "\t<tr><th scope=row>plate_state_sec</th><td>0.0680</td></tr>\n",
       "\t<tr><th scope=row>plate_state</th><td>0.0125</td></tr>\n",
       "\t<tr><th scope=row>lic_plate_type_code</th><td>0.9502</td></tr>\n",
       "\t<tr><th scope=row>zip_code</th><td>0.0069</td></tr>\n",
       "\t<tr><th scope=row>plus4_code</th><td>0.8767</td></tr>\n",
       "</tbody>\n",
       "</table>\n"
      ],
      "text/latex": [
       "A matrix: 11 × 1 of type dbl\n",
       "\\begin{tabular}{r|l}\n",
       "\ttxn\\_id & 0.0000\\\\\n",
       "\ttrip\\_id & 0.0000\\\\\n",
       "\tveh\\_class & 0.0000\\\\\n",
       "\ttag\\_id & 0.0496\\\\\n",
       "\tposted\\_account & 0.0353\\\\\n",
       "\tplate\\_state\\_pri & 0.0000\\\\\n",
       "\tplate\\_state\\_sec & 0.0680\\\\\n",
       "\tplate\\_state & 0.0125\\\\\n",
       "\tlic\\_plate\\_type\\_code & 0.9502\\\\\n",
       "\tzip\\_code & 0.0069\\\\\n",
       "\tplus4\\_code & 0.8767\\\\\n",
       "\\end{tabular}\n"
      ],
      "text/markdown": [
       "\n",
       "A matrix: 11 × 1 of type dbl\n",
       "\n",
       "| txn_id | 0.0000 |\n",
       "| trip_id | 0.0000 |\n",
       "| veh_class | 0.0000 |\n",
       "| tag_id | 0.0496 |\n",
       "| posted_account | 0.0353 |\n",
       "| plate_state_pri | 0.0000 |\n",
       "| plate_state_sec | 0.0680 |\n",
       "| plate_state | 0.0125 |\n",
       "| lic_plate_type_code | 0.9502 |\n",
       "| zip_code | 0.0069 |\n",
       "| plus4_code | 0.8767 |\n",
       "\n"
      ],
      "text/plain": [
       "                    [,1]  \n",
       "txn_id              0.0000\n",
       "trip_id             0.0000\n",
       "veh_class           0.0000\n",
       "tag_id              0.0496\n",
       "posted_account      0.0353\n",
       "plate_state_pri     0.0000\n",
       "plate_state_sec     0.0680\n",
       "plate_state         0.0125\n",
       "lic_plate_type_code 0.9502\n",
       "zip_code            0.0069\n",
       "plus4_code          0.8767"
      ]
     },
     "metadata": {},
     "output_type": "display_data"
    }
   ],
   "source": [
    "bos.d = bos %>%\n",
    "    head(10000) %>%\n",
    "    execute %>%\n",
    "    mutate(plate_state_sec = na_if(plate_state_sec, -8355759756528748941))\n",
    "\n",
    "t(summarize_all(bos.d, frac.na))\n",
    "\n",
    "#sort(table(bos.d$plate_state_pri, useNA=\"ifany\"), decreasing=T)[1:10]"
   ]
  },
  {
   "cell_type": "markdown",
   "metadata": {},
   "source": [
    "There are approximately 1.6 million unique account/plate pairs, out of the 10 million or so rows in the table."
   ]
  },
  {
   "cell_type": "code",
   "execution_count": 18,
   "metadata": {},
   "outputs": [
    {
     "data": {
      "text/html": [
       "<table>\n",
       "<caption>A spec_tbl_df: 1 × 1</caption>\n",
       "<thead>\n",
       "\t<tr><th scope=col>count</th></tr>\n",
       "\t<tr><th scope=col>&lt;dbl&gt;</th></tr>\n",
       "</thead>\n",
       "<tbody>\n",
       "\t<tr><td>1644590</td></tr>\n",
       "</tbody>\n",
       "</table>\n"
      ],
      "text/latex": [
       "A spec_tbl_df: 1 × 1\n",
       "\\begin{tabular}{r|l}\n",
       " count\\\\\n",
       " <dbl>\\\\\n",
       "\\hline\n",
       "\t 1644590\\\\\n",
       "\\end{tabular}\n"
      ],
      "text/markdown": [
       "\n",
       "A spec_tbl_df: 1 × 1\n",
       "\n",
       "| count &lt;dbl&gt; |\n",
       "|---|\n",
       "| 1644590 |\n",
       "\n"
      ],
      "text/plain": [
       "  count  \n",
       "1 1644590"
      ]
     },
     "metadata": {},
     "output_type": "display_data"
    }
   ],
   "source": [
    "# takes a while to run!\n",
    "bos %>%\n",
    "    select(posted_account, plate_state_sec) %>%\n",
    "    distinct %>%\n",
    "    summarize(count=n()) %>%\n",
    "    execute"
   ]
  },
  {
   "cell_type": "markdown",
   "metadata": {},
   "source": [
    "### `bad_bos`\n",
    "\n",
    "Out of the 36,000 rows in this table, there are only 3,000 unique account/plate pairs.  This represents 0.2% each of trips and accounts.  It is probably not worth it to try to deduplicate this table and append to the existing BOS table."
   ]
  },
  {
   "cell_type": "code",
   "execution_count": null,
   "metadata": {},
   "outputs": [],
   "source": [
    "# 3016 unique acct/plate pairs\n",
    "bad_bos %>%\n",
    "    select(posted_account, plate_state_sec) %>%\n",
    "    distinct %>%\n",
    "    summarize(count=n()) %>%\n",
    "    execute"
   ]
  },
  {
   "cell_type": "markdown",
   "metadata": {},
   "source": [
    "### `census`\n",
    "\n",
    "This table has no missing data."
   ]
  },
  {
   "cell_type": "code",
   "execution_count": 23,
   "metadata": {},
   "outputs": [
    {
     "data": {
      "text/html": [
       "<table>\n",
       "<caption>A matrix: 10 × 1 of type dbl</caption>\n",
       "<tbody>\n",
       "\t<tr><th scope=row>id</th><td>0</td></tr>\n",
       "\t<tr><th scope=row>is_plate</th><td>0</td></tr>\n",
       "\t<tr><th scope=row>city</th><td>0</td></tr>\n",
       "\t<tr><th scope=row>state</th><td>0</td></tr>\n",
       "\t<tr><th scope=row>zip_code</th><td>0</td></tr>\n",
       "\t<tr><th scope=row>is_exact</th><td>0</td></tr>\n",
       "\t<tr><th scope=row>fips</th><td>0</td></tr>\n",
       "\t<tr><th scope=row>county</th><td>0</td></tr>\n",
       "\t<tr><th scope=row>cty_subdivision</th><td>0</td></tr>\n",
       "\t<tr><th scope=row>block</th><td>0</td></tr>\n",
       "</tbody>\n",
       "</table>\n"
      ],
      "text/latex": [
       "A matrix: 10 × 1 of type dbl\n",
       "\\begin{tabular}{r|l}\n",
       "\tid & 0\\\\\n",
       "\tis\\_plate & 0\\\\\n",
       "\tcity & 0\\\\\n",
       "\tstate & 0\\\\\n",
       "\tzip\\_code & 0\\\\\n",
       "\tis\\_exact & 0\\\\\n",
       "\tfips & 0\\\\\n",
       "\tcounty & 0\\\\\n",
       "\tcty\\_subdivision & 0\\\\\n",
       "\tblock & 0\\\\\n",
       "\\end{tabular}\n"
      ],
      "text/markdown": [
       "\n",
       "A matrix: 10 × 1 of type dbl\n",
       "\n",
       "| id | 0 |\n",
       "| is_plate | 0 |\n",
       "| city | 0 |\n",
       "| state | 0 |\n",
       "| zip_code | 0 |\n",
       "| is_exact | 0 |\n",
       "| fips | 0 |\n",
       "| county | 0 |\n",
       "| cty_subdivision | 0 |\n",
       "| block | 0 |\n",
       "\n"
      ],
      "text/plain": [
       "                [,1]\n",
       "id              0   \n",
       "is_plate        0   \n",
       "city            0   \n",
       "state           0   \n",
       "zip_code        0   \n",
       "is_exact        0   \n",
       "fips            0   \n",
       "county          0   \n",
       "cty_subdivision 0   \n",
       "block           0   "
      ]
     },
     "metadata": {},
     "output_type": "display_data"
    }
   ],
   "source": [
    "# ~331K rows, 331K unique acct/plate pairs\n",
    "census %>%\n",
    "    head(1000) %>%\n",
    "    execute %>%\n",
    "    summarize_all(frac.na) %>% t"
   ]
  },
  {
   "cell_type": "markdown",
   "metadata": {},
   "source": [
    "### `bad_census`\n",
    "\n",
    "The vast majority of these 46,000 duplicate census records do not have a geocode match.  Only 5,000 do.  Given this small number, it probably does not make sense to try to deduplicate these records and append them to the existing census file."
   ]
  },
  {
   "cell_type": "code",
   "execution_count": 25,
   "metadata": {},
   "outputs": [
    {
     "data": {
      "text/html": [
       "<table>\n",
       "<caption>A matrix: 12 × 1 of type dbl</caption>\n",
       "<tbody>\n",
       "\t<tr><th scope=row>id</th><td>0.000</td></tr>\n",
       "\t<tr><th scope=row>account</th><td>0.000</td></tr>\n",
       "\t<tr><th scope=row>plate</th><td>1.000</td></tr>\n",
       "\t<tr><th scope=row>city</th><td>0.000</td></tr>\n",
       "\t<tr><th scope=row>state</th><td>0.000</td></tr>\n",
       "\t<tr><th scope=row>zip_code</th><td>0.000</td></tr>\n",
       "\t<tr><th scope=row>matchfound</th><td>0.000</td></tr>\n",
       "\t<tr><th scope=row>exactness</th><td>0.922</td></tr>\n",
       "\t<tr><th scope=row>STATE.1</th><td>0.922</td></tr>\n",
       "\t<tr><th scope=row>county</th><td>0.922</td></tr>\n",
       "\t<tr><th scope=row>cty_subdivision</th><td>0.922</td></tr>\n",
       "\t<tr><th scope=row>block</th><td>0.922</td></tr>\n",
       "</tbody>\n",
       "</table>\n"
      ],
      "text/latex": [
       "A matrix: 12 × 1 of type dbl\n",
       "\\begin{tabular}{r|l}\n",
       "\tid & 0.000\\\\\n",
       "\taccount & 0.000\\\\\n",
       "\tplate & 1.000\\\\\n",
       "\tcity & 0.000\\\\\n",
       "\tstate & 0.000\\\\\n",
       "\tzip\\_code & 0.000\\\\\n",
       "\tmatchfound & 0.000\\\\\n",
       "\texactness & 0.922\\\\\n",
       "\tSTATE.1 & 0.922\\\\\n",
       "\tcounty & 0.922\\\\\n",
       "\tcty\\_subdivision & 0.922\\\\\n",
       "\tblock & 0.922\\\\\n",
       "\\end{tabular}\n"
      ],
      "text/markdown": [
       "\n",
       "A matrix: 12 × 1 of type dbl\n",
       "\n",
       "| id | 0.000 |\n",
       "| account | 0.000 |\n",
       "| plate | 1.000 |\n",
       "| city | 0.000 |\n",
       "| state | 0.000 |\n",
       "| zip_code | 0.000 |\n",
       "| matchfound | 0.000 |\n",
       "| exactness | 0.922 |\n",
       "| STATE.1 | 0.922 |\n",
       "| county | 0.922 |\n",
       "| cty_subdivision | 0.922 |\n",
       "| block | 0.922 |\n",
       "\n"
      ],
      "text/plain": [
       "                [,1] \n",
       "id              0.000\n",
       "account         0.000\n",
       "plate           1.000\n",
       "city            0.000\n",
       "state           0.000\n",
       "zip_code        0.000\n",
       "matchfound      0.000\n",
       "exactness       0.922\n",
       "STATE.1         0.922\n",
       "county          0.922\n",
       "cty_subdivision 0.922\n",
       "block           0.922"
      ]
     },
     "metadata": {},
     "output_type": "display_data"
    },
    {
     "data": {
      "text/html": [
       "<table>\n",
       "<caption>A spec_tbl_df: 1 × 1</caption>\n",
       "<thead>\n",
       "\t<tr><th scope=col>count</th></tr>\n",
       "\t<tr><th scope=col>&lt;dbl&gt;</th></tr>\n",
       "</thead>\n",
       "<tbody>\n",
       "\t<tr><td>5503</td></tr>\n",
       "</tbody>\n",
       "</table>\n"
      ],
      "text/latex": [
       "A spec_tbl_df: 1 × 1\n",
       "\\begin{tabular}{r|l}\n",
       " count\\\\\n",
       " <dbl>\\\\\n",
       "\\hline\n",
       "\t 5503\\\\\n",
       "\\end{tabular}\n"
      ],
      "text/markdown": [
       "\n",
       "A spec_tbl_df: 1 × 1\n",
       "\n",
       "| count &lt;dbl&gt; |\n",
       "|---|\n",
       "| 5503 |\n",
       "\n"
      ],
      "text/plain": [
       "  count\n",
       "1 5503 "
      ]
     },
     "metadata": {},
     "output_type": "display_data"
    }
   ],
   "source": [
    "bad_census %>%\n",
    "    head(1000) %>%\n",
    "    execute %>%\n",
    "    summarize_all(frac.na) %>% t\n",
    "\n",
    "bad_census %>%\n",
    "    filter(matchfound == \"Match\") %>%\n",
    "    summarize(count=n()) %>%\n",
    "    execute"
   ]
  },
  {
   "cell_type": "markdown",
   "metadata": {},
   "source": [
    "***\n",
    "## Joining Trip, BOS, and Census Block Data"
   ]
  },
  {
   "cell_type": "markdown",
   "metadata": {},
   "source": [
    "### Trip-BOS join\n",
    "Joining trip to BOS data is relatively quick, once an index is built for `trip_id` in the BOS table.  We notice immediately, however, that over 40% of the trips are unable to be matched to an account or a plate."
   ]
  },
  {
   "cell_type": "code",
   "execution_count": 45,
   "metadata": {},
   "outputs": [
    {
     "data": {
      "text/html": [
       "<table>\n",
       "<caption>A matrix: 15 × 1 of type dbl</caption>\n",
       "<tbody>\n",
       "\t<tr><th scope=row>trip_id</th><td>0.00000</td></tr>\n",
       "\t<tr><th scope=row>def_id</th><td>0.00000</td></tr>\n",
       "\t<tr><th scope=row>fare</th><td>0.00000</td></tr>\n",
       "\t<tr><th scope=row>entry_time</th><td>0.00000</td></tr>\n",
       "\t<tr><th scope=row>is_hov</th><td>0.00000</td></tr>\n",
       "\t<tr><th scope=row>exit_time</th><td>0.00000</td></tr>\n",
       "\t<tr><th scope=row>pay_type_code</th><td>0.00000</td></tr>\n",
       "\t<tr><th scope=row>entry_plaza_id</th><td>0.00000</td></tr>\n",
       "\t<tr><th scope=row>exit_plaza_id</th><td>0.00000</td></tr>\n",
       "\t<tr><th scope=row>tag_id</th><td>0.56156</td></tr>\n",
       "\t<tr><th scope=row>acct</th><td>0.49646</td></tr>\n",
       "\t<tr><th scope=row>plate</th><td>0.47238</td></tr>\n",
       "\t<tr><th scope=row>plate_pri</th><td>0.42864</td></tr>\n",
       "\t<tr><th scope=row>plate_state</th><td>0.43348</td></tr>\n",
       "\t<tr><th scope=row>zip_code</th><td>0.43744</td></tr>\n",
       "</tbody>\n",
       "</table>\n"
      ],
      "text/latex": [
       "A matrix: 15 × 1 of type dbl\n",
       "\\begin{tabular}{r|l}\n",
       "\ttrip\\_id & 0.00000\\\\\n",
       "\tdef\\_id & 0.00000\\\\\n",
       "\tfare & 0.00000\\\\\n",
       "\tentry\\_time & 0.00000\\\\\n",
       "\tis\\_hov & 0.00000\\\\\n",
       "\texit\\_time & 0.00000\\\\\n",
       "\tpay\\_type\\_code & 0.00000\\\\\n",
       "\tentry\\_plaza\\_id & 0.00000\\\\\n",
       "\texit\\_plaza\\_id & 0.00000\\\\\n",
       "\ttag\\_id & 0.56156\\\\\n",
       "\tacct & 0.49646\\\\\n",
       "\tplate & 0.47238\\\\\n",
       "\tplate\\_pri & 0.42864\\\\\n",
       "\tplate\\_state & 0.43348\\\\\n",
       "\tzip\\_code & 0.43744\\\\\n",
       "\\end{tabular}\n"
      ],
      "text/markdown": [
       "\n",
       "A matrix: 15 × 1 of type dbl\n",
       "\n",
       "| trip_id | 0.00000 |\n",
       "| def_id | 0.00000 |\n",
       "| fare | 0.00000 |\n",
       "| entry_time | 0.00000 |\n",
       "| is_hov | 0.00000 |\n",
       "| exit_time | 0.00000 |\n",
       "| pay_type_code | 0.00000 |\n",
       "| entry_plaza_id | 0.00000 |\n",
       "| exit_plaza_id | 0.00000 |\n",
       "| tag_id | 0.56156 |\n",
       "| acct | 0.49646 |\n",
       "| plate | 0.47238 |\n",
       "| plate_pri | 0.42864 |\n",
       "| plate_state | 0.43348 |\n",
       "| zip_code | 0.43744 |\n",
       "\n"
      ],
      "text/plain": [
       "               [,1]   \n",
       "trip_id        0.00000\n",
       "def_id         0.00000\n",
       "fare           0.00000\n",
       "entry_time     0.00000\n",
       "is_hov         0.00000\n",
       "exit_time      0.00000\n",
       "pay_type_code  0.00000\n",
       "entry_plaza_id 0.00000\n",
       "exit_plaza_id  0.00000\n",
       "tag_id         0.56156\n",
       "acct           0.49646\n",
       "plate          0.47238\n",
       "plate_pri      0.42864\n",
       "plate_state    0.43348\n",
       "zip_code       0.43744"
      ]
     },
     "metadata": {},
     "output_type": "display_data"
    }
   ],
   "source": [
    "trips_bos_q = left_join(\n",
    "    select(trips, -filter_type, -tag_status, -txn_time, -entry_lane_num, -exit_lane_num),\n",
    "    select(bos, trip_id, tag_id, acct=posted_account, plate=plate_state_sec, plate_pri=plate_state_pri, plate_state, zip_code), \n",
    "    by=\"trip_id\") %>%\n",
    "    head(50000)\n",
    "\n",
    "trips_bos = execute(trips_bos_q, col_types=\"iidiliiiicccccc\") %>%\n",
    "    mutate(is_hov = replace_na(is_hov, 0),\n",
    "           plate = replace_null(plate))\n",
    "t(summarise_all(trips_bos, frac.na))"
   ]
  },
  {
   "cell_type": "markdown",
   "metadata": {},
   "source": [
    "Digging into the missing data more, we observe the following\n",
    "\n",
    "- Whenever we have an account, we also have a plate.  But sometimes we have a plate without an account.\n",
    "- About half of trips have an account, and about 57% have a plate."
   ]
  },
  {
   "cell_type": "code",
   "execution_count": 42,
   "metadata": {},
   "outputs": [
    {
     "data": {
      "text/plain": [
       "           is.na(plate)\n",
       "is.na(acct) FALSE  TRUE\n",
       "      FALSE 0.465 0.039\n",
       "      TRUE  0.063 0.434"
      ]
     },
     "metadata": {},
     "output_type": "display_data"
    },
    {
     "data": {
      "text/plain": [
       "           is.na(zip_code)\n",
       "is.na(acct) FALSE  TRUE\n",
       "      FALSE 0.501 0.003\n",
       "      TRUE  0.062 0.435"
      ]
     },
     "metadata": {},
     "output_type": "display_data"
    },
    {
     "data": {
      "text/plain": [
       "            is.na(zip_code)\n",
       "is.na(plate) FALSE  TRUE\n",
       "       FALSE 0.519 0.008\n",
       "       TRUE  0.043 0.429"
      ]
     },
     "metadata": {},
     "output_type": "display_data"
    }
   ],
   "source": [
    "make_2way(trips_bos, is.na(acct), is.na(plate))\n",
    "make_2way(trips_bos, is.na(acct), is.na(zip_code))\n",
    "make_2way(trips_bos, is.na(plate), is.na(zip_code))"
   ]
  },
  {
   "cell_type": "markdown",
   "metadata": {},
   "source": [
    "Around 66% of the missing accounts, and 76% of the missing plates are HOV trips. \n",
    "**No HOV trips have accounts, plates, or tag information.**"
   ]
  },
  {
   "cell_type": "code",
   "execution_count": 10,
   "metadata": {},
   "outputs": [
    {
     "data": {
      "text/plain": [
       "           is_hov\n",
       "is.na(acct)     0     1\n",
       "      FALSE 0.504 0.000\n",
       "      TRUE  0.171 0.326"
      ]
     },
     "metadata": {},
     "output_type": "display_data"
    },
    {
     "data": {
      "text/plain": [
       "            is_hov\n",
       "is.na(plate)     0     1\n",
       "       FALSE 0.571 0.000\n",
       "       TRUE  0.103 0.326"
      ]
     },
     "metadata": {},
     "output_type": "display_data"
    },
    {
     "data": {
      "text/plain": [
       "             is_hov\n",
       "is.na(tag_id)     0     1\n",
       "        FALSE 0.438 0.000\n",
       "        TRUE  0.236 0.326"
      ]
     },
     "metadata": {},
     "output_type": "display_data"
    }
   ],
   "source": [
    "make_2way(trips_bos, is.na(acct), is_hov)\n",
    "make_2way(trips_bos, is.na(plate), is_hov)\n",
    "make_2way(trips_bos, is.na(tag_id), is_hov)"
   ]
  },
  {
   "cell_type": "markdown",
   "metadata": {},
   "source": [
    "98% of license plates are from Washington.  They do not account for the missing non-HOV accounts."
   ]
  },
  {
   "cell_type": "code",
   "execution_count": 11,
   "metadata": {},
   "outputs": [
    {
     "data": {
      "text/html": [
       "509"
      ],
      "text/latex": [
       "509"
      ],
      "text/markdown": [
       "509"
      ],
      "text/plain": [
       "[1] 509"
      ]
     },
     "metadata": {},
     "output_type": "display_data"
    },
    {
     "name": "stdout",
     "output_type": "stream",
     "text": [
      "\n"
     ]
    },
    {
     "data": {
      "text/plain": [
       "\n",
       "    AK     AZ     BC     CA     CO     DE     FL     GA     HI     IA     ID \n",
       "0.0002 0.0000 0.0008 0.0051 0.0003 0.0000 0.0004 0.0000 0.0001 0.0002 0.0007 \n",
       "    IL     IN     KS     MA     MD     MI     MN     MT     NC     NV     NY \n",
       "0.0002 0.0001 0.0000 0.0000 0.0000 0.0001 0.0001 0.0002 0.0000 0.0001 0.0001 \n",
       "    OH     OR     PA     SC     TX     UT     VA     VT     WA     WY \n",
       "0.0000 0.0082 0.0001 0.0000 0.0004 0.0002 0.0001 0.0001 0.9820 0.0001 "
      ]
     },
     "metadata": {},
     "output_type": "display_data"
    },
    {
     "name": "stdout",
     "output_type": "stream",
     "text": [
      "\n",
      "\n"
     ]
    },
    {
     "data": {
      "text/plain": [
       "                     plate_state == \"WA\"\n",
       "is.na(acct) & !is_hov FALSE  TRUE  <NA>\n",
       "                FALSE 0.007 0.492 0.330\n",
       "                TRUE  0.004 0.064 0.103"
      ]
     },
     "metadata": {},
     "output_type": "display_data"
    }
   ],
   "source": [
    "sum(trips_bos$plate_state != \"WA\", na.rm=T) \n",
    "cat(\"\\n\")\n",
    "table(trips_bos$plate_state) %>% prop.table %>% round(4)\n",
    "cat(\"\\n\\n\")\n",
    "make_2way(trips_bos, is.na(acct) & !is_hov, plate_state==\"WA\")"
   ]
  },
  {
   "cell_type": "markdown",
   "metadata": {},
   "source": [
    "### Trip-Census join\n",
    "After joining BOS and census data to the trips table, nearly 60% of the trips are unable to be matched to a census block group."
   ]
  },
  {
   "cell_type": "code",
   "execution_count": 16,
   "metadata": {},
   "outputs": [
    {
     "data": {
      "text/html": [
       "<table>\n",
       "<caption>A matrix: 17 × 1 of type dbl</caption>\n",
       "<tbody>\n",
       "\t<tr><th scope=row>trip_id</th><td>0.00000</td></tr>\n",
       "\t<tr><th scope=row>def_id</th><td>0.00000</td></tr>\n",
       "\t<tr><th scope=row>fare</th><td>0.00000</td></tr>\n",
       "\t<tr><th scope=row>entry_time</th><td>0.00000</td></tr>\n",
       "\t<tr><th scope=row>is_hov</th><td>0.21842</td></tr>\n",
       "\t<tr><th scope=row>exit_time</th><td>0.00000</td></tr>\n",
       "\t<tr><th scope=row>pay_type_code</th><td>0.00000</td></tr>\n",
       "\t<tr><th scope=row>entry_plaza_id</th><td>0.00000</td></tr>\n",
       "\t<tr><th scope=row>exit_plaza_id</th><td>0.00000</td></tr>\n",
       "\t<tr><th scope=row>tag_id</th><td>0.56156</td></tr>\n",
       "\t<tr><th scope=row>acct</th><td>0.49646</td></tr>\n",
       "\t<tr><th scope=row>plate</th><td>0.42864</td></tr>\n",
       "\t<tr><th scope=row>plate_pri</th><td>0.42864</td></tr>\n",
       "\t<tr><th scope=row>plate_state</th><td>0.43348</td></tr>\n",
       "\t<tr><th scope=row>zip_code</th><td>0.43744</td></tr>\n",
       "\t<tr><th scope=row>id</th><td>0.42864</td></tr>\n",
       "\t<tr><th scope=row>fips</th><td>0.58704</td></tr>\n",
       "</tbody>\n",
       "</table>\n"
      ],
      "text/latex": [
       "A matrix: 17 × 1 of type dbl\n",
       "\\begin{tabular}{r|l}\n",
       "\ttrip\\_id & 0.00000\\\\\n",
       "\tdef\\_id & 0.00000\\\\\n",
       "\tfare & 0.00000\\\\\n",
       "\tentry\\_time & 0.00000\\\\\n",
       "\tis\\_hov & 0.21842\\\\\n",
       "\texit\\_time & 0.00000\\\\\n",
       "\tpay\\_type\\_code & 0.00000\\\\\n",
       "\tentry\\_plaza\\_id & 0.00000\\\\\n",
       "\texit\\_plaza\\_id & 0.00000\\\\\n",
       "\ttag\\_id & 0.56156\\\\\n",
       "\tacct & 0.49646\\\\\n",
       "\tplate & 0.42864\\\\\n",
       "\tplate\\_pri & 0.42864\\\\\n",
       "\tplate\\_state & 0.43348\\\\\n",
       "\tzip\\_code & 0.43744\\\\\n",
       "\tid & 0.42864\\\\\n",
       "\tfips & 0.58704\\\\\n",
       "\\end{tabular}\n"
      ],
      "text/markdown": [
       "\n",
       "A matrix: 17 × 1 of type dbl\n",
       "\n",
       "| trip_id | 0.00000 |\n",
       "| def_id | 0.00000 |\n",
       "| fare | 0.00000 |\n",
       "| entry_time | 0.00000 |\n",
       "| is_hov | 0.21842 |\n",
       "| exit_time | 0.00000 |\n",
       "| pay_type_code | 0.00000 |\n",
       "| entry_plaza_id | 0.00000 |\n",
       "| exit_plaza_id | 0.00000 |\n",
       "| tag_id | 0.56156 |\n",
       "| acct | 0.49646 |\n",
       "| plate | 0.42864 |\n",
       "| plate_pri | 0.42864 |\n",
       "| plate_state | 0.43348 |\n",
       "| zip_code | 0.43744 |\n",
       "| id | 0.42864 |\n",
       "| fips | 0.58704 |\n",
       "\n"
      ],
      "text/plain": [
       "               [,1]   \n",
       "trip_id        0.00000\n",
       "def_id         0.00000\n",
       "fare           0.00000\n",
       "entry_time     0.00000\n",
       "is_hov         0.21842\n",
       "exit_time      0.00000\n",
       "pay_type_code  0.00000\n",
       "entry_plaza_id 0.00000\n",
       "exit_plaza_id  0.00000\n",
       "tag_id         0.56156\n",
       "acct           0.49646\n",
       "plate          0.42864\n",
       "plate_pri      0.42864\n",
       "plate_state    0.43348\n",
       "zip_code       0.43744\n",
       "id             0.42864\n",
       "fips           0.58704"
      ]
     },
     "metadata": {},
     "output_type": "display_data"
    }
   ],
   "source": [
    "trips_bos_census = left_join(\n",
    "    mutate(trips_bos_q, id=coalesce(acct, plate, plate_pri)),\n",
    "    select(census, id, fips),\n",
    "    by=\"id\") %>% \n",
    "execute(col_types=\"iidiliiiicccccccc\")\n",
    "    \n",
    "t(summarise_all(trips_bos_census, frac.na))\n",
    "\n",
    "# assume NA is_hov are FALSE.\n",
    "trips_bos_census = mutate(trips_bos_census, is_hov = replace_na(is_hov, 0))"
   ]
  },
  {
   "cell_type": "markdown",
   "metadata": {},
   "source": [
    "Among non-HOV trips, only 61% of trips can be matched to a census block group.\n",
    "Among _domestic_ non-HOV trips, **only 73% of trips can be matched to a census block group.**"
   ]
  },
  {
   "cell_type": "code",
   "execution_count": 17,
   "metadata": {},
   "outputs": [
    {
     "data": {
      "text/plain": [
       "                          is.na(fips)\n",
       "is.na(acct) & is.na(plate) FALSE  TRUE\n",
       "                     FALSE 0.413 0.158\n",
       "                     TRUE  0.000 0.429"
      ]
     },
     "metadata": {},
     "output_type": "display_data"
    },
    {
     "data": {
      "text/plain": [
       "               is.na(fips)\n",
       "is.na(zip_code) FALSE  TRUE\n",
       "          FALSE 0.413 0.150\n",
       "          TRUE  0.000 0.437"
      ]
     },
     "metadata": {},
     "output_type": "display_data"
    },
    {
     "data": {
      "text/plain": [
       "                               is.na(fips)\n",
       "!is.na(acct) & !is.na(zip_code) FALSE  TRUE\n",
       "                          FALSE 0.028 0.471\n",
       "                          TRUE  0.385 0.116"
      ]
     },
     "metadata": {},
     "output_type": "display_data"
    },
    {
     "data": {
      "text/plain": [
       "            !is_hov\n",
       "!is.na(fips) FALSE  TRUE\n",
       "       FALSE 0.326 0.261\n",
       "       TRUE  0.000 0.413"
      ]
     },
     "metadata": {},
     "output_type": "display_data"
    },
    {
     "data": {
      "text/plain": [
       "            !is_hov & plate_state == \"WA\"\n",
       "!is.na(fips) FALSE  TRUE  <NA>\n",
       "       FALSE 0.333 0.149 0.105\n",
       "       TRUE  0.003 0.407 0.003"
      ]
     },
     "metadata": {},
     "output_type": "display_data"
    }
   ],
   "source": [
    "make_2way(trips_bos_census, is.na(acct) & is.na(plate), is.na(fips))\n",
    "make_2way(trips_bos_census, is.na(zip_code), is.na(fips))\n",
    "make_2way(trips_bos_census, !is.na(acct) & !is.na(zip_code), is.na(fips))\n",
    "make_2way(trips_bos_census, !is.na(fips), !is_hov)\n",
    "make_2way(trips_bos_census, !is.na(fips), !is_hov & plate_state==\"WA\")"
   ]
  },
  {
   "cell_type": "markdown",
   "metadata": {},
   "source": [
    "All of the matched census records are in-state."
   ]
  },
  {
   "cell_type": "code",
   "execution_count": 136,
   "metadata": {},
   "outputs": [
    {
     "data": {
      "text/plain": [
       "\n",
       "   WA \n",
       "19242 "
      ]
     },
     "metadata": {},
     "output_type": "display_data"
    }
   ],
   "source": [
    "table(trips_bos_census$state)"
   ]
  },
  {
   "cell_type": "code",
   "execution_count": 39,
   "metadata": {},
   "outputs": [
    {
     "data": {
      "text/plain": [
       "                     plate_state == \"WA\"\n",
       "is.na(fips) & !is_hov FALSE  TRUE  <NA>\n",
       "                FALSE 0.003 0.407 0.328\n",
       "                TRUE  0.007 0.149 0.105"
      ]
     },
     "metadata": {},
     "output_type": "display_data"
    },
    {
     "data": {
      "text/plain": [
       "              plate_state == \"WA\"\n",
       "is.na(trip_id) FALSE  TRUE  <NA>\n",
       "         FALSE 0.010 0.556 0.433"
      ]
     },
     "metadata": {},
     "output_type": "display_data"
    }
   ],
   "source": [
    "make_2way(trips_bos_census, is.na(fips) & !is_hov, plate_state==\"WA\")\n",
    "make_2way(trips_bos_census, is.na(trip_id), plate_state==\"WA\")"
   ]
  },
  {
   "cell_type": "markdown",
   "metadata": {},
   "source": [
    "Around 74% of users can be matched to census data."
   ]
  },
  {
   "cell_type": "code",
   "execution_count": 27,
   "metadata": {},
   "outputs": [],
   "source": [
    "users_bos_census = left_join(\n",
    "    mutate(trips_bos_q, id=coalesce(acct, plate, plate_pri)),\n",
    "    select(census, id, state, fips),\n",
    "    by=\"id\") %>% \n",
    "    select(id, fips) %>%\n",
    "    group_by(id) %>%\n",
    "    summarize(fips=mean(!is.na(fips)), count=n()) %>%\n",
    "execute"
   ]
  },
  {
   "cell_type": "code",
   "execution_count": 28,
   "metadata": {},
   "outputs": [
    {
     "data": {
      "text/html": [
       "0.738541190802497"
      ],
      "text/latex": [
       "0.738541190802497"
      ],
      "text/markdown": [
       "0.738541190802497"
      ],
      "text/plain": [
       "[1] 0.7385412"
      ]
     },
     "metadata": {},
     "output_type": "display_data"
    }
   ],
   "source": [
    "mean(users_bos_census$fips)"
   ]
  },
  {
   "cell_type": "markdown",
   "metadata": {},
   "source": [
    "73.2% of users who cannot be matched to a census record used the system only once, compared to 70.9% of users who could be matched.  This difference is significant at the 1% level."
   ]
  },
  {
   "cell_type": "code",
   "execution_count": 35,
   "metadata": {},
   "outputs": [
    {
     "data": {
      "text/plain": [
       "    count > 1\n",
       "fips FALSE  TRUE\n",
       "   0 0.191 0.070\n",
       "   1 0.523 0.215"
      ]
     },
     "metadata": {},
     "output_type": "display_data"
    },
    {
     "data": {
      "text/plain": [
       "\n",
       "\tPearson's Chi-squared test with Yates' continuity correction\n",
       "\n",
       "data:  fips and count > 1\n",
       "X-squared = 10.301, df = 1, p-value = 0.00133\n"
      ]
     },
     "metadata": {},
     "output_type": "display_data"
    }
   ],
   "source": [
    "make_2way(users_bos_census, fips, count>1)\n",
    "with(users_bos_census, chisq.test(fips, count>1))"
   ]
  },
  {
   "cell_type": "code",
   "execution_count": null,
   "metadata": {},
   "outputs": [],
   "source": []
  }
 ],
 "metadata": {
  "kernelspec": {
   "display_name": "R",
   "language": "R",
   "name": "ir"
  },
  "language_info": {
   "codemirror_mode": "r",
   "file_extension": ".r",
   "mimetype": "text/x-r-source",
   "name": "R",
   "pygments_lexer": "r",
   "version": "3.6.0"
  }
 },
 "nbformat": 4,
 "nbformat_minor": 2
}
