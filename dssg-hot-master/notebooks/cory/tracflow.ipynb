{
 "cells": [
  {
   "cell_type": "markdown",
   "metadata": {},
   "source": [
    "# TRACFLOW Data"
   ]
  },
  {
   "cell_type": "code",
   "execution_count": 1,
   "metadata": {},
   "outputs": [],
   "source": [
    "suppressMessages(library(lubridate))\n",
    "suppressWarnings(suppressMessages(library(tidyverse)))\n",
    "\n",
    "select = dplyr::select"
   ]
  },
  {
   "cell_type": "markdown",
   "metadata": {},
   "source": [
    "## Parsing and reshaping"
   ]
  },
  {
   "cell_type": "code",
   "execution_count": 2,
   "metadata": {},
   "outputs": [
    {
     "name": "stderr",
     "output_type": "stream",
     "text": [
      "Parsed with column specification:\n",
      "cols(\n",
      "  .default = col_double(),\n",
      "  Time = \u001b[31mcol_character()\u001b[39m\n",
      ")\n",
      "See spec(...) for full column specifications.\n"
     ]
    }
   ],
   "source": [
    "tt = read_csv(\"../../data/travel_times/concatenated_405_travel_times_5am_to_8pm_5_min.csv\")"
   ]
  },
  {
   "cell_type": "code",
   "execution_count": null,
   "metadata": {},
   "outputs": [],
   "source": [
    "vol = read_csv(\"../../../data/concatenated_405_volumes_5am_to_8pm.csv\")\n",
    "sp = read_csv(\"../../../data/concatenated_405_speeds_5am_to_8pm.csv\")"
   ]
  },
  {
   "cell_type": "code",
   "execution_count": 3,
   "metadata": {},
   "outputs": [
    {
     "data": {
      "text/html": [
       "46980"
      ],
      "text/latex": [
       "46980"
      ],
      "text/markdown": [
       "46980"
      ],
      "text/plain": [
       "[1] 46980"
      ]
     },
     "metadata": {},
     "output_type": "display_data"
    }
   ],
   "source": [
    "nrow(tt)"
   ]
  },
  {
   "cell_type": "code",
   "execution_count": 4,
   "metadata": {},
   "outputs": [],
   "source": [
    "tt$Time = mdy_hm(tt$Time)"
   ]
  },
  {
   "cell_type": "code",
   "execution_count": 5,
   "metadata": {},
   "outputs": [],
   "source": [
    "tt_long = tt %>%\n",
    "    rename(date_time = Time) %>%\n",
    "    gather(trip, travel_time, -date_time) %>%\n",
    "    separate(trip, c(\"lane\", \"entry\", \"exit\"), convert=T) %>%\n",
    "    spread(lane, travel_time) %>%\n",
    "    mutate(GP = GP/3600, HOT = HOV/3600,\n",
    "           savings = GP - HOT, \n",
    "           trip_id = sprintf(\"%02i_%02i\", entry, exit),\n",
    "           tod = 100*hour(date_time) + minute(date_time),\n",
    "           wday = wday(date_time))"
   ]
  },
  {
   "cell_type": "code",
   "execution_count": 103,
   "metadata": {},
   "outputs": [
    {
     "data": {
      "text/plain": [
       "75.7 bytes"
      ]
     },
     "metadata": {},
     "output_type": "display_data"
    },
    {
     "data": {
      "text/plain": [
       "338.3 bytes"
      ]
     },
     "metadata": {},
     "output_type": "display_data"
    },
    {
     "data": {
      "text/html": [
       "4698000"
      ],
      "text/latex": [
       "4698000"
      ],
      "text/markdown": [
       "4698000"
      ],
      "text/plain": [
       "[1] 4698000"
      ]
     },
     "metadata": {},
     "output_type": "display_data"
    },
    {
     "data": {
      "text/html": [
       "<table>\n",
       "<caption>A tibble: 10 × 10</caption>\n",
       "<thead>\n",
       "\t<tr><th scope=col>date_time</th><th scope=col>entry</th><th scope=col>exit</th><th scope=col>GP</th><th scope=col>HOV</th><th scope=col>HOT</th><th scope=col>savings</th><th scope=col>trip_id</th><th scope=col>tod</th><th scope=col>wday</th></tr>\n",
       "\t<tr><th scope=col>&lt;dttm&gt;</th><th scope=col>&lt;int&gt;</th><th scope=col>&lt;int&gt;</th><th scope=col>&lt;dbl&gt;</th><th scope=col>&lt;dbl&gt;</th><th scope=col>&lt;dbl&gt;</th><th scope=col>&lt;dbl&gt;</th><th scope=col>&lt;chr&gt;</th><th scope=col>&lt;dbl&gt;</th><th scope=col>&lt;dbl&gt;</th></tr>\n",
       "</thead>\n",
       "<tbody>\n",
       "\t<tr><td>2018-01-01 05:00:00</td><td>3</td><td> 3</td><td>0.03383333</td><td>121.8</td><td>0.03383333</td><td>0</td><td>03_03</td><td>500</td><td>2</td></tr>\n",
       "\t<tr><td>2018-01-01 05:00:00</td><td>3</td><td> 5</td><td>0.09350000</td><td>336.6</td><td>0.09350000</td><td>0</td><td>03_05</td><td>500</td><td>2</td></tr>\n",
       "\t<tr><td>2018-01-01 05:00:00</td><td>3</td><td> 6</td><td>0.13716667</td><td>493.8</td><td>0.13716667</td><td>0</td><td>03_06</td><td>500</td><td>2</td></tr>\n",
       "\t<tr><td>2018-01-01 05:00:00</td><td>3</td><td> 7</td><td>0.11450000</td><td>412.2</td><td>0.11450000</td><td>0</td><td>03_07</td><td>500</td><td>2</td></tr>\n",
       "\t<tr><td>2018-01-01 05:00:00</td><td>3</td><td> 9</td><td>0.19283333</td><td>694.2</td><td>0.19283333</td><td>0</td><td>03_09</td><td>500</td><td>2</td></tr>\n",
       "\t<tr><td>2018-01-01 05:00:00</td><td>3</td><td>10</td><td>0.23933333</td><td>861.6</td><td>0.23933333</td><td>0</td><td>03_10</td><td>500</td><td>2</td></tr>\n",
       "\t<tr><td>2018-01-01 05:00:00</td><td>3</td><td>11</td><td>0.24883333</td><td>895.8</td><td>0.24883333</td><td>0</td><td>03_11</td><td>500</td><td>2</td></tr>\n",
       "\t<tr><td>2018-01-01 05:00:00</td><td>3</td><td>12</td><td>0.25633333</td><td>922.8</td><td>0.25633333</td><td>0</td><td>03_12</td><td>500</td><td>2</td></tr>\n",
       "\t<tr><td>2018-01-01 05:00:00</td><td>4</td><td> 4</td><td>0.02850000</td><td>102.6</td><td>0.02850000</td><td>0</td><td>04_04</td><td>500</td><td>2</td></tr>\n",
       "\t<tr><td>2018-01-01 05:00:00</td><td>4</td><td> 5</td><td>0.08816667</td><td>317.4</td><td>0.08816667</td><td>0</td><td>04_05</td><td>500</td><td>2</td></tr>\n",
       "</tbody>\n",
       "</table>\n"
      ],
      "text/latex": [
       "A tibble: 10 × 10\n",
       "\\begin{tabular}{r|llllllllll}\n",
       " date\\_time & entry & exit & GP & HOV & HOT & savings & trip\\_id & tod & wday\\\\\n",
       " <dttm> & <int> & <int> & <dbl> & <dbl> & <dbl> & <dbl> & <chr> & <dbl> & <dbl>\\\\\n",
       "\\hline\n",
       "\t 2018-01-01 05:00:00 & 3 &  3 & 0.03383333 & 121.8 & 0.03383333 & 0 & 03\\_03 & 500 & 2\\\\\n",
       "\t 2018-01-01 05:00:00 & 3 &  5 & 0.09350000 & 336.6 & 0.09350000 & 0 & 03\\_05 & 500 & 2\\\\\n",
       "\t 2018-01-01 05:00:00 & 3 &  6 & 0.13716667 & 493.8 & 0.13716667 & 0 & 03\\_06 & 500 & 2\\\\\n",
       "\t 2018-01-01 05:00:00 & 3 &  7 & 0.11450000 & 412.2 & 0.11450000 & 0 & 03\\_07 & 500 & 2\\\\\n",
       "\t 2018-01-01 05:00:00 & 3 &  9 & 0.19283333 & 694.2 & 0.19283333 & 0 & 03\\_09 & 500 & 2\\\\\n",
       "\t 2018-01-01 05:00:00 & 3 & 10 & 0.23933333 & 861.6 & 0.23933333 & 0 & 03\\_10 & 500 & 2\\\\\n",
       "\t 2018-01-01 05:00:00 & 3 & 11 & 0.24883333 & 895.8 & 0.24883333 & 0 & 03\\_11 & 500 & 2\\\\\n",
       "\t 2018-01-01 05:00:00 & 3 & 12 & 0.25633333 & 922.8 & 0.25633333 & 0 & 03\\_12 & 500 & 2\\\\\n",
       "\t 2018-01-01 05:00:00 & 4 &  4 & 0.02850000 & 102.6 & 0.02850000 & 0 & 04\\_04 & 500 & 2\\\\\n",
       "\t 2018-01-01 05:00:00 & 4 &  5 & 0.08816667 & 317.4 & 0.08816667 & 0 & 04\\_05 & 500 & 2\\\\\n",
       "\\end{tabular}\n"
      ],
      "text/markdown": [
       "\n",
       "A tibble: 10 × 10\n",
       "\n",
       "| date_time &lt;dttm&gt; | entry &lt;int&gt; | exit &lt;int&gt; | GP &lt;dbl&gt; | HOV &lt;dbl&gt; | HOT &lt;dbl&gt; | savings &lt;dbl&gt; | trip_id &lt;chr&gt; | tod &lt;dbl&gt; | wday &lt;dbl&gt; |\n",
       "|---|---|---|---|---|---|---|---|---|---|\n",
       "| 2018-01-01 05:00:00 | 3 |  3 | 0.03383333 | 121.8 | 0.03383333 | 0 | 03_03 | 500 | 2 |\n",
       "| 2018-01-01 05:00:00 | 3 |  5 | 0.09350000 | 336.6 | 0.09350000 | 0 | 03_05 | 500 | 2 |\n",
       "| 2018-01-01 05:00:00 | 3 |  6 | 0.13716667 | 493.8 | 0.13716667 | 0 | 03_06 | 500 | 2 |\n",
       "| 2018-01-01 05:00:00 | 3 |  7 | 0.11450000 | 412.2 | 0.11450000 | 0 | 03_07 | 500 | 2 |\n",
       "| 2018-01-01 05:00:00 | 3 |  9 | 0.19283333 | 694.2 | 0.19283333 | 0 | 03_09 | 500 | 2 |\n",
       "| 2018-01-01 05:00:00 | 3 | 10 | 0.23933333 | 861.6 | 0.23933333 | 0 | 03_10 | 500 | 2 |\n",
       "| 2018-01-01 05:00:00 | 3 | 11 | 0.24883333 | 895.8 | 0.24883333 | 0 | 03_11 | 500 | 2 |\n",
       "| 2018-01-01 05:00:00 | 3 | 12 | 0.25633333 | 922.8 | 0.25633333 | 0 | 03_12 | 500 | 2 |\n",
       "| 2018-01-01 05:00:00 | 4 |  4 | 0.02850000 | 102.6 | 0.02850000 | 0 | 04_04 | 500 | 2 |\n",
       "| 2018-01-01 05:00:00 | 4 |  5 | 0.08816667 | 317.4 | 0.08816667 | 0 | 04_05 | 500 | 2 |\n",
       "\n"
      ],
      "text/plain": [
       "   date_time           entry exit GP         HOV   HOT        savings trip_id\n",
       "1  2018-01-01 05:00:00 3      3   0.03383333 121.8 0.03383333 0       03_03  \n",
       "2  2018-01-01 05:00:00 3      5   0.09350000 336.6 0.09350000 0       03_05  \n",
       "3  2018-01-01 05:00:00 3      6   0.13716667 493.8 0.13716667 0       03_06  \n",
       "4  2018-01-01 05:00:00 3      7   0.11450000 412.2 0.11450000 0       03_07  \n",
       "5  2018-01-01 05:00:00 3      9   0.19283333 694.2 0.19283333 0       03_09  \n",
       "6  2018-01-01 05:00:00 3     10   0.23933333 861.6 0.23933333 0       03_10  \n",
       "7  2018-01-01 05:00:00 3     11   0.24883333 895.8 0.24883333 0       03_11  \n",
       "8  2018-01-01 05:00:00 3     12   0.25633333 922.8 0.25633333 0       03_12  \n",
       "9  2018-01-01 05:00:00 4      4   0.02850000 102.6 0.02850000 0       04_04  \n",
       "10 2018-01-01 05:00:00 4      5   0.08816667 317.4 0.08816667 0       04_05  \n",
       "   tod wday\n",
       "1  500 2   \n",
       "2  500 2   \n",
       "3  500 2   \n",
       "4  500 2   \n",
       "5  500 2   \n",
       "6  500 2   \n",
       "7  500 2   \n",
       "8  500 2   \n",
       "9  500 2   \n",
       "10 500 2   "
      ]
     },
     "metadata": {},
     "output_type": "display_data"
    }
   ],
   "source": [
    "object.size(tt)/1e6\n",
    "object.size(tt_long)/1e6\n",
    "nrow(tt_long)\n",
    "head(tt_long, 10)"
   ]
  },
  {
   "cell_type": "code",
   "execution_count": 7,
   "metadata": {},
   "outputs": [],
   "source": [
    "mutate(tt_long, date_time=as.numeric(date_time)) %>%\n",
    "select(date_time, tod, trip_id, entry, exit, GP, HOT, savings) %>%\n",
    "write_csv(\"../../../data/travel_times.csv\", col_names=F)"
   ]
  },
  {
   "cell_type": "code",
   "execution_count": 27,
   "metadata": {},
   "outputs": [],
   "source": [
    "sp_long = sp %>%\n",
    "    rename(date_time = Time) %>%\n",
    "    gather(trip, speed, -date_time) %>%\n",
    "    separate(trip, c(\"lane\", \"entry\"), convert=T) %>%\n",
    "    spread(lane, speed) %>%\n",
    "    mutate(tod = 100*hour(date_time) + minute(date_time))"
   ]
  },
  {
   "cell_type": "code",
   "execution_count": 28,
   "metadata": {},
   "outputs": [
    {
     "data": {
      "text/plain": [
       "80.8 bytes"
      ]
     },
     "metadata": {},
     "output_type": "display_data"
    },
    {
     "data": {
      "text/plain": [
       "177.6 bytes"
      ]
     },
     "metadata": {},
     "output_type": "display_data"
    },
    {
     "data": {
      "text/html": [
       "<table>\n",
       "<caption>A tibble: 10 × 5</caption>\n",
       "<thead>\n",
       "\t<tr><th scope=col>date_time</th><th scope=col>entry</th><th scope=col>GP</th><th scope=col>HOV</th><th scope=col>tod</th></tr>\n",
       "\t<tr><th scope=col>&lt;dttm&gt;</th><th scope=col>&lt;int&gt;</th><th scope=col>&lt;dbl&gt;</th><th scope=col>&lt;dbl&gt;</th><th scope=col>&lt;dbl&gt;</th></tr>\n",
       "</thead>\n",
       "<tbody>\n",
       "\t<tr><td>2018-01-01 05:00:00</td><td> 3</td><td>60</td><td>60</td><td>500</td></tr>\n",
       "\t<tr><td>2018-01-01 05:00:00</td><td> 4</td><td>60</td><td>60</td><td>500</td></tr>\n",
       "\t<tr><td>2018-01-01 05:00:00</td><td> 5</td><td>60</td><td>60</td><td>500</td></tr>\n",
       "\t<tr><td>2018-01-01 05:00:00</td><td> 6</td><td>60</td><td>60</td><td>500</td></tr>\n",
       "\t<tr><td>2018-01-01 05:00:00</td><td> 7</td><td>60</td><td>60</td><td>500</td></tr>\n",
       "\t<tr><td>2018-01-01 05:00:00</td><td> 8</td><td>60</td><td>60</td><td>500</td></tr>\n",
       "\t<tr><td>2018-01-01 05:00:00</td><td> 9</td><td>60</td><td>60</td><td>500</td></tr>\n",
       "\t<tr><td>2018-01-01 05:00:00</td><td>10</td><td>60</td><td>60</td><td>500</td></tr>\n",
       "\t<tr><td>2018-01-01 05:00:00</td><td>11</td><td>60</td><td>60</td><td>500</td></tr>\n",
       "\t<tr><td>2018-01-01 05:00:00</td><td>12</td><td>60</td><td>60</td><td>500</td></tr>\n",
       "</tbody>\n",
       "</table>\n"
      ],
      "text/latex": [
       "A tibble: 10 × 5\n",
       "\\begin{tabular}{r|lllll}\n",
       " date\\_time & entry & GP & HOV & tod\\\\\n",
       " <dttm> & <int> & <dbl> & <dbl> & <dbl>\\\\\n",
       "\\hline\n",
       "\t 2018-01-01 05:00:00 &  3 & 60 & 60 & 500\\\\\n",
       "\t 2018-01-01 05:00:00 &  4 & 60 & 60 & 500\\\\\n",
       "\t 2018-01-01 05:00:00 &  5 & 60 & 60 & 500\\\\\n",
       "\t 2018-01-01 05:00:00 &  6 & 60 & 60 & 500\\\\\n",
       "\t 2018-01-01 05:00:00 &  7 & 60 & 60 & 500\\\\\n",
       "\t 2018-01-01 05:00:00 &  8 & 60 & 60 & 500\\\\\n",
       "\t 2018-01-01 05:00:00 &  9 & 60 & 60 & 500\\\\\n",
       "\t 2018-01-01 05:00:00 & 10 & 60 & 60 & 500\\\\\n",
       "\t 2018-01-01 05:00:00 & 11 & 60 & 60 & 500\\\\\n",
       "\t 2018-01-01 05:00:00 & 12 & 60 & 60 & 500\\\\\n",
       "\\end{tabular}\n"
      ],
      "text/markdown": [
       "\n",
       "A tibble: 10 × 5\n",
       "\n",
       "| date_time &lt;dttm&gt; | entry &lt;int&gt; | GP &lt;dbl&gt; | HOV &lt;dbl&gt; | tod &lt;dbl&gt; |\n",
       "|---|---|---|---|---|\n",
       "| 2018-01-01 05:00:00 |  3 | 60 | 60 | 500 |\n",
       "| 2018-01-01 05:00:00 |  4 | 60 | 60 | 500 |\n",
       "| 2018-01-01 05:00:00 |  5 | 60 | 60 | 500 |\n",
       "| 2018-01-01 05:00:00 |  6 | 60 | 60 | 500 |\n",
       "| 2018-01-01 05:00:00 |  7 | 60 | 60 | 500 |\n",
       "| 2018-01-01 05:00:00 |  8 | 60 | 60 | 500 |\n",
       "| 2018-01-01 05:00:00 |  9 | 60 | 60 | 500 |\n",
       "| 2018-01-01 05:00:00 | 10 | 60 | 60 | 500 |\n",
       "| 2018-01-01 05:00:00 | 11 | 60 | 60 | 500 |\n",
       "| 2018-01-01 05:00:00 | 12 | 60 | 60 | 500 |\n",
       "\n"
      ],
      "text/plain": [
       "   date_time           entry GP HOV tod\n",
       "1  2018-01-01 05:00:00  3    60 60  500\n",
       "2  2018-01-01 05:00:00  4    60 60  500\n",
       "3  2018-01-01 05:00:00  5    60 60  500\n",
       "4  2018-01-01 05:00:00  6    60 60  500\n",
       "5  2018-01-01 05:00:00  7    60 60  500\n",
       "6  2018-01-01 05:00:00  8    60 60  500\n",
       "7  2018-01-01 05:00:00  9    60 60  500\n",
       "8  2018-01-01 05:00:00 10    60 60  500\n",
       "9  2018-01-01 05:00:00 11    60 60  500\n",
       "10 2018-01-01 05:00:00 12    60 60  500"
      ]
     },
     "metadata": {},
     "output_type": "display_data"
    }
   ],
   "source": [
    "object.size(sp)/1e6\n",
    "object.size(sp_long)/1e6\n",
    "head(sp_long, 10)"
   ]
  },
  {
   "cell_type": "code",
   "execution_count": 32,
   "metadata": {},
   "outputs": [],
   "source": [
    "vol_long = vol %>%\n",
    "    rename(date_time = Time) %>%\n",
    "    gather(trip, volume, -date_time) %>%\n",
    "    separate(trip, c(\"lane\", \"entry\"), convert=T) %>%\n",
    "    spread(lane, volume) %>%\n",
    "    mutate(tod = 100*hour(date_time) + minute(date_time))"
   ]
  },
  {
   "cell_type": "code",
   "execution_count": 33,
   "metadata": {},
   "outputs": [
    {
     "data": {
      "text/html": [
       "4932900"
      ],
      "text/latex": [
       "4932900"
      ],
      "text/markdown": [
       "4932900"
      ],
      "text/plain": [
       "[1] 4932900"
      ]
     },
     "metadata": {},
     "output_type": "display_data"
    },
    {
     "data": {
      "text/html": [
       "<table>\n",
       "<caption>A tibble: 6 × 5</caption>\n",
       "<thead>\n",
       "\t<tr><th scope=col>date_time</th><th scope=col>entry</th><th scope=col>GP</th><th scope=col>HOV</th><th scope=col>tod</th></tr>\n",
       "\t<tr><th scope=col>&lt;dttm&gt;</th><th scope=col>&lt;int&gt;</th><th scope=col>&lt;dbl&gt;</th><th scope=col>&lt;dbl&gt;</th><th scope=col>&lt;dbl&gt;</th></tr>\n",
       "</thead>\n",
       "<tbody>\n",
       "\t<tr><td>2018-01-01 05:00:00</td><td>3</td><td> 8.310345</td><td>0.000000</td><td>500</td></tr>\n",
       "\t<tr><td>2018-01-01 05:00:00</td><td>4</td><td>10.791045</td><td>0.000000</td><td>500</td></tr>\n",
       "\t<tr><td>2018-01-01 05:00:00</td><td>5</td><td>21.326531</td><td>8.285714</td><td>500</td></tr>\n",
       "\t<tr><td>2018-01-01 05:00:00</td><td>6</td><td> 4.588235</td><td>0.000000</td><td>500</td></tr>\n",
       "\t<tr><td>2018-01-01 05:00:00</td><td>7</td><td> 7.156863</td><td>0.000000</td><td>500</td></tr>\n",
       "\t<tr><td>2018-01-01 05:00:00</td><td>8</td><td> 3.325581</td><td>0.000000</td><td>500</td></tr>\n",
       "</tbody>\n",
       "</table>\n"
      ],
      "text/latex": [
       "A tibble: 6 × 5\n",
       "\\begin{tabular}{r|lllll}\n",
       " date\\_time & entry & GP & HOV & tod\\\\\n",
       " <dttm> & <int> & <dbl> & <dbl> & <dbl>\\\\\n",
       "\\hline\n",
       "\t 2018-01-01 05:00:00 & 3 &  8.310345 & 0.000000 & 500\\\\\n",
       "\t 2018-01-01 05:00:00 & 4 & 10.791045 & 0.000000 & 500\\\\\n",
       "\t 2018-01-01 05:00:00 & 5 & 21.326531 & 8.285714 & 500\\\\\n",
       "\t 2018-01-01 05:00:00 & 6 &  4.588235 & 0.000000 & 500\\\\\n",
       "\t 2018-01-01 05:00:00 & 7 &  7.156863 & 0.000000 & 500\\\\\n",
       "\t 2018-01-01 05:00:00 & 8 &  3.325581 & 0.000000 & 500\\\\\n",
       "\\end{tabular}\n"
      ],
      "text/markdown": [
       "\n",
       "A tibble: 6 × 5\n",
       "\n",
       "| date_time &lt;dttm&gt; | entry &lt;int&gt; | GP &lt;dbl&gt; | HOV &lt;dbl&gt; | tod &lt;dbl&gt; |\n",
       "|---|---|---|---|---|\n",
       "| 2018-01-01 05:00:00 | 3 |  8.310345 | 0.000000 | 500 |\n",
       "| 2018-01-01 05:00:00 | 4 | 10.791045 | 0.000000 | 500 |\n",
       "| 2018-01-01 05:00:00 | 5 | 21.326531 | 8.285714 | 500 |\n",
       "| 2018-01-01 05:00:00 | 6 |  4.588235 | 0.000000 | 500 |\n",
       "| 2018-01-01 05:00:00 | 7 |  7.156863 | 0.000000 | 500 |\n",
       "| 2018-01-01 05:00:00 | 8 |  3.325581 | 0.000000 | 500 |\n",
       "\n"
      ],
      "text/plain": [
       "  date_time           entry GP        HOV      tod\n",
       "1 2018-01-01 05:00:00 3      8.310345 0.000000 500\n",
       "2 2018-01-01 05:00:00 4     10.791045 0.000000 500\n",
       "3 2018-01-01 05:00:00 5     21.326531 8.285714 500\n",
       "4 2018-01-01 05:00:00 6      4.588235 0.000000 500\n",
       "5 2018-01-01 05:00:00 7      7.156863 0.000000 500\n",
       "6 2018-01-01 05:00:00 8      3.325581 0.000000 500"
      ]
     },
     "metadata": {},
     "output_type": "display_data"
    }
   ],
   "source": [
    "nrow(vol_long)\n",
    "head(vol_long)"
   ]
  },
  {
   "cell_type": "code",
   "execution_count": 38,
   "metadata": {},
   "outputs": [],
   "source": [
    "sp_vol = left_join(vol_long, sp_long, by=c(\"date_time\", \"tod\", \"entry\"), suffix=c(\"_volume\", \"_speed\")) %>%\n",
    "    rename(HOT_volume = HOV_volume, HOT_speed = HOV_speed)"
   ]
  },
  {
   "cell_type": "code",
   "execution_count": 47,
   "metadata": {},
   "outputs": [
    {
     "data": {
      "text/html": [
       "<table>\n",
       "<caption>A tibble: 6 × 7</caption>\n",
       "<thead>\n",
       "\t<tr><th scope=col>date_time</th><th scope=col>entry</th><th scope=col>GP_volume</th><th scope=col>HOT_volume</th><th scope=col>tod</th><th scope=col>GP_speed</th><th scope=col>HOT_speed</th></tr>\n",
       "\t<tr><th scope=col>&lt;dttm&gt;</th><th scope=col>&lt;int&gt;</th><th scope=col>&lt;dbl&gt;</th><th scope=col>&lt;dbl&gt;</th><th scope=col>&lt;dbl&gt;</th><th scope=col>&lt;dbl&gt;</th><th scope=col>&lt;dbl&gt;</th></tr>\n",
       "</thead>\n",
       "<tbody>\n",
       "\t<tr><td>2018-01-01 05:00:00</td><td>3</td><td> 8.310345</td><td>0.000000</td><td>500</td><td>60</td><td>60</td></tr>\n",
       "\t<tr><td>2018-01-01 05:00:00</td><td>4</td><td>10.791045</td><td>0.000000</td><td>500</td><td>60</td><td>60</td></tr>\n",
       "\t<tr><td>2018-01-01 05:00:00</td><td>5</td><td>21.326531</td><td>8.285714</td><td>500</td><td>60</td><td>60</td></tr>\n",
       "\t<tr><td>2018-01-01 05:00:00</td><td>6</td><td> 4.588235</td><td>0.000000</td><td>500</td><td>60</td><td>60</td></tr>\n",
       "\t<tr><td>2018-01-01 05:00:00</td><td>7</td><td> 7.156863</td><td>0.000000</td><td>500</td><td>60</td><td>60</td></tr>\n",
       "\t<tr><td>2018-01-01 05:00:00</td><td>8</td><td> 3.325581</td><td>0.000000</td><td>500</td><td>60</td><td>60</td></tr>\n",
       "</tbody>\n",
       "</table>\n"
      ],
      "text/latex": [
       "A tibble: 6 × 7\n",
       "\\begin{tabular}{r|lllllll}\n",
       " date\\_time & entry & GP\\_volume & HOT\\_volume & tod & GP\\_speed & HOT\\_speed\\\\\n",
       " <dttm> & <int> & <dbl> & <dbl> & <dbl> & <dbl> & <dbl>\\\\\n",
       "\\hline\n",
       "\t 2018-01-01 05:00:00 & 3 &  8.310345 & 0.000000 & 500 & 60 & 60\\\\\n",
       "\t 2018-01-01 05:00:00 & 4 & 10.791045 & 0.000000 & 500 & 60 & 60\\\\\n",
       "\t 2018-01-01 05:00:00 & 5 & 21.326531 & 8.285714 & 500 & 60 & 60\\\\\n",
       "\t 2018-01-01 05:00:00 & 6 &  4.588235 & 0.000000 & 500 & 60 & 60\\\\\n",
       "\t 2018-01-01 05:00:00 & 7 &  7.156863 & 0.000000 & 500 & 60 & 60\\\\\n",
       "\t 2018-01-01 05:00:00 & 8 &  3.325581 & 0.000000 & 500 & 60 & 60\\\\\n",
       "\\end{tabular}\n"
      ],
      "text/markdown": [
       "\n",
       "A tibble: 6 × 7\n",
       "\n",
       "| date_time &lt;dttm&gt; | entry &lt;int&gt; | GP_volume &lt;dbl&gt; | HOT_volume &lt;dbl&gt; | tod &lt;dbl&gt; | GP_speed &lt;dbl&gt; | HOT_speed &lt;dbl&gt; |\n",
       "|---|---|---|---|---|---|---|\n",
       "| 2018-01-01 05:00:00 | 3 |  8.310345 | 0.000000 | 500 | 60 | 60 |\n",
       "| 2018-01-01 05:00:00 | 4 | 10.791045 | 0.000000 | 500 | 60 | 60 |\n",
       "| 2018-01-01 05:00:00 | 5 | 21.326531 | 8.285714 | 500 | 60 | 60 |\n",
       "| 2018-01-01 05:00:00 | 6 |  4.588235 | 0.000000 | 500 | 60 | 60 |\n",
       "| 2018-01-01 05:00:00 | 7 |  7.156863 | 0.000000 | 500 | 60 | 60 |\n",
       "| 2018-01-01 05:00:00 | 8 |  3.325581 | 0.000000 | 500 | 60 | 60 |\n",
       "\n"
      ],
      "text/plain": [
       "  date_time           entry GP_volume HOT_volume tod GP_speed HOT_speed\n",
       "1 2018-01-01 05:00:00 3      8.310345 0.000000   500 60       60       \n",
       "2 2018-01-01 05:00:00 4     10.791045 0.000000   500 60       60       \n",
       "3 2018-01-01 05:00:00 5     21.326531 8.285714   500 60       60       \n",
       "4 2018-01-01 05:00:00 6      4.588235 0.000000   500 60       60       \n",
       "5 2018-01-01 05:00:00 7      7.156863 0.000000   500 60       60       \n",
       "6 2018-01-01 05:00:00 8      3.325581 0.000000   500 60       60       "
      ]
     },
     "metadata": {},
     "output_type": "display_data"
    }
   ],
   "source": [
    "head(sp_vol)"
   ]
  },
  {
   "cell_type": "code",
   "execution_count": 51,
   "metadata": {},
   "outputs": [],
   "source": [
    "select(sp_vol, date_time, tod, entry, GP_volume, HOT_volume, GP_speed, HOT_speed) %>%\n",
    "mutate(date_time = as.numeric(date_time)) %>%\n",
    "write_csv(\"../../../data/sp_vol_long.csv\", col_names=F)"
   ]
  },
  {
   "cell_type": "markdown",
   "metadata": {},
   "source": [
    "## Reliability"
   ]
  },
  {
   "cell_type": "code",
   "execution_count": 18,
   "metadata": {},
   "outputs": [],
   "source": [
    "reliability_savings = tt_long %>%\n",
    "    filter(GP >= 0, HOT >= 0) %>%\n",
    "    group_by(tod, entry, exit, trip_id) %>%\n",
    "    summarize(reliability_HOT = quantile(HOT, 0.8, na.rm=T) - median(HOT, na.rm=T),\n",
    "              reliability_GP = quantile(GP, 0.8, na.rm=T) - median(GP, na.rm=T),\n",
    "              reliability = reliability_GP - reliability_HOT)"
   ]
  },
  {
   "cell_type": "code",
   "execution_count": 16,
   "metadata": {},
   "outputs": [
    {
     "data": {
      "text/html": [
       "<table>\n",
       "<caption>A grouped_df: 6 × 7</caption>\n",
       "<thead>\n",
       "\t<tr><th scope=col>tod</th><th scope=col>entry</th><th scope=col>exit</th><th scope=col>trip_id</th><th scope=col>reliability_HOT</th><th scope=col>reliability_GP</th><th scope=col>reliability</th></tr>\n",
       "\t<tr><th scope=col>&lt;dbl&gt;</th><th scope=col>&lt;int&gt;</th><th scope=col>&lt;int&gt;</th><th scope=col>&lt;chr&gt;</th><th scope=col>&lt;dbl&gt;</th><th scope=col>&lt;dbl&gt;</th><th scope=col>&lt;dbl&gt;</th></tr>\n",
       "</thead>\n",
       "<tbody>\n",
       "\t<tr><td>500</td><td>3</td><td> 3</td><td>03_03</td><td>0</td><td>0</td><td>0</td></tr>\n",
       "\t<tr><td>500</td><td>3</td><td> 5</td><td>03_05</td><td>0</td><td>0</td><td>0</td></tr>\n",
       "\t<tr><td>500</td><td>3</td><td> 6</td><td>03_06</td><td>0</td><td>0</td><td>0</td></tr>\n",
       "\t<tr><td>500</td><td>3</td><td> 7</td><td>03_07</td><td>0</td><td>0</td><td>0</td></tr>\n",
       "\t<tr><td>500</td><td>3</td><td> 9</td><td>03_09</td><td>0</td><td>0</td><td>0</td></tr>\n",
       "\t<tr><td>500</td><td>3</td><td>10</td><td>03_10</td><td>0</td><td>0</td><td>0</td></tr>\n",
       "</tbody>\n",
       "</table>\n"
      ],
      "text/latex": [
       "A grouped_df: 6 × 7\n",
       "\\begin{tabular}{r|lllllll}\n",
       " tod & entry & exit & trip\\_id & reliability\\_HOT & reliability\\_GP & reliability\\\\\n",
       " <dbl> & <int> & <int> & <chr> & <dbl> & <dbl> & <dbl>\\\\\n",
       "\\hline\n",
       "\t 500 & 3 &  3 & 03\\_03 & 0 & 0 & 0\\\\\n",
       "\t 500 & 3 &  5 & 03\\_05 & 0 & 0 & 0\\\\\n",
       "\t 500 & 3 &  6 & 03\\_06 & 0 & 0 & 0\\\\\n",
       "\t 500 & 3 &  7 & 03\\_07 & 0 & 0 & 0\\\\\n",
       "\t 500 & 3 &  9 & 03\\_09 & 0 & 0 & 0\\\\\n",
       "\t 500 & 3 & 10 & 03\\_10 & 0 & 0 & 0\\\\\n",
       "\\end{tabular}\n"
      ],
      "text/markdown": [
       "\n",
       "A grouped_df: 6 × 7\n",
       "\n",
       "| tod &lt;dbl&gt; | entry &lt;int&gt; | exit &lt;int&gt; | trip_id &lt;chr&gt; | reliability_HOT &lt;dbl&gt; | reliability_GP &lt;dbl&gt; | reliability &lt;dbl&gt; |\n",
       "|---|---|---|---|---|---|---|\n",
       "| 500 | 3 |  3 | 03_03 | 0 | 0 | 0 |\n",
       "| 500 | 3 |  5 | 03_05 | 0 | 0 | 0 |\n",
       "| 500 | 3 |  6 | 03_06 | 0 | 0 | 0 |\n",
       "| 500 | 3 |  7 | 03_07 | 0 | 0 | 0 |\n",
       "| 500 | 3 |  9 | 03_09 | 0 | 0 | 0 |\n",
       "| 500 | 3 | 10 | 03_10 | 0 | 0 | 0 |\n",
       "\n"
      ],
      "text/plain": [
       "  tod entry exit trip_id reliability_HOT reliability_GP reliability\n",
       "1 500 3      3   03_03   0               0              0          \n",
       "2 500 3      5   03_05   0               0              0          \n",
       "3 500 3      6   03_06   0               0              0          \n",
       "4 500 3      7   03_07   0               0              0          \n",
       "5 500 3      9   03_09   0               0              0          \n",
       "6 500 3     10   03_10   0               0              0          "
      ]
     },
     "metadata": {},
     "output_type": "display_data"
    }
   ],
   "source": [
    "head(reliability_savings)"
   ]
  },
  {
   "cell_type": "code",
   "execution_count": 19,
   "metadata": {},
   "outputs": [
    {
     "data": {
      "text/plain": [
       "     Min.   1st Qu.    Median      Mean   3rd Qu.      Max. \n",
       "-24.00000   0.04367   0.10317  -0.67612   0.16561   0.83108 "
      ]
     },
     "metadata": {},
     "output_type": "display_data"
    }
   ],
   "source": [
    "summary(tt_long$HOT)"
   ]
  },
  {
   "cell_type": "code",
   "execution_count": 21,
   "metadata": {},
   "outputs": [
    {
     "data": {
      "text/plain": [
       "    Min.  1st Qu.   Median     Mean  3rd Qu.     Max. \n",
       "0.000000 0.000000 0.007338 0.023200 0.031981 0.178200 "
      ]
     },
     "metadata": {},
     "output_type": "display_data"
    },
    {
     "data": {
      "text/plain": [
       "    Min.  1st Qu.   Median     Mean  3rd Qu.     Max. \n",
       "0.000000 0.000000 0.000000 0.006047 0.000000 0.134144 "
      ]
     },
     "metadata": {},
     "output_type": "display_data"
    },
    {
     "data": {
      "text/plain": [
       "     Min.   1st Qu.    Median      Mean   3rd Qu.      Max. \n",
       "-0.055108  0.000000  0.006125  0.017153  0.025017  0.144508 "
      ]
     },
     "metadata": {},
     "output_type": "display_data"
    },
    {
     "name": "stderr",
     "output_type": "stream",
     "text": [
      "`stat_bin()` using `bins = 30`. Pick better value with `binwidth`.\n"
     ]
    },
    {
     "data": {
      "image/png": "[encoded data removed]",
      "text/plain": [
       "plot without title"
      ]
     },
     "metadata": {},
     "output_type": "display_data"
    }
   ],
   "source": [
    "summary(reliability_savings$reliability_GP)\n",
    "summary(reliability_savings$reliability_HOT)\n",
    "summary(reliability_savings$reliability)\n",
    "qplot(reliability_savings$reliability)"
   ]
  },
  {
   "cell_type": "code",
   "execution_count": 22,
   "metadata": {},
   "outputs": [],
   "source": [
    "write_csv(select(reliability_savings, tod, entry, exit, trip_id, reliability),\n",
    "          \"../../data/savings/expected_reliability_savings.csv\")"
   ]
  },
  {
   "cell_type": "code",
   "execution_count": null,
   "metadata": {},
   "outputs": [],
   "source": []
  }
 ],
 "metadata": {
  "kernelspec": {
   "display_name": "R",
   "language": "R",
   "name": "ir"
  },
  "language_info": {
   "codemirror_mode": "r",
   "file_extension": ".r",
   "mimetype": "text/x-r-source",
   "name": "R",
   "pygments_lexer": "r",
   "version": "3.6.0"
  }
 },
 "nbformat": 4,
 "nbformat_minor": 2
}
